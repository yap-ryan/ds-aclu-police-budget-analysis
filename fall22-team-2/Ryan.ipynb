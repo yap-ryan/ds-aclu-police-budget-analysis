{
 "cells": [
  {
   "cell_type": "markdown",
   "metadata": {},
   "source": [
    "REQUIREMENTS: Besides the datasets and python libraries, you need to install the GT America fonts on your computer to see the completed graphs"
   ]
  },
  {
   "cell_type": "markdown",
   "metadata": {},
   "source": [
    "QUESTION 1: Total BPD Budget vs. Previous Years\n",
    "\n",
    "FY15 Adopted: $319700081\n",
    "FY15 Approp: $319700081\n",
    "FY15 Exp: $337310895\n",
    "\n",
    "FY16 Adopted: $323509388\n",
    "FY16 Approp: $332544971\n",
    "FY16 Exp: $348887844\n",
    "\n",
    "FY17 Adopted: $356341193\n",
    "FY17 Approp: $364321048\n",
    "FY17 Exp: $364594820\n",
    "\n",
    "FY18 Adopted: $373814105\n",
    "FY18 Approp: $385562872\n",
    "FY18 Exp: $399924493\n",
    "\n",
    "FY19 Adopted: $400425675\n",
    "FY19 Approp: $400435574\n",
    "FY19 Exp: $416762373\n",
    "\n",
    "FY20 Adopted: $414237376\n",
    "FY20 Approp: $414306876\n",
    "FY20 Exp: $425553210\n",
    "\n",
    "FY21 Adopted: $404182025\n",
    "FY21 Approp: $404182025\n",
    "FY21 Exp: $422917499\n",
    "\n",
    "FY22 Adopted: $399871218\n",
    "FY22 Approp: $400451303\n",
    " \n",
    "FY23 Adopted: $395094796"
   ]
  },
  {
   "cell_type": "code",
   "execution_count": 2,
   "metadata": {},
   "outputs": [
    {
     "name": "stdout",
     "output_type": "stream",
     "text": [
      "   year     Budget\n",
      "0  FY15  319700081\n",
      "1  FY16  323509388\n",
      "2  FY17  356341193\n",
      "3  FY18  373814105\n",
      "4  FY19  400425675\n",
      "5  FY20  414237376\n",
      "6  FY21  404182025\n",
      "7  FY22  399871218\n",
      "8  FY23  395094796\n"
     ]
    },
    {
     "data": {
      "application/vnd.plotly.v1+json": {
       "config": {
        "plotlyServerURL": "https://plot.ly"
       },
       "data": [
        {
         "alignmentgroup": "True",
         "hovertemplate": "year=%{x}<br>Budget=%{y}<extra></extra>",
         "legendgroup": "",
         "marker": {
          "color": "#EF404E",
          "pattern": {
           "shape": ""
          }
         },
         "name": "",
         "offsetgroup": "",
         "orientation": "v",
         "showlegend": false,
         "textposition": "auto",
         "type": "bar",
         "x": [
          "FY15",
          "FY16",
          "FY17",
          "FY18",
          "FY19",
          "FY20",
          "FY21",
          "FY22",
          "FY23"
         ],
         "xaxis": "x",
         "y": [
          319700081,
          323509388,
          356341193,
          373814105,
          400425675,
          414237376,
          404182025,
          399871218,
          395094796
         ],
         "yaxis": "y"
        }
       ],
       "layout": {
        "barmode": "relative",
        "font": {
         "color": "black",
         "family": "GT America"
        },
        "height": 475,
        "legend": {
         "tracegroupgap": 0
        },
        "margin": {
         "b": 80,
         "l": 100,
         "pad": 4,
         "r": 100,
         "t": 90
        },
        "plot_bgcolor": "rgba(0,0,0,0)",
        "template": {
         "data": {
          "bar": [
           {
            "error_x": {
             "color": "#2a3f5f"
            },
            "error_y": {
             "color": "#2a3f5f"
            },
            "marker": {
             "line": {
              "color": "#E5ECF6",
              "width": 0.5
             },
             "pattern": {
              "fillmode": "overlay",
              "size": 10,
              "solidity": 0.2
             }
            },
            "type": "bar"
           }
          ],
          "barpolar": [
           {
            "marker": {
             "line": {
              "color": "#E5ECF6",
              "width": 0.5
             },
             "pattern": {
              "fillmode": "overlay",
              "size": 10,
              "solidity": 0.2
             }
            },
            "type": "barpolar"
           }
          ],
          "carpet": [
           {
            "aaxis": {
             "endlinecolor": "#2a3f5f",
             "gridcolor": "white",
             "linecolor": "white",
             "minorgridcolor": "white",
             "startlinecolor": "#2a3f5f"
            },
            "baxis": {
             "endlinecolor": "#2a3f5f",
             "gridcolor": "white",
             "linecolor": "white",
             "minorgridcolor": "white",
             "startlinecolor": "#2a3f5f"
            },
            "type": "carpet"
           }
          ],
          "choropleth": [
           {
            "colorbar": {
             "outlinewidth": 0,
             "ticks": ""
            },
            "type": "choropleth"
           }
          ],
          "contour": [
           {
            "colorbar": {
             "outlinewidth": 0,
             "ticks": ""
            },
            "colorscale": [
             [
              0,
              "#0d0887"
             ],
             [
              0.1111111111111111,
              "#46039f"
             ],
             [
              0.2222222222222222,
              "#7201a8"
             ],
             [
              0.3333333333333333,
              "#9c179e"
             ],
             [
              0.4444444444444444,
              "#bd3786"
             ],
             [
              0.5555555555555556,
              "#d8576b"
             ],
             [
              0.6666666666666666,
              "#ed7953"
             ],
             [
              0.7777777777777778,
              "#fb9f3a"
             ],
             [
              0.8888888888888888,
              "#fdca26"
             ],
             [
              1,
              "#f0f921"
             ]
            ],
            "type": "contour"
           }
          ],
          "contourcarpet": [
           {
            "colorbar": {
             "outlinewidth": 0,
             "ticks": ""
            },
            "type": "contourcarpet"
           }
          ],
          "heatmap": [
           {
            "colorbar": {
             "outlinewidth": 0,
             "ticks": ""
            },
            "colorscale": [
             [
              0,
              "#0d0887"
             ],
             [
              0.1111111111111111,
              "#46039f"
             ],
             [
              0.2222222222222222,
              "#7201a8"
             ],
             [
              0.3333333333333333,
              "#9c179e"
             ],
             [
              0.4444444444444444,
              "#bd3786"
             ],
             [
              0.5555555555555556,
              "#d8576b"
             ],
             [
              0.6666666666666666,
              "#ed7953"
             ],
             [
              0.7777777777777778,
              "#fb9f3a"
             ],
             [
              0.8888888888888888,
              "#fdca26"
             ],
             [
              1,
              "#f0f921"
             ]
            ],
            "type": "heatmap"
           }
          ],
          "heatmapgl": [
           {
            "colorbar": {
             "outlinewidth": 0,
             "ticks": ""
            },
            "colorscale": [
             [
              0,
              "#0d0887"
             ],
             [
              0.1111111111111111,
              "#46039f"
             ],
             [
              0.2222222222222222,
              "#7201a8"
             ],
             [
              0.3333333333333333,
              "#9c179e"
             ],
             [
              0.4444444444444444,
              "#bd3786"
             ],
             [
              0.5555555555555556,
              "#d8576b"
             ],
             [
              0.6666666666666666,
              "#ed7953"
             ],
             [
              0.7777777777777778,
              "#fb9f3a"
             ],
             [
              0.8888888888888888,
              "#fdca26"
             ],
             [
              1,
              "#f0f921"
             ]
            ],
            "type": "heatmapgl"
           }
          ],
          "histogram": [
           {
            "marker": {
             "pattern": {
              "fillmode": "overlay",
              "size": 10,
              "solidity": 0.2
             }
            },
            "type": "histogram"
           }
          ],
          "histogram2d": [
           {
            "colorbar": {
             "outlinewidth": 0,
             "ticks": ""
            },
            "colorscale": [
             [
              0,
              "#0d0887"
             ],
             [
              0.1111111111111111,
              "#46039f"
             ],
             [
              0.2222222222222222,
              "#7201a8"
             ],
             [
              0.3333333333333333,
              "#9c179e"
             ],
             [
              0.4444444444444444,
              "#bd3786"
             ],
             [
              0.5555555555555556,
              "#d8576b"
             ],
             [
              0.6666666666666666,
              "#ed7953"
             ],
             [
              0.7777777777777778,
              "#fb9f3a"
             ],
             [
              0.8888888888888888,
              "#fdca26"
             ],
             [
              1,
              "#f0f921"
             ]
            ],
            "type": "histogram2d"
           }
          ],
          "histogram2dcontour": [
           {
            "colorbar": {
             "outlinewidth": 0,
             "ticks": ""
            },
            "colorscale": [
             [
              0,
              "#0d0887"
             ],
             [
              0.1111111111111111,
              "#46039f"
             ],
             [
              0.2222222222222222,
              "#7201a8"
             ],
             [
              0.3333333333333333,
              "#9c179e"
             ],
             [
              0.4444444444444444,
              "#bd3786"
             ],
             [
              0.5555555555555556,
              "#d8576b"
             ],
             [
              0.6666666666666666,
              "#ed7953"
             ],
             [
              0.7777777777777778,
              "#fb9f3a"
             ],
             [
              0.8888888888888888,
              "#fdca26"
             ],
             [
              1,
              "#f0f921"
             ]
            ],
            "type": "histogram2dcontour"
           }
          ],
          "mesh3d": [
           {
            "colorbar": {
             "outlinewidth": 0,
             "ticks": ""
            },
            "type": "mesh3d"
           }
          ],
          "parcoords": [
           {
            "line": {
             "colorbar": {
              "outlinewidth": 0,
              "ticks": ""
             }
            },
            "type": "parcoords"
           }
          ],
          "pie": [
           {
            "automargin": true,
            "type": "pie"
           }
          ],
          "scatter": [
           {
            "fillpattern": {
             "fillmode": "overlay",
             "size": 10,
             "solidity": 0.2
            },
            "type": "scatter"
           }
          ],
          "scatter3d": [
           {
            "line": {
             "colorbar": {
              "outlinewidth": 0,
              "ticks": ""
             }
            },
            "marker": {
             "colorbar": {
              "outlinewidth": 0,
              "ticks": ""
             }
            },
            "type": "scatter3d"
           }
          ],
          "scattercarpet": [
           {
            "marker": {
             "colorbar": {
              "outlinewidth": 0,
              "ticks": ""
             }
            },
            "type": "scattercarpet"
           }
          ],
          "scattergeo": [
           {
            "marker": {
             "colorbar": {
              "outlinewidth": 0,
              "ticks": ""
             }
            },
            "type": "scattergeo"
           }
          ],
          "scattergl": [
           {
            "marker": {
             "colorbar": {
              "outlinewidth": 0,
              "ticks": ""
             }
            },
            "type": "scattergl"
           }
          ],
          "scattermapbox": [
           {
            "marker": {
             "colorbar": {
              "outlinewidth": 0,
              "ticks": ""
             }
            },
            "type": "scattermapbox"
           }
          ],
          "scatterpolar": [
           {
            "marker": {
             "colorbar": {
              "outlinewidth": 0,
              "ticks": ""
             }
            },
            "type": "scatterpolar"
           }
          ],
          "scatterpolargl": [
           {
            "marker": {
             "colorbar": {
              "outlinewidth": 0,
              "ticks": ""
             }
            },
            "type": "scatterpolargl"
           }
          ],
          "scatterternary": [
           {
            "marker": {
             "colorbar": {
              "outlinewidth": 0,
              "ticks": ""
             }
            },
            "type": "scatterternary"
           }
          ],
          "surface": [
           {
            "colorbar": {
             "outlinewidth": 0,
             "ticks": ""
            },
            "colorscale": [
             [
              0,
              "#0d0887"
             ],
             [
              0.1111111111111111,
              "#46039f"
             ],
             [
              0.2222222222222222,
              "#7201a8"
             ],
             [
              0.3333333333333333,
              "#9c179e"
             ],
             [
              0.4444444444444444,
              "#bd3786"
             ],
             [
              0.5555555555555556,
              "#d8576b"
             ],
             [
              0.6666666666666666,
              "#ed7953"
             ],
             [
              0.7777777777777778,
              "#fb9f3a"
             ],
             [
              0.8888888888888888,
              "#fdca26"
             ],
             [
              1,
              "#f0f921"
             ]
            ],
            "type": "surface"
           }
          ],
          "table": [
           {
            "cells": {
             "fill": {
              "color": "#EBF0F8"
             },
             "line": {
              "color": "white"
             }
            },
            "header": {
             "fill": {
              "color": "#C8D4E3"
             },
             "line": {
              "color": "white"
             }
            },
            "type": "table"
           }
          ]
         },
         "layout": {
          "annotationdefaults": {
           "arrowcolor": "#2a3f5f",
           "arrowhead": 0,
           "arrowwidth": 1
          },
          "autotypenumbers": "strict",
          "coloraxis": {
           "colorbar": {
            "outlinewidth": 0,
            "ticks": ""
           }
          },
          "colorscale": {
           "diverging": [
            [
             0,
             "#8e0152"
            ],
            [
             0.1,
             "#c51b7d"
            ],
            [
             0.2,
             "#de77ae"
            ],
            [
             0.3,
             "#f1b6da"
            ],
            [
             0.4,
             "#fde0ef"
            ],
            [
             0.5,
             "#f7f7f7"
            ],
            [
             0.6,
             "#e6f5d0"
            ],
            [
             0.7,
             "#b8e186"
            ],
            [
             0.8,
             "#7fbc41"
            ],
            [
             0.9,
             "#4d9221"
            ],
            [
             1,
             "#276419"
            ]
           ],
           "sequential": [
            [
             0,
             "#0d0887"
            ],
            [
             0.1111111111111111,
             "#46039f"
            ],
            [
             0.2222222222222222,
             "#7201a8"
            ],
            [
             0.3333333333333333,
             "#9c179e"
            ],
            [
             0.4444444444444444,
             "#bd3786"
            ],
            [
             0.5555555555555556,
             "#d8576b"
            ],
            [
             0.6666666666666666,
             "#ed7953"
            ],
            [
             0.7777777777777778,
             "#fb9f3a"
            ],
            [
             0.8888888888888888,
             "#fdca26"
            ],
            [
             1,
             "#f0f921"
            ]
           ],
           "sequentialminus": [
            [
             0,
             "#0d0887"
            ],
            [
             0.1111111111111111,
             "#46039f"
            ],
            [
             0.2222222222222222,
             "#7201a8"
            ],
            [
             0.3333333333333333,
             "#9c179e"
            ],
            [
             0.4444444444444444,
             "#bd3786"
            ],
            [
             0.5555555555555556,
             "#d8576b"
            ],
            [
             0.6666666666666666,
             "#ed7953"
            ],
            [
             0.7777777777777778,
             "#fb9f3a"
            ],
            [
             0.8888888888888888,
             "#fdca26"
            ],
            [
             1,
             "#f0f921"
            ]
           ]
          },
          "colorway": [
           "#636efa",
           "#EF553B",
           "#00cc96",
           "#ab63fa",
           "#FFA15A",
           "#19d3f3",
           "#FF6692",
           "#B6E880",
           "#FF97FF",
           "#FECB52"
          ],
          "font": {
           "color": "#2a3f5f"
          },
          "geo": {
           "bgcolor": "white",
           "lakecolor": "white",
           "landcolor": "#E5ECF6",
           "showlakes": true,
           "showland": true,
           "subunitcolor": "white"
          },
          "hoverlabel": {
           "align": "left"
          },
          "hovermode": "closest",
          "mapbox": {
           "style": "light"
          },
          "paper_bgcolor": "white",
          "plot_bgcolor": "#E5ECF6",
          "polar": {
           "angularaxis": {
            "gridcolor": "white",
            "linecolor": "white",
            "ticks": ""
           },
           "bgcolor": "#E5ECF6",
           "radialaxis": {
            "gridcolor": "white",
            "linecolor": "white",
            "ticks": ""
           }
          },
          "scene": {
           "xaxis": {
            "backgroundcolor": "#E5ECF6",
            "gridcolor": "white",
            "gridwidth": 2,
            "linecolor": "white",
            "showbackground": true,
            "ticks": "",
            "zerolinecolor": "white"
           },
           "yaxis": {
            "backgroundcolor": "#E5ECF6",
            "gridcolor": "white",
            "gridwidth": 2,
            "linecolor": "white",
            "showbackground": true,
            "ticks": "",
            "zerolinecolor": "white"
           },
           "zaxis": {
            "backgroundcolor": "#E5ECF6",
            "gridcolor": "white",
            "gridwidth": 2,
            "linecolor": "white",
            "showbackground": true,
            "ticks": "",
            "zerolinecolor": "white"
           }
          },
          "shapedefaults": {
           "line": {
            "color": "#2a3f5f"
           }
          },
          "ternary": {
           "aaxis": {
            "gridcolor": "white",
            "linecolor": "white",
            "ticks": ""
           },
           "baxis": {
            "gridcolor": "white",
            "linecolor": "white",
            "ticks": ""
           },
           "bgcolor": "#E5ECF6",
           "caxis": {
            "gridcolor": "white",
            "linecolor": "white",
            "ticks": ""
           }
          },
          "title": {
           "x": 0.05
          },
          "xaxis": {
           "automargin": true,
           "gridcolor": "white",
           "linecolor": "white",
           "ticks": "",
           "title": {
            "standoff": 15
           },
           "zerolinecolor": "white",
           "zerolinewidth": 2
          },
          "yaxis": {
           "automargin": true,
           "gridcolor": "white",
           "linecolor": "white",
           "ticks": "",
           "title": {
            "standoff": 15
           },
           "zerolinecolor": "white",
           "zerolinewidth": 2
          }
         }
        },
        "title": {
         "font": {
          "family": "GT America Bold",
          "size": 18
         },
         "text": "BPD's adopted budget has only slightly decreased in recent years after a long period of increases ",
         "x": 0,
         "xref": "paper",
         "y": 0.9
        },
        "width": 1050,
        "xaxis": {
         "anchor": "y",
         "domain": [
          0,
          1
         ],
         "title": {}
        },
        "yaxis": {
         "anchor": "x",
         "domain": [
          0,
          1
         ],
         "gridcolor": "LightGray",
         "gridwidth": 0.5,
         "showgrid": true,
         "tickprefix": "$",
         "title": {}
        }
       }
      }
     },
     "metadata": {},
     "output_type": "display_data"
    }
   ],
   "source": [
    "import pandas as pd\n",
    "import numpy as np\n",
    "import plotly.graph_objects as go\n",
    "import plotly_express as px\n",
    "\n",
    "file_adopted_operating_budget_fy23 = pd.read_csv('./Data/operating-budget.csv')\n",
    "\n",
    "budget_df_uncut = pd.DataFrame(file_adopted_operating_budget_fy23)\n",
    "\n",
    "budget_df_withNA = budget_df_uncut[['Cabinet', 'Dept', 'Program   ', 'Expense Category',\n",
    "       'FY20 Actual Expense', 'FY21 Actual Expense', 'FY22 Appropriation',\n",
    "       'FY23 Adopted']]\n",
    "\n",
    "budget_df = budget_df_withNA.dropna()\n",
    "\n",
    "# Replace '#Missing' values with '0' so we can type cast the columns to numbers\n",
    "budget_df = budget_df.replace('#Missing', '0')\n",
    "\n",
    "# Convert datatype to strings \n",
    "budget_df['FY20 Actual Expense'] = budget_df['FY20 Actual Expense'].apply(lambda x: float(x.replace(\",\",\"\").replace(\"$\",\"\")) if x != 'TOTAL_GROSS' and str(type(x)) == '<class \\'str\\'>' else x)\n",
    "budget_df['FY21 Actual Expense'] = budget_df['FY21 Actual Expense'].apply(lambda x: float(x.replace(\",\",\"\").replace(\"$\",\"\")) if x != 'TOTAL_GROSS' and str(type(x)) == '<class \\'str\\'>' else x)\n",
    "budget_df['FY22 Appropriation'] = budget_df['FY22 Appropriation'].apply(lambda x: float(x.replace(\",\",\"\").replace(\"$\",\"\")) if x != 'TOTAL_GROSS' and str(type(x)) == '<class \\'str\\'>' else x)\n",
    "budget_df['FY23 Adopted'] = budget_df['FY23 Adopted'].apply(lambda x: float(x.replace(\",\",\"\").replace(\"$\",\"\")) if x != 'TOTAL_GROSS' and str(type(x)) == '<class \\'str\\'>' else x)\n",
    "\n",
    "# Get only data from Police Department\n",
    "bpd_budget_df = budget_df.loc[budget_df['Dept'] == \"Police Department\"]\n",
    "\n",
    "# Compute sums and add to list\n",
    "bpd_budget = []\n",
    "# bpd_budget.append(bpd_budget_df['FY20 Actual Expense'].sum())\n",
    "# bpd_budget.append(bpd_budget_df['FY21 Actual Expense'].sum())\n",
    "# bpd_budget.append(bpd_budget_df['FY22 Appropriation'].sum())  # Appropriated budget = means ?? (GUESS: Proposed budget (Needs approval until adopted!))\n",
    "# bpd_budget.append(bpd_budget_df['FY23 Adopted'].sum())  # Adopted budget = 1 year spending fianncial plan\n",
    "bpd_budget = [319700081, 323509388, 356341193, 373814105, 400425675, 414237376, 404182025, 399871218, 395094796]\n",
    "\n",
    "fig1_dict = {\n",
    "    'year': ['FY15', 'FY16', 'FY17', 'FY18', 'FY19', 'FY20', 'FY21', 'FY22', 'FY23'],\n",
    "    'Budget': bpd_budget\n",
    "}\n",
    "\n",
    "pd.options.plotting.backend = \"plotly\"\n",
    "df1 = pd.DataFrame(fig1_dict)\n",
    "print(df1)\n",
    "# using Plotly Express via the Pandas backend\n",
    "fig1 = df1.plot.bar(x='year', y='Budget', color_discrete_sequence=['#EF404E'])\n",
    "fig1.update_yaxes(showgrid=True, gridwidth=0.5, gridcolor='LightGray')\n",
    "\n",
    "# Aesthetic customizations\n",
    "fig1.update_layout(\n",
    "    plot_bgcolor='rgba(0,0,0,0)',\n",
    "    font_family=\"GT America\",\n",
    "    font_color=\"black\",\n",
    "    xaxis_title=None,\n",
    "    yaxis_title=None,\n",
    "    yaxis_tickprefix = '$',\n",
    "    margin=dict(\n",
    "        l=100,\n",
    "        r=100,\n",
    "        b=80,\n",
    "        t=90,\n",
    "        pad=4\n",
    "    ),\n",
    "    height=475,\n",
    "    width=1050\n",
    ")\n",
    "\n",
    "# Customize title to add captions!\n",
    "fig1.update_layout(\n",
    "    title=go.layout.Title(\n",
    "        text=\"BPD's adopted budget has only slightly decreased in recent years after a long period of increases \",\n",
    "        xref=\"paper\",\n",
    "        x=0,\n",
    "        y=0.9,\n",
    "        font_family=\"GT America Bold\",\n",
    "        font_size=18\n",
    "    )\n",
    ")\n",
    "\n",
    "fig1.show()\n"
   ]
  },
  {
   "cell_type": "markdown",
   "metadata": {},
   "source": [
    "Note: FY 20 & 21 are Expenses, FY 22 and 23 are Budgets \n",
    "Police dept budget slightly decreased in recent years.\n",
    "\n",
    "Improvement:\n",
    "- We could change this to only budgets\n"
   ]
  },
  {
   "cell_type": "markdown",
   "metadata": {},
   "source": [
    "QUESTION 2: BPD Budget vs. other departments budgets + change over time\n",
    "\n",
    "Issues:\n",
    "- Which departments do we include (excluding BPD) ?\n",
    "- I look at Top 4 departments with highest budgets each year + BPD"
   ]
  },
  {
   "cell_type": "code",
   "execution_count": 3,
   "metadata": {},
   "outputs": [
    {
     "name": "stderr",
     "output_type": "stream",
     "text": [
      "/var/folders/15/ngd639_x4tn_n4xh55wvc5lr0000gn/T/ipykernel_14666/3390850744.py:8: FutureWarning:\n",
      "\n",
      "The default value of numeric_only in DataFrameGroupBy.sum is deprecated. In a future version, numeric_only will default to False. Either specify numeric_only or select only columns which should be valid for the function.\n",
      "\n"
     ]
    },
    {
     "data": {
      "application/vnd.plotly.v1+json": {
       "config": {
        "plotlyServerURL": "https://plot.ly"
       },
       "data": [
        {
         "alignmentgroup": "True",
         "hovertemplate": "Department=Boston Public Schools<br>year=%{x}<br>Budget=%{y}<extra></extra>",
         "legendgroup": "Boston Public Schools",
         "marker": {
          "color": "#d9dcf5",
          "pattern": {
           "shape": ""
          }
         },
         "name": "Boston Public Schools",
         "offsetgroup": "Boston Public Schools",
         "orientation": "v",
         "showlegend": true,
         "textposition": "auto",
         "type": "bar",
         "x": [
          "FY20 Expense",
          "FY21 Expense",
          "FY22 Appropriated Budget",
          "FY23 Adopted Budget"
         ],
         "xaxis": "x",
         "y": [
          1178562373,
          1260465248,
          1294719861,
          1334845508
         ],
         "yaxis": "y"
        },
        {
         "alignmentgroup": "True",
         "hovertemplate": "Department=Police Department<br>year=%{x}<br>Budget=%{y}<extra></extra>",
         "legendgroup": "Police Department",
         "marker": {
          "color": "#EF404E",
          "pattern": {
           "shape": ""
          }
         },
         "name": "Police Department",
         "offsetgroup": "Police Department",
         "orientation": "v",
         "showlegend": true,
         "textposition": "auto",
         "type": "bar",
         "x": [
          "FY20 Expense",
          "FY21 Expense",
          "FY22 Appropriated Budget",
          "FY23 Adopted Budget"
         ],
         "xaxis": "x",
         "y": [
          425553214,
          422917500,
          400306189,
          395094796
         ],
         "yaxis": "y"
        },
        {
         "alignmentgroup": "True",
         "hovertemplate": "Department=Pensions<br>year=%{x}<br>Budget=%{y}<extra></extra>",
         "legendgroup": "Pensions",
         "marker": {
          "color": "#a39fd7",
          "pattern": {
           "shape": ""
          }
         },
         "name": "Pensions",
         "offsetgroup": "Pensions",
         "orientation": "v",
         "showlegend": true,
         "textposition": "auto",
         "type": "bar",
         "x": [
          "FY20 Expense",
          "FY21 Expense",
          "FY22 Appropriated Budget",
          "FY23 Adopted Budget"
         ],
         "xaxis": "x",
         "y": [
          280602756,
          292088778,
          323684235,
          353855931
         ],
         "yaxis": "y"
        },
        {
         "alignmentgroup": "True",
         "hovertemplate": "Department=Fire Department<br>year=%{x}<br>Budget=%{y}<extra></extra>",
         "legendgroup": "Fire Department",
         "marker": {
          "color": "#7774a6",
          "pattern": {
           "shape": ""
          }
         },
         "name": "Fire Department",
         "offsetgroup": "Fire Department",
         "orientation": "v",
         "showlegend": true,
         "textposition": "auto",
         "type": "bar",
         "x": [
          "FY20 Expense",
          "FY21 Expense",
          "FY22 Appropriated Budget",
          "FY23 Adopted Budget"
         ],
         "xaxis": "x",
         "y": [
          277013028,
          268959926,
          275808106,
          276902589
         ],
         "yaxis": "y"
        },
        {
         "alignmentgroup": "True",
         "hovertemplate": "Department=Health Insurance<br>year=%{x}<br>Budget=%{y}<extra></extra>",
         "legendgroup": "Health Insurance",
         "marker": {
          "color": "#494983",
          "pattern": {
           "shape": ""
          }
         },
         "name": "Health Insurance",
         "offsetgroup": "Health Insurance",
         "orientation": "v",
         "showlegend": true,
         "textposition": "auto",
         "type": "bar",
         "x": [
          "FY20 Expense"
         ],
         "xaxis": "x",
         "y": [
          211341951
         ],
         "yaxis": "y"
        },
        {
         "alignmentgroup": "True",
         "hovertemplate": "Department=Charter School Tuition<br>year=%{x}<br>Budget=%{y}<extra></extra>",
         "legendgroup": "Charter School Tuition",
         "marker": {
          "color": "#130F54",
          "pattern": {
           "shape": ""
          }
         },
         "name": "Charter School Tuition",
         "offsetgroup": "Charter School Tuition",
         "orientation": "v",
         "showlegend": true,
         "textposition": "auto",
         "type": "bar",
         "x": [
          "FY21 Expense",
          "FY22 Appropriated Budget",
          "FY23 Adopted Budget"
         ],
         "xaxis": "x",
         "y": [
          217698388,
          251621487,
          264549478
         ],
         "yaxis": "y"
        }
       ],
       "layout": {
        "barmode": "group",
        "font": {
         "color": "black",
         "family": "GT America"
        },
        "legend": {
         "title": {
          "text": "Department"
         },
         "tracegroupgap": 0
        },
        "margin": {
         "b": 80,
         "l": 100,
         "pad": 4,
         "r": 100,
         "t": 120
        },
        "plot_bgcolor": "rgba(0,0,0,0)",
        "template": {
         "data": {
          "bar": [
           {
            "error_x": {
             "color": "#2a3f5f"
            },
            "error_y": {
             "color": "#2a3f5f"
            },
            "marker": {
             "line": {
              "color": "#E5ECF6",
              "width": 0.5
             },
             "pattern": {
              "fillmode": "overlay",
              "size": 10,
              "solidity": 0.2
             }
            },
            "type": "bar"
           }
          ],
          "barpolar": [
           {
            "marker": {
             "line": {
              "color": "#E5ECF6",
              "width": 0.5
             },
             "pattern": {
              "fillmode": "overlay",
              "size": 10,
              "solidity": 0.2
             }
            },
            "type": "barpolar"
           }
          ],
          "carpet": [
           {
            "aaxis": {
             "endlinecolor": "#2a3f5f",
             "gridcolor": "white",
             "linecolor": "white",
             "minorgridcolor": "white",
             "startlinecolor": "#2a3f5f"
            },
            "baxis": {
             "endlinecolor": "#2a3f5f",
             "gridcolor": "white",
             "linecolor": "white",
             "minorgridcolor": "white",
             "startlinecolor": "#2a3f5f"
            },
            "type": "carpet"
           }
          ],
          "choropleth": [
           {
            "colorbar": {
             "outlinewidth": 0,
             "ticks": ""
            },
            "type": "choropleth"
           }
          ],
          "contour": [
           {
            "colorbar": {
             "outlinewidth": 0,
             "ticks": ""
            },
            "colorscale": [
             [
              0,
              "#0d0887"
             ],
             [
              0.1111111111111111,
              "#46039f"
             ],
             [
              0.2222222222222222,
              "#7201a8"
             ],
             [
              0.3333333333333333,
              "#9c179e"
             ],
             [
              0.4444444444444444,
              "#bd3786"
             ],
             [
              0.5555555555555556,
              "#d8576b"
             ],
             [
              0.6666666666666666,
              "#ed7953"
             ],
             [
              0.7777777777777778,
              "#fb9f3a"
             ],
             [
              0.8888888888888888,
              "#fdca26"
             ],
             [
              1,
              "#f0f921"
             ]
            ],
            "type": "contour"
           }
          ],
          "contourcarpet": [
           {
            "colorbar": {
             "outlinewidth": 0,
             "ticks": ""
            },
            "type": "contourcarpet"
           }
          ],
          "heatmap": [
           {
            "colorbar": {
             "outlinewidth": 0,
             "ticks": ""
            },
            "colorscale": [
             [
              0,
              "#0d0887"
             ],
             [
              0.1111111111111111,
              "#46039f"
             ],
             [
              0.2222222222222222,
              "#7201a8"
             ],
             [
              0.3333333333333333,
              "#9c179e"
             ],
             [
              0.4444444444444444,
              "#bd3786"
             ],
             [
              0.5555555555555556,
              "#d8576b"
             ],
             [
              0.6666666666666666,
              "#ed7953"
             ],
             [
              0.7777777777777778,
              "#fb9f3a"
             ],
             [
              0.8888888888888888,
              "#fdca26"
             ],
             [
              1,
              "#f0f921"
             ]
            ],
            "type": "heatmap"
           }
          ],
          "heatmapgl": [
           {
            "colorbar": {
             "outlinewidth": 0,
             "ticks": ""
            },
            "colorscale": [
             [
              0,
              "#0d0887"
             ],
             [
              0.1111111111111111,
              "#46039f"
             ],
             [
              0.2222222222222222,
              "#7201a8"
             ],
             [
              0.3333333333333333,
              "#9c179e"
             ],
             [
              0.4444444444444444,
              "#bd3786"
             ],
             [
              0.5555555555555556,
              "#d8576b"
             ],
             [
              0.6666666666666666,
              "#ed7953"
             ],
             [
              0.7777777777777778,
              "#fb9f3a"
             ],
             [
              0.8888888888888888,
              "#fdca26"
             ],
             [
              1,
              "#f0f921"
             ]
            ],
            "type": "heatmapgl"
           }
          ],
          "histogram": [
           {
            "marker": {
             "pattern": {
              "fillmode": "overlay",
              "size": 10,
              "solidity": 0.2
             }
            },
            "type": "histogram"
           }
          ],
          "histogram2d": [
           {
            "colorbar": {
             "outlinewidth": 0,
             "ticks": ""
            },
            "colorscale": [
             [
              0,
              "#0d0887"
             ],
             [
              0.1111111111111111,
              "#46039f"
             ],
             [
              0.2222222222222222,
              "#7201a8"
             ],
             [
              0.3333333333333333,
              "#9c179e"
             ],
             [
              0.4444444444444444,
              "#bd3786"
             ],
             [
              0.5555555555555556,
              "#d8576b"
             ],
             [
              0.6666666666666666,
              "#ed7953"
             ],
             [
              0.7777777777777778,
              "#fb9f3a"
             ],
             [
              0.8888888888888888,
              "#fdca26"
             ],
             [
              1,
              "#f0f921"
             ]
            ],
            "type": "histogram2d"
           }
          ],
          "histogram2dcontour": [
           {
            "colorbar": {
             "outlinewidth": 0,
             "ticks": ""
            },
            "colorscale": [
             [
              0,
              "#0d0887"
             ],
             [
              0.1111111111111111,
              "#46039f"
             ],
             [
              0.2222222222222222,
              "#7201a8"
             ],
             [
              0.3333333333333333,
              "#9c179e"
             ],
             [
              0.4444444444444444,
              "#bd3786"
             ],
             [
              0.5555555555555556,
              "#d8576b"
             ],
             [
              0.6666666666666666,
              "#ed7953"
             ],
             [
              0.7777777777777778,
              "#fb9f3a"
             ],
             [
              0.8888888888888888,
              "#fdca26"
             ],
             [
              1,
              "#f0f921"
             ]
            ],
            "type": "histogram2dcontour"
           }
          ],
          "mesh3d": [
           {
            "colorbar": {
             "outlinewidth": 0,
             "ticks": ""
            },
            "type": "mesh3d"
           }
          ],
          "parcoords": [
           {
            "line": {
             "colorbar": {
              "outlinewidth": 0,
              "ticks": ""
             }
            },
            "type": "parcoords"
           }
          ],
          "pie": [
           {
            "automargin": true,
            "type": "pie"
           }
          ],
          "scatter": [
           {
            "fillpattern": {
             "fillmode": "overlay",
             "size": 10,
             "solidity": 0.2
            },
            "type": "scatter"
           }
          ],
          "scatter3d": [
           {
            "line": {
             "colorbar": {
              "outlinewidth": 0,
              "ticks": ""
             }
            },
            "marker": {
             "colorbar": {
              "outlinewidth": 0,
              "ticks": ""
             }
            },
            "type": "scatter3d"
           }
          ],
          "scattercarpet": [
           {
            "marker": {
             "colorbar": {
              "outlinewidth": 0,
              "ticks": ""
             }
            },
            "type": "scattercarpet"
           }
          ],
          "scattergeo": [
           {
            "marker": {
             "colorbar": {
              "outlinewidth": 0,
              "ticks": ""
             }
            },
            "type": "scattergeo"
           }
          ],
          "scattergl": [
           {
            "marker": {
             "colorbar": {
              "outlinewidth": 0,
              "ticks": ""
             }
            },
            "type": "scattergl"
           }
          ],
          "scattermapbox": [
           {
            "marker": {
             "colorbar": {
              "outlinewidth": 0,
              "ticks": ""
             }
            },
            "type": "scattermapbox"
           }
          ],
          "scatterpolar": [
           {
            "marker": {
             "colorbar": {
              "outlinewidth": 0,
              "ticks": ""
             }
            },
            "type": "scatterpolar"
           }
          ],
          "scatterpolargl": [
           {
            "marker": {
             "colorbar": {
              "outlinewidth": 0,
              "ticks": ""
             }
            },
            "type": "scatterpolargl"
           }
          ],
          "scatterternary": [
           {
            "marker": {
             "colorbar": {
              "outlinewidth": 0,
              "ticks": ""
             }
            },
            "type": "scatterternary"
           }
          ],
          "surface": [
           {
            "colorbar": {
             "outlinewidth": 0,
             "ticks": ""
            },
            "colorscale": [
             [
              0,
              "#0d0887"
             ],
             [
              0.1111111111111111,
              "#46039f"
             ],
             [
              0.2222222222222222,
              "#7201a8"
             ],
             [
              0.3333333333333333,
              "#9c179e"
             ],
             [
              0.4444444444444444,
              "#bd3786"
             ],
             [
              0.5555555555555556,
              "#d8576b"
             ],
             [
              0.6666666666666666,
              "#ed7953"
             ],
             [
              0.7777777777777778,
              "#fb9f3a"
             ],
             [
              0.8888888888888888,
              "#fdca26"
             ],
             [
              1,
              "#f0f921"
             ]
            ],
            "type": "surface"
           }
          ],
          "table": [
           {
            "cells": {
             "fill": {
              "color": "#EBF0F8"
             },
             "line": {
              "color": "white"
             }
            },
            "header": {
             "fill": {
              "color": "#C8D4E3"
             },
             "line": {
              "color": "white"
             }
            },
            "type": "table"
           }
          ]
         },
         "layout": {
          "annotationdefaults": {
           "arrowcolor": "#2a3f5f",
           "arrowhead": 0,
           "arrowwidth": 1
          },
          "autotypenumbers": "strict",
          "coloraxis": {
           "colorbar": {
            "outlinewidth": 0,
            "ticks": ""
           }
          },
          "colorscale": {
           "diverging": [
            [
             0,
             "#8e0152"
            ],
            [
             0.1,
             "#c51b7d"
            ],
            [
             0.2,
             "#de77ae"
            ],
            [
             0.3,
             "#f1b6da"
            ],
            [
             0.4,
             "#fde0ef"
            ],
            [
             0.5,
             "#f7f7f7"
            ],
            [
             0.6,
             "#e6f5d0"
            ],
            [
             0.7,
             "#b8e186"
            ],
            [
             0.8,
             "#7fbc41"
            ],
            [
             0.9,
             "#4d9221"
            ],
            [
             1,
             "#276419"
            ]
           ],
           "sequential": [
            [
             0,
             "#0d0887"
            ],
            [
             0.1111111111111111,
             "#46039f"
            ],
            [
             0.2222222222222222,
             "#7201a8"
            ],
            [
             0.3333333333333333,
             "#9c179e"
            ],
            [
             0.4444444444444444,
             "#bd3786"
            ],
            [
             0.5555555555555556,
             "#d8576b"
            ],
            [
             0.6666666666666666,
             "#ed7953"
            ],
            [
             0.7777777777777778,
             "#fb9f3a"
            ],
            [
             0.8888888888888888,
             "#fdca26"
            ],
            [
             1,
             "#f0f921"
            ]
           ],
           "sequentialminus": [
            [
             0,
             "#0d0887"
            ],
            [
             0.1111111111111111,
             "#46039f"
            ],
            [
             0.2222222222222222,
             "#7201a8"
            ],
            [
             0.3333333333333333,
             "#9c179e"
            ],
            [
             0.4444444444444444,
             "#bd3786"
            ],
            [
             0.5555555555555556,
             "#d8576b"
            ],
            [
             0.6666666666666666,
             "#ed7953"
            ],
            [
             0.7777777777777778,
             "#fb9f3a"
            ],
            [
             0.8888888888888888,
             "#fdca26"
            ],
            [
             1,
             "#f0f921"
            ]
           ]
          },
          "colorway": [
           "#636efa",
           "#EF553B",
           "#00cc96",
           "#ab63fa",
           "#FFA15A",
           "#19d3f3",
           "#FF6692",
           "#B6E880",
           "#FF97FF",
           "#FECB52"
          ],
          "font": {
           "color": "#2a3f5f"
          },
          "geo": {
           "bgcolor": "white",
           "lakecolor": "white",
           "landcolor": "#E5ECF6",
           "showlakes": true,
           "showland": true,
           "subunitcolor": "white"
          },
          "hoverlabel": {
           "align": "left"
          },
          "hovermode": "closest",
          "mapbox": {
           "style": "light"
          },
          "paper_bgcolor": "white",
          "plot_bgcolor": "#E5ECF6",
          "polar": {
           "angularaxis": {
            "gridcolor": "white",
            "linecolor": "white",
            "ticks": ""
           },
           "bgcolor": "#E5ECF6",
           "radialaxis": {
            "gridcolor": "white",
            "linecolor": "white",
            "ticks": ""
           }
          },
          "scene": {
           "xaxis": {
            "backgroundcolor": "#E5ECF6",
            "gridcolor": "white",
            "gridwidth": 2,
            "linecolor": "white",
            "showbackground": true,
            "ticks": "",
            "zerolinecolor": "white"
           },
           "yaxis": {
            "backgroundcolor": "#E5ECF6",
            "gridcolor": "white",
            "gridwidth": 2,
            "linecolor": "white",
            "showbackground": true,
            "ticks": "",
            "zerolinecolor": "white"
           },
           "zaxis": {
            "backgroundcolor": "#E5ECF6",
            "gridcolor": "white",
            "gridwidth": 2,
            "linecolor": "white",
            "showbackground": true,
            "ticks": "",
            "zerolinecolor": "white"
           }
          },
          "shapedefaults": {
           "line": {
            "color": "#2a3f5f"
           }
          },
          "ternary": {
           "aaxis": {
            "gridcolor": "white",
            "linecolor": "white",
            "ticks": ""
           },
           "baxis": {
            "gridcolor": "white",
            "linecolor": "white",
            "ticks": ""
           },
           "bgcolor": "#E5ECF6",
           "caxis": {
            "gridcolor": "white",
            "linecolor": "white",
            "ticks": ""
           }
          },
          "title": {
           "x": 0.05
          },
          "xaxis": {
           "automargin": true,
           "gridcolor": "white",
           "linecolor": "white",
           "ticks": "",
           "title": {
            "standoff": 15
           },
           "zerolinecolor": "white",
           "zerolinewidth": 2
          },
          "yaxis": {
           "automargin": true,
           "gridcolor": "white",
           "linecolor": "white",
           "ticks": "",
           "title": {
            "standoff": 15
           },
           "zerolinecolor": "white",
           "zerolinewidth": 2
          }
         }
        },
        "title": {
         "font": {
          "family": "GT America Bold",
          "size": 19
         },
         "text": "The Boston Police Department budget consistently ranks as the second-highest, <br>surpassed only by Boston Public Schools.",
         "x": 0,
         "xref": "paper"
        },
        "width": 1050,
        "xaxis": {
         "anchor": "y",
         "domain": [
          0,
          1
         ],
         "title": {}
        },
        "yaxis": {
         "anchor": "x",
         "domain": [
          0,
          1
         ],
         "gridcolor": "LightGray",
         "gridwidth": 0.5,
         "showgrid": true,
         "tickprefix": "$",
         "title": {}
        }
       }
      }
     },
     "metadata": {},
     "output_type": "display_data"
    }
   ],
   "source": [
    "num_depts = 5\n",
    "year = ['FY20 Expense'] * num_depts + ['FY21 Expense'] * num_depts + ['FY22 Appropriated Budget'] * num_depts + ['FY23 Adopted Budget'] * num_depts\n",
    "\n",
    "budget = []\n",
    "dept = []\n",
    "\n",
    "# Sum all budgets\n",
    "summed_budget_df = budget_df.groupby(by=['Dept'], sort=False).sum()\n",
    "\n",
    "# Will set the plot values based on all departments\n",
    "def getTopOverallDepts():\n",
    "    # Sort departments by budget sums\n",
    "    fy20_sorted_df = summed_budget_df.sort_values(by=['FY20 Actual Expense'], ascending=False)\n",
    "    fy21_sorted_df = summed_budget_df.sort_values(by=['FY21 Actual Expense'], ascending=False)\n",
    "    fy22_sorted_df = summed_budget_df.sort_values(by=['FY22 Appropriation'], ascending=False)\n",
    "    fy23_sorted_df = summed_budget_df.sort_values(by=['FY23 Adopted'], ascending=False)\n",
    "\n",
    "    # Get top departments\n",
    "    top_fy20_df = fy20_sorted_df.head(num_depts)\n",
    "    top_fy21_df = fy21_sorted_df.head(num_depts)    \n",
    "    top_fy22_df = fy22_sorted_df.head(num_depts)    \n",
    "    top_fy23_df = fy23_sorted_df.head(num_depts)    \n",
    "\n",
    "    for index, row in top_fy20_df.iterrows():\n",
    "        dept.append(index)\n",
    "        budget.append(row['FY20 Actual Expense'])\n",
    "\n",
    "    for index, row in top_fy21_df.iterrows():\n",
    "        dept.append(index)\n",
    "        budget.append(row['FY21 Actual Expense'])\n",
    "\n",
    "    for index, row in top_fy22_df.iterrows():\n",
    "        dept.append(index)\n",
    "        budget.append(row['FY22 Appropriation'])\n",
    "\n",
    "    for index, row in top_fy23_df.iterrows():\n",
    "        dept.append(index)\n",
    "        budget.append(row['FY23 Adopted'])\n",
    "\n",
    "getTopOverallDepts()\n",
    "\n",
    "fig2_dict = {\n",
    "    'year': year,\n",
    "    'Budget': budget,\n",
    "    'Department': dept\n",
    "}\n",
    "\n",
    "df2 = pd.DataFrame(fig2_dict)\n",
    "color_discrete_sequence=['#d9dcf5','#EF404E','#a39fd7','#7774a6', \"#494983\", \"#130F54\"]\n",
    "fig2 = px.bar(df2, x='year', y='Budget', color='Department', barmode=\"group\", color_discrete_sequence=color_discrete_sequence)\n",
    "fig2.update_yaxes(showgrid=True, gridwidth=0.5, gridcolor='LightGray')\n",
    "\n",
    "# Aesthetic customizations\n",
    "fig2.update_layout(\n",
    "    plot_bgcolor='rgba(0,0,0,0)',\n",
    "    font_family=\"GT America\",\n",
    "    font_color=\"black\",\n",
    "    xaxis_title=None,\n",
    "    yaxis_title=None,\n",
    "    yaxis_tickprefix = '$',\n",
    "    margin=dict(\n",
    "        l=100,\n",
    "        r=100,\n",
    "        b=80,\n",
    "        t=120,\n",
    "        pad=4\n",
    "    ),\n",
    "    width=1050\n",
    ")\n",
    "\n",
    "# Customize title to add captions!\n",
    "fig2.update_layout(\n",
    "    title=go.layout.Title(\n",
    "        text=\"The Boston Police Department budget consistently ranks as the second-highest, <br>surpassed only by Boston Public Schools.\",\n",
    "        xref=\"paper\",\n",
    "        x=0,\n",
    "        font_family=\"GT America Bold\",\n",
    "        font_size=19\n",
    "    )\n",
    ")\n",
    "fig2.show()\n",
    "\n"
   ]
  },
  {
   "cell_type": "markdown",
   "metadata": {},
   "source": [
    "Analysis: \n",
    "BPD remained the department with the second highest budget each year, with small decrements over the years. \n",
    "BPS, Pensions, and Charter School Tuition all had budget increases over the years.\n",
    "\n",
    "NOTE: Might be more useful to show percentage of total city budget that BPD takes up per year + change over time"
   ]
  },
  {
   "cell_type": "code",
   "execution_count": 4,
   "metadata": {},
   "outputs": [
    {
     "name": "stdout",
     "output_type": "stream",
     "text": [
      "['Police Department', 'Pensions', 'Fire Department', 'Health Insurance', 'Charter School Tuition', 'Police Department', 'Pensions', 'Fire Department', 'Charter School Tuition', 'Health Insurance', 'Police Department', 'Pensions', 'Fire Department', 'Charter School Tuition', 'Health Insurance', 'Police Department', 'Pensions', 'Fire Department', 'Charter School Tuition', 'Debt Service']\n"
     ]
    },
    {
     "name": "stderr",
     "output_type": "stream",
     "text": [
      "/var/folders/15/ngd639_x4tn_n4xh55wvc5lr0000gn/T/ipykernel_14666/2411399467.py:10: FutureWarning:\n",
      "\n",
      "The default value of numeric_only in DataFrameGroupBy.sum is deprecated. In a future version, numeric_only will default to False. Either specify numeric_only or select only columns which should be valid for the function.\n",
      "\n"
     ]
    },
    {
     "data": {
      "application/vnd.plotly.v1+json": {
       "config": {
        "plotlyServerURL": "https://plot.ly"
       },
       "data": [
        {
         "alignmentgroup": "True",
         "hovertemplate": "Department=Police Department<br>year=%{x}<br>Budget=%{y}<extra></extra>",
         "legendgroup": "Police Department",
         "marker": {
          "color": "#EF404E",
          "pattern": {
           "shape": ""
          }
         },
         "name": "Police Department",
         "offsetgroup": "Police Department",
         "orientation": "v",
         "showlegend": true,
         "textposition": "auto",
         "type": "bar",
         "x": [
          "FY20 Expense",
          "FY21 Expense",
          "FY22 Appropriated Budget",
          "FY23 Adopted Budget"
         ],
         "xaxis": "x",
         "y": [
          425553214,
          422917500,
          400306189,
          395094796
         ],
         "yaxis": "y"
        },
        {
         "alignmentgroup": "True",
         "hovertemplate": "Department=Pensions<br>year=%{x}<br>Budget=%{y}<extra></extra>",
         "legendgroup": "Pensions",
         "marker": {
          "color": "#d9dcf5",
          "pattern": {
           "shape": ""
          }
         },
         "name": "Pensions",
         "offsetgroup": "Pensions",
         "orientation": "v",
         "showlegend": true,
         "textposition": "auto",
         "type": "bar",
         "x": [
          "FY20 Expense",
          "FY21 Expense",
          "FY22 Appropriated Budget",
          "FY23 Adopted Budget"
         ],
         "xaxis": "x",
         "y": [
          280602756,
          292088778,
          323684235,
          353855931
         ],
         "yaxis": "y"
        },
        {
         "alignmentgroup": "True",
         "hovertemplate": "Department=Fire Department<br>year=%{x}<br>Budget=%{y}<extra></extra>",
         "legendgroup": "Fire Department",
         "marker": {
          "color": "#a39fd7",
          "pattern": {
           "shape": ""
          }
         },
         "name": "Fire Department",
         "offsetgroup": "Fire Department",
         "orientation": "v",
         "showlegend": true,
         "textposition": "auto",
         "type": "bar",
         "x": [
          "FY20 Expense",
          "FY21 Expense",
          "FY22 Appropriated Budget",
          "FY23 Adopted Budget"
         ],
         "xaxis": "x",
         "y": [
          277013028,
          268959926,
          275808106,
          276902589
         ],
         "yaxis": "y"
        },
        {
         "alignmentgroup": "True",
         "hovertemplate": "Department=Health Insurance<br>year=%{x}<br>Budget=%{y}<extra></extra>",
         "legendgroup": "Health Insurance",
         "marker": {
          "color": "#7774a6",
          "pattern": {
           "shape": ""
          }
         },
         "name": "Health Insurance",
         "offsetgroup": "Health Insurance",
         "orientation": "v",
         "showlegend": true,
         "textposition": "auto",
         "type": "bar",
         "x": [
          "FY20 Expense",
          "FY21 Expense",
          "FY22 Appropriated Budget"
         ],
         "xaxis": "x",
         "y": [
          211341951,
          210900841,
          212236570
         ],
         "yaxis": "y"
        },
        {
         "alignmentgroup": "True",
         "hovertemplate": "Department=Charter School Tuition<br>year=%{x}<br>Budget=%{y}<extra></extra>",
         "legendgroup": "Charter School Tuition",
         "marker": {
          "color": "#494983",
          "pattern": {
           "shape": ""
          }
         },
         "name": "Charter School Tuition",
         "offsetgroup": "Charter School Tuition",
         "orientation": "v",
         "showlegend": true,
         "textposition": "auto",
         "type": "bar",
         "x": [
          "FY20 Expense",
          "FY21 Expense",
          "FY22 Appropriated Budget",
          "FY23 Adopted Budget"
         ],
         "xaxis": "x",
         "y": [
          199702437,
          217698388,
          251621487,
          264549478
         ],
         "yaxis": "y"
        },
        {
         "alignmentgroup": "True",
         "hovertemplate": "Department=Debt Service<br>year=%{x}<br>Budget=%{y}<extra></extra>",
         "legendgroup": "Debt Service",
         "marker": {
          "color": "#130F54",
          "pattern": {
           "shape": ""
          }
         },
         "name": "Debt Service",
         "offsetgroup": "Debt Service",
         "orientation": "v",
         "showlegend": true,
         "textposition": "auto",
         "type": "bar",
         "x": [
          "FY23 Adopted Budget"
         ],
         "xaxis": "x",
         "y": [
          218997990
         ],
         "yaxis": "y"
        }
       ],
       "layout": {
        "barmode": "group",
        "font": {
         "color": "black",
         "family": "GT America"
        },
        "legend": {
         "title": {
          "text": "Department"
         },
         "tracegroupgap": 0
        },
        "margin": {
         "b": 80,
         "l": 100,
         "pad": 4,
         "r": 100,
         "t": 120
        },
        "plot_bgcolor": "rgba(0,0,0,0)",
        "template": {
         "data": {
          "bar": [
           {
            "error_x": {
             "color": "#2a3f5f"
            },
            "error_y": {
             "color": "#2a3f5f"
            },
            "marker": {
             "line": {
              "color": "#E5ECF6",
              "width": 0.5
             },
             "pattern": {
              "fillmode": "overlay",
              "size": 10,
              "solidity": 0.2
             }
            },
            "type": "bar"
           }
          ],
          "barpolar": [
           {
            "marker": {
             "line": {
              "color": "#E5ECF6",
              "width": 0.5
             },
             "pattern": {
              "fillmode": "overlay",
              "size": 10,
              "solidity": 0.2
             }
            },
            "type": "barpolar"
           }
          ],
          "carpet": [
           {
            "aaxis": {
             "endlinecolor": "#2a3f5f",
             "gridcolor": "white",
             "linecolor": "white",
             "minorgridcolor": "white",
             "startlinecolor": "#2a3f5f"
            },
            "baxis": {
             "endlinecolor": "#2a3f5f",
             "gridcolor": "white",
             "linecolor": "white",
             "minorgridcolor": "white",
             "startlinecolor": "#2a3f5f"
            },
            "type": "carpet"
           }
          ],
          "choropleth": [
           {
            "colorbar": {
             "outlinewidth": 0,
             "ticks": ""
            },
            "type": "choropleth"
           }
          ],
          "contour": [
           {
            "colorbar": {
             "outlinewidth": 0,
             "ticks": ""
            },
            "colorscale": [
             [
              0,
              "#0d0887"
             ],
             [
              0.1111111111111111,
              "#46039f"
             ],
             [
              0.2222222222222222,
              "#7201a8"
             ],
             [
              0.3333333333333333,
              "#9c179e"
             ],
             [
              0.4444444444444444,
              "#bd3786"
             ],
             [
              0.5555555555555556,
              "#d8576b"
             ],
             [
              0.6666666666666666,
              "#ed7953"
             ],
             [
              0.7777777777777778,
              "#fb9f3a"
             ],
             [
              0.8888888888888888,
              "#fdca26"
             ],
             [
              1,
              "#f0f921"
             ]
            ],
            "type": "contour"
           }
          ],
          "contourcarpet": [
           {
            "colorbar": {
             "outlinewidth": 0,
             "ticks": ""
            },
            "type": "contourcarpet"
           }
          ],
          "heatmap": [
           {
            "colorbar": {
             "outlinewidth": 0,
             "ticks": ""
            },
            "colorscale": [
             [
              0,
              "#0d0887"
             ],
             [
              0.1111111111111111,
              "#46039f"
             ],
             [
              0.2222222222222222,
              "#7201a8"
             ],
             [
              0.3333333333333333,
              "#9c179e"
             ],
             [
              0.4444444444444444,
              "#bd3786"
             ],
             [
              0.5555555555555556,
              "#d8576b"
             ],
             [
              0.6666666666666666,
              "#ed7953"
             ],
             [
              0.7777777777777778,
              "#fb9f3a"
             ],
             [
              0.8888888888888888,
              "#fdca26"
             ],
             [
              1,
              "#f0f921"
             ]
            ],
            "type": "heatmap"
           }
          ],
          "heatmapgl": [
           {
            "colorbar": {
             "outlinewidth": 0,
             "ticks": ""
            },
            "colorscale": [
             [
              0,
              "#0d0887"
             ],
             [
              0.1111111111111111,
              "#46039f"
             ],
             [
              0.2222222222222222,
              "#7201a8"
             ],
             [
              0.3333333333333333,
              "#9c179e"
             ],
             [
              0.4444444444444444,
              "#bd3786"
             ],
             [
              0.5555555555555556,
              "#d8576b"
             ],
             [
              0.6666666666666666,
              "#ed7953"
             ],
             [
              0.7777777777777778,
              "#fb9f3a"
             ],
             [
              0.8888888888888888,
              "#fdca26"
             ],
             [
              1,
              "#f0f921"
             ]
            ],
            "type": "heatmapgl"
           }
          ],
          "histogram": [
           {
            "marker": {
             "pattern": {
              "fillmode": "overlay",
              "size": 10,
              "solidity": 0.2
             }
            },
            "type": "histogram"
           }
          ],
          "histogram2d": [
           {
            "colorbar": {
             "outlinewidth": 0,
             "ticks": ""
            },
            "colorscale": [
             [
              0,
              "#0d0887"
             ],
             [
              0.1111111111111111,
              "#46039f"
             ],
             [
              0.2222222222222222,
              "#7201a8"
             ],
             [
              0.3333333333333333,
              "#9c179e"
             ],
             [
              0.4444444444444444,
              "#bd3786"
             ],
             [
              0.5555555555555556,
              "#d8576b"
             ],
             [
              0.6666666666666666,
              "#ed7953"
             ],
             [
              0.7777777777777778,
              "#fb9f3a"
             ],
             [
              0.8888888888888888,
              "#fdca26"
             ],
             [
              1,
              "#f0f921"
             ]
            ],
            "type": "histogram2d"
           }
          ],
          "histogram2dcontour": [
           {
            "colorbar": {
             "outlinewidth": 0,
             "ticks": ""
            },
            "colorscale": [
             [
              0,
              "#0d0887"
             ],
             [
              0.1111111111111111,
              "#46039f"
             ],
             [
              0.2222222222222222,
              "#7201a8"
             ],
             [
              0.3333333333333333,
              "#9c179e"
             ],
             [
              0.4444444444444444,
              "#bd3786"
             ],
             [
              0.5555555555555556,
              "#d8576b"
             ],
             [
              0.6666666666666666,
              "#ed7953"
             ],
             [
              0.7777777777777778,
              "#fb9f3a"
             ],
             [
              0.8888888888888888,
              "#fdca26"
             ],
             [
              1,
              "#f0f921"
             ]
            ],
            "type": "histogram2dcontour"
           }
          ],
          "mesh3d": [
           {
            "colorbar": {
             "outlinewidth": 0,
             "ticks": ""
            },
            "type": "mesh3d"
           }
          ],
          "parcoords": [
           {
            "line": {
             "colorbar": {
              "outlinewidth": 0,
              "ticks": ""
             }
            },
            "type": "parcoords"
           }
          ],
          "pie": [
           {
            "automargin": true,
            "type": "pie"
           }
          ],
          "scatter": [
           {
            "fillpattern": {
             "fillmode": "overlay",
             "size": 10,
             "solidity": 0.2
            },
            "type": "scatter"
           }
          ],
          "scatter3d": [
           {
            "line": {
             "colorbar": {
              "outlinewidth": 0,
              "ticks": ""
             }
            },
            "marker": {
             "colorbar": {
              "outlinewidth": 0,
              "ticks": ""
             }
            },
            "type": "scatter3d"
           }
          ],
          "scattercarpet": [
           {
            "marker": {
             "colorbar": {
              "outlinewidth": 0,
              "ticks": ""
             }
            },
            "type": "scattercarpet"
           }
          ],
          "scattergeo": [
           {
            "marker": {
             "colorbar": {
              "outlinewidth": 0,
              "ticks": ""
             }
            },
            "type": "scattergeo"
           }
          ],
          "scattergl": [
           {
            "marker": {
             "colorbar": {
              "outlinewidth": 0,
              "ticks": ""
             }
            },
            "type": "scattergl"
           }
          ],
          "scattermapbox": [
           {
            "marker": {
             "colorbar": {
              "outlinewidth": 0,
              "ticks": ""
             }
            },
            "type": "scattermapbox"
           }
          ],
          "scatterpolar": [
           {
            "marker": {
             "colorbar": {
              "outlinewidth": 0,
              "ticks": ""
             }
            },
            "type": "scatterpolar"
           }
          ],
          "scatterpolargl": [
           {
            "marker": {
             "colorbar": {
              "outlinewidth": 0,
              "ticks": ""
             }
            },
            "type": "scatterpolargl"
           }
          ],
          "scatterternary": [
           {
            "marker": {
             "colorbar": {
              "outlinewidth": 0,
              "ticks": ""
             }
            },
            "type": "scatterternary"
           }
          ],
          "surface": [
           {
            "colorbar": {
             "outlinewidth": 0,
             "ticks": ""
            },
            "colorscale": [
             [
              0,
              "#0d0887"
             ],
             [
              0.1111111111111111,
              "#46039f"
             ],
             [
              0.2222222222222222,
              "#7201a8"
             ],
             [
              0.3333333333333333,
              "#9c179e"
             ],
             [
              0.4444444444444444,
              "#bd3786"
             ],
             [
              0.5555555555555556,
              "#d8576b"
             ],
             [
              0.6666666666666666,
              "#ed7953"
             ],
             [
              0.7777777777777778,
              "#fb9f3a"
             ],
             [
              0.8888888888888888,
              "#fdca26"
             ],
             [
              1,
              "#f0f921"
             ]
            ],
            "type": "surface"
           }
          ],
          "table": [
           {
            "cells": {
             "fill": {
              "color": "#EBF0F8"
             },
             "line": {
              "color": "white"
             }
            },
            "header": {
             "fill": {
              "color": "#C8D4E3"
             },
             "line": {
              "color": "white"
             }
            },
            "type": "table"
           }
          ]
         },
         "layout": {
          "annotationdefaults": {
           "arrowcolor": "#2a3f5f",
           "arrowhead": 0,
           "arrowwidth": 1
          },
          "autotypenumbers": "strict",
          "coloraxis": {
           "colorbar": {
            "outlinewidth": 0,
            "ticks": ""
           }
          },
          "colorscale": {
           "diverging": [
            [
             0,
             "#8e0152"
            ],
            [
             0.1,
             "#c51b7d"
            ],
            [
             0.2,
             "#de77ae"
            ],
            [
             0.3,
             "#f1b6da"
            ],
            [
             0.4,
             "#fde0ef"
            ],
            [
             0.5,
             "#f7f7f7"
            ],
            [
             0.6,
             "#e6f5d0"
            ],
            [
             0.7,
             "#b8e186"
            ],
            [
             0.8,
             "#7fbc41"
            ],
            [
             0.9,
             "#4d9221"
            ],
            [
             1,
             "#276419"
            ]
           ],
           "sequential": [
            [
             0,
             "#0d0887"
            ],
            [
             0.1111111111111111,
             "#46039f"
            ],
            [
             0.2222222222222222,
             "#7201a8"
            ],
            [
             0.3333333333333333,
             "#9c179e"
            ],
            [
             0.4444444444444444,
             "#bd3786"
            ],
            [
             0.5555555555555556,
             "#d8576b"
            ],
            [
             0.6666666666666666,
             "#ed7953"
            ],
            [
             0.7777777777777778,
             "#fb9f3a"
            ],
            [
             0.8888888888888888,
             "#fdca26"
            ],
            [
             1,
             "#f0f921"
            ]
           ],
           "sequentialminus": [
            [
             0,
             "#0d0887"
            ],
            [
             0.1111111111111111,
             "#46039f"
            ],
            [
             0.2222222222222222,
             "#7201a8"
            ],
            [
             0.3333333333333333,
             "#9c179e"
            ],
            [
             0.4444444444444444,
             "#bd3786"
            ],
            [
             0.5555555555555556,
             "#d8576b"
            ],
            [
             0.6666666666666666,
             "#ed7953"
            ],
            [
             0.7777777777777778,
             "#fb9f3a"
            ],
            [
             0.8888888888888888,
             "#fdca26"
            ],
            [
             1,
             "#f0f921"
            ]
           ]
          },
          "colorway": [
           "#636efa",
           "#EF553B",
           "#00cc96",
           "#ab63fa",
           "#FFA15A",
           "#19d3f3",
           "#FF6692",
           "#B6E880",
           "#FF97FF",
           "#FECB52"
          ],
          "font": {
           "color": "#2a3f5f"
          },
          "geo": {
           "bgcolor": "white",
           "lakecolor": "white",
           "landcolor": "#E5ECF6",
           "showlakes": true,
           "showland": true,
           "subunitcolor": "white"
          },
          "hoverlabel": {
           "align": "left"
          },
          "hovermode": "closest",
          "mapbox": {
           "style": "light"
          },
          "paper_bgcolor": "white",
          "plot_bgcolor": "#E5ECF6",
          "polar": {
           "angularaxis": {
            "gridcolor": "white",
            "linecolor": "white",
            "ticks": ""
           },
           "bgcolor": "#E5ECF6",
           "radialaxis": {
            "gridcolor": "white",
            "linecolor": "white",
            "ticks": ""
           }
          },
          "scene": {
           "xaxis": {
            "backgroundcolor": "#E5ECF6",
            "gridcolor": "white",
            "gridwidth": 2,
            "linecolor": "white",
            "showbackground": true,
            "ticks": "",
            "zerolinecolor": "white"
           },
           "yaxis": {
            "backgroundcolor": "#E5ECF6",
            "gridcolor": "white",
            "gridwidth": 2,
            "linecolor": "white",
            "showbackground": true,
            "ticks": "",
            "zerolinecolor": "white"
           },
           "zaxis": {
            "backgroundcolor": "#E5ECF6",
            "gridcolor": "white",
            "gridwidth": 2,
            "linecolor": "white",
            "showbackground": true,
            "ticks": "",
            "zerolinecolor": "white"
           }
          },
          "shapedefaults": {
           "line": {
            "color": "#2a3f5f"
           }
          },
          "ternary": {
           "aaxis": {
            "gridcolor": "white",
            "linecolor": "white",
            "ticks": ""
           },
           "baxis": {
            "gridcolor": "white",
            "linecolor": "white",
            "ticks": ""
           },
           "bgcolor": "#E5ECF6",
           "caxis": {
            "gridcolor": "white",
            "linecolor": "white",
            "ticks": ""
           }
          },
          "title": {
           "x": 0.05
          },
          "xaxis": {
           "automargin": true,
           "gridcolor": "white",
           "linecolor": "white",
           "ticks": "",
           "title": {
            "standoff": 15
           },
           "zerolinecolor": "white",
           "zerolinewidth": 2
          },
          "yaxis": {
           "automargin": true,
           "gridcolor": "white",
           "linecolor": "white",
           "ticks": "",
           "title": {
            "standoff": 15
           },
           "zerolinecolor": "white",
           "zerolinewidth": 2
          }
         }
        },
        "title": {
         "font": {
          "family": "GT America Bold",
          "size": 18
         },
         "text": "The Boston Police Department budget consistently ranks as the second-highest, <br>surpassed only by Boston Public Schools.",
         "x": 0,
         "xref": "paper"
        },
        "width": 1050,
        "xaxis": {
         "anchor": "y",
         "domain": [
          0,
          1
         ],
         "title": {}
        },
        "yaxis": {
         "anchor": "x",
         "domain": [
          0,
          1
         ],
         "gridcolor": "LightGray",
         "gridwidth": 0.5,
         "showgrid": true,
         "tickprefix": "$",
         "title": {}
        }
       }
      }
     },
     "metadata": {},
     "output_type": "display_data"
    }
   ],
   "source": [
    "\n",
    "num_depts = 5\n",
    "year = ['FY20 Expense'] * num_depts + ['FY21 Expense'] * num_depts + ['FY22 Appropriated Budget'] * num_depts + ['FY23 Adopted Budget'] * num_depts\n",
    "budget = []\n",
    "dept = []\n",
    "\n",
    "# REMOVE BPS\n",
    "budget_wo_bps = budget_df[budget_df.Dept != 'Boston Public Schools']\n",
    "\n",
    "# Sum all budgets\n",
    "summed_budget_df = budget_wo_bps.groupby(by=['Dept'], sort=False).sum()\n",
    "\n",
    "getTopOverallDepts()\n",
    "\n",
    "fig2_2_dict = {\n",
    "    'year': year,\n",
    "    'Budget': budget,\n",
    "    'Department': dept\n",
    "}\n",
    "\n",
    "print(dept)\n",
    "\n",
    "df2_2 = pd.DataFrame(fig2_2_dict)\n",
    "color_discrete_sequence=['#EF404E', '#d9dcf5', '#a39fd7', '#7774a6', \"#494983\", \"#130F54\"]\n",
    "# color_discrete_sequence=['#130f54','#EF404E','#ecb6fa','#CCCCCC', \"#fae1ab\", \"#b4fae9\"]\n",
    "fig2_2 = px.bar(df2_2, x='year', y='Budget', color='Department', barmode=\"group\", color_discrete_sequence=color_discrete_sequence)\n",
    "fig2_2.update_yaxes(showgrid=True, gridwidth=0.5, gridcolor='LightGray')\n",
    "\n",
    "# Aesthetic customizations\n",
    "fig2_2.update_layout(\n",
    "    plot_bgcolor='rgba(0,0,0,0)',\n",
    "    font_family=\"GT America\",\n",
    "    font_color=\"black\",\n",
    "    xaxis_title=None,\n",
    "    yaxis_title=None,\n",
    "    yaxis_tickprefix = '$',\n",
    "    margin=dict(\n",
    "        l=100,\n",
    "        r=100,\n",
    "        b=80,\n",
    "        t=120,\n",
    "        pad=4\n",
    "    ),\n",
    "    width=1050\n",
    ")\n",
    "\n",
    "# Customize title to add captions!\n",
    "fig2_2.update_layout(\n",
    "    title=go.layout.Title(\n",
    "        text=\"The Boston Police Department budget consistently ranks as the second-highest, <br>surpassed only by Boston Public Schools.\",\n",
    "        xref=\"paper\",\n",
    "        x=0,\n",
    "        font_family=\"GT America Bold\",\n",
    "        font_size=18\n",
    "    )\n",
    ")\n",
    "\n",
    "fig2_2.show()\n"
   ]
  },
  {
   "cell_type": "markdown",
   "metadata": {},
   "source": [
    "QUESTION 3: Number of police officers per 10,000 residents\n",
    "\n",
    "Presentation: \n",
    "- Look at FBI uniform crime reporting average of police officers per 10,000 residents & compare it to boston\n",
    "- FBI data sets here: https://crime-data-explorer.fr.cloud.gov/#\n",
    "- Bar chart where each x-axis represent year and each year there will be 2 bars, 1 for average in nation, 1 for value in boston  \n",
    "OR\n",
    "- Scatter plot, each point is a city\n",
    "- X axis is population\n",
    "- Y axis is officers / 10,000 residents\n",
    "\n",
    "NOTE: Some cities with low populations have 0 officers! (How do we handle this if at all?) "
   ]
  },
  {
   "cell_type": "code",
   "execution_count": 5,
   "metadata": {},
   "outputs": [
    {
     "name": "stdout",
     "output_type": "stream",
     "text": [
      "[32.152939160446024, 31.53380423814329, 32.288626642436775, 30.546746454806794, 30.66067092930591, 30.57406682412598, 30.989360886999506]\n",
      "[27.560430864150657, 30.48646375252761, 28.09017640608657, 28.993403126507168, 29.803901416835096, 32.702720379152915, 34.18413647794076]\n",
      "[19.045823584714604, 20.161290322580648, 20.065882982459076, 24.975024975024972, 24.37403057832927, 27.286257648420705, 27.68167415700203]\n"
     ]
    },
    {
     "data": {
      "application/vnd.plotly.v1+json": {
       "config": {
        "plotlyServerURL": "https://plot.ly"
       },
       "data": [
        {
         "alignmentgroup": "True",
         "hovertemplate": "Key=Median<br>Year=%{x}<br>Officers per 10k residents=%{y}<extra></extra>",
         "legendgroup": "Median",
         "marker": {
          "color": "#231F20",
          "pattern": {
           "shape": ""
          }
         },
         "name": "Median",
         "offsetgroup": "Median",
         "orientation": "v",
         "showlegend": true,
         "textposition": "auto",
         "type": "bar",
         "x": [
          "2015",
          "2016",
          "2017",
          "2018",
          "2019",
          "2020",
          "2021"
         ],
         "xaxis": "x",
         "y": [
          19.045823584714604,
          20.161290322580648,
          20.065882982459076,
          24.975024975024972,
          24.37403057832927,
          27.286257648420705,
          27.68167415700203
         ],
         "yaxis": "y"
        },
        {
         "alignmentgroup": "True",
         "hovertemplate": "Key=Boston<br>Year=%{x}<br>Officers per 10k residents=%{y}<extra></extra>",
         "legendgroup": "Boston",
         "marker": {
          "color": "#EF404E",
          "pattern": {
           "shape": ""
          }
         },
         "name": "Boston",
         "offsetgroup": "Boston",
         "orientation": "v",
         "showlegend": true,
         "textposition": "auto",
         "type": "bar",
         "x": [
          "2015",
          "2016",
          "2017",
          "2018",
          "2019",
          "2020",
          "2021"
         ],
         "xaxis": "x",
         "y": [
          32.152939160446024,
          31.53380423814329,
          32.288626642436775,
          30.546746454806794,
          30.66067092930591,
          30.57406682412598,
          30.989360886999506
         ],
         "yaxis": "y"
        }
       ],
       "layout": {
        "barmode": "group",
        "font": {
         "color": "black",
         "family": "GT America"
        },
        "legend": {
         "title": {
          "text": "Key"
         },
         "tracegroupgap": 0
        },
        "margin": {
         "b": 100,
         "l": 75,
         "pad": 4,
         "r": 75,
         "t": 100
        },
        "plot_bgcolor": "rgba(0,0,0,0)",
        "template": {
         "data": {
          "bar": [
           {
            "error_x": {
             "color": "#2a3f5f"
            },
            "error_y": {
             "color": "#2a3f5f"
            },
            "marker": {
             "line": {
              "color": "#E5ECF6",
              "width": 0.5
             },
             "pattern": {
              "fillmode": "overlay",
              "size": 10,
              "solidity": 0.2
             }
            },
            "type": "bar"
           }
          ],
          "barpolar": [
           {
            "marker": {
             "line": {
              "color": "#E5ECF6",
              "width": 0.5
             },
             "pattern": {
              "fillmode": "overlay",
              "size": 10,
              "solidity": 0.2
             }
            },
            "type": "barpolar"
           }
          ],
          "carpet": [
           {
            "aaxis": {
             "endlinecolor": "#2a3f5f",
             "gridcolor": "white",
             "linecolor": "white",
             "minorgridcolor": "white",
             "startlinecolor": "#2a3f5f"
            },
            "baxis": {
             "endlinecolor": "#2a3f5f",
             "gridcolor": "white",
             "linecolor": "white",
             "minorgridcolor": "white",
             "startlinecolor": "#2a3f5f"
            },
            "type": "carpet"
           }
          ],
          "choropleth": [
           {
            "colorbar": {
             "outlinewidth": 0,
             "ticks": ""
            },
            "type": "choropleth"
           }
          ],
          "contour": [
           {
            "colorbar": {
             "outlinewidth": 0,
             "ticks": ""
            },
            "colorscale": [
             [
              0,
              "#0d0887"
             ],
             [
              0.1111111111111111,
              "#46039f"
             ],
             [
              0.2222222222222222,
              "#7201a8"
             ],
             [
              0.3333333333333333,
              "#9c179e"
             ],
             [
              0.4444444444444444,
              "#bd3786"
             ],
             [
              0.5555555555555556,
              "#d8576b"
             ],
             [
              0.6666666666666666,
              "#ed7953"
             ],
             [
              0.7777777777777778,
              "#fb9f3a"
             ],
             [
              0.8888888888888888,
              "#fdca26"
             ],
             [
              1,
              "#f0f921"
             ]
            ],
            "type": "contour"
           }
          ],
          "contourcarpet": [
           {
            "colorbar": {
             "outlinewidth": 0,
             "ticks": ""
            },
            "type": "contourcarpet"
           }
          ],
          "heatmap": [
           {
            "colorbar": {
             "outlinewidth": 0,
             "ticks": ""
            },
            "colorscale": [
             [
              0,
              "#0d0887"
             ],
             [
              0.1111111111111111,
              "#46039f"
             ],
             [
              0.2222222222222222,
              "#7201a8"
             ],
             [
              0.3333333333333333,
              "#9c179e"
             ],
             [
              0.4444444444444444,
              "#bd3786"
             ],
             [
              0.5555555555555556,
              "#d8576b"
             ],
             [
              0.6666666666666666,
              "#ed7953"
             ],
             [
              0.7777777777777778,
              "#fb9f3a"
             ],
             [
              0.8888888888888888,
              "#fdca26"
             ],
             [
              1,
              "#f0f921"
             ]
            ],
            "type": "heatmap"
           }
          ],
          "heatmapgl": [
           {
            "colorbar": {
             "outlinewidth": 0,
             "ticks": ""
            },
            "colorscale": [
             [
              0,
              "#0d0887"
             ],
             [
              0.1111111111111111,
              "#46039f"
             ],
             [
              0.2222222222222222,
              "#7201a8"
             ],
             [
              0.3333333333333333,
              "#9c179e"
             ],
             [
              0.4444444444444444,
              "#bd3786"
             ],
             [
              0.5555555555555556,
              "#d8576b"
             ],
             [
              0.6666666666666666,
              "#ed7953"
             ],
             [
              0.7777777777777778,
              "#fb9f3a"
             ],
             [
              0.8888888888888888,
              "#fdca26"
             ],
             [
              1,
              "#f0f921"
             ]
            ],
            "type": "heatmapgl"
           }
          ],
          "histogram": [
           {
            "marker": {
             "pattern": {
              "fillmode": "overlay",
              "size": 10,
              "solidity": 0.2
             }
            },
            "type": "histogram"
           }
          ],
          "histogram2d": [
           {
            "colorbar": {
             "outlinewidth": 0,
             "ticks": ""
            },
            "colorscale": [
             [
              0,
              "#0d0887"
             ],
             [
              0.1111111111111111,
              "#46039f"
             ],
             [
              0.2222222222222222,
              "#7201a8"
             ],
             [
              0.3333333333333333,
              "#9c179e"
             ],
             [
              0.4444444444444444,
              "#bd3786"
             ],
             [
              0.5555555555555556,
              "#d8576b"
             ],
             [
              0.6666666666666666,
              "#ed7953"
             ],
             [
              0.7777777777777778,
              "#fb9f3a"
             ],
             [
              0.8888888888888888,
              "#fdca26"
             ],
             [
              1,
              "#f0f921"
             ]
            ],
            "type": "histogram2d"
           }
          ],
          "histogram2dcontour": [
           {
            "colorbar": {
             "outlinewidth": 0,
             "ticks": ""
            },
            "colorscale": [
             [
              0,
              "#0d0887"
             ],
             [
              0.1111111111111111,
              "#46039f"
             ],
             [
              0.2222222222222222,
              "#7201a8"
             ],
             [
              0.3333333333333333,
              "#9c179e"
             ],
             [
              0.4444444444444444,
              "#bd3786"
             ],
             [
              0.5555555555555556,
              "#d8576b"
             ],
             [
              0.6666666666666666,
              "#ed7953"
             ],
             [
              0.7777777777777778,
              "#fb9f3a"
             ],
             [
              0.8888888888888888,
              "#fdca26"
             ],
             [
              1,
              "#f0f921"
             ]
            ],
            "type": "histogram2dcontour"
           }
          ],
          "mesh3d": [
           {
            "colorbar": {
             "outlinewidth": 0,
             "ticks": ""
            },
            "type": "mesh3d"
           }
          ],
          "parcoords": [
           {
            "line": {
             "colorbar": {
              "outlinewidth": 0,
              "ticks": ""
             }
            },
            "type": "parcoords"
           }
          ],
          "pie": [
           {
            "automargin": true,
            "type": "pie"
           }
          ],
          "scatter": [
           {
            "fillpattern": {
             "fillmode": "overlay",
             "size": 10,
             "solidity": 0.2
            },
            "type": "scatter"
           }
          ],
          "scatter3d": [
           {
            "line": {
             "colorbar": {
              "outlinewidth": 0,
              "ticks": ""
             }
            },
            "marker": {
             "colorbar": {
              "outlinewidth": 0,
              "ticks": ""
             }
            },
            "type": "scatter3d"
           }
          ],
          "scattercarpet": [
           {
            "marker": {
             "colorbar": {
              "outlinewidth": 0,
              "ticks": ""
             }
            },
            "type": "scattercarpet"
           }
          ],
          "scattergeo": [
           {
            "marker": {
             "colorbar": {
              "outlinewidth": 0,
              "ticks": ""
             }
            },
            "type": "scattergeo"
           }
          ],
          "scattergl": [
           {
            "marker": {
             "colorbar": {
              "outlinewidth": 0,
              "ticks": ""
             }
            },
            "type": "scattergl"
           }
          ],
          "scattermapbox": [
           {
            "marker": {
             "colorbar": {
              "outlinewidth": 0,
              "ticks": ""
             }
            },
            "type": "scattermapbox"
           }
          ],
          "scatterpolar": [
           {
            "marker": {
             "colorbar": {
              "outlinewidth": 0,
              "ticks": ""
             }
            },
            "type": "scatterpolar"
           }
          ],
          "scatterpolargl": [
           {
            "marker": {
             "colorbar": {
              "outlinewidth": 0,
              "ticks": ""
             }
            },
            "type": "scatterpolargl"
           }
          ],
          "scatterternary": [
           {
            "marker": {
             "colorbar": {
              "outlinewidth": 0,
              "ticks": ""
             }
            },
            "type": "scatterternary"
           }
          ],
          "surface": [
           {
            "colorbar": {
             "outlinewidth": 0,
             "ticks": ""
            },
            "colorscale": [
             [
              0,
              "#0d0887"
             ],
             [
              0.1111111111111111,
              "#46039f"
             ],
             [
              0.2222222222222222,
              "#7201a8"
             ],
             [
              0.3333333333333333,
              "#9c179e"
             ],
             [
              0.4444444444444444,
              "#bd3786"
             ],
             [
              0.5555555555555556,
              "#d8576b"
             ],
             [
              0.6666666666666666,
              "#ed7953"
             ],
             [
              0.7777777777777778,
              "#fb9f3a"
             ],
             [
              0.8888888888888888,
              "#fdca26"
             ],
             [
              1,
              "#f0f921"
             ]
            ],
            "type": "surface"
           }
          ],
          "table": [
           {
            "cells": {
             "fill": {
              "color": "#EBF0F8"
             },
             "line": {
              "color": "white"
             }
            },
            "header": {
             "fill": {
              "color": "#C8D4E3"
             },
             "line": {
              "color": "white"
             }
            },
            "type": "table"
           }
          ]
         },
         "layout": {
          "annotationdefaults": {
           "arrowcolor": "#2a3f5f",
           "arrowhead": 0,
           "arrowwidth": 1
          },
          "autotypenumbers": "strict",
          "coloraxis": {
           "colorbar": {
            "outlinewidth": 0,
            "ticks": ""
           }
          },
          "colorscale": {
           "diverging": [
            [
             0,
             "#8e0152"
            ],
            [
             0.1,
             "#c51b7d"
            ],
            [
             0.2,
             "#de77ae"
            ],
            [
             0.3,
             "#f1b6da"
            ],
            [
             0.4,
             "#fde0ef"
            ],
            [
             0.5,
             "#f7f7f7"
            ],
            [
             0.6,
             "#e6f5d0"
            ],
            [
             0.7,
             "#b8e186"
            ],
            [
             0.8,
             "#7fbc41"
            ],
            [
             0.9,
             "#4d9221"
            ],
            [
             1,
             "#276419"
            ]
           ],
           "sequential": [
            [
             0,
             "#0d0887"
            ],
            [
             0.1111111111111111,
             "#46039f"
            ],
            [
             0.2222222222222222,
             "#7201a8"
            ],
            [
             0.3333333333333333,
             "#9c179e"
            ],
            [
             0.4444444444444444,
             "#bd3786"
            ],
            [
             0.5555555555555556,
             "#d8576b"
            ],
            [
             0.6666666666666666,
             "#ed7953"
            ],
            [
             0.7777777777777778,
             "#fb9f3a"
            ],
            [
             0.8888888888888888,
             "#fdca26"
            ],
            [
             1,
             "#f0f921"
            ]
           ],
           "sequentialminus": [
            [
             0,
             "#0d0887"
            ],
            [
             0.1111111111111111,
             "#46039f"
            ],
            [
             0.2222222222222222,
             "#7201a8"
            ],
            [
             0.3333333333333333,
             "#9c179e"
            ],
            [
             0.4444444444444444,
             "#bd3786"
            ],
            [
             0.5555555555555556,
             "#d8576b"
            ],
            [
             0.6666666666666666,
             "#ed7953"
            ],
            [
             0.7777777777777778,
             "#fb9f3a"
            ],
            [
             0.8888888888888888,
             "#fdca26"
            ],
            [
             1,
             "#f0f921"
            ]
           ]
          },
          "colorway": [
           "#636efa",
           "#EF553B",
           "#00cc96",
           "#ab63fa",
           "#FFA15A",
           "#19d3f3",
           "#FF6692",
           "#B6E880",
           "#FF97FF",
           "#FECB52"
          ],
          "font": {
           "color": "#2a3f5f"
          },
          "geo": {
           "bgcolor": "white",
           "lakecolor": "white",
           "landcolor": "#E5ECF6",
           "showlakes": true,
           "showland": true,
           "subunitcolor": "white"
          },
          "hoverlabel": {
           "align": "left"
          },
          "hovermode": "closest",
          "mapbox": {
           "style": "light"
          },
          "paper_bgcolor": "white",
          "plot_bgcolor": "#E5ECF6",
          "polar": {
           "angularaxis": {
            "gridcolor": "white",
            "linecolor": "white",
            "ticks": ""
           },
           "bgcolor": "#E5ECF6",
           "radialaxis": {
            "gridcolor": "white",
            "linecolor": "white",
            "ticks": ""
           }
          },
          "scene": {
           "xaxis": {
            "backgroundcolor": "#E5ECF6",
            "gridcolor": "white",
            "gridwidth": 2,
            "linecolor": "white",
            "showbackground": true,
            "ticks": "",
            "zerolinecolor": "white"
           },
           "yaxis": {
            "backgroundcolor": "#E5ECF6",
            "gridcolor": "white",
            "gridwidth": 2,
            "linecolor": "white",
            "showbackground": true,
            "ticks": "",
            "zerolinecolor": "white"
           },
           "zaxis": {
            "backgroundcolor": "#E5ECF6",
            "gridcolor": "white",
            "gridwidth": 2,
            "linecolor": "white",
            "showbackground": true,
            "ticks": "",
            "zerolinecolor": "white"
           }
          },
          "shapedefaults": {
           "line": {
            "color": "#2a3f5f"
           }
          },
          "ternary": {
           "aaxis": {
            "gridcolor": "white",
            "linecolor": "white",
            "ticks": ""
           },
           "baxis": {
            "gridcolor": "white",
            "linecolor": "white",
            "ticks": ""
           },
           "bgcolor": "#E5ECF6",
           "caxis": {
            "gridcolor": "white",
            "linecolor": "white",
            "ticks": ""
           }
          },
          "title": {
           "x": 0.05
          },
          "xaxis": {
           "automargin": true,
           "gridcolor": "white",
           "linecolor": "white",
           "ticks": "",
           "title": {
            "standoff": 15
           },
           "zerolinecolor": "white",
           "zerolinewidth": 2
          },
          "yaxis": {
           "automargin": true,
           "gridcolor": "white",
           "linecolor": "white",
           "ticks": "",
           "title": {
            "standoff": 15
           },
           "zerolinecolor": "white",
           "zerolinewidth": 2
          }
         }
        },
        "title": {
         "font": {
          "family": "GT America Bold",
          "size": 20
         },
         "text": "Boston consistently retains more officers per resident than the median of other cities",
         "x": 0,
         "xref": "paper"
        },
        "width": 1050,
        "xaxis": {
         "anchor": "y",
         "domain": [
          0,
          1
         ],
         "title": {}
        },
        "yaxis": {
         "anchor": "x",
         "domain": [
          0,
          1
         ],
         "gridcolor": "LightGray",
         "gridwidth": 0.5,
         "showgrid": true,
         "title": {
          "text": "Officers per 10k residents"
         }
        }
       }
      }
     },
     "metadata": {},
     "output_type": "display_data"
    },
    {
     "data": {
      "application/vnd.plotly.v1+json": {
       "config": {
        "plotlyServerURL": "https://plot.ly"
       },
       "data": [
        {
         "autobinx": false,
         "histnorm": "probability density",
         "legendgroup": "Density Curve",
         "marker": {
          "color": "#0055AA"
         },
         "name": "Density Curve",
         "opacity": 0.7,
         "type": "histogram",
         "x": [
          35.714285714285715,
          11.765474867638408,
          33.89830508474576,
          31.23373243102551,
          28.416429863084474,
          21.767522855899,
          49.93757802746567,
          41.1522633744856,
          39.27729772191673,
          17.906560312550873,
          26.761819803746654,
          52.01560468140442,
          28.05562332276165,
          61.72839506172839,
          344.8275862068965,
          27.256208358570564,
          33.277870216306155,
          17.561465127947816,
          16.760445348976415,
          18.501387604070306,
          27.700831024930746,
          15.24390243902439,
          46.18689581095596,
          45.95588235294118,
          28.836251287332647,
          20.075282308657467,
          15.059295977913031,
          14.428552463334706,
          30.12048192771084,
          25.60819462227913,
          23.79064234734338,
          28.28643739764776,
          36.36363636363637,
          19.38500133034323,
          20.955802307859784,
          59.171597633136095,
          28.830752802989856,
          29.004189494038027,
          27.23558783477077,
          40.241448692152915,
          9.372071227741332,
          28.832292167227294,
          15.942117849040406,
          27.662517289073307,
          46.728971962616825,
          30.816640986132512,
          36.3410318940372,
          434.7826086956522,
          32.297133629390395,
          21.635655560363478,
          4.809079542175628,
          56.216931216931215,
          83.05647840531562,
          11.641443538998836,
          19.70055161544523,
          13.774104683195592,
          59.9880023995201,
          37.735849056603776,
          29.42174946248727,
          39.682539682539684,
          27.38571729513377,
          25.48459340489613,
          20.889546522760902,
          17.949929145016533,
          24.087316522393678,
          35.83312004095214,
          25.34854245880862,
          23.16500099278576,
          17.774617845716318,
          31.471282454760033,
          28.670208280630742,
          32.34501347708895,
          24.855012427506214,
          32.51151449471688,
          33.040902358436824,
          27.2975432211101,
          21.668472372697725,
          33.617791569692265,
          21.1877821993405,
          32.85870755750274,
          23.551577955723033,
          30.69838833461243,
          61.763054463784385,
          2.276694239963573,
          17.875383043922373,
          17.825311942959,
          38.745249981372474,
          61.12469437652812,
          22.851919561243147,
          21.536252692031585,
          21.144842168856666,
          26.709401709401707,
          17.271157167530223,
          14.453651956060899,
          17.57469244288225,
          26.408450704225352,
          14.273166447079491,
          24.84615606852917,
          12.249897917517353,
          53.191489361702125,
          19.31123270035404,
          21.208907741251327,
          20.629190304280556,
          12.15066828675577,
          38.488453463960816,
          39.75145691019258,
          25.157232704402517,
          61.12469437652812,
          30.22974607013301,
          46.85408299866131,
          26.80965147453083,
          22.42003265749049,
          21.66349373071621,
          66.75567423230974,
          16.129032258064516,
          29.55665024630542,
          47.96839729119639,
          34.0522133938706,
          20.607226267344416,
          26.385224274406333,
          49.75124378109453,
          19.9203187250996,
          45.21963824289406,
          20.768431983385256,
          56.41748942172073,
          41.75365344467641,
          24.115755627009648,
          30.8641975308642,
          11.990407673860911,
          30.54623862002875,
          16.299918500407497,
          51.975051975051976,
          33.55316441050561,
          35.8719646799117,
          23.653819396131905,
          17.9834062206237,
          68.28528072837632,
          20.868113522537563,
          17.271157167530223,
          21.2517267027946,
          53.062126906920184,
          49.23413566739606,
          22.62443438914027,
          26.13430127041742,
          20.89427496865859,
          16.757865937072506,
          30.22974607013301,
          25.54278416347382,
          24.066390041493776,
          43.6442989634479,
          30.581039755351682,
          26.103464641670623,
          21.978021978021978,
          21.942242355605888,
          36.614424921056205,
          39.8936170212766,
          30.25959547698678,
          102.56410256410257,
          30.248033877797944,
          39.33136676499508,
          17.802644964394712,
          47.524752475247524,
          19.31745009658725,
          30.25982716983328,
          29.991002699190243,
          23.798191337458352,
          31.21748178980229,
          7.107320540156361,
          43.516100957354226,
          26.567481402763022,
          19.233509046872772,
          19.708316909735906,
          38.33515881708653,
          48.661800486618006,
          26.980623007113074,
          34.62385898646522,
          42.43119266055046,
          42.00504060487259,
          38.812014849814375,
          38.23178016726404,
          46.728971962616825,
          22.075055187637968,
          18.083182640144667,
          16.320424331032605,
          86.45533141210375,
          22.284122562674096,
          28.846153846153847,
          57.971014492753625,
          16.521123436393673,
          56.022408963585434,
          75.68590350047303,
          36.075036075036074,
          8.183306055646481,
          47.39336492890995,
          20.227939986591764,
          23.161551823972207,
          15.873015873015873,
          55.865921787709496,
          32.65839320705422,
          27.649769585253456,
          34.832651824928064,
          18.142079625158924,
          41.20879120879121,
          26.428807400066074,
          18.897132082307508,
          34.14911781445646,
          42.28329809725159,
          33.65440408494836,
          89.02077151335311,
          46.55803126039242,
          112.5,
          38.272279934390376,
          35.587188612099645,
          20.2020202020202,
          16.25638643752903,
          24.524831391784183,
          47.361299052774015,
          26.56042496679947,
          27.3224043715847,
          15.372790161414297,
          54.274084124830395,
          20.31144211238998,
          35.65970453387672,
          15.743073047858942,
          43.14994606256742,
          22.123893805309734,
          71.68458781362007,
          25.575447570332482,
          58.445353594389246,
          35.546708374804496,
          39.936102236421725,
          22.6533040847635,
          63.775510204081634,
          18.98047722342733,
          23.680178297813065,
          27.17391304347826,
          17.761989342806395,
          25.247491861005912,
          14.164305949008499,
          176.21145374449338,
          56.657223796033996,
          26.036242449489688,
          37.03703703703704,
          20.316226481759564,
          42.50386398763524,
          25.6910903298736,
          14.721502711365371,
          7.457121551081283,
          25.929127052722556,
          159.5744680851064,
          16.58374792703151,
          20.062416406598306,
          28.421907425787243,
          70.92198581560284,
          30.98030537729586,
          24.40016266775112,
          9.514747859181732,
          26.917900403768506,
          16.10305958132045,
          39.37007874015748,
          56.36070853462158,
          32.352941176470594,
          15.011794981771391,
          8.688097306689835,
          32.362459546925564,
          39.745627980922094,
          21.840983548807554,
          26.513297438407573,
          14.5032632342277,
          16.835016835016837,
          37.94037940379404,
          15.19756838905775,
          90.06211180124224,
          26.572187776793623,
          34.45899379738111,
          26.919807310852935,
          30.48780487804878,
          27.100271002710027,
          36.85503685503686,
          38.58024691358025,
          23.21654706627269,
          27.085590465872155,
          43.85964912280702,
          22.77432712215321,
          37.878787878787875,
          22.35850261913888,
          32.102728731942214,
          17.01258931609391,
          25.31645569620253,
          30.581039755351682,
          48.25538233110616,
          60.06006006006006,
          40.089086859688194,
          35.44702638834187,
          28.275212064090482,
          26.21194227611833,
          35.5998576005696,
          22.665457842248415,
          21.386430678466077,
          53.85029617662897,
          30.369134693528377,
          25.057195772960014,
          23.219814241486066,
          21.768425417228155,
          37.13838936669273,
          49.18032786885246,
          47.88507581803671,
          11.1358574610245,
          34.617048896581565,
          37.105751391465674,
          32.59098316132537,
          11.061946902654867,
          31.230480949406623,
          20.954024405275486,
          35.63129357087529,
          65.93406593406593,
          14.204545454545455,
          16.70564650851988,
          29.07344204272532,
          48.148148148148145,
          29.154518950437318,
          31.55996393146979,
          34.26333822809594,
          25.586059055390358,
          27.2108843537415,
          58.351568198395334,
          47.90419161676647,
          30.69838833461243,
          18.323408153916628,
          16.777342375108525,
          19.16932907348243,
          60.851926977687626,
          29.55665024630542,
          22.573363431151243,
          31.3102119460501,
          25.06265664160401,
          29.940119760479043,
          14.234875444839858,
          18.65671641791045,
          28.089887640449437,
          14.005602240896359,
          54.495912806539515,
          18.728073646171296,
          13.470742205040029,
          22.566995768688294,
          17.231045849565476
         ],
         "xaxis": "x",
         "xbins": {
          "end": 434.7826086956522,
          "size": 1,
          "start": 2.276694239963573
         },
         "yaxis": "y"
        },
        {
         "legendgroup": "Density Curve",
         "marker": {
          "color": "#0055AA"
         },
         "mode": "lines",
         "name": "Density Curve",
         "showlegend": false,
         "type": "scatter",
         "x": [
          2.276694239963573,
          3.1417060688749503,
          4.006717897786327,
          4.871729726697705,
          5.736741555609083,
          6.601753384520459,
          7.466765213431836,
          8.331777042343214,
          9.196788871254592,
          10.061800700165968,
          10.926812529077345,
          11.791824357988723,
          12.656836186900101,
          13.521848015811479,
          14.386859844722856,
          15.251871673634232,
          16.11688350254561,
          16.981895331456986,
          17.846907160368364,
          18.711918989279738,
          19.576930818191116,
          20.441942647102493,
          21.30695447601387,
          22.17196630492525,
          23.036978133836627,
          23.901989962748,
          24.767001791659382,
          25.63201362057076,
          26.497025449482138,
          27.362037278393515,
          28.22704910730489,
          29.092060936216267,
          29.957072765127645,
          30.822084594039023,
          31.6870964229504,
          32.552108251861775,
          33.41712008077315,
          34.28213190968454,
          35.14714373859591,
          36.01215556750729,
          36.87716739641866,
          37.74217922533005,
          38.60719105424142,
          39.4722028831528,
          40.337214712064174,
          41.20222654097555,
          42.06723836988693,
          42.93225019879831,
          43.797262027709685,
          44.66227385662106,
          45.52728568553243,
          46.39229751444382,
          47.257309343355196,
          48.122321172266574,
          48.98733300117795,
          49.85234483008932,
          50.71735665900071,
          51.58236848791208,
          52.44738031682346,
          53.31239214573483,
          54.17740397464621,
          55.04241580355759,
          55.907427632468966,
          56.772439461380344,
          57.63745129029172,
          58.50246311920309,
          59.36747494811448,
          60.23248677702585,
          61.09749860593723,
          61.96251043484861,
          62.82752226375998,
          63.692534092671366,
          64.55754592158273,
          65.42255775049412,
          66.2875695794055,
          67.15258140831686,
          68.01759323722824,
          68.88260506613963,
          69.74761689505101,
          70.61262872396237,
          71.47764055287375,
          72.34265238178513,
          73.20766421069652,
          74.07267603960788,
          74.93768786851926,
          75.80269969743064,
          76.66771152634202,
          77.53272335525341,
          78.39773518416477,
          79.26274701307615,
          80.12775884198753,
          80.9927706708989,
          81.85778249981028,
          82.72279432872166,
          83.58780615763304,
          84.45281798654442,
          85.3178298154558,
          86.18284164436717,
          87.04785347327855,
          87.91286530218993,
          88.77787713110129,
          89.64288896001268,
          90.50790078892406,
          91.37291261783544,
          92.23792444674682,
          93.10293627565818,
          93.96794810456957,
          94.83295993348095,
          95.69797176239233,
          96.56298359130369,
          97.42799542021507,
          98.29300724912646,
          99.15801907803784,
          100.0230309069492,
          100.88804273586058,
          101.75305456477196,
          102.61806639368335,
          103.48307822259471,
          104.34809005150609,
          105.21310188041747,
          106.07811370932885,
          106.94312553824024,
          107.8081373671516,
          108.67314919606298,
          109.53816102497436,
          110.40317285388574,
          111.26818468279711,
          112.13319651170849,
          112.99820834061987,
          113.86322016953125,
          114.72823199844261,
          115.593243827354,
          116.45825565626538,
          117.32326748517676,
          118.18827931408812,
          119.0532911429995,
          119.91830297191089,
          120.78331480082227,
          121.64832662973365,
          122.51333845864501,
          123.37835028755639,
          124.24336211646778,
          125.10837394537916,
          125.97338577429052,
          126.8383976032019,
          127.70340943211328,
          128.56842126102467,
          129.43343308993602,
          130.29844491884742,
          131.16345674775877,
          132.02846857667015,
          132.89348040558156,
          133.7584922344929,
          134.6235040634043,
          135.4885158923157,
          136.35352772122707,
          137.21853955013844,
          138.08355137904982,
          138.94856320796117,
          139.81357503687255,
          140.67858686578393,
          141.5435986946953,
          142.40861052360668,
          143.2736223525181,
          144.13863418142947,
          145.00364601034084,
          145.8686578392522,
          146.73366966816357,
          147.59868149707495,
          148.46369332598633,
          149.3287051548977,
          150.19371698380908,
          151.05872881272046,
          151.92374064163187,
          152.78875247054324,
          153.6537642994546,
          154.51877612836597,
          155.38378795727735,
          156.24879978618873,
          157.1138116151001,
          157.97882344401148,
          158.84383527292286,
          159.70884710183424,
          160.57385893074562,
          161.438870759657,
          162.30388258856837,
          163.16889441747975,
          164.03390624639113,
          164.8989180753025,
          165.76392990421388,
          166.62894173312526,
          167.49395356203664,
          168.35896539094801,
          169.2239772198594,
          170.08898904877077,
          170.95400087768215,
          171.81901270659353,
          172.6840245355049,
          173.54903636441628,
          174.41404819332766,
          175.279060022239,
          176.1440718511504,
          177.0090836800618,
          177.87409550897317,
          178.73910733788455,
          179.60411916679593,
          180.4691309957073,
          181.33414282461868,
          182.19915465353006,
          183.0641664824414,
          183.92917831135279,
          184.79419014026416,
          185.65920196917557,
          186.52421379808695,
          187.38922562699832,
          188.2542374559097,
          189.11924928482108,
          189.98426111373243,
          190.8492729426438,
          191.71428477155519,
          192.57929660046656,
          193.44430842937794,
          194.30932025828935,
          195.17433208720072,
          196.0393439161121,
          196.90435574502348,
          197.76936757393483,
          198.6343794028462,
          199.49939123175758,
          200.36440306066896,
          201.22941488958034,
          202.09442671849172,
          202.95943854740312,
          203.8244503763145,
          204.68946220522585,
          205.55447403413723,
          206.4194858630486,
          207.28449769195998,
          208.14950952087136,
          209.01452134978274,
          209.87953317869412,
          210.7445450076055,
          211.6095568365169,
          212.47456866542825,
          213.33958049433963,
          214.204592323251,
          215.06960415216238,
          215.93461598107376,
          216.79962780998514,
          217.66463963889652,
          218.5296514678079,
          219.39466329671924,
          220.25967512563065,
          221.12468695454203,
          221.9896987834534,
          222.85471061236478,
          223.71972244127616,
          224.58473427018754,
          225.44974609909892,
          226.3147579280103,
          227.17976975692164,
          228.04478158583305,
          228.90979341474443,
          229.7748052436558,
          230.63981707256718,
          231.50482890147856,
          232.36984073038994,
          233.23485255930132,
          234.09986438821267,
          234.96487621712404,
          235.82988804603542,
          236.69489987494683,
          237.5599117038582,
          238.42492353276958,
          239.28993536168096,
          240.15494719059234,
          241.01995901950372,
          241.88497084841507,
          242.74998267732644,
          243.61499450623782,
          244.4800063351492,
          245.3450181640606,
          246.21002999297198,
          247.07504182188336,
          247.94005365079474,
          248.8050654797061,
          249.67007730861746,
          250.53508913752884,
          251.40010096644022,
          252.2651127953516,
          253.13012462426298,
          253.99513645317438,
          254.86014828208576,
          255.72516011099714,
          256.5901719399085,
          257.45518376881984,
          258.32019559773124,
          259.1852074266426,
          260.05021925555394,
          260.91523108446535,
          261.7802429133767,
          262.6452547422881,
          263.5102665711995,
          264.37527840011086,
          265.2402902290222,
          266.1053020579336,
          266.970313886845,
          267.83532571575637,
          268.7003375446678,
          269.5653493735791,
          270.43036120249053,
          271.2953730314019,
          272.1603848603133,
          273.02539668922464,
          273.89040851813604,
          274.7554203470474,
          275.62043217595874,
          276.48544400487015,
          277.3504558337815,
          278.2154676626929,
          279.08047949160425,
          279.94549132051566,
          280.810503149427,
          281.6755149783384,
          282.54052680724976,
          283.40553863616117,
          284.2705504650726,
          285.1355622939839,
          286.00057412289533,
          286.8655859518067,
          287.7305977807181,
          288.59560960962943,
          289.4606214385408,
          290.3256332674522,
          291.19064509636354,
          292.05565692527495,
          292.9206687541863,
          293.7856805830977,
          294.65069241200905,
          295.51570424092046,
          296.3807160698318,
          297.24572789874316,
          298.11073972765456,
          298.9757515565659,
          299.8407633854773,
          300.7057752143887,
          301.57078704330013,
          302.4357988722115,
          303.3008107011229,
          304.16582253003423,
          305.0308343589456,
          305.895846187857,
          306.76085801676834,
          307.62586984567974,
          308.4908816745911,
          309.3558935035025,
          310.22090533241385,
          311.08591716132526,
          311.9509289902366,
          312.81594081914795,
          313.68095264805936,
          314.5459644769707,
          315.4109763058821,
          316.27598813479347,
          317.14099996370487,
          318.0060117926163,
          318.8710236215276,
          319.73603545043903,
          320.6010472793504,
          321.4660591082618,
          322.33107093717314,
          323.19608276608454,
          324.0610945949959,
          324.9261064239073,
          325.79111825281865,
          326.65613008173,
          327.5211419106414,
          328.38615373955275,
          329.25116556846416,
          330.1161773973755,
          330.9811892262869,
          331.84620105519826,
          332.71121288410967,
          333.576224713021,
          334.4412365419324,
          335.30624837084383,
          336.1712601997552,
          337.0362720286666,
          337.90128385757794,
          338.76629568648934,
          339.6313075154007,
          340.4963193443121,
          341.36133117322345,
          342.2263430021348,
          343.0913548310462,
          343.95636665995755,
          344.82137848886896,
          345.6863903177803,
          346.5514021466917,
          347.41641397560306,
          348.2814258045144,
          349.1464376334258,
          350.01144946233717,
          350.8764612912486,
          351.74147312016,
          352.6064849490714,
          353.47149677798274,
          354.33650860689414,
          355.2015204358055,
          356.06653226471684,
          356.93154409362825,
          357.7965559225396,
          358.661567751451,
          359.52657958036235,
          360.39159140927376,
          361.2566032381851,
          362.1216150670965,
          362.98662689600786,
          363.8516387249192,
          364.7166505538306,
          365.58166238274197,
          366.4466742116534,
          367.3116860405647,
          368.17669786947613,
          369.04170969838754,
          369.90672152729894,
          370.7717333562103,
          371.63674518512164,
          372.50175701403305,
          373.3667688429444,
          374.2317806718558,
          375.09679250076715,
          375.96180432967856,
          376.8268161585899,
          377.69182798750126,
          378.55683981641266,
          379.421851645324,
          380.2868634742354,
          381.15187530314677,
          382.0168871320582,
          382.8818989609695,
          383.7469107898809,
          384.6119226187923,
          385.4769344477036,
          386.3419462766151,
          387.20695810552644,
          388.07196993443785,
          388.9369817633492,
          389.8019935922606,
          390.66700542117195,
          391.53201725008336,
          392.3970290789947,
          393.26204090790606,
          394.12705273681746,
          394.9920645657288,
          395.8570763946402,
          396.72208822355157,
          397.587100052463,
          398.4521118813743,
          399.3171237102857,
          400.1821355391971,
          401.0471473681084,
          401.91215919701983,
          402.77717102593124,
          403.64218285484264,
          404.507194683754,
          405.3722065126654,
          406.23721834157675,
          407.1022301704881,
          407.9672419993995,
          408.83225382831085,
          409.69726565722226,
          410.5622774861336,
          411.427289315045,
          412.29230114395637,
          413.15731297286777,
          414.0223248017791,
          414.88733663069047,
          415.7523484596019,
          416.6173602885132,
          417.48237211742463,
          418.347383946336,
          419.2123957752474,
          420.0774076041588,
          420.9424194330702,
          421.80743126198155,
          422.6724430908929,
          423.5374549198043,
          424.40246674871565,
          425.26747857762706,
          426.1324904065384,
          426.9975022354498,
          427.86251406436116,
          428.72752589327257,
          429.5925377221839,
          430.45754955109527,
          431.3225613800067,
          432.187573208918,
          433.05258503782943,
          433.9175968667408
         ],
         "xaxis": "x",
         "y": [
          0.0053176216310708594,
          0.005962155938854825,
          0.00665381252233476,
          0.007391346539336542,
          0.008172738787816363,
          0.008995159985369766,
          0.009854951829129354,
          0.010747626838284965,
          0.011667888460998836,
          0.012609672307852381,
          0.01356620867893025,
          0.014530105810439472,
          0.015493452512461777,
          0.01644793813709836,
          0.017384987140829606,
          0.018295904919072292,
          0.01917203112314289,
          0.020004896342651898,
          0.020786377865031798,
          0.02150885021567196,
          0.02216532633590703,
          0.022749585562790792,
          0.02325628501786479,
          0.023681051569689,
          0.024020552179949344,
          0.024272541145930266,
          0.024435883482458638,
          0.024510554414134775,
          0.024497615645949704,
          0.024399169722741417,
          0.02421829435509652,
          0.023958959065760017,
          0.023625926885887737,
          0.023224644099014907,
          0.02276112119150738,
          0.022241808224717597,
          0.021673467802802576,
          0.021063048680691983,
          0.02041756285061971,
          0.019743968675939548,
          0.019049062321350844,
          0.018339379373033732,
          0.017621108164057778,
          0.016900015932533055,
          0.01618138855397333,
          0.015469984215533627,
          0.014770001046952128,
          0.014085058398325448,
          0.013418191163794805,
          0.01277185629673398,
          0.012147950448526249,
          0.011547837490563633,
          0.010972384547616539,
          0.010422005079184393,
          0.009896707492120562,
          0.009396147750511992,
          0.008919684464970662,
          0.008466434990501695,
          0.008035331137241546,
          0.0076251731988930035,
          0.007234681126873311,
          0.006862541821204174,
          0.0065074516689783935,
          0.006168153634521688,
          0.005843468388423658,
          0.005532319151298252,
          0.005233750117872865,
          0.0049469385128629315,
          0.004671200506915752,
          0.004405991383563243,
          0.004150900491733134,
          0.003905641638619157,
          0.0036700396711281803,
          0.0034440140583182483,
          0.0032275603210863268,
          0.0030207301590709245,
          0.0028236110998404386,
          0.002636306444678765,
          0.0024589162123784714,
          0.002291519691831358,
          0.002134160110672143,
          0.0019868318156417474,
          0.0018494702453128822,
          0.0017219448615085158,
          0.0016040550956549985,
          0.0014955292632585573,
          0.0013960263057975146,
          0.0013051401361010258,
          0.0012224062917794857,
          0.0011473105421969925,
          0.0010792990483601639,
          0.001017789642384286,
          0.0009621837743015205,
          0.0009118786692705678,
          0.0008662792480012179,
          0.0008248093874674995,
          0.000786922137437819,
          0.0007521085601872577,
          0.0007199049245500774,
          0.0006898980591160947,
          0.0006617287500957361,
          0.0006350931538063276,
          0.0006097422780624689,
          0.0005854796669692768,
          0.000562157495755794,
          0.0005396713427224797,
          0.0005179539510995158,
          0.0004969683224563949,
          0.0004767004941186081,
          0.00045715234578887643,
          0.0004383347562933484,
          0.00042026139214103845,
          0.0004029433582972746,
          0.00038638488173309754,
          0.0003705801337604802,
          0.0003555112317891164,
          0.0003411473986214464,
          0.0003274452009708911,
          0.0003143497411536175,
          0.0003017966387388624,
          0.0002897146134330087,
          0.00027802846693117286,
          0.00026666225950342605,
          0.0002555424856966512,
          0.00024460107126487383,
          0.00023377803850234058,
          0.0002230237175719882,
          0.00021230041516946533,
          0.0002015834869676863,
          0.00019086179492206205,
          0.000180137563066938,
          0.00016942567454191786,
          0.0001587524771813234,
          0.00014815418430911867,
          0.00013767497093487364,
          0.0001273648731670217,
          0.00011727760044910817,
          0.00010746836653860739,
          0.00009799183656561872,
          0.00008890027479526968,
          0.00008024196177892453,
          0.00007205993141230569,
          0.0000643910590582542,
          0.00005726551235737515,
          0.000050706557594309245,
          0.00004473069735356698,
          0.00003934810038423954,
          0.00003456327262665218,
          0.000030375909586567673,
          0.000026781864847839655,
          0.000023774167503170876,
          0.000021344022524146296,
          0.00001948173234052861,
          0.00001817748482297862,
          0.000017421962070274854,
          0.000017206735459538777,
          0.00001752442486838748,
          0.000018368613345702495,
          0.0000197335223003194,
          0.0000216134659823937,
          0.000024002117115738668,
          0.000026891627443333618,
          0.000030271657098001867,
          0.000034128374530280374,
          0.00003844349366514595,
          0.0000431934165300044,
          0.0000483485474173232,
          0.00005387283849371908,
          0.00005972361662812617,
          0.00006585172732000369,
          0.00007220201447790634,
          0.00007871413522886244,
          0.00008532368799791334,
          0.00009196361107514165,
          0.00009856578922278401,
          0.0001050627890546615,
          0.00011138963136283716,
          0.00011748550149657649,
          0.00012329529822356338,
          0.00012877092770589849,
          0.00013387226228313024,
          0.0001385677031069764,
          0.00014283431021480544,
          0.00014665749177582464,
          0.00015003027403034675,
          0.00015295220266917144,
          0.0001554279528085261,
          0.00015746574617886997,
          0.00015907568885500012,
          0.00016026814948868841,
          0.00016105229585838723,
          0.00016143489661336348,
          0.0001614194760652536,
          0.00016100588413946382,
          0.0001601903130741596,
          0.00015896575948056666,
          0.00015732289749641992,
          0.00015525129850747064,
          0.0001527409075896396,
          0.00014978366832959144,
          0.00014637517733562068,
          0.00014251624820190364,
          0.00013821427187178084,
          0.00013348427550392893,
          0.00012834960371646285,
          0.00012284217263273993,
          0.00011700227634090813,
          0.00011087795495586654,
          0.00010452396126325262,
          0.00009800038700729409,
          0.00009137102872810902,
          0.00008470158562264916,
          0.0000780577877042382,
          0.00007150355162067075,
          0.00006509925441123823,
          0.00005890020320482378,
          0.00005295536265274123,
          0.00004730638319473891,
          0.00004198695356266391,
          0.00003702248164582924,
          0.00003243009020931987,
          0.000028218898951765684,
          0.00002439055269293081,
          0.00002093994745837197,
          0.000017856101938913667,
          0.000015123121038473089,
          0.000012721200559928366,
          0.000010627626936228157,
          0.000008817732625386737,
          0.0000072657756605805456,
          0.000005945720217237054,
          0.000004831903338492252,
          0.000003899580663918883,
          0.0000031253507710811504,
          0.000002487463328858861,
          0.0000019660205597023403,
          0.0000015430845053128051,
          0.000001202704363400424,
          9.308788527323805e-7,
          7.154683511978055e-7,
          5.460706383296465e-7,
          4.138726622930512e-7,
          3.1148903144696983e-7,
          2.3279606866244424e-7,
          1.7276839971870308e-7,
          1.2732328047350973e-7,
          9.317627483472053e-8,
          6.771052177440004e-8,
          4.886069499358483e-8,
          3.501186387619238e-8,
          2.4912794900465466e-8,
          1.7602764685311673e-8,
          1.2350659704883934e-8,
          8.604981658674972e-9,
          5.953330348141016e-9,
          4.0899689402705285e-9,
          2.790164561664601e-9,
          1.890119315232648e-9,
          1.2714463867641838e-9,
          8.492903133455205e-10,
          5.633307415002424e-10,
          3.7103919236770736e-10,
          2.426750222727099e-10,
          1.5760835821449009e-10,
          1.0164410918183026e-10,
          6.509294510893737e-11,
          4.1393706120171196e-11,
          2.6138661048057438e-11,
          1.639007551023924e-11,
          1.0205331745714519e-11,
          6.30989049550855e-12,
          3.8740481348737046e-12,
          2.3618737131952377e-12,
          1.4298707470591737e-12,
          8.595780551565416e-13,
          5.13123932519699e-13,
          3.041638672104095e-13,
          1.7903640875389125e-13,
          1.0464620175612863e-13,
          6.073708539017139e-14,
          3.5005217668128795e-14,
          2.0033644719717308e-14,
          1.1385064529887589e-14,
          6.424796312396229e-15,
          3.600240926444455e-15,
          2.0033281634616626e-15,
          1.1069320500022905e-15,
          6.073488068673349e-16,
          3.309053979063479e-16,
          1.7902692250109327e-16,
          9.617964213619146e-17,
          5.131025288608582e-17,
          2.718344185271523e-17,
          1.4304572771719797e-17,
          7.482943651610925e-18,
          3.903854563353824e-18,
          2.0564153051226025e-18,
          1.143749385535346e-18,
          7.647002721378321e-19,
          7.503809268830035e-19,
          1.0943773031961634e-18,
          1.9500829216277267e-18,
          3.694145783945576e-18,
          7.080158943617816e-18,
          1.3540220040849423e-17,
          2.5745103326662737e-17,
          4.86237843440316e-17,
          9.119814021071947e-17,
          1.6985578979595487e-16,
          3.141414737261435e-16,
          5.769246161503971e-16,
          1.0521103855723002e-15,
          1.9052496124804303e-15,
          3.4260268738678067e-15,
          6.117555957018083e-15,
          1.0847094804437754e-14,
          1.9098410380616732e-14,
          3.3390990793656986e-14,
          5.79708529226226e-14,
          9.993977654617862e-14,
          1.710863486177739e-13,
          2.9083096249643166e-13,
          4.909239536984702e-13,
          8.228792390381056e-13,
          1.3696395462423913e-12,
          2.2637307404353866e-12,
          3.715279996530034e-12,
          6.054895187278667e-12,
          9.79873493470068e-12,
          1.5746414860059392e-11,
          2.5127059517948792e-11,
          3.981529585464721e-11,
          6.264790111485635e-11,
          9.788393124630842e-11,
          1.5186740801491731e-10,
          2.3397316921329243e-10,
          3.579446158895407e-10,
          5.437683305556222e-10,
          8.202765309427067e-10,
          1.228725754474661e-9,
          1.8276706434626464e-9,
          2.699536541364589e-9,
          3.959394582208246e-9,
          5.766557913582825e-9,
          8.339746141691368e-9,
          1.1976703655457426e-8,
          1.7079300352085513e-8,
          2.4185281563446447e-8,
          3.400795514496609e-8,
          4.7485191094511185e-8,
          6.58391416894743e-8,
          9.064804259996875e-8,
          1.2393129855506797e-7,
          1.682487589646798e-7,
          2.268146165482552e-7,
          3.036256842720013e-7,
          4.036028966261518e-7,
          5.327437236854464e-7,
          6.982817778659406e-7,
          9.088482505731716e-7,
          0.0000011746279802743199,
          0.000001507500995137067,
          0.0000019211583946019994,
          0.0000024311795706495497,
          0.000003055056188110038,
          0.0000038121472373725586,
          0.000004723549052456104,
          0.000005811864666260384,
          0.000007100858452588647,
          0.000008614984846173281,
          0.000010378784144848481,
          0.000012416144009056168,
          0.000014749432208249749,
          0.00001739851422858405,
          0.000020379678231239548,
          0.00002370449908864023,
          0.000027378682264618348,
          0.000031400936492397326,
          0.00003576193083703619,
          0.000040443396099660604,
          0.000045417431977210833,
          0.000050646079398295,
          0.000056081211656315196,
          0.0000616647882312371,
          0.00006732950168132824,
          0.00007299983114232796,
          0.00007859349653593197,
          0.00008402328657256885,
          0.00008919921226084502,
          0.00009403091727101817,
          0.00009843025854692799,
          0.00010231395635787994,
          0.00010560620368947469,
          0.00010824112137084409,
          0.00011016494814024214,
          0.00011133786405281237,
          0.000111735360875722,
          0.00011134909360156407,
          0.00011018717175758112,
          0.00010827387630715958,
          0.00010564881594727166,
          0.00010236556374941697,
          0.00009848983968632659,
          0.00009409732513990414,
          0.00008927121080914681,
          0.00008409958872895636,
          0.00007867280200747734,
          0.0000730808624758801,
          0.00006741103722970448,
          0.00006174569090072701,
          0.000056160452590085375,
          0.00005072275605305908,
          0.00004549078035790214,
          0.000040512797210045036,
          0.00003582691166691978,
          0.000031461166081718266,
          0.000027433963552575534,
          0.00002375475736790889,
          0.00002042494708303589,
          0.000017438919817498798,
          0.000014785176772831585,
          0.0000124474893038066,
          0.000010406035481489642,
          0.000008638476257024257,
          0.0000071209393665528785,
          0.000005828888357091802,
          0.000004737862997043831,
          0.000003824085414398119,
          0.0000030649332584500682,
          0.000002439286812465529,
          0.00000192776121884641,
          0.0000015128378407077612,
          0.0000011789103809702504,
          9.122618766718596e-7,
          7.009882818875356e-7,
          5.348832614851726e-7,
          4.0529725087208864e-7,
          3.049819882183453e-7,
          2.2792976376893327e-7,
          1.6921469293870117e-7,
          1.248415100726338e-7,
          9.160577021368635e-8,
          6.696798022532963e-8,
          4.894307692240598e-8,
          3.600582769474829e-8,
          2.7012133150101233e-8,
          2.113583629785524e-8,
          1.7820457415268778e-8,
          1.6745243594845434e-8,
          1.7805011709913384e-8,
          2.110343806329493e-8,
          2.6959672966296122e-8,
          3.592840028551923e-8,
          4.8833687217184246e-8,
          6.681714455993562e-8,
          9.140100822820992e-8,
          1.245667235917192e-7,
          1.6884943008558448e-7,
          2.2744837000813184e-7,
          3.0435265115076104e-7,
          4.044809525706775e-7,
          5.338326610241927e-7,
          6.996465614245556e-7,
          9.105615967743088e-7,
          0.000001176772404427278,
          0.0000015101703982053485,
          0.0000019244592037433103,
          0.0000024352314043892713,
          0.000003059991985228685,
          0.000003818112767484337,
          0.0000047307017155331885,
          0.000005820371488173769,
          0.000007110893194433206,
          0.000008626724167014191,
          0.000010392402790564526,
          0.000012431809043660015,
          0.000014767296357230332,
          0.000017418708464439212,
          0.000020402303796564428,
          0.000023729619218176147,
          0.00002740631393012003,
          0.00003143104254805887,
          0.00003579441298340752,
          0.00004047808910550319,
          0.000045454099597247166,
          0.00005068441239703521,
          0.00005612082829229821,
          0.00006170523747218123,
          0.0000673702693109567,
          0.00007304034878834672,
          0.00007863315350206672,
          0.0000840614442039036,
          0.00008923522042027977,
          0.00009406413236555742,
          0.00009846006242572483,
          0.00010233977531851409,
          0.00010562752678235271,
          0.00010825751718888356,
          0.00011017607932441982,
          0.00011134349883270687
         ],
         "yaxis": "y"
        }
       ],
       "layout": {
        "annotations": [
         {
          "showarrow": false,
          "text": "Boston officers per pop > 60.4% of cities",
          "x": 30.989360886999506,
          "xanchor": "left",
          "xref": "x",
          "y": 1,
          "yanchor": "top",
          "yref": "y domain"
         }
        ],
        "barmode": "overlay",
        "font": {
         "color": "black",
         "family": "GT America"
        },
        "hovermode": "closest",
        "legend": {
         "traceorder": "reversed"
        },
        "plot_bgcolor": "rgba(0,0,0,0)",
        "shapes": [
         {
          "line": {
           "color": "red",
           "dash": "dash",
           "width": 2
          },
          "type": "line",
          "x0": 30.989360886999506,
          "x1": 30.989360886999506,
          "xref": "x",
          "y0": 0,
          "y1": 1,
          "yref": "y domain"
         }
        ],
        "template": {
         "data": {
          "bar": [
           {
            "error_x": {
             "color": "#2a3f5f"
            },
            "error_y": {
             "color": "#2a3f5f"
            },
            "marker": {
             "line": {
              "color": "#E5ECF6",
              "width": 0.5
             },
             "pattern": {
              "fillmode": "overlay",
              "size": 10,
              "solidity": 0.2
             }
            },
            "type": "bar"
           }
          ],
          "barpolar": [
           {
            "marker": {
             "line": {
              "color": "#E5ECF6",
              "width": 0.5
             },
             "pattern": {
              "fillmode": "overlay",
              "size": 10,
              "solidity": 0.2
             }
            },
            "type": "barpolar"
           }
          ],
          "carpet": [
           {
            "aaxis": {
             "endlinecolor": "#2a3f5f",
             "gridcolor": "white",
             "linecolor": "white",
             "minorgridcolor": "white",
             "startlinecolor": "#2a3f5f"
            },
            "baxis": {
             "endlinecolor": "#2a3f5f",
             "gridcolor": "white",
             "linecolor": "white",
             "minorgridcolor": "white",
             "startlinecolor": "#2a3f5f"
            },
            "type": "carpet"
           }
          ],
          "choropleth": [
           {
            "colorbar": {
             "outlinewidth": 0,
             "ticks": ""
            },
            "type": "choropleth"
           }
          ],
          "contour": [
           {
            "colorbar": {
             "outlinewidth": 0,
             "ticks": ""
            },
            "colorscale": [
             [
              0,
              "#0d0887"
             ],
             [
              0.1111111111111111,
              "#46039f"
             ],
             [
              0.2222222222222222,
              "#7201a8"
             ],
             [
              0.3333333333333333,
              "#9c179e"
             ],
             [
              0.4444444444444444,
              "#bd3786"
             ],
             [
              0.5555555555555556,
              "#d8576b"
             ],
             [
              0.6666666666666666,
              "#ed7953"
             ],
             [
              0.7777777777777778,
              "#fb9f3a"
             ],
             [
              0.8888888888888888,
              "#fdca26"
             ],
             [
              1,
              "#f0f921"
             ]
            ],
            "type": "contour"
           }
          ],
          "contourcarpet": [
           {
            "colorbar": {
             "outlinewidth": 0,
             "ticks": ""
            },
            "type": "contourcarpet"
           }
          ],
          "heatmap": [
           {
            "colorbar": {
             "outlinewidth": 0,
             "ticks": ""
            },
            "colorscale": [
             [
              0,
              "#0d0887"
             ],
             [
              0.1111111111111111,
              "#46039f"
             ],
             [
              0.2222222222222222,
              "#7201a8"
             ],
             [
              0.3333333333333333,
              "#9c179e"
             ],
             [
              0.4444444444444444,
              "#bd3786"
             ],
             [
              0.5555555555555556,
              "#d8576b"
             ],
             [
              0.6666666666666666,
              "#ed7953"
             ],
             [
              0.7777777777777778,
              "#fb9f3a"
             ],
             [
              0.8888888888888888,
              "#fdca26"
             ],
             [
              1,
              "#f0f921"
             ]
            ],
            "type": "heatmap"
           }
          ],
          "heatmapgl": [
           {
            "colorbar": {
             "outlinewidth": 0,
             "ticks": ""
            },
            "colorscale": [
             [
              0,
              "#0d0887"
             ],
             [
              0.1111111111111111,
              "#46039f"
             ],
             [
              0.2222222222222222,
              "#7201a8"
             ],
             [
              0.3333333333333333,
              "#9c179e"
             ],
             [
              0.4444444444444444,
              "#bd3786"
             ],
             [
              0.5555555555555556,
              "#d8576b"
             ],
             [
              0.6666666666666666,
              "#ed7953"
             ],
             [
              0.7777777777777778,
              "#fb9f3a"
             ],
             [
              0.8888888888888888,
              "#fdca26"
             ],
             [
              1,
              "#f0f921"
             ]
            ],
            "type": "heatmapgl"
           }
          ],
          "histogram": [
           {
            "marker": {
             "pattern": {
              "fillmode": "overlay",
              "size": 10,
              "solidity": 0.2
             }
            },
            "type": "histogram"
           }
          ],
          "histogram2d": [
           {
            "colorbar": {
             "outlinewidth": 0,
             "ticks": ""
            },
            "colorscale": [
             [
              0,
              "#0d0887"
             ],
             [
              0.1111111111111111,
              "#46039f"
             ],
             [
              0.2222222222222222,
              "#7201a8"
             ],
             [
              0.3333333333333333,
              "#9c179e"
             ],
             [
              0.4444444444444444,
              "#bd3786"
             ],
             [
              0.5555555555555556,
              "#d8576b"
             ],
             [
              0.6666666666666666,
              "#ed7953"
             ],
             [
              0.7777777777777778,
              "#fb9f3a"
             ],
             [
              0.8888888888888888,
              "#fdca26"
             ],
             [
              1,
              "#f0f921"
             ]
            ],
            "type": "histogram2d"
           }
          ],
          "histogram2dcontour": [
           {
            "colorbar": {
             "outlinewidth": 0,
             "ticks": ""
            },
            "colorscale": [
             [
              0,
              "#0d0887"
             ],
             [
              0.1111111111111111,
              "#46039f"
             ],
             [
              0.2222222222222222,
              "#7201a8"
             ],
             [
              0.3333333333333333,
              "#9c179e"
             ],
             [
              0.4444444444444444,
              "#bd3786"
             ],
             [
              0.5555555555555556,
              "#d8576b"
             ],
             [
              0.6666666666666666,
              "#ed7953"
             ],
             [
              0.7777777777777778,
              "#fb9f3a"
             ],
             [
              0.8888888888888888,
              "#fdca26"
             ],
             [
              1,
              "#f0f921"
             ]
            ],
            "type": "histogram2dcontour"
           }
          ],
          "mesh3d": [
           {
            "colorbar": {
             "outlinewidth": 0,
             "ticks": ""
            },
            "type": "mesh3d"
           }
          ],
          "parcoords": [
           {
            "line": {
             "colorbar": {
              "outlinewidth": 0,
              "ticks": ""
             }
            },
            "type": "parcoords"
           }
          ],
          "pie": [
           {
            "automargin": true,
            "type": "pie"
           }
          ],
          "scatter": [
           {
            "fillpattern": {
             "fillmode": "overlay",
             "size": 10,
             "solidity": 0.2
            },
            "type": "scatter"
           }
          ],
          "scatter3d": [
           {
            "line": {
             "colorbar": {
              "outlinewidth": 0,
              "ticks": ""
             }
            },
            "marker": {
             "colorbar": {
              "outlinewidth": 0,
              "ticks": ""
             }
            },
            "type": "scatter3d"
           }
          ],
          "scattercarpet": [
           {
            "marker": {
             "colorbar": {
              "outlinewidth": 0,
              "ticks": ""
             }
            },
            "type": "scattercarpet"
           }
          ],
          "scattergeo": [
           {
            "marker": {
             "colorbar": {
              "outlinewidth": 0,
              "ticks": ""
             }
            },
            "type": "scattergeo"
           }
          ],
          "scattergl": [
           {
            "marker": {
             "colorbar": {
              "outlinewidth": 0,
              "ticks": ""
             }
            },
            "type": "scattergl"
           }
          ],
          "scattermapbox": [
           {
            "marker": {
             "colorbar": {
              "outlinewidth": 0,
              "ticks": ""
             }
            },
            "type": "scattermapbox"
           }
          ],
          "scatterpolar": [
           {
            "marker": {
             "colorbar": {
              "outlinewidth": 0,
              "ticks": ""
             }
            },
            "type": "scatterpolar"
           }
          ],
          "scatterpolargl": [
           {
            "marker": {
             "colorbar": {
              "outlinewidth": 0,
              "ticks": ""
             }
            },
            "type": "scatterpolargl"
           }
          ],
          "scatterternary": [
           {
            "marker": {
             "colorbar": {
              "outlinewidth": 0,
              "ticks": ""
             }
            },
            "type": "scatterternary"
           }
          ],
          "surface": [
           {
            "colorbar": {
             "outlinewidth": 0,
             "ticks": ""
            },
            "colorscale": [
             [
              0,
              "#0d0887"
             ],
             [
              0.1111111111111111,
              "#46039f"
             ],
             [
              0.2222222222222222,
              "#7201a8"
             ],
             [
              0.3333333333333333,
              "#9c179e"
             ],
             [
              0.4444444444444444,
              "#bd3786"
             ],
             [
              0.5555555555555556,
              "#d8576b"
             ],
             [
              0.6666666666666666,
              "#ed7953"
             ],
             [
              0.7777777777777778,
              "#fb9f3a"
             ],
             [
              0.8888888888888888,
              "#fdca26"
             ],
             [
              1,
              "#f0f921"
             ]
            ],
            "type": "surface"
           }
          ],
          "table": [
           {
            "cells": {
             "fill": {
              "color": "#EBF0F8"
             },
             "line": {
              "color": "white"
             }
            },
            "header": {
             "fill": {
              "color": "#C8D4E3"
             },
             "line": {
              "color": "white"
             }
            },
            "type": "table"
           }
          ]
         },
         "layout": {
          "annotationdefaults": {
           "arrowcolor": "#2a3f5f",
           "arrowhead": 0,
           "arrowwidth": 1
          },
          "autotypenumbers": "strict",
          "coloraxis": {
           "colorbar": {
            "outlinewidth": 0,
            "ticks": ""
           }
          },
          "colorscale": {
           "diverging": [
            [
             0,
             "#8e0152"
            ],
            [
             0.1,
             "#c51b7d"
            ],
            [
             0.2,
             "#de77ae"
            ],
            [
             0.3,
             "#f1b6da"
            ],
            [
             0.4,
             "#fde0ef"
            ],
            [
             0.5,
             "#f7f7f7"
            ],
            [
             0.6,
             "#e6f5d0"
            ],
            [
             0.7,
             "#b8e186"
            ],
            [
             0.8,
             "#7fbc41"
            ],
            [
             0.9,
             "#4d9221"
            ],
            [
             1,
             "#276419"
            ]
           ],
           "sequential": [
            [
             0,
             "#0d0887"
            ],
            [
             0.1111111111111111,
             "#46039f"
            ],
            [
             0.2222222222222222,
             "#7201a8"
            ],
            [
             0.3333333333333333,
             "#9c179e"
            ],
            [
             0.4444444444444444,
             "#bd3786"
            ],
            [
             0.5555555555555556,
             "#d8576b"
            ],
            [
             0.6666666666666666,
             "#ed7953"
            ],
            [
             0.7777777777777778,
             "#fb9f3a"
            ],
            [
             0.8888888888888888,
             "#fdca26"
            ],
            [
             1,
             "#f0f921"
            ]
           ],
           "sequentialminus": [
            [
             0,
             "#0d0887"
            ],
            [
             0.1111111111111111,
             "#46039f"
            ],
            [
             0.2222222222222222,
             "#7201a8"
            ],
            [
             0.3333333333333333,
             "#9c179e"
            ],
            [
             0.4444444444444444,
             "#bd3786"
            ],
            [
             0.5555555555555556,
             "#d8576b"
            ],
            [
             0.6666666666666666,
             "#ed7953"
            ],
            [
             0.7777777777777778,
             "#fb9f3a"
            ],
            [
             0.8888888888888888,
             "#fdca26"
            ],
            [
             1,
             "#f0f921"
            ]
           ]
          },
          "colorway": [
           "#636efa",
           "#EF553B",
           "#00cc96",
           "#ab63fa",
           "#FFA15A",
           "#19d3f3",
           "#FF6692",
           "#B6E880",
           "#FF97FF",
           "#FECB52"
          ],
          "font": {
           "color": "#2a3f5f"
          },
          "geo": {
           "bgcolor": "white",
           "lakecolor": "white",
           "landcolor": "#E5ECF6",
           "showlakes": true,
           "showland": true,
           "subunitcolor": "white"
          },
          "hoverlabel": {
           "align": "left"
          },
          "hovermode": "closest",
          "mapbox": {
           "style": "light"
          },
          "paper_bgcolor": "white",
          "plot_bgcolor": "#E5ECF6",
          "polar": {
           "angularaxis": {
            "gridcolor": "white",
            "linecolor": "white",
            "ticks": ""
           },
           "bgcolor": "#E5ECF6",
           "radialaxis": {
            "gridcolor": "white",
            "linecolor": "white",
            "ticks": ""
           }
          },
          "scene": {
           "xaxis": {
            "backgroundcolor": "#E5ECF6",
            "gridcolor": "white",
            "gridwidth": 2,
            "linecolor": "white",
            "showbackground": true,
            "ticks": "",
            "zerolinecolor": "white"
           },
           "yaxis": {
            "backgroundcolor": "#E5ECF6",
            "gridcolor": "white",
            "gridwidth": 2,
            "linecolor": "white",
            "showbackground": true,
            "ticks": "",
            "zerolinecolor": "white"
           },
           "zaxis": {
            "backgroundcolor": "#E5ECF6",
            "gridcolor": "white",
            "gridwidth": 2,
            "linecolor": "white",
            "showbackground": true,
            "ticks": "",
            "zerolinecolor": "white"
           }
          },
          "shapedefaults": {
           "line": {
            "color": "#2a3f5f"
           }
          },
          "ternary": {
           "aaxis": {
            "gridcolor": "white",
            "linecolor": "white",
            "ticks": ""
           },
           "baxis": {
            "gridcolor": "white",
            "linecolor": "white",
            "ticks": ""
           },
           "bgcolor": "#E5ECF6",
           "caxis": {
            "gridcolor": "white",
            "linecolor": "white",
            "ticks": ""
           }
          },
          "title": {
           "x": 0.05
          },
          "xaxis": {
           "automargin": true,
           "gridcolor": "white",
           "linecolor": "white",
           "ticks": "",
           "title": {
            "standoff": 15
           },
           "zerolinecolor": "white",
           "zerolinewidth": 2
          },
          "yaxis": {
           "automargin": true,
           "gridcolor": "white",
           "linecolor": "white",
           "ticks": "",
           "title": {
            "standoff": 15
           },
           "zerolinecolor": "white",
           "zerolinewidth": 2
          }
         }
        },
        "title": {
         "font": {
          "family": "GT America Bold",
          "size": 20
         },
         "text": "2021 Distribution of Officers Per 10,000 Residents",
         "x": 0,
         "xref": "paper"
        },
        "width": 1050,
        "xaxis": {
         "anchor": "y2",
         "domain": [
          0,
          1
         ],
         "title": {
          "text": "Officers per 10,000 residents"
         },
         "zeroline": false
        },
        "yaxis": {
         "anchor": "free",
         "domain": [
          0,
          1
         ],
         "gridcolor": "LightGray",
         "gridwidth": 0.5,
         "position": 0,
         "showgrid": true,
         "title": {
          "text": "Frequency"
         }
        }
       }
      }
     },
     "metadata": {},
     "output_type": "display_data"
    }
   ],
   "source": [
    "import plotly.figure_factory as ff\n",
    "\n",
    "fbi_law_enforcement_employee_data = pd.read_csv('./Data/FBI_law_enforcement_employee_data.csv')\n",
    "employee_nums_1960_2021 = pd.DataFrame(fbi_law_enforcement_employee_data)\n",
    "employee_nums_1960_2021.dropna()\n",
    "\n",
    "# Get only city data\n",
    "employee_nums_1960_2021 = employee_nums_1960_2021.loc[employee_nums_1960_2021['agency_type_name'] == 'City']\n",
    "\n",
    "# Get only data from 2016-2021\n",
    "employee_nums_2015_2021 = employee_nums_1960_2021.loc[employee_nums_1960_2021['data_year'].isin([2015, 2016, 2017, 2018, 2019, 2020, 2021])]\n",
    "\n",
    "\n",
    "\n",
    "# Get Boston df\n",
    "boston_df = employee_nums_2015_2021.loc[employee_nums_2015_2021[\"pub_agency_name\"] == \"Boston\"]\n",
    "boston_df = boston_df.loc[employee_nums_2015_2021[\"state_abbr\"] == \"MA\"]\n",
    "# boston_df = boston_df.sort_values(by='data_year', ascending=True)\n",
    "\n",
    "def getValsFrom(dataset):\n",
    "\n",
    "    # Declare variables to track statistics\n",
    "    boston_vals = []\n",
    "    average_vals = []\n",
    "    median_vals = []\n",
    "    city_vals_each_year = [] # List of lists where the first list is the values of all cities in 2015\n",
    "    boston_percentiles = []\n",
    "    cities_by_year = {} # Dictionary where key = year & value = list of (\"city agency\", offc/10k_res)\n",
    "\n",
    "    for i in range(2015,2022):\n",
    "\n",
    "        # Get Boston values\n",
    "        row = boston_df.loc[boston_df[\"data_year\"] == i]\n",
    "        row = row.squeeze()\n",
    "        pop = row[\"population\"]\n",
    "        officer_ct = row[\"officer_ct\"]\n",
    "        # pop * factor = 10,000 so factor = 10000/pop\n",
    "        factor = 10000/pop\n",
    "        bos_offc_per_10k = officer_ct * factor\n",
    "        boston_vals.append(bos_offc_per_10k)\n",
    "\n",
    "        # Reset these variables as they are tracked each year\n",
    "        cities_measured = 0\n",
    "        cities = []\n",
    "\n",
    "        # Get average values\n",
    "        i_year_rows = dataset.loc[dataset[\"data_year\"] == i]\n",
    "        all_cities_vals = []\n",
    "        for index, row in i_year_rows.iterrows():\n",
    "            pop = row[\"population\"]\n",
    "            if (pop == 0):\n",
    "                break\n",
    "            officer_ct = row[\"officer_ct\"] \n",
    "            factor = 10000/pop\n",
    "            offc_per_10k = officer_ct * factor\n",
    "            # if (officer_ct == 0):\n",
    "            #     print(str(row[\"data_year\"]) + row['pub_agency_name'])\n",
    "            # Ignore nan values\n",
    "            if np.isnan(offc_per_10k):\n",
    "                break\n",
    "            cities_measured += 1\n",
    "            all_cities_vals.append(offc_per_10k)\n",
    "            cities.append((row[\"pub_agency_name\"],offc_per_10k))\n",
    "\n",
    "        # Compute statistices\n",
    "        sum = np.sum(all_cities_vals)\n",
    "        avg = sum/len(all_cities_vals)\n",
    "        median = np.median(all_cities_vals)\n",
    "\n",
    "        city_vals_each_year.append(all_cities_vals)\n",
    "        median_vals.append(median)\n",
    "        average_vals.append(avg)\n",
    "\n",
    "        # Sort the all cities by offc/capita\n",
    "        cities.sort(key = lambda x: x[1])\n",
    "        # Add list to greater collection\n",
    "        cities_by_year[i] = cities\n",
    "\n",
    "        cities_w_less_offc_per_capita = np.where(all_cities_vals < bos_offc_per_10k)[0]\n",
    "\n",
    "        percentile = round(((len(cities_w_less_offc_per_capita)/cities_measured) * 100), 2)\n",
    "\n",
    "        # print(\"Total cities measured:\" + str(cities_measured))\n",
    "        # print(\"Total cities with less officers/capita than Boston: \" + str(len(cities_w_less_offc_per_capita)))\n",
    "        # print(\"Boston has more officers/capita than: \" + str(percentile) + \" percent of other city PDs\")\n",
    "        boston_percentiles.append(percentile)\n",
    "    \n",
    "    return {'boston_vals': boston_vals, 'average_vals': average_vals, 'median_vals': median_vals, 'city_vals_each_year': city_vals_each_year, 'boston_percentiles': boston_percentiles, 'cities_by_year': cities_by_year}\n",
    "\n",
    "stat_vals = getValsFrom(employee_nums_2015_2021)\n",
    "\n",
    "boston_vals = stat_vals['boston_vals']\n",
    "average_vals = stat_vals['average_vals']\n",
    "median_vals = stat_vals['median_vals']\n",
    "city_vals_each_year = stat_vals['city_vals_each_year']\n",
    "boston_percentiles = stat_vals['boston_percentiles']\n",
    "\n",
    "print(boston_vals)\n",
    "print(average_vals)\n",
    "print(median_vals)\n",
    "\n",
    "# Create plots\n",
    "year = [\"2015\"] * 2 + [\"2016\"] * 2 + [\"2017\"] * 2 + [\"2018\"] * 2 + [\"2019\"] * 2 + [\"2020\"] * 2 + [\"2021\"] * 2\n",
    "values = []\n",
    "labels = []\n",
    "\n",
    "for i in range(int(len(year)/2)):\n",
    "    values.append(median_vals[i])\n",
    "    values.append(boston_vals[i])\n",
    "    labels.append(\"Median\")\n",
    "    labels.append(\"Boston\")\n",
    "\n",
    "# BAR CHART\n",
    "fig3_dict = {\n",
    "    'Year': year,\n",
    "    'Officers per 10k residents': values,\n",
    "    'Key': labels\n",
    "}\n",
    "\n",
    "df3 = pd.DataFrame(fig3_dict)\n",
    "fig3 = px.bar(df3, \n",
    "    x='Year', \n",
    "    y='Officers per 10k residents', \n",
    "    color='Key', \n",
    "    barmode=\"group\", \n",
    "    color_discrete_map={\n",
    "        'Boston': '#EF404E',\n",
    "        'Median': '#231F20'\n",
    "    })\n",
    "\n",
    "fig3.update_layout(\n",
    "    plot_bgcolor='rgba(0,0,0,0)',\n",
    "    font_family=\"GT America\",\n",
    "    font_color=\"black\",\n",
    "    xaxis_title=None,\n",
    "    margin=dict(\n",
    "        l=75,\n",
    "        r=75,\n",
    "        b=100,\n",
    "        t=100,\n",
    "        pad=4\n",
    "    ),\n",
    "    width=1050\n",
    ")\n",
    "\n",
    "# Customize title to add captions!\n",
    "fig3.update_layout(\n",
    "    title=go.layout.Title(\n",
    "        text=\"Boston consistently retains more officers per resident than the median of other cities\",\n",
    "        xref=\"paper\",\n",
    "        x=0,\n",
    "        font_family=\"GT America Bold\",\n",
    "        font_size=20\n",
    "    )\n",
    ")\n",
    "\n",
    "fig3.update_layout(plot_bgcolor='rgba(0,0,0,0)')\n",
    "fig3.update_yaxes(showgrid=True, gridwidth=0.5, gridcolor='LightGray')\n",
    "fig3.show()\n",
    "\n",
    "\n",
    "# DISTRIBUTION GRAPHS\n",
    "hist_data = [city_vals_each_year[-1]]\n",
    "group_labels = ['Density Curve'] \n",
    "bos = boston_vals[-1] # Get Boston's 2021 value\n",
    "\n",
    "\n",
    "colors = ['#0055AA']\n",
    "fig4 = ff.create_distplot(hist_data, group_labels, show_rug=False, colors=colors)\n",
    "fig4.update_layout(xaxis_title=\"Officers per 10,000 residents\", yaxis_title=\"Frequency\")\n",
    "# Customize title to add captions!\n",
    "fig4.update_layout(\n",
    "    title=go.layout.Title(\n",
    "        text=\"2021 Distribution of Officers Per 10,000 Residents\",\n",
    "        xref=\"paper\",\n",
    "        x=0,\n",
    "        font_family=\"GT America Bold\",\n",
    "        font_size=20\n",
    "    )\n",
    ")\n",
    "fig4.add_vline(x=bos, line_width=2, line_dash=\"dash\", line_color=\"red\", annotation_text=\"Boston officers per pop > \" + str(boston_percentiles[-1]) + \"% of cities\")\n",
    "fig4.update_layout(plot_bgcolor='rgba(0,0,0,0)', font_family=\"GT America\", font_color=\"black\", width=1050)\n",
    "fig4.update_yaxes(showgrid=True, gridwidth=0.5, gridcolor='LightGray')\n",
    "fig4.show()\n",
    "\n"
   ]
  },
  {
   "cell_type": "markdown",
   "metadata": {},
   "source": [
    "FIGURE 3 Analysis:\n",
    "- Boston constantly ranks higher than the median in terms of Officers per 10k residents\n",
    "- Boston's officers/10k pop, has decreased over the years, while the median has increased\n",
    "\n",
    "    ISSUES:\n",
    "    - UCR (Uniform Crime Reports) are not mandatory! This explains the variation in the # of cities which submitted UCR data each year\n",
    "    - Interestingly, the # of cities which submitted UCR datas has been steadily decreasing\n",
    "    - Upwards trend of median could potentially be explained by this\n",
    "    - POSSIBLE EXPLANATION: Larger cities (which typically have larger police forces) may continue to report UCR while smaller cities may have opted out\n",
    "\n",
    "FIGURE 4 Analysis:\n",
    "- Different way of displaying the \"Officers / 10k residents\" statistic\n",
    "- We are able to see where Boston lies compared to other cities \n",
    "- I also display a percentage\n",
    "\n",
    "    ISSUES:\n",
    "    - I only plot values for 1 year (2021)\n",
    "    - Can fix this by using: Box plot OR Ridgeline plot"
   ]
  },
  {
   "cell_type": "code",
   "execution_count": 6,
   "metadata": {},
   "outputs": [
    {
     "name": "stdout",
     "output_type": "stream",
     "text": [
      "167\n",
      "[32.152939160446024, 31.53380423814329, 32.288626642436775, 30.546746454806794, 30.66067092930591, 30.57406682412598, 30.989360886999506]\n",
      "[24.00087693271406, 24.18327725129472, 23.700978027322375, 23.016098631372344, 23.24475517810718, 23.357219553702908, 22.868856261430654]\n",
      "[19.963834937611765, 20.510821919459364, 20.073055942553353, 19.511723678770664, 19.079900232999, 20.624610290793925, 18.840629726588446]\n"
     ]
    },
    {
     "data": {
      "application/vnd.plotly.v1+json": {
       "config": {
        "plotlyServerURL": "https://plot.ly"
       },
       "data": [
        {
         "alignmentgroup": "True",
         "hovertemplate": "Key=Median<br>Year=%{x}<br>Officers per 10k residents=%{y}<extra></extra>",
         "legendgroup": "Median",
         "marker": {
          "color": "#231F20",
          "pattern": {
           "shape": ""
          }
         },
         "name": "Median",
         "offsetgroup": "Median",
         "orientation": "v",
         "showlegend": true,
         "textposition": "auto",
         "type": "bar",
         "x": [
          "2015",
          "2016",
          "2017",
          "2018",
          "2019",
          "2020",
          "2021"
         ],
         "xaxis": "x",
         "y": [
          19.963834937611765,
          20.510821919459364,
          20.073055942553353,
          19.511723678770664,
          19.079900232999,
          20.624610290793925,
          18.840629726588446
         ],
         "yaxis": "y"
        },
        {
         "alignmentgroup": "True",
         "hovertemplate": "Key=Boston<br>Year=%{x}<br>Officers per 10k residents=%{y}<extra></extra>",
         "legendgroup": "Boston",
         "marker": {
          "color": "#EF404E",
          "pattern": {
           "shape": ""
          }
         },
         "name": "Boston",
         "offsetgroup": "Boston",
         "orientation": "v",
         "showlegend": true,
         "textposition": "auto",
         "type": "bar",
         "x": [
          "2015",
          "2016",
          "2017",
          "2018",
          "2019",
          "2020",
          "2021"
         ],
         "xaxis": "x",
         "y": [
          32.152939160446024,
          31.53380423814329,
          32.288626642436775,
          30.546746454806794,
          30.66067092930591,
          30.57406682412598,
          30.989360886999506
         ],
         "yaxis": "y"
        }
       ],
       "layout": {
        "annotations": [
         {
          "align": "left",
          "font": {
           "color": "gray",
           "family": "GT America",
           "size": 13
          },
          "showarrow": false,
          "text": "A total of 24 cities were compared in 2021.<br>Top 10 cities by officers/resident in 2021 (decending order): Washington, Baltimore, Detroit, Atlanta, Memphis, Boston, Milwaukee, <br>Kansas City, San Francisco, Nashville",
          "x": 0,
          "xref": "paper",
          "y": -0.4,
          "yref": "paper"
         }
        ],
        "barmode": "group",
        "font": {
         "color": "black",
         "family": "GT America"
        },
        "legend": {
         "title": {
          "text": "Key"
         },
         "tracegroupgap": 0
        },
        "margin": {
         "b": 120,
         "pad": 4,
         "t": 100
        },
        "plot_bgcolor": "rgba(0,0,0,0)",
        "template": {
         "data": {
          "bar": [
           {
            "error_x": {
             "color": "#2a3f5f"
            },
            "error_y": {
             "color": "#2a3f5f"
            },
            "marker": {
             "line": {
              "color": "#E5ECF6",
              "width": 0.5
             },
             "pattern": {
              "fillmode": "overlay",
              "size": 10,
              "solidity": 0.2
             }
            },
            "type": "bar"
           }
          ],
          "barpolar": [
           {
            "marker": {
             "line": {
              "color": "#E5ECF6",
              "width": 0.5
             },
             "pattern": {
              "fillmode": "overlay",
              "size": 10,
              "solidity": 0.2
             }
            },
            "type": "barpolar"
           }
          ],
          "carpet": [
           {
            "aaxis": {
             "endlinecolor": "#2a3f5f",
             "gridcolor": "white",
             "linecolor": "white",
             "minorgridcolor": "white",
             "startlinecolor": "#2a3f5f"
            },
            "baxis": {
             "endlinecolor": "#2a3f5f",
             "gridcolor": "white",
             "linecolor": "white",
             "minorgridcolor": "white",
             "startlinecolor": "#2a3f5f"
            },
            "type": "carpet"
           }
          ],
          "choropleth": [
           {
            "colorbar": {
             "outlinewidth": 0,
             "ticks": ""
            },
            "type": "choropleth"
           }
          ],
          "contour": [
           {
            "colorbar": {
             "outlinewidth": 0,
             "ticks": ""
            },
            "colorscale": [
             [
              0,
              "#0d0887"
             ],
             [
              0.1111111111111111,
              "#46039f"
             ],
             [
              0.2222222222222222,
              "#7201a8"
             ],
             [
              0.3333333333333333,
              "#9c179e"
             ],
             [
              0.4444444444444444,
              "#bd3786"
             ],
             [
              0.5555555555555556,
              "#d8576b"
             ],
             [
              0.6666666666666666,
              "#ed7953"
             ],
             [
              0.7777777777777778,
              "#fb9f3a"
             ],
             [
              0.8888888888888888,
              "#fdca26"
             ],
             [
              1,
              "#f0f921"
             ]
            ],
            "type": "contour"
           }
          ],
          "contourcarpet": [
           {
            "colorbar": {
             "outlinewidth": 0,
             "ticks": ""
            },
            "type": "contourcarpet"
           }
          ],
          "heatmap": [
           {
            "colorbar": {
             "outlinewidth": 0,
             "ticks": ""
            },
            "colorscale": [
             [
              0,
              "#0d0887"
             ],
             [
              0.1111111111111111,
              "#46039f"
             ],
             [
              0.2222222222222222,
              "#7201a8"
             ],
             [
              0.3333333333333333,
              "#9c179e"
             ],
             [
              0.4444444444444444,
              "#bd3786"
             ],
             [
              0.5555555555555556,
              "#d8576b"
             ],
             [
              0.6666666666666666,
              "#ed7953"
             ],
             [
              0.7777777777777778,
              "#fb9f3a"
             ],
             [
              0.8888888888888888,
              "#fdca26"
             ],
             [
              1,
              "#f0f921"
             ]
            ],
            "type": "heatmap"
           }
          ],
          "heatmapgl": [
           {
            "colorbar": {
             "outlinewidth": 0,
             "ticks": ""
            },
            "colorscale": [
             [
              0,
              "#0d0887"
             ],
             [
              0.1111111111111111,
              "#46039f"
             ],
             [
              0.2222222222222222,
              "#7201a8"
             ],
             [
              0.3333333333333333,
              "#9c179e"
             ],
             [
              0.4444444444444444,
              "#bd3786"
             ],
             [
              0.5555555555555556,
              "#d8576b"
             ],
             [
              0.6666666666666666,
              "#ed7953"
             ],
             [
              0.7777777777777778,
              "#fb9f3a"
             ],
             [
              0.8888888888888888,
              "#fdca26"
             ],
             [
              1,
              "#f0f921"
             ]
            ],
            "type": "heatmapgl"
           }
          ],
          "histogram": [
           {
            "marker": {
             "pattern": {
              "fillmode": "overlay",
              "size": 10,
              "solidity": 0.2
             }
            },
            "type": "histogram"
           }
          ],
          "histogram2d": [
           {
            "colorbar": {
             "outlinewidth": 0,
             "ticks": ""
            },
            "colorscale": [
             [
              0,
              "#0d0887"
             ],
             [
              0.1111111111111111,
              "#46039f"
             ],
             [
              0.2222222222222222,
              "#7201a8"
             ],
             [
              0.3333333333333333,
              "#9c179e"
             ],
             [
              0.4444444444444444,
              "#bd3786"
             ],
             [
              0.5555555555555556,
              "#d8576b"
             ],
             [
              0.6666666666666666,
              "#ed7953"
             ],
             [
              0.7777777777777778,
              "#fb9f3a"
             ],
             [
              0.8888888888888888,
              "#fdca26"
             ],
             [
              1,
              "#f0f921"
             ]
            ],
            "type": "histogram2d"
           }
          ],
          "histogram2dcontour": [
           {
            "colorbar": {
             "outlinewidth": 0,
             "ticks": ""
            },
            "colorscale": [
             [
              0,
              "#0d0887"
             ],
             [
              0.1111111111111111,
              "#46039f"
             ],
             [
              0.2222222222222222,
              "#7201a8"
             ],
             [
              0.3333333333333333,
              "#9c179e"
             ],
             [
              0.4444444444444444,
              "#bd3786"
             ],
             [
              0.5555555555555556,
              "#d8576b"
             ],
             [
              0.6666666666666666,
              "#ed7953"
             ],
             [
              0.7777777777777778,
              "#fb9f3a"
             ],
             [
              0.8888888888888888,
              "#fdca26"
             ],
             [
              1,
              "#f0f921"
             ]
            ],
            "type": "histogram2dcontour"
           }
          ],
          "mesh3d": [
           {
            "colorbar": {
             "outlinewidth": 0,
             "ticks": ""
            },
            "type": "mesh3d"
           }
          ],
          "parcoords": [
           {
            "line": {
             "colorbar": {
              "outlinewidth": 0,
              "ticks": ""
             }
            },
            "type": "parcoords"
           }
          ],
          "pie": [
           {
            "automargin": true,
            "type": "pie"
           }
          ],
          "scatter": [
           {
            "fillpattern": {
             "fillmode": "overlay",
             "size": 10,
             "solidity": 0.2
            },
            "type": "scatter"
           }
          ],
          "scatter3d": [
           {
            "line": {
             "colorbar": {
              "outlinewidth": 0,
              "ticks": ""
             }
            },
            "marker": {
             "colorbar": {
              "outlinewidth": 0,
              "ticks": ""
             }
            },
            "type": "scatter3d"
           }
          ],
          "scattercarpet": [
           {
            "marker": {
             "colorbar": {
              "outlinewidth": 0,
              "ticks": ""
             }
            },
            "type": "scattercarpet"
           }
          ],
          "scattergeo": [
           {
            "marker": {
             "colorbar": {
              "outlinewidth": 0,
              "ticks": ""
             }
            },
            "type": "scattergeo"
           }
          ],
          "scattergl": [
           {
            "marker": {
             "colorbar": {
              "outlinewidth": 0,
              "ticks": ""
             }
            },
            "type": "scattergl"
           }
          ],
          "scattermapbox": [
           {
            "marker": {
             "colorbar": {
              "outlinewidth": 0,
              "ticks": ""
             }
            },
            "type": "scattermapbox"
           }
          ],
          "scatterpolar": [
           {
            "marker": {
             "colorbar": {
              "outlinewidth": 0,
              "ticks": ""
             }
            },
            "type": "scatterpolar"
           }
          ],
          "scatterpolargl": [
           {
            "marker": {
             "colorbar": {
              "outlinewidth": 0,
              "ticks": ""
             }
            },
            "type": "scatterpolargl"
           }
          ],
          "scatterternary": [
           {
            "marker": {
             "colorbar": {
              "outlinewidth": 0,
              "ticks": ""
             }
            },
            "type": "scatterternary"
           }
          ],
          "surface": [
           {
            "colorbar": {
             "outlinewidth": 0,
             "ticks": ""
            },
            "colorscale": [
             [
              0,
              "#0d0887"
             ],
             [
              0.1111111111111111,
              "#46039f"
             ],
             [
              0.2222222222222222,
              "#7201a8"
             ],
             [
              0.3333333333333333,
              "#9c179e"
             ],
             [
              0.4444444444444444,
              "#bd3786"
             ],
             [
              0.5555555555555556,
              "#d8576b"
             ],
             [
              0.6666666666666666,
              "#ed7953"
             ],
             [
              0.7777777777777778,
              "#fb9f3a"
             ],
             [
              0.8888888888888888,
              "#fdca26"
             ],
             [
              1,
              "#f0f921"
             ]
            ],
            "type": "surface"
           }
          ],
          "table": [
           {
            "cells": {
             "fill": {
              "color": "#EBF0F8"
             },
             "line": {
              "color": "white"
             }
            },
            "header": {
             "fill": {
              "color": "#C8D4E3"
             },
             "line": {
              "color": "white"
             }
            },
            "type": "table"
           }
          ]
         },
         "layout": {
          "annotationdefaults": {
           "arrowcolor": "#2a3f5f",
           "arrowhead": 0,
           "arrowwidth": 1
          },
          "autotypenumbers": "strict",
          "coloraxis": {
           "colorbar": {
            "outlinewidth": 0,
            "ticks": ""
           }
          },
          "colorscale": {
           "diverging": [
            [
             0,
             "#8e0152"
            ],
            [
             0.1,
             "#c51b7d"
            ],
            [
             0.2,
             "#de77ae"
            ],
            [
             0.3,
             "#f1b6da"
            ],
            [
             0.4,
             "#fde0ef"
            ],
            [
             0.5,
             "#f7f7f7"
            ],
            [
             0.6,
             "#e6f5d0"
            ],
            [
             0.7,
             "#b8e186"
            ],
            [
             0.8,
             "#7fbc41"
            ],
            [
             0.9,
             "#4d9221"
            ],
            [
             1,
             "#276419"
            ]
           ],
           "sequential": [
            [
             0,
             "#0d0887"
            ],
            [
             0.1111111111111111,
             "#46039f"
            ],
            [
             0.2222222222222222,
             "#7201a8"
            ],
            [
             0.3333333333333333,
             "#9c179e"
            ],
            [
             0.4444444444444444,
             "#bd3786"
            ],
            [
             0.5555555555555556,
             "#d8576b"
            ],
            [
             0.6666666666666666,
             "#ed7953"
            ],
            [
             0.7777777777777778,
             "#fb9f3a"
            ],
            [
             0.8888888888888888,
             "#fdca26"
            ],
            [
             1,
             "#f0f921"
            ]
           ],
           "sequentialminus": [
            [
             0,
             "#0d0887"
            ],
            [
             0.1111111111111111,
             "#46039f"
            ],
            [
             0.2222222222222222,
             "#7201a8"
            ],
            [
             0.3333333333333333,
             "#9c179e"
            ],
            [
             0.4444444444444444,
             "#bd3786"
            ],
            [
             0.5555555555555556,
             "#d8576b"
            ],
            [
             0.6666666666666666,
             "#ed7953"
            ],
            [
             0.7777777777777778,
             "#fb9f3a"
            ],
            [
             0.8888888888888888,
             "#fdca26"
            ],
            [
             1,
             "#f0f921"
            ]
           ]
          },
          "colorway": [
           "#636efa",
           "#EF553B",
           "#00cc96",
           "#ab63fa",
           "#FFA15A",
           "#19d3f3",
           "#FF6692",
           "#B6E880",
           "#FF97FF",
           "#FECB52"
          ],
          "font": {
           "color": "#2a3f5f"
          },
          "geo": {
           "bgcolor": "white",
           "lakecolor": "white",
           "landcolor": "#E5ECF6",
           "showlakes": true,
           "showland": true,
           "subunitcolor": "white"
          },
          "hoverlabel": {
           "align": "left"
          },
          "hovermode": "closest",
          "mapbox": {
           "style": "light"
          },
          "paper_bgcolor": "white",
          "plot_bgcolor": "#E5ECF6",
          "polar": {
           "angularaxis": {
            "gridcolor": "white",
            "linecolor": "white",
            "ticks": ""
           },
           "bgcolor": "#E5ECF6",
           "radialaxis": {
            "gridcolor": "white",
            "linecolor": "white",
            "ticks": ""
           }
          },
          "scene": {
           "xaxis": {
            "backgroundcolor": "#E5ECF6",
            "gridcolor": "white",
            "gridwidth": 2,
            "linecolor": "white",
            "showbackground": true,
            "ticks": "",
            "zerolinecolor": "white"
           },
           "yaxis": {
            "backgroundcolor": "#E5ECF6",
            "gridcolor": "white",
            "gridwidth": 2,
            "linecolor": "white",
            "showbackground": true,
            "ticks": "",
            "zerolinecolor": "white"
           },
           "zaxis": {
            "backgroundcolor": "#E5ECF6",
            "gridcolor": "white",
            "gridwidth": 2,
            "linecolor": "white",
            "showbackground": true,
            "ticks": "",
            "zerolinecolor": "white"
           }
          },
          "shapedefaults": {
           "line": {
            "color": "#2a3f5f"
           }
          },
          "ternary": {
           "aaxis": {
            "gridcolor": "white",
            "linecolor": "white",
            "ticks": ""
           },
           "baxis": {
            "gridcolor": "white",
            "linecolor": "white",
            "ticks": ""
           },
           "bgcolor": "#E5ECF6",
           "caxis": {
            "gridcolor": "white",
            "linecolor": "white",
            "ticks": ""
           }
          },
          "title": {
           "x": 0.05
          },
          "xaxis": {
           "automargin": true,
           "gridcolor": "white",
           "linecolor": "white",
           "ticks": "",
           "title": {
            "standoff": 15
           },
           "zerolinecolor": "white",
           "zerolinewidth": 2
          },
          "yaxis": {
           "automargin": true,
           "gridcolor": "white",
           "linecolor": "white",
           "ticks": "",
           "title": {
            "standoff": 15
           },
           "zerolinecolor": "white",
           "zerolinewidth": 2
          }
         }
        },
        "title": {
         "font": {
          "family": "GT America Bold",
          "size": 20
         },
         "text": "Boston consistently retains more officers per resident than the median of similar sized cities <br><sup style='color:gray;'>Compared cities have populations between 500,000 and 999,999</sup>",
         "x": 0,
         "xref": "paper"
        },
        "width": 1050,
        "xaxis": {
         "anchor": "y",
         "domain": [
          0,
          1
         ],
         "title": {}
        },
        "yaxis": {
         "anchor": "x",
         "domain": [
          0,
          1
         ],
         "gridcolor": "LightGray",
         "gridwidth": 0.5,
         "showgrid": true,
         "title": {
          "text": "Officers per 10k residents"
         }
        }
       }
      }
     },
     "metadata": {},
     "output_type": "display_data"
    },
    {
     "data": {
      "application/vnd.plotly.v1+json": {
       "config": {
        "plotlyServerURL": "https://plot.ly"
       },
       "data": [
        {
         "alignmentgroup": "True",
         "hovertemplate": "Key=Average<br>Year=%{x}<br>Officers per 10k residents=%{y}<extra></extra>",
         "legendgroup": "Average",
         "marker": {
          "color": "#231F20",
          "pattern": {
           "shape": ""
          }
         },
         "name": "Average",
         "offsetgroup": "Average",
         "orientation": "v",
         "showlegend": true,
         "textposition": "auto",
         "type": "bar",
         "x": [
          "2015",
          "2016",
          "2017",
          "2018",
          "2019",
          "2020",
          "2021"
         ],
         "xaxis": "x",
         "y": [
          24.00087693271406,
          24.18327725129472,
          23.700978027322375,
          23.016098631372344,
          23.24475517810718,
          23.357219553702908,
          22.868856261430654
         ],
         "yaxis": "y"
        },
        {
         "alignmentgroup": "True",
         "hovertemplate": "Key=Boston<br>Year=%{x}<br>Officers per 10k residents=%{y}<extra></extra>",
         "legendgroup": "Boston",
         "marker": {
          "color": "#EF404E",
          "pattern": {
           "shape": ""
          }
         },
         "name": "Boston",
         "offsetgroup": "Boston",
         "orientation": "v",
         "showlegend": true,
         "textposition": "auto",
         "type": "bar",
         "x": [
          "2015",
          "2016",
          "2017",
          "2018",
          "2019",
          "2020",
          "2021"
         ],
         "xaxis": "x",
         "y": [
          32.152939160446024,
          31.53380423814329,
          32.288626642436775,
          30.546746454806794,
          30.66067092930591,
          30.57406682412598,
          30.989360886999506
         ],
         "yaxis": "y"
        }
       ],
       "layout": {
        "annotations": [
         {
          "align": "left",
          "font": {
           "color": "gray",
           "family": "GT America",
           "size": 13
          },
          "showarrow": false,
          "text": "A total of 24 cities were compared in 2021.<br>Top 10 cities by officers/resident in 2021 (decending order): Washington, Baltimore, Detroit, Atlanta, Memphis, Boston, Milwaukee, <br>Kansas City, San Francisco, Nashville",
          "x": 0,
          "xref": "paper",
          "y": -0.4,
          "yref": "paper"
         }
        ],
        "barmode": "group",
        "font": {
         "color": "black",
         "family": "GT America"
        },
        "legend": {
         "title": {
          "text": "Key"
         },
         "tracegroupgap": 0
        },
        "margin": {
         "b": 120,
         "pad": 4,
         "t": 100
        },
        "plot_bgcolor": "rgba(0,0,0,0)",
        "template": {
         "data": {
          "bar": [
           {
            "error_x": {
             "color": "#2a3f5f"
            },
            "error_y": {
             "color": "#2a3f5f"
            },
            "marker": {
             "line": {
              "color": "#E5ECF6",
              "width": 0.5
             },
             "pattern": {
              "fillmode": "overlay",
              "size": 10,
              "solidity": 0.2
             }
            },
            "type": "bar"
           }
          ],
          "barpolar": [
           {
            "marker": {
             "line": {
              "color": "#E5ECF6",
              "width": 0.5
             },
             "pattern": {
              "fillmode": "overlay",
              "size": 10,
              "solidity": 0.2
             }
            },
            "type": "barpolar"
           }
          ],
          "carpet": [
           {
            "aaxis": {
             "endlinecolor": "#2a3f5f",
             "gridcolor": "white",
             "linecolor": "white",
             "minorgridcolor": "white",
             "startlinecolor": "#2a3f5f"
            },
            "baxis": {
             "endlinecolor": "#2a3f5f",
             "gridcolor": "white",
             "linecolor": "white",
             "minorgridcolor": "white",
             "startlinecolor": "#2a3f5f"
            },
            "type": "carpet"
           }
          ],
          "choropleth": [
           {
            "colorbar": {
             "outlinewidth": 0,
             "ticks": ""
            },
            "type": "choropleth"
           }
          ],
          "contour": [
           {
            "colorbar": {
             "outlinewidth": 0,
             "ticks": ""
            },
            "colorscale": [
             [
              0,
              "#0d0887"
             ],
             [
              0.1111111111111111,
              "#46039f"
             ],
             [
              0.2222222222222222,
              "#7201a8"
             ],
             [
              0.3333333333333333,
              "#9c179e"
             ],
             [
              0.4444444444444444,
              "#bd3786"
             ],
             [
              0.5555555555555556,
              "#d8576b"
             ],
             [
              0.6666666666666666,
              "#ed7953"
             ],
             [
              0.7777777777777778,
              "#fb9f3a"
             ],
             [
              0.8888888888888888,
              "#fdca26"
             ],
             [
              1,
              "#f0f921"
             ]
            ],
            "type": "contour"
           }
          ],
          "contourcarpet": [
           {
            "colorbar": {
             "outlinewidth": 0,
             "ticks": ""
            },
            "type": "contourcarpet"
           }
          ],
          "heatmap": [
           {
            "colorbar": {
             "outlinewidth": 0,
             "ticks": ""
            },
            "colorscale": [
             [
              0,
              "#0d0887"
             ],
             [
              0.1111111111111111,
              "#46039f"
             ],
             [
              0.2222222222222222,
              "#7201a8"
             ],
             [
              0.3333333333333333,
              "#9c179e"
             ],
             [
              0.4444444444444444,
              "#bd3786"
             ],
             [
              0.5555555555555556,
              "#d8576b"
             ],
             [
              0.6666666666666666,
              "#ed7953"
             ],
             [
              0.7777777777777778,
              "#fb9f3a"
             ],
             [
              0.8888888888888888,
              "#fdca26"
             ],
             [
              1,
              "#f0f921"
             ]
            ],
            "type": "heatmap"
           }
          ],
          "heatmapgl": [
           {
            "colorbar": {
             "outlinewidth": 0,
             "ticks": ""
            },
            "colorscale": [
             [
              0,
              "#0d0887"
             ],
             [
              0.1111111111111111,
              "#46039f"
             ],
             [
              0.2222222222222222,
              "#7201a8"
             ],
             [
              0.3333333333333333,
              "#9c179e"
             ],
             [
              0.4444444444444444,
              "#bd3786"
             ],
             [
              0.5555555555555556,
              "#d8576b"
             ],
             [
              0.6666666666666666,
              "#ed7953"
             ],
             [
              0.7777777777777778,
              "#fb9f3a"
             ],
             [
              0.8888888888888888,
              "#fdca26"
             ],
             [
              1,
              "#f0f921"
             ]
            ],
            "type": "heatmapgl"
           }
          ],
          "histogram": [
           {
            "marker": {
             "pattern": {
              "fillmode": "overlay",
              "size": 10,
              "solidity": 0.2
             }
            },
            "type": "histogram"
           }
          ],
          "histogram2d": [
           {
            "colorbar": {
             "outlinewidth": 0,
             "ticks": ""
            },
            "colorscale": [
             [
              0,
              "#0d0887"
             ],
             [
              0.1111111111111111,
              "#46039f"
             ],
             [
              0.2222222222222222,
              "#7201a8"
             ],
             [
              0.3333333333333333,
              "#9c179e"
             ],
             [
              0.4444444444444444,
              "#bd3786"
             ],
             [
              0.5555555555555556,
              "#d8576b"
             ],
             [
              0.6666666666666666,
              "#ed7953"
             ],
             [
              0.7777777777777778,
              "#fb9f3a"
             ],
             [
              0.8888888888888888,
              "#fdca26"
             ],
             [
              1,
              "#f0f921"
             ]
            ],
            "type": "histogram2d"
           }
          ],
          "histogram2dcontour": [
           {
            "colorbar": {
             "outlinewidth": 0,
             "ticks": ""
            },
            "colorscale": [
             [
              0,
              "#0d0887"
             ],
             [
              0.1111111111111111,
              "#46039f"
             ],
             [
              0.2222222222222222,
              "#7201a8"
             ],
             [
              0.3333333333333333,
              "#9c179e"
             ],
             [
              0.4444444444444444,
              "#bd3786"
             ],
             [
              0.5555555555555556,
              "#d8576b"
             ],
             [
              0.6666666666666666,
              "#ed7953"
             ],
             [
              0.7777777777777778,
              "#fb9f3a"
             ],
             [
              0.8888888888888888,
              "#fdca26"
             ],
             [
              1,
              "#f0f921"
             ]
            ],
            "type": "histogram2dcontour"
           }
          ],
          "mesh3d": [
           {
            "colorbar": {
             "outlinewidth": 0,
             "ticks": ""
            },
            "type": "mesh3d"
           }
          ],
          "parcoords": [
           {
            "line": {
             "colorbar": {
              "outlinewidth": 0,
              "ticks": ""
             }
            },
            "type": "parcoords"
           }
          ],
          "pie": [
           {
            "automargin": true,
            "type": "pie"
           }
          ],
          "scatter": [
           {
            "fillpattern": {
             "fillmode": "overlay",
             "size": 10,
             "solidity": 0.2
            },
            "type": "scatter"
           }
          ],
          "scatter3d": [
           {
            "line": {
             "colorbar": {
              "outlinewidth": 0,
              "ticks": ""
             }
            },
            "marker": {
             "colorbar": {
              "outlinewidth": 0,
              "ticks": ""
             }
            },
            "type": "scatter3d"
           }
          ],
          "scattercarpet": [
           {
            "marker": {
             "colorbar": {
              "outlinewidth": 0,
              "ticks": ""
             }
            },
            "type": "scattercarpet"
           }
          ],
          "scattergeo": [
           {
            "marker": {
             "colorbar": {
              "outlinewidth": 0,
              "ticks": ""
             }
            },
            "type": "scattergeo"
           }
          ],
          "scattergl": [
           {
            "marker": {
             "colorbar": {
              "outlinewidth": 0,
              "ticks": ""
             }
            },
            "type": "scattergl"
           }
          ],
          "scattermapbox": [
           {
            "marker": {
             "colorbar": {
              "outlinewidth": 0,
              "ticks": ""
             }
            },
            "type": "scattermapbox"
           }
          ],
          "scatterpolar": [
           {
            "marker": {
             "colorbar": {
              "outlinewidth": 0,
              "ticks": ""
             }
            },
            "type": "scatterpolar"
           }
          ],
          "scatterpolargl": [
           {
            "marker": {
             "colorbar": {
              "outlinewidth": 0,
              "ticks": ""
             }
            },
            "type": "scatterpolargl"
           }
          ],
          "scatterternary": [
           {
            "marker": {
             "colorbar": {
              "outlinewidth": 0,
              "ticks": ""
             }
            },
            "type": "scatterternary"
           }
          ],
          "surface": [
           {
            "colorbar": {
             "outlinewidth": 0,
             "ticks": ""
            },
            "colorscale": [
             [
              0,
              "#0d0887"
             ],
             [
              0.1111111111111111,
              "#46039f"
             ],
             [
              0.2222222222222222,
              "#7201a8"
             ],
             [
              0.3333333333333333,
              "#9c179e"
             ],
             [
              0.4444444444444444,
              "#bd3786"
             ],
             [
              0.5555555555555556,
              "#d8576b"
             ],
             [
              0.6666666666666666,
              "#ed7953"
             ],
             [
              0.7777777777777778,
              "#fb9f3a"
             ],
             [
              0.8888888888888888,
              "#fdca26"
             ],
             [
              1,
              "#f0f921"
             ]
            ],
            "type": "surface"
           }
          ],
          "table": [
           {
            "cells": {
             "fill": {
              "color": "#EBF0F8"
             },
             "line": {
              "color": "white"
             }
            },
            "header": {
             "fill": {
              "color": "#C8D4E3"
             },
             "line": {
              "color": "white"
             }
            },
            "type": "table"
           }
          ]
         },
         "layout": {
          "annotationdefaults": {
           "arrowcolor": "#2a3f5f",
           "arrowhead": 0,
           "arrowwidth": 1
          },
          "autotypenumbers": "strict",
          "coloraxis": {
           "colorbar": {
            "outlinewidth": 0,
            "ticks": ""
           }
          },
          "colorscale": {
           "diverging": [
            [
             0,
             "#8e0152"
            ],
            [
             0.1,
             "#c51b7d"
            ],
            [
             0.2,
             "#de77ae"
            ],
            [
             0.3,
             "#f1b6da"
            ],
            [
             0.4,
             "#fde0ef"
            ],
            [
             0.5,
             "#f7f7f7"
            ],
            [
             0.6,
             "#e6f5d0"
            ],
            [
             0.7,
             "#b8e186"
            ],
            [
             0.8,
             "#7fbc41"
            ],
            [
             0.9,
             "#4d9221"
            ],
            [
             1,
             "#276419"
            ]
           ],
           "sequential": [
            [
             0,
             "#0d0887"
            ],
            [
             0.1111111111111111,
             "#46039f"
            ],
            [
             0.2222222222222222,
             "#7201a8"
            ],
            [
             0.3333333333333333,
             "#9c179e"
            ],
            [
             0.4444444444444444,
             "#bd3786"
            ],
            [
             0.5555555555555556,
             "#d8576b"
            ],
            [
             0.6666666666666666,
             "#ed7953"
            ],
            [
             0.7777777777777778,
             "#fb9f3a"
            ],
            [
             0.8888888888888888,
             "#fdca26"
            ],
            [
             1,
             "#f0f921"
            ]
           ],
           "sequentialminus": [
            [
             0,
             "#0d0887"
            ],
            [
             0.1111111111111111,
             "#46039f"
            ],
            [
             0.2222222222222222,
             "#7201a8"
            ],
            [
             0.3333333333333333,
             "#9c179e"
            ],
            [
             0.4444444444444444,
             "#bd3786"
            ],
            [
             0.5555555555555556,
             "#d8576b"
            ],
            [
             0.6666666666666666,
             "#ed7953"
            ],
            [
             0.7777777777777778,
             "#fb9f3a"
            ],
            [
             0.8888888888888888,
             "#fdca26"
            ],
            [
             1,
             "#f0f921"
            ]
           ]
          },
          "colorway": [
           "#636efa",
           "#EF553B",
           "#00cc96",
           "#ab63fa",
           "#FFA15A",
           "#19d3f3",
           "#FF6692",
           "#B6E880",
           "#FF97FF",
           "#FECB52"
          ],
          "font": {
           "color": "#2a3f5f"
          },
          "geo": {
           "bgcolor": "white",
           "lakecolor": "white",
           "landcolor": "#E5ECF6",
           "showlakes": true,
           "showland": true,
           "subunitcolor": "white"
          },
          "hoverlabel": {
           "align": "left"
          },
          "hovermode": "closest",
          "mapbox": {
           "style": "light"
          },
          "paper_bgcolor": "white",
          "plot_bgcolor": "#E5ECF6",
          "polar": {
           "angularaxis": {
            "gridcolor": "white",
            "linecolor": "white",
            "ticks": ""
           },
           "bgcolor": "#E5ECF6",
           "radialaxis": {
            "gridcolor": "white",
            "linecolor": "white",
            "ticks": ""
           }
          },
          "scene": {
           "xaxis": {
            "backgroundcolor": "#E5ECF6",
            "gridcolor": "white",
            "gridwidth": 2,
            "linecolor": "white",
            "showbackground": true,
            "ticks": "",
            "zerolinecolor": "white"
           },
           "yaxis": {
            "backgroundcolor": "#E5ECF6",
            "gridcolor": "white",
            "gridwidth": 2,
            "linecolor": "white",
            "showbackground": true,
            "ticks": "",
            "zerolinecolor": "white"
           },
           "zaxis": {
            "backgroundcolor": "#E5ECF6",
            "gridcolor": "white",
            "gridwidth": 2,
            "linecolor": "white",
            "showbackground": true,
            "ticks": "",
            "zerolinecolor": "white"
           }
          },
          "shapedefaults": {
           "line": {
            "color": "#2a3f5f"
           }
          },
          "ternary": {
           "aaxis": {
            "gridcolor": "white",
            "linecolor": "white",
            "ticks": ""
           },
           "baxis": {
            "gridcolor": "white",
            "linecolor": "white",
            "ticks": ""
           },
           "bgcolor": "#E5ECF6",
           "caxis": {
            "gridcolor": "white",
            "linecolor": "white",
            "ticks": ""
           }
          },
          "title": {
           "x": 0.05
          },
          "xaxis": {
           "automargin": true,
           "gridcolor": "white",
           "linecolor": "white",
           "ticks": "",
           "title": {
            "standoff": 15
           },
           "zerolinecolor": "white",
           "zerolinewidth": 2
          },
          "yaxis": {
           "automargin": true,
           "gridcolor": "white",
           "linecolor": "white",
           "ticks": "",
           "title": {
            "standoff": 15
           },
           "zerolinecolor": "white",
           "zerolinewidth": 2
          }
         }
        },
        "title": {
         "font": {
          "family": "GT America Bold",
          "size": 20
         },
         "text": "Boston consistently retains more officers per resident than the average of similar sized cities <br><sup style='color:gray;'>Compared cities have populations between 500,000 and 999,999</sup>",
         "x": 0,
         "xref": "paper"
        },
        "width": 1050,
        "xaxis": {
         "anchor": "y",
         "domain": [
          0,
          1
         ],
         "title": {}
        },
        "yaxis": {
         "anchor": "x",
         "domain": [
          0,
          1
         ],
         "gridcolor": "LightGray",
         "gridwidth": 0.5,
         "showgrid": true,
         "title": {
          "text": "Officers per 10k residents"
         }
        }
       }
      }
     },
     "metadata": {},
     "output_type": "display_data"
    },
    {
     "data": {
      "application/vnd.plotly.v1+json": {
       "config": {
        "plotlyServerURL": "https://plot.ly"
       },
       "data": [
        {
         "alignmentgroup": "True",
         "hovertemplate": "City or Agency Name=%{x}<br>Officers per 10k residents=%{y}<extra></extra>",
         "legendgroup": "",
         "marker": {
          "color": "#BBBBBB",
          "pattern": {
           "shape": ""
          }
         },
         "name": "",
         "offsetgroup": "",
         "orientation": "v",
         "showlegend": false,
         "textposition": "auto",
         "type": "bar",
         "x": [
          "Portland",
          "Sacramento",
          "Fresno",
          "Tucson",
          "Seattle",
          "Louisville",
          "Mesa",
          "Oklahoma City",
          "El Paso",
          "Albuquerque",
          "Fort Worth",
          "Charlotte",
          "Denver",
          "Honolulu",
          "Nashville",
          "San Francisco",
          "Kansas City",
          "Milwaukee",
          "Memphis",
          "Atlanta",
          "Detroit",
          "Baltimore",
          "Washington"
         ],
         "xaxis": "x",
         "y": [
          11.906374651915405,
          13.832086964417151,
          14.41065301433757,
          14.740327558839972,
          14.954001845765593,
          15.304407315447719,
          16.468339325654597,
          16.47110029931194,
          16.619519611179182,
          16.662323826945816,
          17.207146187947192,
          18.132726538824322,
          19.548532914352567,
          19.71297422290075,
          20.997664190873113,
          24.601539416195877,
          25.670456019881627,
          27.876232225531194,
          31.21131306163426,
          31.480564923629416,
          36.736983975253374,
          39.9636940000271,
          53.35422729647041
         ],
         "yaxis": "y"
        },
        {
         "alignmentgroup": "True",
         "hovertemplate": "City or Agency Name=%{x}<br>Officers per 10k residents=%{y}<extra></extra>",
         "legendgroup": "",
         "marker": {
          "color": "#EF404E",
          "pattern": {
           "shape": ""
          }
         },
         "name": "",
         "offsetgroup": "",
         "orientation": "v",
         "showlegend": false,
         "textposition": "auto",
         "type": "bar",
         "x": [
          "Boston"
         ],
         "xaxis": "x",
         "y": [
          30.989360886999506
         ],
         "yaxis": "y"
        }
       ],
       "layout": {
        "barmode": "relative",
        "font": {
         "color": "black",
         "family": "GT America"
        },
        "height": 525,
        "legend": {
         "tracegroupgap": 0
        },
        "margin": {
         "b": 100,
         "l": 75,
         "pad": 4,
         "r": 75,
         "t": 100
        },
        "plot_bgcolor": "rgba(0,0,0,0)",
        "template": {
         "data": {
          "bar": [
           {
            "error_x": {
             "color": "#2a3f5f"
            },
            "error_y": {
             "color": "#2a3f5f"
            },
            "marker": {
             "line": {
              "color": "#E5ECF6",
              "width": 0.5
             },
             "pattern": {
              "fillmode": "overlay",
              "size": 10,
              "solidity": 0.2
             }
            },
            "type": "bar"
           }
          ],
          "barpolar": [
           {
            "marker": {
             "line": {
              "color": "#E5ECF6",
              "width": 0.5
             },
             "pattern": {
              "fillmode": "overlay",
              "size": 10,
              "solidity": 0.2
             }
            },
            "type": "barpolar"
           }
          ],
          "carpet": [
           {
            "aaxis": {
             "endlinecolor": "#2a3f5f",
             "gridcolor": "white",
             "linecolor": "white",
             "minorgridcolor": "white",
             "startlinecolor": "#2a3f5f"
            },
            "baxis": {
             "endlinecolor": "#2a3f5f",
             "gridcolor": "white",
             "linecolor": "white",
             "minorgridcolor": "white",
             "startlinecolor": "#2a3f5f"
            },
            "type": "carpet"
           }
          ],
          "choropleth": [
           {
            "colorbar": {
             "outlinewidth": 0,
             "ticks": ""
            },
            "type": "choropleth"
           }
          ],
          "contour": [
           {
            "colorbar": {
             "outlinewidth": 0,
             "ticks": ""
            },
            "colorscale": [
             [
              0,
              "#0d0887"
             ],
             [
              0.1111111111111111,
              "#46039f"
             ],
             [
              0.2222222222222222,
              "#7201a8"
             ],
             [
              0.3333333333333333,
              "#9c179e"
             ],
             [
              0.4444444444444444,
              "#bd3786"
             ],
             [
              0.5555555555555556,
              "#d8576b"
             ],
             [
              0.6666666666666666,
              "#ed7953"
             ],
             [
              0.7777777777777778,
              "#fb9f3a"
             ],
             [
              0.8888888888888888,
              "#fdca26"
             ],
             [
              1,
              "#f0f921"
             ]
            ],
            "type": "contour"
           }
          ],
          "contourcarpet": [
           {
            "colorbar": {
             "outlinewidth": 0,
             "ticks": ""
            },
            "type": "contourcarpet"
           }
          ],
          "heatmap": [
           {
            "colorbar": {
             "outlinewidth": 0,
             "ticks": ""
            },
            "colorscale": [
             [
              0,
              "#0d0887"
             ],
             [
              0.1111111111111111,
              "#46039f"
             ],
             [
              0.2222222222222222,
              "#7201a8"
             ],
             [
              0.3333333333333333,
              "#9c179e"
             ],
             [
              0.4444444444444444,
              "#bd3786"
             ],
             [
              0.5555555555555556,
              "#d8576b"
             ],
             [
              0.6666666666666666,
              "#ed7953"
             ],
             [
              0.7777777777777778,
              "#fb9f3a"
             ],
             [
              0.8888888888888888,
              "#fdca26"
             ],
             [
              1,
              "#f0f921"
             ]
            ],
            "type": "heatmap"
           }
          ],
          "heatmapgl": [
           {
            "colorbar": {
             "outlinewidth": 0,
             "ticks": ""
            },
            "colorscale": [
             [
              0,
              "#0d0887"
             ],
             [
              0.1111111111111111,
              "#46039f"
             ],
             [
              0.2222222222222222,
              "#7201a8"
             ],
             [
              0.3333333333333333,
              "#9c179e"
             ],
             [
              0.4444444444444444,
              "#bd3786"
             ],
             [
              0.5555555555555556,
              "#d8576b"
             ],
             [
              0.6666666666666666,
              "#ed7953"
             ],
             [
              0.7777777777777778,
              "#fb9f3a"
             ],
             [
              0.8888888888888888,
              "#fdca26"
             ],
             [
              1,
              "#f0f921"
             ]
            ],
            "type": "heatmapgl"
           }
          ],
          "histogram": [
           {
            "marker": {
             "pattern": {
              "fillmode": "overlay",
              "size": 10,
              "solidity": 0.2
             }
            },
            "type": "histogram"
           }
          ],
          "histogram2d": [
           {
            "colorbar": {
             "outlinewidth": 0,
             "ticks": ""
            },
            "colorscale": [
             [
              0,
              "#0d0887"
             ],
             [
              0.1111111111111111,
              "#46039f"
             ],
             [
              0.2222222222222222,
              "#7201a8"
             ],
             [
              0.3333333333333333,
              "#9c179e"
             ],
             [
              0.4444444444444444,
              "#bd3786"
             ],
             [
              0.5555555555555556,
              "#d8576b"
             ],
             [
              0.6666666666666666,
              "#ed7953"
             ],
             [
              0.7777777777777778,
              "#fb9f3a"
             ],
             [
              0.8888888888888888,
              "#fdca26"
             ],
             [
              1,
              "#f0f921"
             ]
            ],
            "type": "histogram2d"
           }
          ],
          "histogram2dcontour": [
           {
            "colorbar": {
             "outlinewidth": 0,
             "ticks": ""
            },
            "colorscale": [
             [
              0,
              "#0d0887"
             ],
             [
              0.1111111111111111,
              "#46039f"
             ],
             [
              0.2222222222222222,
              "#7201a8"
             ],
             [
              0.3333333333333333,
              "#9c179e"
             ],
             [
              0.4444444444444444,
              "#bd3786"
             ],
             [
              0.5555555555555556,
              "#d8576b"
             ],
             [
              0.6666666666666666,
              "#ed7953"
             ],
             [
              0.7777777777777778,
              "#fb9f3a"
             ],
             [
              0.8888888888888888,
              "#fdca26"
             ],
             [
              1,
              "#f0f921"
             ]
            ],
            "type": "histogram2dcontour"
           }
          ],
          "mesh3d": [
           {
            "colorbar": {
             "outlinewidth": 0,
             "ticks": ""
            },
            "type": "mesh3d"
           }
          ],
          "parcoords": [
           {
            "line": {
             "colorbar": {
              "outlinewidth": 0,
              "ticks": ""
             }
            },
            "type": "parcoords"
           }
          ],
          "pie": [
           {
            "automargin": true,
            "type": "pie"
           }
          ],
          "scatter": [
           {
            "fillpattern": {
             "fillmode": "overlay",
             "size": 10,
             "solidity": 0.2
            },
            "type": "scatter"
           }
          ],
          "scatter3d": [
           {
            "line": {
             "colorbar": {
              "outlinewidth": 0,
              "ticks": ""
             }
            },
            "marker": {
             "colorbar": {
              "outlinewidth": 0,
              "ticks": ""
             }
            },
            "type": "scatter3d"
           }
          ],
          "scattercarpet": [
           {
            "marker": {
             "colorbar": {
              "outlinewidth": 0,
              "ticks": ""
             }
            },
            "type": "scattercarpet"
           }
          ],
          "scattergeo": [
           {
            "marker": {
             "colorbar": {
              "outlinewidth": 0,
              "ticks": ""
             }
            },
            "type": "scattergeo"
           }
          ],
          "scattergl": [
           {
            "marker": {
             "colorbar": {
              "outlinewidth": 0,
              "ticks": ""
             }
            },
            "type": "scattergl"
           }
          ],
          "scattermapbox": [
           {
            "marker": {
             "colorbar": {
              "outlinewidth": 0,
              "ticks": ""
             }
            },
            "type": "scattermapbox"
           }
          ],
          "scatterpolar": [
           {
            "marker": {
             "colorbar": {
              "outlinewidth": 0,
              "ticks": ""
             }
            },
            "type": "scatterpolar"
           }
          ],
          "scatterpolargl": [
           {
            "marker": {
             "colorbar": {
              "outlinewidth": 0,
              "ticks": ""
             }
            },
            "type": "scatterpolargl"
           }
          ],
          "scatterternary": [
           {
            "marker": {
             "colorbar": {
              "outlinewidth": 0,
              "ticks": ""
             }
            },
            "type": "scatterternary"
           }
          ],
          "surface": [
           {
            "colorbar": {
             "outlinewidth": 0,
             "ticks": ""
            },
            "colorscale": [
             [
              0,
              "#0d0887"
             ],
             [
              0.1111111111111111,
              "#46039f"
             ],
             [
              0.2222222222222222,
              "#7201a8"
             ],
             [
              0.3333333333333333,
              "#9c179e"
             ],
             [
              0.4444444444444444,
              "#bd3786"
             ],
             [
              0.5555555555555556,
              "#d8576b"
             ],
             [
              0.6666666666666666,
              "#ed7953"
             ],
             [
              0.7777777777777778,
              "#fb9f3a"
             ],
             [
              0.8888888888888888,
              "#fdca26"
             ],
             [
              1,
              "#f0f921"
             ]
            ],
            "type": "surface"
           }
          ],
          "table": [
           {
            "cells": {
             "fill": {
              "color": "#EBF0F8"
             },
             "line": {
              "color": "white"
             }
            },
            "header": {
             "fill": {
              "color": "#C8D4E3"
             },
             "line": {
              "color": "white"
             }
            },
            "type": "table"
           }
          ]
         },
         "layout": {
          "annotationdefaults": {
           "arrowcolor": "#2a3f5f",
           "arrowhead": 0,
           "arrowwidth": 1
          },
          "autotypenumbers": "strict",
          "coloraxis": {
           "colorbar": {
            "outlinewidth": 0,
            "ticks": ""
           }
          },
          "colorscale": {
           "diverging": [
            [
             0,
             "#8e0152"
            ],
            [
             0.1,
             "#c51b7d"
            ],
            [
             0.2,
             "#de77ae"
            ],
            [
             0.3,
             "#f1b6da"
            ],
            [
             0.4,
             "#fde0ef"
            ],
            [
             0.5,
             "#f7f7f7"
            ],
            [
             0.6,
             "#e6f5d0"
            ],
            [
             0.7,
             "#b8e186"
            ],
            [
             0.8,
             "#7fbc41"
            ],
            [
             0.9,
             "#4d9221"
            ],
            [
             1,
             "#276419"
            ]
           ],
           "sequential": [
            [
             0,
             "#0d0887"
            ],
            [
             0.1111111111111111,
             "#46039f"
            ],
            [
             0.2222222222222222,
             "#7201a8"
            ],
            [
             0.3333333333333333,
             "#9c179e"
            ],
            [
             0.4444444444444444,
             "#bd3786"
            ],
            [
             0.5555555555555556,
             "#d8576b"
            ],
            [
             0.6666666666666666,
             "#ed7953"
            ],
            [
             0.7777777777777778,
             "#fb9f3a"
            ],
            [
             0.8888888888888888,
             "#fdca26"
            ],
            [
             1,
             "#f0f921"
            ]
           ],
           "sequentialminus": [
            [
             0,
             "#0d0887"
            ],
            [
             0.1111111111111111,
             "#46039f"
            ],
            [
             0.2222222222222222,
             "#7201a8"
            ],
            [
             0.3333333333333333,
             "#9c179e"
            ],
            [
             0.4444444444444444,
             "#bd3786"
            ],
            [
             0.5555555555555556,
             "#d8576b"
            ],
            [
             0.6666666666666666,
             "#ed7953"
            ],
            [
             0.7777777777777778,
             "#fb9f3a"
            ],
            [
             0.8888888888888888,
             "#fdca26"
            ],
            [
             1,
             "#f0f921"
            ]
           ]
          },
          "colorway": [
           "#636efa",
           "#EF553B",
           "#00cc96",
           "#ab63fa",
           "#FFA15A",
           "#19d3f3",
           "#FF6692",
           "#B6E880",
           "#FF97FF",
           "#FECB52"
          ],
          "font": {
           "color": "#2a3f5f"
          },
          "geo": {
           "bgcolor": "white",
           "lakecolor": "white",
           "landcolor": "#E5ECF6",
           "showlakes": true,
           "showland": true,
           "subunitcolor": "white"
          },
          "hoverlabel": {
           "align": "left"
          },
          "hovermode": "closest",
          "mapbox": {
           "style": "light"
          },
          "paper_bgcolor": "white",
          "plot_bgcolor": "#E5ECF6",
          "polar": {
           "angularaxis": {
            "gridcolor": "white",
            "linecolor": "white",
            "ticks": ""
           },
           "bgcolor": "#E5ECF6",
           "radialaxis": {
            "gridcolor": "white",
            "linecolor": "white",
            "ticks": ""
           }
          },
          "scene": {
           "xaxis": {
            "backgroundcolor": "#E5ECF6",
            "gridcolor": "white",
            "gridwidth": 2,
            "linecolor": "white",
            "showbackground": true,
            "ticks": "",
            "zerolinecolor": "white"
           },
           "yaxis": {
            "backgroundcolor": "#E5ECF6",
            "gridcolor": "white",
            "gridwidth": 2,
            "linecolor": "white",
            "showbackground": true,
            "ticks": "",
            "zerolinecolor": "white"
           },
           "zaxis": {
            "backgroundcolor": "#E5ECF6",
            "gridcolor": "white",
            "gridwidth": 2,
            "linecolor": "white",
            "showbackground": true,
            "ticks": "",
            "zerolinecolor": "white"
           }
          },
          "shapedefaults": {
           "line": {
            "color": "#2a3f5f"
           }
          },
          "ternary": {
           "aaxis": {
            "gridcolor": "white",
            "linecolor": "white",
            "ticks": ""
           },
           "baxis": {
            "gridcolor": "white",
            "linecolor": "white",
            "ticks": ""
           },
           "bgcolor": "#E5ECF6",
           "caxis": {
            "gridcolor": "white",
            "linecolor": "white",
            "ticks": ""
           }
          },
          "title": {
           "x": 0.05
          },
          "xaxis": {
           "automargin": true,
           "gridcolor": "white",
           "linecolor": "white",
           "ticks": "",
           "title": {
            "standoff": 15
           },
           "zerolinecolor": "white",
           "zerolinewidth": 2
          },
          "yaxis": {
           "automargin": true,
           "gridcolor": "white",
           "linecolor": "white",
           "ticks": "",
           "title": {
            "standoff": 15
           },
           "zerolinecolor": "white",
           "zerolinewidth": 2
          }
         }
        },
        "title": {
         "font": {
          "family": "GT America Bold",
          "size": 20
         },
         "text": "Boston has more officers per resident than 70% of other similar sized cities (2021) <br><sup style='color:gray;'>Compared cities have populations between 500,000 and 999,999</sup>",
         "x": 0,
         "xref": "paper"
        },
        "width": 1050,
        "xaxis": {
         "anchor": "y",
         "categoryarray": [
          "Portland",
          "Sacramento",
          "Fresno",
          "Tucson",
          "Seattle",
          "Louisville",
          "Mesa",
          "Oklahoma City",
          "El Paso",
          "Albuquerque",
          "Fort Worth",
          "Charlotte",
          "Denver",
          "Honolulu",
          "Nashville",
          "San Francisco",
          "Kansas City",
          "Milwaukee",
          "Boston",
          "Memphis",
          "Atlanta",
          "Detroit",
          "Baltimore",
          "Washington"
         ],
         "categoryorder": "array",
         "domain": [
          0,
          1
         ],
         "title": {}
        },
        "yaxis": {
         "anchor": "x",
         "domain": [
          0,
          1
         ],
         "gridcolor": "LightGray",
         "gridwidth": 0.5,
         "showgrid": true,
         "title": {
          "text": "Officers per 10k residents"
         }
        }
       }
      }
     },
     "metadata": {},
     "output_type": "display_data"
    },
    {
     "name": "stdout",
     "output_type": "stream",
     "text": [
      "   City or Agency Name  Officers per 10k residents\n",
      "0             Portland                   11.906375\n",
      "1           Sacramento                   13.832087\n",
      "2               Fresno                   14.410653\n",
      "3               Tucson                   14.740328\n",
      "4              Seattle                   14.954002\n",
      "5           Louisville                   15.304407\n",
      "6                 Mesa                   16.468339\n",
      "7        Oklahoma City                   16.471100\n",
      "8              El Paso                   16.619520\n",
      "9          Albuquerque                   16.662324\n",
      "10          Fort Worth                   17.207146\n",
      "11           Charlotte                   18.132727\n",
      "12              Denver                   19.548533\n",
      "13            Honolulu                   19.712974\n",
      "14           Nashville                   20.997664\n",
      "15       San Francisco                   24.601539\n",
      "16         Kansas City                   25.670456\n",
      "17           Milwaukee                   27.876232\n",
      "18              Boston                   30.989361\n",
      "19             Memphis                   31.211313\n",
      "20             Atlanta                   31.480565\n",
      "21             Detroit                   36.736984\n",
      "22           Baltimore                   39.963694\n",
      "23          Washington                   53.354227\n"
     ]
    }
   ],
   "source": [
    "# SAME THING BUT LOOKING @ CITIES ~ SAME SIZE AS BOSTON\n",
    "# population_group_desc = 'Cities from 500,000 thru 999,999'\n",
    "# Since 1995 - Present, Boston population has remained between 500k - 999k\n",
    "\n",
    "employee_nums_500k_to_999k_pop = employee_nums_2015_2021.loc[employee_nums_2015_2021[\"population_group_desc\"] == 'Cities from 500,000 thru 999,999']\n",
    "\n",
    "print(len(employee_nums_500k_to_999k_pop))\n",
    "\n",
    "stat_vals = getValsFrom(employee_nums_500k_to_999k_pop)\n",
    "\n",
    "boston_vals = stat_vals['boston_vals']\n",
    "average_vals = stat_vals['average_vals']\n",
    "median_vals = stat_vals['median_vals']\n",
    "city_vals_each_year = stat_vals['city_vals_each_year']\n",
    "boston_percentiles = stat_vals['boston_percentiles'] # 0th index is earliest year, last index is latest (2021) year\n",
    "cities_by_year = stat_vals['cities_by_year']\n",
    "\n",
    "print(boston_vals)\n",
    "print(average_vals)\n",
    "print(median_vals)\n",
    "\n",
    "# ----- BAR GRAPH (BOSTON VS MEDIAN) -----\n",
    "\n",
    "# Create plots\n",
    "year = [\"2015\"] * 2 + [\"2016\"] * 2 + [\"2017\"] * 2 + [\"2018\"] * 2 + [\"2019\"] * 2 + [\"2020\"] * 2 + [\"2021\"] * 2\n",
    "values = []\n",
    "labels = []\n",
    "\n",
    "for i in range(int(len(year)/2)):\n",
    "    values.append(median_vals[i])\n",
    "    values.append(boston_vals[i])\n",
    "    labels.append(\"Median\")\n",
    "    labels.append(\"Boston\")\n",
    "\n",
    "fig3_dict = {\n",
    "    'Year': year,\n",
    "    'Officers per 10k residents': values,\n",
    "    'Key': labels\n",
    "}\n",
    "\n",
    "df3 = pd.DataFrame(fig3_dict)\n",
    "fig3 = px.bar(df3, x='Year', y='Officers per 10k residents', color='Key', title='Officers Per 10,000 Residents (Boston vs cities with populations between 500,000 and 999,999)', barmode=\"group\", color_discrete_map={\n",
    "        'Boston': '#EF404E',\n",
    "        'Median': '#231F20'\n",
    "    })\n",
    "\n",
    "fig3.update_layout(\n",
    "    plot_bgcolor='rgba(0,0,0,0)',\n",
    "    font_family=\"GT America\",\n",
    "    font_color=\"black\",\n",
    "    xaxis_title=None,\n",
    "    margin=dict(\n",
    "        t=100,\n",
    "        b=120,\n",
    "        pad=4\n",
    "    ),\n",
    "    width=1050\n",
    ")\n",
    "\n",
    "# Subtitle\n",
    "fig3.update_layout(\n",
    "    title=go.layout.Title(\n",
    "        text=\"Boston consistently retains more officers per resident than the median of similar sized cities <br><sup style='color:gray;'>Compared cities have populations between 500,000 and 999,999</sup>\",\n",
    "        xref=\"paper\",\n",
    "        x=0,\n",
    "        font_family=\"GT America Bold\",\n",
    "        font_size=20\n",
    "    )\n",
    ")\n",
    "\n",
    "fig3.update_yaxes(showgrid=True, gridwidth=0.5, gridcolor='LightGray')\n",
    "\n",
    "# Create caption text\n",
    "cities_2021 = cities_by_year[2021]\n",
    "cities_and_offc_per_capita = list(map(list, zip(*cities_2021))) # Index 0 = cities list, index 1 = offc/resident list\n",
    "cities_and_offc_per_capita[0].reverse()\n",
    "cities_and_offc_per_capita[0][9] = 'Nashville'\n",
    "caption_list = cities_and_offc_per_capita[0][:10] \n",
    "caption_txt = ', '.join(caption_list)\n",
    "caption_txt = caption_txt[:69] + '<br>' + caption_txt[69:]\n",
    "\n",
    "# Caption\n",
    "fig3.add_annotation(xref='paper',\n",
    "    yref='paper',\n",
    "    x=0, y=-0.4,\n",
    "    showarrow=False,\n",
    "    text =\"A total of 24 cities were compared in 2021.<br>Top 10 cities by officers/resident in 2021 (decending order): \" + caption_txt,\n",
    "    font_size=13,\n",
    "    font_color=\"gray\",\n",
    "    font_family=\"GT America\",\n",
    "    align=\"left\")\n",
    "\n",
    "    \n",
    "\n",
    "fig3.show()\n",
    "\n",
    "# ----- BAR GRAPH (BOSTON VS AVG) -----\n",
    "\n",
    "# Create plots\n",
    "year = [\"2015\"] * 2 + [\"2016\"] * 2 + [\"2017\"] * 2 + [\"2018\"] * 2 + [\"2019\"] * 2 + [\"2020\"] * 2 + [\"2021\"] * 2\n",
    "values = []\n",
    "labels = []\n",
    "\n",
    "for i in range(int(len(year)/2)):\n",
    "    values.append(average_vals[i])\n",
    "    values.append(boston_vals[i])\n",
    "    labels.append(\"Average\")\n",
    "    labels.append(\"Boston\")\n",
    "\n",
    "fig3_dict = {\n",
    "    'Year': year,\n",
    "    'Officers per 10k residents': values,\n",
    "    'Key': labels\n",
    "}\n",
    "\n",
    "df3 = pd.DataFrame(fig3_dict)\n",
    "fig3 = px.bar(df3, x='Year', y='Officers per 10k residents', color='Key', title='Officers Per 10,000 Residents (Median of departments in cities w/ 500k - 999k population)', barmode=\"group\", color_discrete_map={\n",
    "        'Boston': '#EF404E',\n",
    "        'Average': '#231F20'\n",
    "    })\n",
    "    \n",
    "# Font\n",
    "fig3.update_layout(\n",
    "    plot_bgcolor='rgba(0,0,0,0)',\n",
    "    font_family=\"GT America\",\n",
    "    font_color=\"black\",\n",
    "    xaxis_title=None,\n",
    "    margin=dict(\n",
    "        t=100,\n",
    "        b=120,\n",
    "        pad=4\n",
    "    ),\n",
    "    width=1050\n",
    ")\n",
    "\n",
    "# Subtitle\n",
    "fig3.update_layout(\n",
    "    title=go.layout.Title(\n",
    "        text=\"Boston consistently retains more officers per resident than the average of similar sized cities <br><sup style='color:gray;'>Compared cities have populations between 500,000 and 999,999</sup>\",\n",
    "        xref=\"paper\",\n",
    "        x=0,\n",
    "        font_family=\"GT America Bold\",\n",
    "        font_size=20\n",
    "    )\n",
    ")\n",
    "\n",
    "fig3.update_yaxes(showgrid=True, gridwidth=0.5, gridcolor='LightGray')\n",
    "\n",
    "# Caption\n",
    "fig3.add_annotation(xref='paper',\n",
    "    yref='paper',\n",
    "    x=0, y=-0.4,\n",
    "    showarrow=False,\n",
    "    text =\"A total of 24 cities were compared in 2021.<br>Top 10 cities by officers/resident in 2021 (decending order): \" + caption_txt,\n",
    "    font_size=13,\n",
    "    font_color=\"gray\",\n",
    "    font_family=\"GT America\",\n",
    "    align=\"left\")\n",
    "\n",
    "fig3.show()\n",
    "\n",
    "# ----- DISTRIBUTION GRAPHS (Looks horrible so decided not to use) -----\n",
    "\n",
    "# ----- BAR GRAPH (BY CITY) -----\n",
    "\n",
    "cities_2021 = cities_by_year[2021]\n",
    "cities_and_offc_per_capita = list(map(list, zip(*cities_2021))) # Index 0 = cities list, index 1 = offc/resident list\n",
    "cities_and_offc_per_capita[0][5] = 'Louisville'\n",
    "cities_and_offc_per_capita[0][11] = 'Charlotte'\n",
    "cities_and_offc_per_capita[0][14] = 'Nashville'\n",
    "\n",
    "fig5_dict = {\n",
    "    'City or Agency Name': cities_and_offc_per_capita[0],\n",
    "    'Officers per 10k residents': cities_and_offc_per_capita[1]\n",
    "}\n",
    "\n",
    "pd.options.plotting.backend = \"plotly\"\n",
    "df5 = pd.DataFrame(fig5_dict)\n",
    "# using Plotly Express via the Pandas backend\n",
    "\n",
    "color_seq = ['#BBBBBB'] * 18 + ['#EF404E'] + ['#BBBBBB'] * 5\n",
    "\n",
    "fig5 = px.bar(\n",
    "    df5,\n",
    "    x='City or Agency Name', \n",
    "    y='Officers per 10k residents', \n",
    "    color=color_seq,\n",
    "    color_discrete_map=\"identity\",\n",
    "    category_orders={'City or Agency Name': cities_and_offc_per_capita[0]}\n",
    ")\n",
    "\n",
    "# Customize title to add captions!\n",
    "fig5.update_layout(\n",
    "    title=go.layout.Title(\n",
    "        text=\"Boston has more officers per resident than 70% of other similar sized cities (2021) <br><sup style='color:gray;'>Compared cities have populations between 500,000 and 999,999</sup>\",\n",
    "        xref=\"paper\",\n",
    "        x=0,\n",
    "        font_family=\"GT America Bold\",\n",
    "        font_size=20\n",
    "    )\n",
    ")\n",
    "\n",
    "# Aesthetic customizations\n",
    "fig5.update_layout(\n",
    "    plot_bgcolor='rgba(0,0,0,0)', \n",
    "    height=525,\n",
    "    font_family=\"GT America\",\n",
    "    font_color=\"black\",\n",
    "    xaxis_title=None,\n",
    "    margin=dict(\n",
    "        l=75,\n",
    "        r=75,\n",
    "        b=100,\n",
    "        t=100,\n",
    "        pad=4\n",
    "    ),\n",
    "    width=1050\n",
    ")\n",
    "\n",
    "fig5.update_yaxes(showgrid=True, gridwidth=0.5, gridcolor='LightGray')\n",
    "fig5.show()\n",
    "\n",
    "print(df5)\n"
   ]
  },
  {
   "cell_type": "markdown",
   "metadata": {},
   "source": [
    "Question 4: \n",
    "BPD proposed vs adopted budget\n",
    "\n",
    "Proposed Budget --> Adopted Budget --> Appropriated Budget --> Actual Expenditure\n",
    "\n",
    "FY15 Adopted: $319700081\n",
    "FY15 Approp: $319700081\n",
    "FY15 Exp: $337310895\n",
    "\n",
    "FY16 Adopted: $323509388\n",
    "FY16 Approp: $332544971\n",
    "FY16 Exp: $348887844\n",
    "\n",
    "FY17 Adopted: $356341193\n",
    "FY17 Approp: $364321048\n",
    "FY17 Exp: $364594820\n",
    "\n",
    "FY18 Adopted: $373814105\n",
    "FY18 Approp: $385562872\n",
    "FY18 Exp: $399924493\n",
    "\n",
    "FY19 Adopted: $400425675\n",
    "FY19 Approp: $400435574\n",
    "FY19 Exp: $416762373\n",
    "\n",
    "FY20 Adopted: $414237376\n",
    "FY20 Approp: $414306876\n",
    "FY20 Exp: $425553210\n",
    "\n",
    "FY21 Adopted: $404182025\n",
    "FY21 Approp: $404182025\n",
    "FY21 Exp: $422917499\n",
    "\n",
    "FY22 Adopted: $399871218\n",
    "FY22 Approp: $400451303\n",
    " \n",
    "FY23 Adopted: $395094796\n",
    "\n",
    "Issue: We dont have a lot of data for proposed budget\n",
    "\n",
    "Question: What do we learn by comparing proposed & adopted budgets? Wouldn't it be more useful to compare adopted budget & actual expenditures, or just measure all types of budgets + expenditure?"
   ]
  },
  {
   "cell_type": "code",
   "execution_count": 12,
   "metadata": {},
   "outputs": [
    {
     "data": {
      "application/vnd.plotly.v1+json": {
       "config": {
        "plotlyServerURL": "https://plot.ly"
       },
       "data": [
        {
         "alignmentgroup": "True",
         "hovertemplate": "Key=Adopted Budget<br>Year=%{x}<br>Budget / Expense Value=%{y}<extra></extra>",
         "legendgroup": "Adopted Budget",
         "marker": {
          "color": "#BBBBBB",
          "pattern": {
           "shape": ""
          }
         },
         "name": "Adopted Budget",
         "offsetgroup": "Adopted Budget",
         "orientation": "v",
         "showlegend": true,
         "textposition": "auto",
         "type": "bar",
         "x": [
          "FY15",
          "FY16",
          "FY17",
          "FY18",
          "FY19",
          "FY20",
          "FY21",
          "FY22",
          "FY23"
         ],
         "xaxis": "x",
         "y": [
          319700081,
          323509388,
          356341193,
          373814105,
          400425675,
          414237376,
          404182025,
          399871218,
          395094796
         ],
         "yaxis": "y"
        },
        {
         "alignmentgroup": "True",
         "hovertemplate": "Key=Appropriated Budget<br>Year=%{x}<br>Budget / Expense Value=%{y}<extra></extra>",
         "legendgroup": "Appropriated Budget",
         "marker": {
          "color": "#231F20",
          "pattern": {
           "shape": ""
          }
         },
         "name": "Appropriated Budget",
         "offsetgroup": "Appropriated Budget",
         "orientation": "v",
         "showlegend": true,
         "textposition": "auto",
         "type": "bar",
         "x": [
          "FY15",
          "FY16",
          "FY17",
          "FY18",
          "FY19",
          "FY20",
          "FY21",
          "FY22"
         ],
         "xaxis": "x",
         "y": [
          319700081,
          332544971,
          364321048,
          385562872,
          400435574,
          414306876,
          404182025,
          400451303
         ],
         "yaxis": "y"
        },
        {
         "alignmentgroup": "True",
         "hovertemplate": "Key=Expense<br>Year=%{x}<br>Budget / Expense Value=%{y}<extra></extra>",
         "legendgroup": "Expense",
         "marker": {
          "color": "#EF404E",
          "pattern": {
           "shape": ""
          }
         },
         "name": "Expense",
         "offsetgroup": "Expense",
         "orientation": "v",
         "showlegend": true,
         "textposition": "auto",
         "type": "bar",
         "x": [
          "FY15",
          "FY16",
          "FY17",
          "FY18",
          "FY19",
          "FY20",
          "FY21"
         ],
         "xaxis": "x",
         "y": [
          337310895,
          348887844,
          364594820,
          399924493,
          416762373,
          425553210,
          422917499
         ],
         "yaxis": "y"
        }
       ],
       "layout": {
        "annotations": [
         {
          "align": "left",
          "font": {
           "color": "gray",
           "family": "GT America",
           "size": 13
          },
          "showarrow": false,
          "text": "Adopted Budget: The budget initially accepted by the city<br>Appropriated Budget: The budget that includes supplemental budget changes throughout the year<br>Expense: The actual expense calculated at the end of the fiscal year",
          "x": 0,
          "xref": "paper",
          "y": -0.4,
          "yref": "paper"
         }
        ],
        "barmode": "group",
        "font": {
         "color": "black",
         "family": "GT America"
        },
        "height": 500,
        "legend": {
         "title": {
          "text": "Key"
         },
         "tracegroupgap": 0
        },
        "margin": {
         "b": 150,
         "l": 100,
         "pad": 4,
         "r": 100,
         "t": 100
        },
        "plot_bgcolor": "rgba(0,0,0,0)",
        "template": {
         "data": {
          "bar": [
           {
            "error_x": {
             "color": "#2a3f5f"
            },
            "error_y": {
             "color": "#2a3f5f"
            },
            "marker": {
             "line": {
              "color": "#E5ECF6",
              "width": 0.5
             },
             "pattern": {
              "fillmode": "overlay",
              "size": 10,
              "solidity": 0.2
             }
            },
            "type": "bar"
           }
          ],
          "barpolar": [
           {
            "marker": {
             "line": {
              "color": "#E5ECF6",
              "width": 0.5
             },
             "pattern": {
              "fillmode": "overlay",
              "size": 10,
              "solidity": 0.2
             }
            },
            "type": "barpolar"
           }
          ],
          "carpet": [
           {
            "aaxis": {
             "endlinecolor": "#2a3f5f",
             "gridcolor": "white",
             "linecolor": "white",
             "minorgridcolor": "white",
             "startlinecolor": "#2a3f5f"
            },
            "baxis": {
             "endlinecolor": "#2a3f5f",
             "gridcolor": "white",
             "linecolor": "white",
             "minorgridcolor": "white",
             "startlinecolor": "#2a3f5f"
            },
            "type": "carpet"
           }
          ],
          "choropleth": [
           {
            "colorbar": {
             "outlinewidth": 0,
             "ticks": ""
            },
            "type": "choropleth"
           }
          ],
          "contour": [
           {
            "colorbar": {
             "outlinewidth": 0,
             "ticks": ""
            },
            "colorscale": [
             [
              0,
              "#0d0887"
             ],
             [
              0.1111111111111111,
              "#46039f"
             ],
             [
              0.2222222222222222,
              "#7201a8"
             ],
             [
              0.3333333333333333,
              "#9c179e"
             ],
             [
              0.4444444444444444,
              "#bd3786"
             ],
             [
              0.5555555555555556,
              "#d8576b"
             ],
             [
              0.6666666666666666,
              "#ed7953"
             ],
             [
              0.7777777777777778,
              "#fb9f3a"
             ],
             [
              0.8888888888888888,
              "#fdca26"
             ],
             [
              1,
              "#f0f921"
             ]
            ],
            "type": "contour"
           }
          ],
          "contourcarpet": [
           {
            "colorbar": {
             "outlinewidth": 0,
             "ticks": ""
            },
            "type": "contourcarpet"
           }
          ],
          "heatmap": [
           {
            "colorbar": {
             "outlinewidth": 0,
             "ticks": ""
            },
            "colorscale": [
             [
              0,
              "#0d0887"
             ],
             [
              0.1111111111111111,
              "#46039f"
             ],
             [
              0.2222222222222222,
              "#7201a8"
             ],
             [
              0.3333333333333333,
              "#9c179e"
             ],
             [
              0.4444444444444444,
              "#bd3786"
             ],
             [
              0.5555555555555556,
              "#d8576b"
             ],
             [
              0.6666666666666666,
              "#ed7953"
             ],
             [
              0.7777777777777778,
              "#fb9f3a"
             ],
             [
              0.8888888888888888,
              "#fdca26"
             ],
             [
              1,
              "#f0f921"
             ]
            ],
            "type": "heatmap"
           }
          ],
          "heatmapgl": [
           {
            "colorbar": {
             "outlinewidth": 0,
             "ticks": ""
            },
            "colorscale": [
             [
              0,
              "#0d0887"
             ],
             [
              0.1111111111111111,
              "#46039f"
             ],
             [
              0.2222222222222222,
              "#7201a8"
             ],
             [
              0.3333333333333333,
              "#9c179e"
             ],
             [
              0.4444444444444444,
              "#bd3786"
             ],
             [
              0.5555555555555556,
              "#d8576b"
             ],
             [
              0.6666666666666666,
              "#ed7953"
             ],
             [
              0.7777777777777778,
              "#fb9f3a"
             ],
             [
              0.8888888888888888,
              "#fdca26"
             ],
             [
              1,
              "#f0f921"
             ]
            ],
            "type": "heatmapgl"
           }
          ],
          "histogram": [
           {
            "marker": {
             "pattern": {
              "fillmode": "overlay",
              "size": 10,
              "solidity": 0.2
             }
            },
            "type": "histogram"
           }
          ],
          "histogram2d": [
           {
            "colorbar": {
             "outlinewidth": 0,
             "ticks": ""
            },
            "colorscale": [
             [
              0,
              "#0d0887"
             ],
             [
              0.1111111111111111,
              "#46039f"
             ],
             [
              0.2222222222222222,
              "#7201a8"
             ],
             [
              0.3333333333333333,
              "#9c179e"
             ],
             [
              0.4444444444444444,
              "#bd3786"
             ],
             [
              0.5555555555555556,
              "#d8576b"
             ],
             [
              0.6666666666666666,
              "#ed7953"
             ],
             [
              0.7777777777777778,
              "#fb9f3a"
             ],
             [
              0.8888888888888888,
              "#fdca26"
             ],
             [
              1,
              "#f0f921"
             ]
            ],
            "type": "histogram2d"
           }
          ],
          "histogram2dcontour": [
           {
            "colorbar": {
             "outlinewidth": 0,
             "ticks": ""
            },
            "colorscale": [
             [
              0,
              "#0d0887"
             ],
             [
              0.1111111111111111,
              "#46039f"
             ],
             [
              0.2222222222222222,
              "#7201a8"
             ],
             [
              0.3333333333333333,
              "#9c179e"
             ],
             [
              0.4444444444444444,
              "#bd3786"
             ],
             [
              0.5555555555555556,
              "#d8576b"
             ],
             [
              0.6666666666666666,
              "#ed7953"
             ],
             [
              0.7777777777777778,
              "#fb9f3a"
             ],
             [
              0.8888888888888888,
              "#fdca26"
             ],
             [
              1,
              "#f0f921"
             ]
            ],
            "type": "histogram2dcontour"
           }
          ],
          "mesh3d": [
           {
            "colorbar": {
             "outlinewidth": 0,
             "ticks": ""
            },
            "type": "mesh3d"
           }
          ],
          "parcoords": [
           {
            "line": {
             "colorbar": {
              "outlinewidth": 0,
              "ticks": ""
             }
            },
            "type": "parcoords"
           }
          ],
          "pie": [
           {
            "automargin": true,
            "type": "pie"
           }
          ],
          "scatter": [
           {
            "fillpattern": {
             "fillmode": "overlay",
             "size": 10,
             "solidity": 0.2
            },
            "type": "scatter"
           }
          ],
          "scatter3d": [
           {
            "line": {
             "colorbar": {
              "outlinewidth": 0,
              "ticks": ""
             }
            },
            "marker": {
             "colorbar": {
              "outlinewidth": 0,
              "ticks": ""
             }
            },
            "type": "scatter3d"
           }
          ],
          "scattercarpet": [
           {
            "marker": {
             "colorbar": {
              "outlinewidth": 0,
              "ticks": ""
             }
            },
            "type": "scattercarpet"
           }
          ],
          "scattergeo": [
           {
            "marker": {
             "colorbar": {
              "outlinewidth": 0,
              "ticks": ""
             }
            },
            "type": "scattergeo"
           }
          ],
          "scattergl": [
           {
            "marker": {
             "colorbar": {
              "outlinewidth": 0,
              "ticks": ""
             }
            },
            "type": "scattergl"
           }
          ],
          "scattermapbox": [
           {
            "marker": {
             "colorbar": {
              "outlinewidth": 0,
              "ticks": ""
             }
            },
            "type": "scattermapbox"
           }
          ],
          "scatterpolar": [
           {
            "marker": {
             "colorbar": {
              "outlinewidth": 0,
              "ticks": ""
             }
            },
            "type": "scatterpolar"
           }
          ],
          "scatterpolargl": [
           {
            "marker": {
             "colorbar": {
              "outlinewidth": 0,
              "ticks": ""
             }
            },
            "type": "scatterpolargl"
           }
          ],
          "scatterternary": [
           {
            "marker": {
             "colorbar": {
              "outlinewidth": 0,
              "ticks": ""
             }
            },
            "type": "scatterternary"
           }
          ],
          "surface": [
           {
            "colorbar": {
             "outlinewidth": 0,
             "ticks": ""
            },
            "colorscale": [
             [
              0,
              "#0d0887"
             ],
             [
              0.1111111111111111,
              "#46039f"
             ],
             [
              0.2222222222222222,
              "#7201a8"
             ],
             [
              0.3333333333333333,
              "#9c179e"
             ],
             [
              0.4444444444444444,
              "#bd3786"
             ],
             [
              0.5555555555555556,
              "#d8576b"
             ],
             [
              0.6666666666666666,
              "#ed7953"
             ],
             [
              0.7777777777777778,
              "#fb9f3a"
             ],
             [
              0.8888888888888888,
              "#fdca26"
             ],
             [
              1,
              "#f0f921"
             ]
            ],
            "type": "surface"
           }
          ],
          "table": [
           {
            "cells": {
             "fill": {
              "color": "#EBF0F8"
             },
             "line": {
              "color": "white"
             }
            },
            "header": {
             "fill": {
              "color": "#C8D4E3"
             },
             "line": {
              "color": "white"
             }
            },
            "type": "table"
           }
          ]
         },
         "layout": {
          "annotationdefaults": {
           "arrowcolor": "#2a3f5f",
           "arrowhead": 0,
           "arrowwidth": 1
          },
          "autotypenumbers": "strict",
          "coloraxis": {
           "colorbar": {
            "outlinewidth": 0,
            "ticks": ""
           }
          },
          "colorscale": {
           "diverging": [
            [
             0,
             "#8e0152"
            ],
            [
             0.1,
             "#c51b7d"
            ],
            [
             0.2,
             "#de77ae"
            ],
            [
             0.3,
             "#f1b6da"
            ],
            [
             0.4,
             "#fde0ef"
            ],
            [
             0.5,
             "#f7f7f7"
            ],
            [
             0.6,
             "#e6f5d0"
            ],
            [
             0.7,
             "#b8e186"
            ],
            [
             0.8,
             "#7fbc41"
            ],
            [
             0.9,
             "#4d9221"
            ],
            [
             1,
             "#276419"
            ]
           ],
           "sequential": [
            [
             0,
             "#0d0887"
            ],
            [
             0.1111111111111111,
             "#46039f"
            ],
            [
             0.2222222222222222,
             "#7201a8"
            ],
            [
             0.3333333333333333,
             "#9c179e"
            ],
            [
             0.4444444444444444,
             "#bd3786"
            ],
            [
             0.5555555555555556,
             "#d8576b"
            ],
            [
             0.6666666666666666,
             "#ed7953"
            ],
            [
             0.7777777777777778,
             "#fb9f3a"
            ],
            [
             0.8888888888888888,
             "#fdca26"
            ],
            [
             1,
             "#f0f921"
            ]
           ],
           "sequentialminus": [
            [
             0,
             "#0d0887"
            ],
            [
             0.1111111111111111,
             "#46039f"
            ],
            [
             0.2222222222222222,
             "#7201a8"
            ],
            [
             0.3333333333333333,
             "#9c179e"
            ],
            [
             0.4444444444444444,
             "#bd3786"
            ],
            [
             0.5555555555555556,
             "#d8576b"
            ],
            [
             0.6666666666666666,
             "#ed7953"
            ],
            [
             0.7777777777777778,
             "#fb9f3a"
            ],
            [
             0.8888888888888888,
             "#fdca26"
            ],
            [
             1,
             "#f0f921"
            ]
           ]
          },
          "colorway": [
           "#636efa",
           "#EF553B",
           "#00cc96",
           "#ab63fa",
           "#FFA15A",
           "#19d3f3",
           "#FF6692",
           "#B6E880",
           "#FF97FF",
           "#FECB52"
          ],
          "font": {
           "color": "#2a3f5f"
          },
          "geo": {
           "bgcolor": "white",
           "lakecolor": "white",
           "landcolor": "#E5ECF6",
           "showlakes": true,
           "showland": true,
           "subunitcolor": "white"
          },
          "hoverlabel": {
           "align": "left"
          },
          "hovermode": "closest",
          "mapbox": {
           "style": "light"
          },
          "paper_bgcolor": "white",
          "plot_bgcolor": "#E5ECF6",
          "polar": {
           "angularaxis": {
            "gridcolor": "white",
            "linecolor": "white",
            "ticks": ""
           },
           "bgcolor": "#E5ECF6",
           "radialaxis": {
            "gridcolor": "white",
            "linecolor": "white",
            "ticks": ""
           }
          },
          "scene": {
           "xaxis": {
            "backgroundcolor": "#E5ECF6",
            "gridcolor": "white",
            "gridwidth": 2,
            "linecolor": "white",
            "showbackground": true,
            "ticks": "",
            "zerolinecolor": "white"
           },
           "yaxis": {
            "backgroundcolor": "#E5ECF6",
            "gridcolor": "white",
            "gridwidth": 2,
            "linecolor": "white",
            "showbackground": true,
            "ticks": "",
            "zerolinecolor": "white"
           },
           "zaxis": {
            "backgroundcolor": "#E5ECF6",
            "gridcolor": "white",
            "gridwidth": 2,
            "linecolor": "white",
            "showbackground": true,
            "ticks": "",
            "zerolinecolor": "white"
           }
          },
          "shapedefaults": {
           "line": {
            "color": "#2a3f5f"
           }
          },
          "ternary": {
           "aaxis": {
            "gridcolor": "white",
            "linecolor": "white",
            "ticks": ""
           },
           "baxis": {
            "gridcolor": "white",
            "linecolor": "white",
            "ticks": ""
           },
           "bgcolor": "#E5ECF6",
           "caxis": {
            "gridcolor": "white",
            "linecolor": "white",
            "ticks": ""
           }
          },
          "title": {
           "x": 0.05
          },
          "xaxis": {
           "automargin": true,
           "gridcolor": "white",
           "linecolor": "white",
           "ticks": "",
           "title": {
            "standoff": 15
           },
           "zerolinecolor": "white",
           "zerolinewidth": 2
          },
          "yaxis": {
           "automargin": true,
           "gridcolor": "white",
           "linecolor": "white",
           "ticks": "",
           "title": {
            "standoff": 15
           },
           "zerolinecolor": "white",
           "zerolinewidth": 2
          }
         }
        },
        "title": {
         "font": {
          "family": "GT America Bold",
          "size": 19
         },
         "text": "BPD budget has stabilized after FY2020, following an upward trend of budget increases",
         "x": 0,
         "xref": "paper",
         "y": 0.9
        },
        "width": 1100,
        "xaxis": {
         "anchor": "y",
         "domain": [
          0,
          1
         ],
         "title": {}
        },
        "yaxis": {
         "anchor": "x",
         "domain": [
          0,
          1
         ],
         "gridcolor": "LightGray",
         "gridwidth": 0.5,
         "showgrid": true,
         "tickprefix": "$",
         "title": {}
        }
       }
      }
     },
     "metadata": {},
     "output_type": "display_data"
    }
   ],
   "source": [
    "# BAR CHART\n",
    "from plotly.graph_objs import *\n",
    "\n",
    "year = ['FY15'] * 3 + ['FY16'] * 3 + ['FY17'] * 3 + ['FY18'] * 3 + ['FY19'] * 3 + ['FY20'] * 3 + ['FY21'] * 3 + ['FY22'] * 2 + ['FY23']\n",
    "labels = ['Adopted Budget', 'Appropriated Budget', 'Expense'] * 7 + ['Adopted Budget', 'Appropriated Budget', 'Adopted Budget']\n",
    "values = [319700081, 319700081, 337310895, 323509388, 332544971, 348887844, 356341193, 364321048, 364594820, 373814105, 385562872, 399924493, 400425675, 400435574, 416762373, 414237376, 414306876, 425553210, 404182025, 404182025, 422917499, 399871218, 400451303, 395094796]\n",
    "\n",
    "layout = Layout(\n",
    "    paper_bgcolor='rgba(0,0,0,0)',\n",
    "    plot_bgcolor='rgba(0,0,0,0)'\n",
    ")\n",
    "\n",
    "fig5_dict = {\n",
    "    'Year': year,\n",
    "    'Key': labels,\n",
    "    'Budget / Expense Value': values\n",
    "}\n",
    "\n",
    "df5 = pd.DataFrame(fig5_dict)\n",
    "fig5 = px.bar(df5, x='Year', y='Budget / Expense Value', color='Key', barmode=\"group\", color_discrete_sequence=['#BBBBBB','#231F20','#EF404E'])\n",
    "fig5.update_yaxes(showgrid=True, gridwidth=0.5, gridcolor='LightGray')\n",
    "fig5.update_traces(marker_line_width = 0)\n",
    "\n",
    "# Font & other aesthetic stuff\n",
    "fig5.update_layout(\n",
    "    plot_bgcolor='rgba(0,0,0,0)',\n",
    "    font_family=\"GT America\",\n",
    "    font_color=\"black\",\n",
    "    xaxis_title=None,\n",
    "    yaxis_title=None,\n",
    "    yaxis_tickprefix = '$',\n",
    "    height=500,\n",
    "    width=1100,\n",
    "    margin=dict(\n",
    "        l=100,\n",
    "        r=100,\n",
    "        b=150,\n",
    "        t=100,\n",
    "        pad=4\n",
    "    )\n",
    "    \n",
    ")\n",
    "\n",
    "# Customize title!\n",
    "fig5.update_layout(\n",
    "    title=go.layout.Title(\n",
    "        text=\"BPD budget has stabilized after FY2020, following an upward trend of budget increases\",\n",
    "        xref=\"paper\",\n",
    "        x=0,\n",
    "        y=0.9,\n",
    "        font_family=\"GT America Bold\",\n",
    "        font_size=19\n",
    "    )\n",
    ")\n",
    "\n",
    "fig5.add_annotation(xref='paper',\n",
    "            yref='paper',\n",
    "            x=0, y=-0.4,\n",
    "            showarrow=False,\n",
    "            text =\"Adopted Budget: The budget initially accepted by the city<br>Appropriated Budget: The budget that includes supplemental budget changes throughout the year<br>Expense: The actual expense calculated at the end of the fiscal year\",\n",
    "            font_size=13,\n",
    "            font_color=\"gray\",\n",
    "            font_family=\"GT America\",\n",
    "            align=\"left\"\n",
    "            )\n",
    "\n",
    "fig5.show()"
   ]
  },
  {
   "cell_type": "markdown",
   "metadata": {},
   "source": [
    "Extension Project\n",
    "\n",
    "Ideas for analyzing OT data:\n",
    "- OT hours at Mass/Cass over the years & different mayors trying to improve the situation\n",
    "- Analyze shift information --> Find trends\n"
   ]
  },
  {
   "cell_type": "code",
   "execution_count": 8,
   "metadata": {},
   "outputs": [
    {
     "data": {
      "text/html": [
       "<div>\n",
       "<style scoped>\n",
       "    .dataframe tbody tr th:only-of-type {\n",
       "        vertical-align: middle;\n",
       "    }\n",
       "\n",
       "    .dataframe tbody tr th {\n",
       "        vertical-align: top;\n",
       "    }\n",
       "\n",
       "    .dataframe thead th {\n",
       "        text-align: right;\n",
       "    }\n",
       "</style>\n",
       "<table border=\"1\" class=\"dataframe\">\n",
       "  <thead>\n",
       "    <tr style=\"text-align: right;\">\n",
       "      <th></th>\n",
       "      <th>ID</th>\n",
       "      <th>NAME</th>\n",
       "      <th>RANK</th>\n",
       "      <th>ASSIGNED</th>\n",
       "      <th>ASSIGNED_DESC</th>\n",
       "      <th>CHARGED</th>\n",
       "      <th>CHARGED_DESC</th>\n",
       "      <th>OTDATE</th>\n",
       "      <th>OTCODE</th>\n",
       "      <th>DESCRIPTION</th>\n",
       "      <th>STARTTIME</th>\n",
       "      <th>ENDTIME</th>\n",
       "      <th>OTHOURS</th>\n",
       "      <th>DESCRIPTIONS</th>\n",
       "      <th>TYPE</th>\n",
       "    </tr>\n",
       "  </thead>\n",
       "  <tbody>\n",
       "    <tr>\n",
       "      <th>144204</th>\n",
       "      <td>11212</td>\n",
       "      <td>McCarthy,Michael P</td>\n",
       "      <td>LtDet</td>\n",
       "      <td>24111</td>\n",
       "      <td>C-11 DETECTIVES</td>\n",
       "      <td>40110</td>\n",
       "      <td>SPECIAL EVENTS</td>\n",
       "      <td>2019-08-01</td>\n",
       "      <td>449</td>\n",
       "      <td>MASS / MELNEA</td>\n",
       "      <td>1600</td>\n",
       "      <td>2000</td>\n",
       "      <td>4.00</td>\n",
       "      <td>SPECIAL EVENTS</td>\n",
       "      <td>4</td>\n",
       "    </tr>\n",
       "    <tr>\n",
       "      <th>144205</th>\n",
       "      <td>10167</td>\n",
       "      <td>Doyle,Michael</td>\n",
       "      <td>Ptl</td>\n",
       "      <td>40010</td>\n",
       "      <td>COURT UNIT</td>\n",
       "      <td>40110</td>\n",
       "      <td>SPECIAL EVENTS</td>\n",
       "      <td>2019-08-01</td>\n",
       "      <td>449</td>\n",
       "      <td>MASS / MELNEA</td>\n",
       "      <td>1900</td>\n",
       "      <td>2345</td>\n",
       "      <td>4.75</td>\n",
       "      <td>SPECIAL EVENTS</td>\n",
       "      <td>4</td>\n",
       "    </tr>\n",
       "    <tr>\n",
       "      <th>144209</th>\n",
       "      <td>9035</td>\n",
       "      <td>Power,Kevin T</td>\n",
       "      <td>SgtDet</td>\n",
       "      <td>24104</td>\n",
       "      <td>D-4   DETECTIVES</td>\n",
       "      <td>40110</td>\n",
       "      <td>SPECIAL EVENTS</td>\n",
       "      <td>2019-08-01</td>\n",
       "      <td>449</td>\n",
       "      <td>MASS / MELNEA</td>\n",
       "      <td>1900</td>\n",
       "      <td>2345</td>\n",
       "      <td>4.75</td>\n",
       "      <td>SPECIAL EVENTS</td>\n",
       "      <td>4</td>\n",
       "    </tr>\n",
       "    <tr>\n",
       "      <th>144212</th>\n",
       "      <td>116897</td>\n",
       "      <td>Rooney,Sean M</td>\n",
       "      <td>Ptl</td>\n",
       "      <td>41010</td>\n",
       "      <td>DISTRICT 01</td>\n",
       "      <td>40110</td>\n",
       "      <td>SPECIAL EVENTS</td>\n",
       "      <td>2019-08-01</td>\n",
       "      <td>449</td>\n",
       "      <td>MASS / MELNEA</td>\n",
       "      <td>1900</td>\n",
       "      <td>2345</td>\n",
       "      <td>4.75</td>\n",
       "      <td>SPECIAL EVENTS</td>\n",
       "      <td>4</td>\n",
       "    </tr>\n",
       "    <tr>\n",
       "      <th>144215</th>\n",
       "      <td>144324</td>\n",
       "      <td>Avila,Mariana Victoria</td>\n",
       "      <td>Ptl</td>\n",
       "      <td>42020</td>\n",
       "      <td>DISTRICT 02</td>\n",
       "      <td>40110</td>\n",
       "      <td>SPECIAL EVENTS</td>\n",
       "      <td>2019-08-01</td>\n",
       "      <td>449</td>\n",
       "      <td>MASS / MELNEA</td>\n",
       "      <td>1900</td>\n",
       "      <td>2345</td>\n",
       "      <td>4.75</td>\n",
       "      <td>SPECIAL EVENTS</td>\n",
       "      <td>4</td>\n",
       "    </tr>\n",
       "  </tbody>\n",
       "</table>\n",
       "</div>"
      ],
      "text/plain": [
       "            ID                    NAME    RANK  ASSIGNED     ASSIGNED_DESC  \\\n",
       "144204   11212      McCarthy,Michael P   LtDet     24111   C-11 DETECTIVES   \n",
       "144205   10167           Doyle,Michael     Ptl     40010        COURT UNIT   \n",
       "144209    9035           Power,Kevin T  SgtDet     24104  D-4   DETECTIVES   \n",
       "144212  116897           Rooney,Sean M     Ptl     41010       DISTRICT 01   \n",
       "144215  144324  Avila,Mariana Victoria     Ptl     42020       DISTRICT 02   \n",
       "\n",
       "        CHARGED    CHARGED_DESC     OTDATE  OTCODE    DESCRIPTION  STARTTIME  \\\n",
       "144204    40110  SPECIAL EVENTS 2019-08-01     449  MASS / MELNEA       1600   \n",
       "144205    40110  SPECIAL EVENTS 2019-08-01     449  MASS / MELNEA       1900   \n",
       "144209    40110  SPECIAL EVENTS 2019-08-01     449  MASS / MELNEA       1900   \n",
       "144212    40110  SPECIAL EVENTS 2019-08-01     449  MASS / MELNEA       1900   \n",
       "144215    40110  SPECIAL EVENTS 2019-08-01     449  MASS / MELNEA       1900   \n",
       "\n",
       "        ENDTIME  OTHOURS    DESCRIPTIONS  TYPE  \n",
       "144204     2000     4.00  SPECIAL EVENTS     4  \n",
       "144205     2345     4.75  SPECIAL EVENTS     4  \n",
       "144209     2345     4.75  SPECIAL EVENTS     4  \n",
       "144212     2345     4.75  SPECIAL EVENTS     4  \n",
       "144215     2345     4.75  SPECIAL EVENTS     4  "
      ]
     },
     "execution_count": 8,
     "metadata": {},
     "output_type": "execute_result"
    }
   ],
   "source": [
    "# Data Preprocessing\n",
    "import datetime\n",
    "\n",
    "# DATA\n",
    "ot_data_df = pd.read_csv('./Data/Special_Events_Overtime_2012-2021/Special_Events_Overtime_2012-2022.csv')\n",
    "\n",
    "# All dates must be in 21st century\n",
    "def format_time(string):\n",
    "    segments = string.split('/')\n",
    "    month = segments[0]\n",
    "    day = segments[1]\n",
    "    year = segments[2]\n",
    "\n",
    "    year = '20' + year\n",
    "    date_str = month + '/' + day + '/' + year\n",
    "\n",
    "    return datetime.datetime.strptime(date_str, '%m/%d/%Y')\n",
    "\n",
    "# Only keep 'MASS / MELNEA' description rows\n",
    "ot_data_df = ot_data_df.loc[ot_data_df['DESCRIPTION'] == 'MASS / MELNEA']\n",
    "\n",
    "\n",
    "# Format dates\n",
    "ot_data_df['OTDATE'] = ot_data_df['OTDATE'].apply(format_time)\n",
    "\n",
    "\n",
    "ot_data_df.head()"
   ]
  },
  {
   "cell_type": "code",
   "execution_count": 9,
   "metadata": {},
   "outputs": [
    {
     "name": "stdout",
     "output_type": "stream",
     "text": [
      "            OTHOURS\n",
      "OTDATE             \n",
      "2019-08-01   119.50\n",
      "2019-08-02   191.75\n",
      "2019-08-03   110.00\n",
      "2019-08-04   143.75\n",
      "2019-08-05   128.75\n",
      "2019-08-06   128.25\n",
      "2019-08-07   128.25\n",
      "2019-08-08   131.25\n",
      "2019-08-09   114.00\n",
      "2019-08-10   120.75\n"
     ]
    },
    {
     "data": {
      "application/vnd.plotly.v1+json": {
       "config": {
        "plotlyServerURL": "https://plot.ly"
       },
       "data": [
        {
         "hovertemplate": "Date=%{x}<br>Overtime Hours=%{y}<extra></extra>",
         "legendgroup": "",
         "line": {
          "color": "#636efa",
          "dash": "solid"
         },
         "marker": {
          "symbol": "circle"
         },
         "mode": "lines",
         "name": "",
         "showlegend": false,
         "type": "scattergl",
         "x": [
          "2019-08-01T00:00:00",
          "2019-08-02T00:00:00",
          "2019-08-03T00:00:00",
          "2019-08-04T00:00:00",
          "2019-08-05T00:00:00",
          "2019-08-06T00:00:00",
          "2019-08-07T00:00:00",
          "2019-08-08T00:00:00",
          "2019-08-09T00:00:00",
          "2019-08-10T00:00:00",
          "2019-08-11T00:00:00",
          "2019-08-12T00:00:00",
          "2019-08-13T00:00:00",
          "2019-08-14T00:00:00",
          "2019-08-15T00:00:00",
          "2019-08-16T00:00:00",
          "2019-08-17T00:00:00",
          "2019-08-18T00:00:00",
          "2019-08-19T00:00:00",
          "2019-08-20T00:00:00",
          "2019-08-21T00:00:00",
          "2019-08-22T00:00:00",
          "2019-08-23T00:00:00",
          "2019-08-24T00:00:00",
          "2019-08-25T00:00:00",
          "2019-08-26T00:00:00",
          "2019-08-27T00:00:00",
          "2019-08-28T00:00:00",
          "2019-08-29T00:00:00",
          "2019-08-30T00:00:00",
          "2019-08-31T00:00:00",
          "2019-09-01T00:00:00",
          "2019-09-02T00:00:00",
          "2019-09-03T00:00:00",
          "2019-09-04T00:00:00",
          "2019-09-05T00:00:00",
          "2019-09-06T00:00:00",
          "2019-09-07T00:00:00",
          "2019-09-08T00:00:00",
          "2019-09-09T00:00:00",
          "2019-09-10T00:00:00",
          "2019-09-11T00:00:00",
          "2019-09-12T00:00:00",
          "2019-09-13T00:00:00",
          "2019-09-14T00:00:00",
          "2019-09-15T00:00:00",
          "2019-09-16T00:00:00",
          "2019-09-17T00:00:00",
          "2019-09-18T00:00:00",
          "2019-09-19T00:00:00",
          "2019-09-20T00:00:00",
          "2019-09-21T00:00:00",
          "2019-09-22T00:00:00",
          "2019-09-23T00:00:00",
          "2019-09-24T00:00:00",
          "2019-09-25T00:00:00",
          "2019-09-26T00:00:00",
          "2019-09-27T00:00:00",
          "2019-09-28T00:00:00",
          "2019-09-29T00:00:00",
          "2019-09-30T00:00:00",
          "2019-10-01T00:00:00",
          "2019-10-02T00:00:00",
          "2019-10-03T00:00:00",
          "2019-10-04T00:00:00",
          "2019-10-05T00:00:00",
          "2019-10-06T00:00:00",
          "2019-10-07T00:00:00",
          "2019-10-08T00:00:00",
          "2019-10-09T00:00:00",
          "2019-10-10T00:00:00",
          "2019-10-11T00:00:00",
          "2019-10-12T00:00:00",
          "2019-10-13T00:00:00",
          "2019-10-14T00:00:00",
          "2019-10-15T00:00:00",
          "2019-10-16T00:00:00",
          "2019-10-17T00:00:00",
          "2019-10-18T00:00:00",
          "2019-10-19T00:00:00",
          "2019-10-20T00:00:00",
          "2019-10-21T00:00:00",
          "2019-10-22T00:00:00",
          "2019-10-23T00:00:00",
          "2019-10-24T00:00:00",
          "2019-10-25T00:00:00",
          "2019-10-26T00:00:00",
          "2019-10-27T00:00:00",
          "2019-10-28T00:00:00",
          "2019-10-29T00:00:00",
          "2019-10-30T00:00:00",
          "2019-10-31T00:00:00",
          "2019-11-01T00:00:00",
          "2019-11-02T00:00:00",
          "2019-11-03T00:00:00",
          "2019-11-04T00:00:00",
          "2019-11-05T00:00:00",
          "2019-11-06T00:00:00",
          "2019-11-07T00:00:00",
          "2019-11-08T00:00:00",
          "2019-11-09T00:00:00",
          "2019-11-10T00:00:00",
          "2019-11-11T00:00:00",
          "2019-11-12T00:00:00",
          "2019-11-13T00:00:00",
          "2019-11-14T00:00:00",
          "2019-11-15T00:00:00",
          "2019-11-16T00:00:00",
          "2019-11-17T00:00:00",
          "2019-11-18T00:00:00",
          "2019-11-19T00:00:00",
          "2019-11-20T00:00:00",
          "2019-11-21T00:00:00",
          "2019-11-22T00:00:00",
          "2019-11-23T00:00:00",
          "2019-11-24T00:00:00",
          "2019-11-25T00:00:00",
          "2019-11-26T00:00:00",
          "2019-11-27T00:00:00",
          "2019-11-28T00:00:00",
          "2019-11-29T00:00:00",
          "2019-11-30T00:00:00",
          "2019-12-01T00:00:00",
          "2019-12-02T00:00:00",
          "2019-12-03T00:00:00",
          "2019-12-04T00:00:00",
          "2019-12-05T00:00:00",
          "2019-12-06T00:00:00",
          "2019-12-07T00:00:00",
          "2019-12-08T00:00:00",
          "2019-12-09T00:00:00",
          "2019-12-10T00:00:00",
          "2019-12-11T00:00:00",
          "2019-12-12T00:00:00",
          "2019-12-13T00:00:00",
          "2019-12-14T00:00:00",
          "2019-12-15T00:00:00",
          "2019-12-16T00:00:00",
          "2019-12-17T00:00:00",
          "2019-12-18T00:00:00",
          "2019-12-19T00:00:00",
          "2019-12-20T00:00:00",
          "2019-12-21T00:00:00",
          "2019-12-22T00:00:00",
          "2019-12-23T00:00:00",
          "2019-12-24T00:00:00",
          "2019-12-25T00:00:00",
          "2019-12-26T00:00:00",
          "2019-12-27T00:00:00",
          "2019-12-28T00:00:00",
          "2019-12-29T00:00:00",
          "2019-12-30T00:00:00",
          "2019-12-31T00:00:00",
          "2020-01-01T00:00:00",
          "2020-01-02T00:00:00",
          "2020-01-03T00:00:00",
          "2020-01-04T00:00:00",
          "2020-01-05T00:00:00",
          "2020-01-06T00:00:00",
          "2020-01-07T00:00:00",
          "2020-01-08T00:00:00",
          "2020-01-09T00:00:00",
          "2020-01-10T00:00:00",
          "2020-01-11T00:00:00",
          "2020-01-12T00:00:00",
          "2020-01-13T00:00:00",
          "2020-01-14T00:00:00",
          "2020-01-15T00:00:00",
          "2020-01-16T00:00:00",
          "2020-01-17T00:00:00",
          "2020-01-18T00:00:00",
          "2020-01-19T00:00:00",
          "2020-01-20T00:00:00",
          "2020-01-21T00:00:00",
          "2020-01-22T00:00:00",
          "2020-01-23T00:00:00",
          "2020-01-24T00:00:00",
          "2020-01-25T00:00:00",
          "2020-01-26T00:00:00",
          "2020-01-27T00:00:00",
          "2020-01-28T00:00:00",
          "2020-01-29T00:00:00",
          "2020-01-30T00:00:00",
          "2020-01-31T00:00:00",
          "2020-02-01T00:00:00",
          "2020-02-02T00:00:00",
          "2020-02-03T00:00:00",
          "2020-02-04T00:00:00",
          "2020-02-05T00:00:00",
          "2020-02-06T00:00:00",
          "2020-02-07T00:00:00",
          "2020-02-08T00:00:00",
          "2020-02-09T00:00:00",
          "2020-02-10T00:00:00",
          "2020-02-11T00:00:00",
          "2020-02-12T00:00:00",
          "2020-02-13T00:00:00",
          "2020-02-14T00:00:00",
          "2020-02-15T00:00:00",
          "2020-02-16T00:00:00",
          "2020-02-17T00:00:00",
          "2020-02-18T00:00:00",
          "2020-02-19T00:00:00",
          "2020-02-20T00:00:00",
          "2020-02-21T00:00:00",
          "2020-02-22T00:00:00",
          "2020-02-23T00:00:00",
          "2020-02-24T00:00:00",
          "2020-02-25T00:00:00",
          "2020-02-26T00:00:00",
          "2020-02-27T00:00:00",
          "2020-02-28T00:00:00",
          "2020-02-29T00:00:00",
          "2020-03-01T00:00:00",
          "2020-03-02T00:00:00",
          "2020-03-03T00:00:00",
          "2020-03-04T00:00:00",
          "2020-03-05T00:00:00",
          "2020-03-06T00:00:00",
          "2020-03-07T00:00:00",
          "2020-03-08T00:00:00",
          "2020-03-09T00:00:00",
          "2020-03-10T00:00:00",
          "2020-03-11T00:00:00",
          "2020-03-12T00:00:00",
          "2020-03-13T00:00:00",
          "2020-03-14T00:00:00",
          "2020-03-15T00:00:00",
          "2020-03-16T00:00:00",
          "2020-03-17T00:00:00",
          "2020-03-18T00:00:00",
          "2020-03-19T00:00:00",
          "2020-03-20T00:00:00",
          "2020-03-21T00:00:00",
          "2020-03-22T00:00:00",
          "2020-03-23T00:00:00",
          "2020-03-24T00:00:00",
          "2020-03-25T00:00:00",
          "2020-03-26T00:00:00",
          "2020-03-27T00:00:00",
          "2020-03-28T00:00:00",
          "2020-03-29T00:00:00",
          "2020-03-30T00:00:00",
          "2020-03-31T00:00:00",
          "2020-04-01T00:00:00",
          "2020-04-02T00:00:00",
          "2020-04-03T00:00:00",
          "2020-04-04T00:00:00",
          "2020-04-05T00:00:00",
          "2020-04-06T00:00:00",
          "2020-04-07T00:00:00",
          "2020-04-08T00:00:00",
          "2020-04-09T00:00:00",
          "2020-04-10T00:00:00",
          "2020-04-11T00:00:00",
          "2020-04-12T00:00:00",
          "2020-04-13T00:00:00",
          "2020-04-14T00:00:00",
          "2020-04-15T00:00:00",
          "2020-04-16T00:00:00",
          "2020-04-17T00:00:00",
          "2020-04-18T00:00:00",
          "2020-04-19T00:00:00",
          "2020-04-20T00:00:00",
          "2020-04-21T00:00:00",
          "2020-04-22T00:00:00",
          "2020-04-23T00:00:00",
          "2020-04-24T00:00:00",
          "2020-04-25T00:00:00",
          "2020-04-26T00:00:00",
          "2020-04-27T00:00:00",
          "2020-04-28T00:00:00",
          "2020-04-29T00:00:00",
          "2020-04-30T00:00:00",
          "2020-05-01T00:00:00",
          "2020-05-02T00:00:00",
          "2020-05-03T00:00:00",
          "2020-05-04T00:00:00",
          "2020-05-05T00:00:00",
          "2020-05-06T00:00:00",
          "2020-05-07T00:00:00",
          "2020-05-08T00:00:00",
          "2020-05-09T00:00:00",
          "2020-05-10T00:00:00",
          "2020-05-11T00:00:00",
          "2020-05-12T00:00:00",
          "2020-05-13T00:00:00",
          "2020-05-14T00:00:00",
          "2020-05-15T00:00:00",
          "2020-05-16T00:00:00",
          "2020-05-17T00:00:00",
          "2020-05-18T00:00:00",
          "2020-05-19T00:00:00",
          "2020-05-20T00:00:00",
          "2020-05-21T00:00:00",
          "2020-05-22T00:00:00",
          "2020-05-23T00:00:00",
          "2020-05-24T00:00:00",
          "2020-05-25T00:00:00",
          "2020-05-26T00:00:00",
          "2020-05-27T00:00:00",
          "2020-05-28T00:00:00",
          "2020-05-29T00:00:00",
          "2020-05-30T00:00:00",
          "2020-05-31T00:00:00",
          "2020-06-01T00:00:00",
          "2020-06-02T00:00:00",
          "2020-06-03T00:00:00",
          "2020-06-04T00:00:00",
          "2020-06-05T00:00:00",
          "2020-06-06T00:00:00",
          "2020-06-07T00:00:00",
          "2020-06-08T00:00:00",
          "2020-06-09T00:00:00",
          "2020-06-10T00:00:00",
          "2020-06-11T00:00:00",
          "2020-06-12T00:00:00",
          "2020-06-13T00:00:00",
          "2020-06-14T00:00:00",
          "2020-06-15T00:00:00",
          "2020-06-16T00:00:00",
          "2020-06-17T00:00:00",
          "2020-06-18T00:00:00",
          "2020-06-19T00:00:00",
          "2020-06-20T00:00:00",
          "2020-06-21T00:00:00",
          "2020-06-22T00:00:00",
          "2020-06-23T00:00:00",
          "2020-06-24T00:00:00",
          "2020-06-25T00:00:00",
          "2020-06-26T00:00:00",
          "2020-06-27T00:00:00",
          "2020-06-28T00:00:00",
          "2020-06-29T00:00:00",
          "2020-06-30T00:00:00",
          "2020-07-01T00:00:00",
          "2020-07-02T00:00:00",
          "2020-07-03T00:00:00",
          "2020-07-04T00:00:00",
          "2020-07-05T00:00:00",
          "2020-07-06T00:00:00",
          "2020-07-07T00:00:00",
          "2020-07-08T00:00:00",
          "2020-07-09T00:00:00",
          "2020-07-10T00:00:00",
          "2020-07-11T00:00:00",
          "2020-07-12T00:00:00",
          "2020-07-13T00:00:00",
          "2020-07-14T00:00:00",
          "2020-07-15T00:00:00",
          "2020-07-16T00:00:00",
          "2020-07-17T00:00:00",
          "2020-07-18T00:00:00",
          "2020-07-19T00:00:00",
          "2020-07-20T00:00:00",
          "2020-07-21T00:00:00",
          "2020-07-22T00:00:00",
          "2020-07-23T00:00:00",
          "2020-07-24T00:00:00",
          "2020-07-25T00:00:00",
          "2020-07-26T00:00:00",
          "2020-07-27T00:00:00",
          "2020-07-28T00:00:00",
          "2020-07-29T00:00:00",
          "2020-07-30T00:00:00",
          "2020-07-31T00:00:00",
          "2020-08-01T00:00:00",
          "2020-08-02T00:00:00",
          "2020-08-03T00:00:00",
          "2020-08-04T00:00:00",
          "2020-08-05T00:00:00",
          "2020-08-06T00:00:00",
          "2020-08-07T00:00:00",
          "2020-08-08T00:00:00",
          "2020-08-09T00:00:00",
          "2020-08-10T00:00:00",
          "2020-08-11T00:00:00",
          "2020-08-12T00:00:00",
          "2020-08-13T00:00:00",
          "2020-08-14T00:00:00",
          "2020-08-15T00:00:00",
          "2020-08-16T00:00:00",
          "2020-08-17T00:00:00",
          "2020-08-18T00:00:00",
          "2020-08-19T00:00:00",
          "2020-08-20T00:00:00",
          "2020-08-21T00:00:00",
          "2020-08-22T00:00:00",
          "2020-08-23T00:00:00",
          "2020-08-24T00:00:00",
          "2020-08-25T00:00:00",
          "2020-08-26T00:00:00",
          "2020-08-27T00:00:00",
          "2020-08-28T00:00:00",
          "2020-08-29T00:00:00",
          "2020-08-30T00:00:00",
          "2020-08-31T00:00:00",
          "2020-09-01T00:00:00",
          "2020-09-02T00:00:00",
          "2020-09-03T00:00:00",
          "2020-09-04T00:00:00",
          "2020-09-05T00:00:00",
          "2020-09-06T00:00:00",
          "2020-09-07T00:00:00",
          "2020-09-08T00:00:00",
          "2020-09-09T00:00:00",
          "2020-09-10T00:00:00",
          "2020-09-11T00:00:00",
          "2020-09-12T00:00:00",
          "2020-09-13T00:00:00",
          "2020-09-14T00:00:00",
          "2020-09-15T00:00:00",
          "2020-09-16T00:00:00",
          "2020-09-17T00:00:00",
          "2020-09-18T00:00:00",
          "2020-09-19T00:00:00",
          "2020-09-20T00:00:00",
          "2020-09-21T00:00:00",
          "2020-09-22T00:00:00",
          "2020-09-23T00:00:00",
          "2020-09-24T00:00:00",
          "2020-09-25T00:00:00",
          "2020-09-26T00:00:00",
          "2020-09-27T00:00:00",
          "2020-09-28T00:00:00",
          "2020-09-29T00:00:00",
          "2020-09-30T00:00:00",
          "2020-10-01T00:00:00",
          "2020-10-02T00:00:00",
          "2020-10-03T00:00:00",
          "2020-10-04T00:00:00",
          "2020-10-05T00:00:00",
          "2020-10-06T00:00:00",
          "2020-10-07T00:00:00",
          "2020-10-08T00:00:00",
          "2020-10-09T00:00:00",
          "2020-10-10T00:00:00",
          "2020-10-11T00:00:00",
          "2020-10-12T00:00:00",
          "2020-10-13T00:00:00",
          "2020-10-14T00:00:00",
          "2020-10-15T00:00:00",
          "2020-10-16T00:00:00",
          "2020-10-17T00:00:00",
          "2020-10-18T00:00:00",
          "2020-10-19T00:00:00",
          "2020-10-20T00:00:00",
          "2020-10-21T00:00:00",
          "2020-10-22T00:00:00",
          "2020-10-23T00:00:00",
          "2020-10-24T00:00:00",
          "2020-10-25T00:00:00",
          "2020-10-26T00:00:00",
          "2020-10-27T00:00:00",
          "2020-10-28T00:00:00",
          "2020-10-29T00:00:00",
          "2020-10-30T00:00:00",
          "2020-10-31T00:00:00",
          "2020-11-01T00:00:00",
          "2020-11-07T00:00:00",
          "2020-11-08T00:00:00",
          "2020-11-09T00:00:00",
          "2020-11-10T00:00:00",
          "2020-11-11T00:00:00",
          "2020-11-12T00:00:00",
          "2020-11-13T00:00:00",
          "2020-11-14T00:00:00",
          "2020-11-15T00:00:00",
          "2020-11-16T00:00:00",
          "2020-11-17T00:00:00",
          "2020-11-18T00:00:00",
          "2020-11-19T00:00:00",
          "2020-11-20T00:00:00",
          "2020-11-21T00:00:00",
          "2020-11-22T00:00:00",
          "2020-11-23T00:00:00",
          "2020-11-24T00:00:00",
          "2020-11-25T00:00:00",
          "2020-11-26T00:00:00",
          "2020-11-27T00:00:00",
          "2020-11-28T00:00:00",
          "2020-11-29T00:00:00",
          "2020-11-30T00:00:00",
          "2020-12-01T00:00:00",
          "2020-12-02T00:00:00",
          "2020-12-03T00:00:00",
          "2020-12-04T00:00:00",
          "2020-12-05T00:00:00",
          "2020-12-06T00:00:00",
          "2020-12-07T00:00:00",
          "2020-12-08T00:00:00",
          "2020-12-09T00:00:00",
          "2020-12-10T00:00:00",
          "2020-12-11T00:00:00",
          "2020-12-12T00:00:00",
          "2020-12-13T00:00:00",
          "2020-12-14T00:00:00",
          "2020-12-15T00:00:00",
          "2020-12-16T00:00:00",
          "2020-12-17T00:00:00",
          "2020-12-18T00:00:00",
          "2020-12-19T00:00:00",
          "2020-12-20T00:00:00",
          "2020-12-21T00:00:00",
          "2020-12-22T00:00:00",
          "2020-12-23T00:00:00",
          "2020-12-24T00:00:00",
          "2020-12-25T00:00:00",
          "2020-12-26T00:00:00",
          "2020-12-27T00:00:00",
          "2020-12-28T00:00:00",
          "2020-12-29T00:00:00",
          "2020-12-30T00:00:00",
          "2020-12-31T00:00:00",
          "2021-01-01T00:00:00",
          "2021-01-02T00:00:00",
          "2021-01-03T00:00:00",
          "2021-01-04T00:00:00",
          "2021-01-05T00:00:00",
          "2021-01-06T00:00:00",
          "2021-01-07T00:00:00",
          "2021-01-08T00:00:00",
          "2021-01-09T00:00:00",
          "2021-01-10T00:00:00",
          "2021-01-11T00:00:00",
          "2021-01-12T00:00:00",
          "2021-01-13T00:00:00",
          "2021-01-14T00:00:00",
          "2021-01-15T00:00:00",
          "2021-01-16T00:00:00",
          "2021-01-17T00:00:00",
          "2021-01-18T00:00:00",
          "2021-01-19T00:00:00",
          "2021-01-20T00:00:00",
          "2021-01-21T00:00:00",
          "2021-01-22T00:00:00",
          "2021-01-23T00:00:00",
          "2021-01-24T00:00:00",
          "2021-01-25T00:00:00",
          "2021-01-26T00:00:00",
          "2021-01-27T00:00:00",
          "2021-01-28T00:00:00",
          "2021-01-29T00:00:00",
          "2021-01-30T00:00:00",
          "2021-01-31T00:00:00",
          "2021-02-01T00:00:00",
          "2021-02-02T00:00:00",
          "2021-02-03T00:00:00",
          "2021-02-04T00:00:00",
          "2021-02-05T00:00:00",
          "2021-02-06T00:00:00",
          "2021-02-07T00:00:00",
          "2021-02-08T00:00:00",
          "2021-02-09T00:00:00",
          "2021-02-10T00:00:00",
          "2021-02-11T00:00:00",
          "2021-02-12T00:00:00",
          "2021-02-13T00:00:00",
          "2021-02-14T00:00:00",
          "2021-02-15T00:00:00",
          "2021-02-16T00:00:00",
          "2021-02-17T00:00:00",
          "2021-02-18T00:00:00",
          "2021-02-19T00:00:00",
          "2021-02-20T00:00:00",
          "2021-02-21T00:00:00",
          "2021-02-22T00:00:00",
          "2021-02-23T00:00:00",
          "2021-02-24T00:00:00",
          "2021-02-25T00:00:00",
          "2021-02-26T00:00:00",
          "2021-02-27T00:00:00",
          "2021-02-28T00:00:00",
          "2021-03-01T00:00:00",
          "2021-03-02T00:00:00",
          "2021-03-03T00:00:00",
          "2021-03-04T00:00:00",
          "2021-03-05T00:00:00",
          "2021-03-06T00:00:00",
          "2021-03-07T00:00:00",
          "2021-03-08T00:00:00",
          "2021-03-09T00:00:00",
          "2021-03-10T00:00:00",
          "2021-03-11T00:00:00",
          "2021-03-12T00:00:00",
          "2021-03-13T00:00:00",
          "2021-03-14T00:00:00",
          "2021-03-15T00:00:00",
          "2021-03-16T00:00:00",
          "2021-03-17T00:00:00",
          "2021-03-18T00:00:00",
          "2021-03-19T00:00:00",
          "2021-03-20T00:00:00",
          "2021-03-21T00:00:00",
          "2021-03-22T00:00:00",
          "2021-03-23T00:00:00",
          "2021-03-24T00:00:00",
          "2021-03-25T00:00:00",
          "2021-03-26T00:00:00",
          "2021-03-27T00:00:00",
          "2021-03-28T00:00:00",
          "2021-03-29T00:00:00",
          "2021-03-30T00:00:00",
          "2021-03-31T00:00:00",
          "2021-04-01T00:00:00",
          "2021-04-02T00:00:00",
          "2021-04-03T00:00:00",
          "2021-04-04T00:00:00",
          "2021-04-05T00:00:00",
          "2021-04-06T00:00:00",
          "2021-04-07T00:00:00",
          "2021-04-08T00:00:00",
          "2021-04-09T00:00:00",
          "2021-04-10T00:00:00",
          "2021-04-11T00:00:00",
          "2021-04-12T00:00:00",
          "2021-04-13T00:00:00",
          "2021-04-14T00:00:00",
          "2021-04-15T00:00:00",
          "2021-04-16T00:00:00",
          "2021-04-17T00:00:00",
          "2021-04-18T00:00:00",
          "2021-04-19T00:00:00",
          "2021-04-20T00:00:00",
          "2021-04-21T00:00:00",
          "2021-04-22T00:00:00",
          "2021-04-23T00:00:00",
          "2021-04-24T00:00:00",
          "2021-04-25T00:00:00",
          "2021-04-26T00:00:00",
          "2021-04-27T00:00:00",
          "2021-04-28T00:00:00",
          "2021-04-29T00:00:00",
          "2021-04-30T00:00:00",
          "2021-05-01T00:00:00",
          "2021-05-02T00:00:00",
          "2021-05-03T00:00:00",
          "2021-05-04T00:00:00",
          "2021-05-05T00:00:00",
          "2021-05-06T00:00:00",
          "2021-05-07T00:00:00",
          "2021-05-08T00:00:00",
          "2021-05-09T00:00:00",
          "2021-05-10T00:00:00",
          "2021-05-11T00:00:00",
          "2021-05-12T00:00:00",
          "2021-05-13T00:00:00",
          "2021-05-14T00:00:00",
          "2021-05-15T00:00:00",
          "2021-05-16T00:00:00",
          "2021-05-17T00:00:00",
          "2021-05-18T00:00:00",
          "2021-05-19T00:00:00",
          "2021-05-20T00:00:00",
          "2021-05-21T00:00:00",
          "2021-05-22T00:00:00",
          "2021-05-23T00:00:00",
          "2021-05-24T00:00:00",
          "2021-05-25T00:00:00",
          "2021-05-26T00:00:00",
          "2021-05-27T00:00:00",
          "2021-05-28T00:00:00",
          "2021-05-29T00:00:00",
          "2021-05-30T00:00:00",
          "2021-05-31T00:00:00",
          "2021-06-01T00:00:00",
          "2021-06-02T00:00:00",
          "2021-06-03T00:00:00",
          "2021-06-04T00:00:00",
          "2021-06-05T00:00:00",
          "2021-06-06T00:00:00",
          "2021-06-07T00:00:00",
          "2021-06-08T00:00:00",
          "2021-06-09T00:00:00",
          "2021-06-10T00:00:00",
          "2021-06-11T00:00:00",
          "2021-06-12T00:00:00",
          "2021-06-13T00:00:00",
          "2021-06-14T00:00:00",
          "2021-06-15T00:00:00",
          "2021-06-16T00:00:00",
          "2021-06-17T00:00:00",
          "2021-06-18T00:00:00",
          "2021-06-19T00:00:00",
          "2021-06-20T00:00:00",
          "2021-06-21T00:00:00",
          "2021-06-22T00:00:00",
          "2021-06-23T00:00:00",
          "2021-06-24T00:00:00",
          "2021-06-25T00:00:00",
          "2021-06-26T00:00:00",
          "2021-06-27T00:00:00",
          "2021-06-28T00:00:00",
          "2021-06-29T00:00:00",
          "2021-06-30T00:00:00",
          "2021-07-01T00:00:00",
          "2021-07-02T00:00:00",
          "2021-07-03T00:00:00",
          "2021-07-04T00:00:00",
          "2021-07-05T00:00:00",
          "2021-07-06T00:00:00",
          "2021-07-07T00:00:00",
          "2021-07-08T00:00:00",
          "2021-07-09T00:00:00",
          "2021-07-10T00:00:00",
          "2021-07-11T00:00:00",
          "2021-07-12T00:00:00",
          "2021-07-13T00:00:00",
          "2021-07-14T00:00:00",
          "2021-07-15T00:00:00",
          "2021-07-16T00:00:00",
          "2021-07-17T00:00:00",
          "2021-07-18T00:00:00",
          "2021-07-19T00:00:00",
          "2021-07-20T00:00:00",
          "2021-07-21T00:00:00",
          "2021-07-22T00:00:00",
          "2021-07-23T00:00:00",
          "2021-07-24T00:00:00",
          "2021-07-25T00:00:00",
          "2021-07-26T00:00:00",
          "2021-07-27T00:00:00",
          "2021-07-28T00:00:00",
          "2021-07-29T00:00:00",
          "2021-07-30T00:00:00",
          "2021-07-31T00:00:00",
          "2021-08-01T00:00:00",
          "2021-08-02T00:00:00",
          "2021-08-03T00:00:00",
          "2021-08-04T00:00:00",
          "2021-08-05T00:00:00",
          "2021-08-06T00:00:00",
          "2021-08-07T00:00:00",
          "2021-08-08T00:00:00",
          "2021-08-09T00:00:00",
          "2021-08-10T00:00:00",
          "2021-08-11T00:00:00",
          "2021-08-12T00:00:00",
          "2021-08-13T00:00:00",
          "2021-08-14T00:00:00",
          "2021-08-15T00:00:00",
          "2021-08-16T00:00:00",
          "2021-08-17T00:00:00",
          "2021-08-18T00:00:00",
          "2021-08-19T00:00:00",
          "2021-08-20T00:00:00",
          "2021-08-21T00:00:00",
          "2021-08-22T00:00:00",
          "2021-08-23T00:00:00",
          "2021-08-24T00:00:00",
          "2021-08-25T00:00:00",
          "2021-08-26T00:00:00",
          "2021-08-27T00:00:00",
          "2021-08-29T00:00:00",
          "2021-08-30T00:00:00",
          "2021-08-31T00:00:00",
          "2021-09-01T00:00:00",
          "2021-09-02T00:00:00",
          "2021-09-03T00:00:00",
          "2021-09-04T00:00:00",
          "2021-09-05T00:00:00",
          "2021-09-06T00:00:00",
          "2021-09-07T00:00:00",
          "2021-09-08T00:00:00",
          "2021-09-09T00:00:00",
          "2021-09-10T00:00:00",
          "2021-09-11T00:00:00",
          "2021-09-12T00:00:00",
          "2021-09-13T00:00:00",
          "2021-09-14T00:00:00",
          "2021-09-15T00:00:00",
          "2021-09-16T00:00:00",
          "2021-09-17T00:00:00",
          "2021-09-18T00:00:00",
          "2021-09-19T00:00:00",
          "2021-09-20T00:00:00",
          "2021-09-21T00:00:00",
          "2021-09-22T00:00:00",
          "2021-09-23T00:00:00",
          "2021-09-24T00:00:00",
          "2021-09-25T00:00:00",
          "2021-09-26T00:00:00",
          "2021-09-27T00:00:00",
          "2021-09-28T00:00:00",
          "2021-09-29T00:00:00",
          "2021-09-30T00:00:00",
          "2021-10-01T00:00:00",
          "2021-10-02T00:00:00",
          "2021-10-03T00:00:00",
          "2021-10-04T00:00:00",
          "2021-10-05T00:00:00",
          "2021-10-06T00:00:00",
          "2021-10-07T00:00:00",
          "2021-10-08T00:00:00",
          "2021-10-09T00:00:00",
          "2021-10-10T00:00:00",
          "2021-10-11T00:00:00",
          "2021-10-12T00:00:00",
          "2021-10-13T00:00:00",
          "2021-10-14T00:00:00",
          "2021-10-15T00:00:00",
          "2021-10-16T00:00:00",
          "2021-10-17T00:00:00",
          "2021-10-18T00:00:00",
          "2021-10-19T00:00:00",
          "2021-10-20T00:00:00",
          "2021-10-21T00:00:00",
          "2021-10-22T00:00:00",
          "2021-10-23T00:00:00",
          "2021-10-24T00:00:00",
          "2021-10-25T00:00:00",
          "2021-10-26T00:00:00",
          "2021-10-27T00:00:00",
          "2021-10-28T00:00:00",
          "2021-10-29T00:00:00",
          "2021-10-30T00:00:00",
          "2021-10-31T00:00:00",
          "2021-11-01T00:00:00",
          "2021-11-02T00:00:00",
          "2021-11-03T00:00:00",
          "2021-11-04T00:00:00",
          "2021-11-05T00:00:00",
          "2021-11-06T00:00:00",
          "2021-11-07T00:00:00",
          "2021-11-08T00:00:00",
          "2021-11-09T00:00:00",
          "2021-11-10T00:00:00",
          "2021-11-11T00:00:00",
          "2021-11-12T00:00:00",
          "2021-11-13T00:00:00",
          "2021-11-14T00:00:00",
          "2021-11-15T00:00:00",
          "2021-11-16T00:00:00",
          "2021-11-17T00:00:00",
          "2021-11-18T00:00:00",
          "2021-11-19T00:00:00",
          "2021-11-20T00:00:00",
          "2021-11-21T00:00:00",
          "2021-11-22T00:00:00",
          "2021-11-23T00:00:00",
          "2021-11-24T00:00:00",
          "2021-11-25T00:00:00",
          "2021-11-26T00:00:00",
          "2021-11-27T00:00:00",
          "2021-11-28T00:00:00",
          "2021-11-29T00:00:00",
          "2021-11-30T00:00:00",
          "2021-12-01T00:00:00",
          "2021-12-02T00:00:00",
          "2021-12-03T00:00:00",
          "2021-12-04T00:00:00",
          "2021-12-05T00:00:00",
          "2021-12-06T00:00:00",
          "2021-12-07T00:00:00",
          "2021-12-08T00:00:00",
          "2021-12-09T00:00:00",
          "2021-12-10T00:00:00",
          "2021-12-11T00:00:00",
          "2021-12-12T00:00:00",
          "2021-12-13T00:00:00",
          "2021-12-14T00:00:00",
          "2021-12-15T00:00:00",
          "2021-12-16T00:00:00",
          "2021-12-17T00:00:00",
          "2021-12-18T00:00:00",
          "2021-12-19T00:00:00",
          "2021-12-20T00:00:00",
          "2021-12-21T00:00:00",
          "2021-12-22T00:00:00",
          "2021-12-23T00:00:00",
          "2021-12-24T00:00:00",
          "2021-12-25T00:00:00",
          "2021-12-26T00:00:00",
          "2021-12-27T00:00:00",
          "2021-12-28T00:00:00",
          "2021-12-29T00:00:00",
          "2021-12-30T00:00:00",
          "2021-12-31T00:00:00",
          "2022-01-01T00:00:00",
          "2022-01-02T00:00:00",
          "2022-01-03T00:00:00",
          "2022-01-04T00:00:00",
          "2022-01-05T00:00:00",
          "2022-01-06T00:00:00",
          "2022-01-07T00:00:00",
          "2022-01-08T00:00:00",
          "2022-01-09T00:00:00",
          "2022-01-10T00:00:00",
          "2022-01-11T00:00:00",
          "2022-01-12T00:00:00",
          "2022-01-13T00:00:00",
          "2022-01-14T00:00:00",
          "2022-01-15T00:00:00",
          "2022-01-16T00:00:00",
          "2022-01-17T00:00:00",
          "2022-01-18T00:00:00",
          "2022-01-19T00:00:00",
          "2022-01-20T00:00:00",
          "2022-01-21T00:00:00",
          "2022-01-22T00:00:00",
          "2022-01-23T00:00:00",
          "2022-01-24T00:00:00",
          "2022-01-25T00:00:00",
          "2022-01-26T00:00:00",
          "2022-01-27T00:00:00",
          "2022-01-28T00:00:00",
          "2022-01-29T00:00:00",
          "2022-01-30T00:00:00",
          "2022-01-31T00:00:00",
          "2022-02-01T00:00:00",
          "2022-02-02T00:00:00",
          "2022-02-03T00:00:00",
          "2022-02-04T00:00:00",
          "2022-02-05T00:00:00",
          "2022-02-06T00:00:00",
          "2022-02-07T00:00:00",
          "2022-02-08T00:00:00",
          "2022-02-09T00:00:00",
          "2022-02-10T00:00:00",
          "2022-02-11T00:00:00",
          "2022-02-12T00:00:00",
          "2022-02-13T00:00:00",
          "2022-02-14T00:00:00",
          "2022-02-15T00:00:00",
          "2022-02-16T00:00:00",
          "2022-02-17T00:00:00",
          "2022-02-18T00:00:00",
          "2022-02-19T00:00:00",
          "2022-02-20T00:00:00",
          "2022-02-21T00:00:00",
          "2022-02-22T00:00:00",
          "2022-02-23T00:00:00",
          "2022-02-24T00:00:00",
          "2022-02-25T00:00:00",
          "2022-02-26T00:00:00",
          "2022-02-27T00:00:00",
          "2022-02-28T00:00:00",
          "2022-03-01T00:00:00",
          "2022-03-02T00:00:00",
          "2022-03-03T00:00:00",
          "2022-03-04T00:00:00",
          "2022-03-05T00:00:00",
          "2022-03-06T00:00:00",
          "2022-03-07T00:00:00",
          "2022-03-08T00:00:00",
          "2022-03-09T00:00:00",
          "2022-03-10T00:00:00",
          "2022-03-11T00:00:00",
          "2022-03-12T00:00:00",
          "2022-03-13T00:00:00",
          "2022-03-14T00:00:00",
          "2022-03-15T00:00:00",
          "2022-03-16T00:00:00",
          "2022-03-17T00:00:00",
          "2022-03-18T00:00:00",
          "2022-03-19T00:00:00",
          "2022-03-20T00:00:00",
          "2022-03-21T00:00:00",
          "2022-03-22T00:00:00",
          "2022-03-23T00:00:00",
          "2022-03-24T00:00:00",
          "2022-03-25T00:00:00",
          "2022-03-26T00:00:00",
          "2022-03-27T00:00:00",
          "2022-03-28T00:00:00",
          "2022-03-29T00:00:00",
          "2022-03-30T00:00:00",
          "2022-03-31T00:00:00",
          "2022-04-01T00:00:00",
          "2022-04-02T00:00:00",
          "2022-04-03T00:00:00",
          "2022-04-04T00:00:00",
          "2022-04-05T00:00:00",
          "2022-04-06T00:00:00",
          "2022-04-07T00:00:00",
          "2022-04-08T00:00:00",
          "2022-04-09T00:00:00",
          "2022-04-10T00:00:00",
          "2022-04-11T00:00:00",
          "2022-04-12T00:00:00",
          "2022-04-13T00:00:00",
          "2022-04-14T00:00:00",
          "2022-04-15T00:00:00",
          "2022-04-16T00:00:00",
          "2022-04-17T00:00:00",
          "2022-04-18T00:00:00",
          "2022-04-19T00:00:00",
          "2022-04-20T00:00:00",
          "2022-04-21T00:00:00",
          "2022-04-22T00:00:00",
          "2022-04-23T00:00:00",
          "2022-04-24T00:00:00",
          "2022-04-25T00:00:00",
          "2022-04-26T00:00:00",
          "2022-04-27T00:00:00",
          "2022-04-28T00:00:00",
          "2022-04-29T00:00:00",
          "2022-04-30T00:00:00",
          "2022-05-01T00:00:00",
          "2022-05-02T00:00:00",
          "2022-05-03T00:00:00",
          "2022-05-04T00:00:00",
          "2022-05-05T00:00:00",
          "2022-05-06T00:00:00",
          "2022-05-07T00:00:00",
          "2022-05-08T00:00:00",
          "2022-05-09T00:00:00",
          "2022-05-10T00:00:00",
          "2022-05-11T00:00:00",
          "2022-05-12T00:00:00",
          "2022-05-13T00:00:00",
          "2022-05-14T00:00:00",
          "2022-05-15T00:00:00",
          "2022-05-16T00:00:00",
          "2022-05-17T00:00:00",
          "2022-05-18T00:00:00",
          "2022-05-19T00:00:00",
          "2022-05-20T00:00:00",
          "2022-05-21T00:00:00",
          "2022-05-22T00:00:00",
          "2022-05-23T00:00:00",
          "2022-05-24T00:00:00",
          "2022-05-25T00:00:00",
          "2022-05-26T00:00:00",
          "2022-05-27T00:00:00",
          "2022-05-28T00:00:00",
          "2022-05-29T00:00:00",
          "2022-05-30T00:00:00",
          "2022-05-31T00:00:00",
          "2022-06-01T00:00:00",
          "2022-06-02T00:00:00",
          "2022-06-03T00:00:00",
          "2022-06-04T00:00:00",
          "2022-06-05T00:00:00",
          "2022-06-06T00:00:00",
          "2022-06-07T00:00:00",
          "2022-06-08T00:00:00",
          "2022-06-09T00:00:00",
          "2022-06-10T00:00:00",
          "2022-06-11T00:00:00",
          "2022-06-12T00:00:00",
          "2022-06-13T00:00:00",
          "2022-06-14T00:00:00",
          "2022-06-15T00:00:00",
          "2022-06-16T00:00:00",
          "2022-06-17T00:00:00",
          "2022-06-18T00:00:00",
          "2022-06-19T00:00:00",
          "2022-06-20T00:00:00",
          "2022-06-21T00:00:00",
          "2022-06-22T00:00:00",
          "2022-06-23T00:00:00",
          "2022-06-24T00:00:00",
          "2022-06-25T00:00:00",
          "2022-06-26T00:00:00",
          "2022-06-27T00:00:00",
          "2022-06-28T00:00:00",
          "2022-06-29T00:00:00",
          "2022-06-30T00:00:00",
          "2022-07-01T00:00:00",
          "2022-07-02T00:00:00",
          "2022-07-03T00:00:00",
          "2022-07-04T00:00:00",
          "2022-07-05T00:00:00",
          "2022-07-06T00:00:00",
          "2022-07-07T00:00:00",
          "2022-07-08T00:00:00",
          "2022-07-09T00:00:00",
          "2022-07-10T00:00:00",
          "2022-07-11T00:00:00",
          "2022-07-12T00:00:00",
          "2022-07-13T00:00:00",
          "2022-07-14T00:00:00",
          "2022-07-15T00:00:00",
          "2022-07-16T00:00:00",
          "2022-07-17T00:00:00",
          "2022-07-18T00:00:00",
          "2022-07-19T00:00:00",
          "2022-07-20T00:00:00",
          "2022-07-21T00:00:00",
          "2022-07-22T00:00:00",
          "2022-07-23T00:00:00",
          "2022-07-24T00:00:00",
          "2022-07-25T00:00:00",
          "2022-07-26T00:00:00",
          "2022-07-27T00:00:00",
          "2022-07-28T00:00:00",
          "2022-07-29T00:00:00",
          "2022-07-30T00:00:00",
          "2022-07-31T00:00:00",
          "2022-08-01T00:00:00",
          "2022-08-02T00:00:00",
          "2022-08-03T00:00:00",
          "2022-08-04T00:00:00",
          "2022-08-05T00:00:00",
          "2022-08-06T00:00:00",
          "2022-08-07T00:00:00",
          "2022-08-08T00:00:00",
          "2022-08-09T00:00:00",
          "2022-08-10T00:00:00",
          "2022-08-11T00:00:00",
          "2022-08-12T00:00:00",
          "2022-08-13T00:00:00",
          "2022-08-14T00:00:00",
          "2022-08-15T00:00:00",
          "2022-08-16T00:00:00",
          "2022-08-17T00:00:00"
         ],
         "xaxis": "x",
         "y": [
          119.5,
          191.75,
          110,
          143.75,
          128.75,
          128.25,
          128.25,
          131.25,
          114,
          120.75,
          122.75,
          125.25,
          119.75,
          122.75,
          120.75,
          91,
          92,
          97.75,
          98.75,
          81.25,
          99.25,
          100.75,
          97.75,
          68.5,
          112.25,
          120.75,
          116,
          123.75,
          114,
          100.5,
          100,
          92,
          126.75,
          122.25,
          124.75,
          123.75,
          122.75,
          116,
          106.25,
          121.75,
          121.75,
          122.75,
          116,
          122.75,
          121.75,
          122.75,
          125.75,
          126.75,
          126.75,
          132.75,
          124,
          114.25,
          118,
          124.75,
          75,
          121.75,
          123.75,
          121.75,
          117,
          116.25,
          115.25,
          121.5,
          120.75,
          124.75,
          122.75,
          113,
          116.25,
          124.75,
          122.75,
          121.75,
          122.75,
          123.75,
          123.75,
          124.75,
          116,
          124.75,
          123.75,
          122.75,
          123.75,
          116,
          123.75,
          123.75,
          121.25,
          115,
          124.75,
          100.75,
          125.75,
          125.75,
          115,
          114.25,
          115,
          114.25,
          106.5,
          121.75,
          118.25,
          116,
          114,
          107.5,
          115.25,
          109.5,
          120.75,
          121.75,
          124.75,
          117,
          122.75,
          114.25,
          115,
          122.75,
          124.75,
          118,
          106.75,
          107.25,
          112.25,
          112.25,
          121.75,
          124.75,
          115.25,
          116,
          115.25,
          74,
          122.75,
          115,
          122.75,
          117,
          106.5,
          107.5,
          115.25,
          108.25,
          114,
          123.75,
          115.25,
          106.5,
          115.25,
          123.75,
          97.5,
          115,
          122.75,
          106,
          116,
          107.5,
          108.5,
          131.5,
          122.75,
          122.75,
          105.5,
          91,
          66.25,
          116,
          105.5,
          123.75,
          122.75,
          105.5,
          90.25,
          130.25,
          113.25,
          107.5,
          114,
          124.75,
          119,
          107.25,
          116.25,
          106.5,
          100.75,
          122.75,
          120.75,
          114.25,
          107.5,
          125.5,
          108.5,
          116.25,
          121.25,
          116,
          124,
          108.5,
          108.5,
          124.75,
          108.5,
          124.75,
          123.75,
          106.5,
          106.5,
          115,
          115.75,
          123.75,
          122.75,
          115.25,
          106.5,
          109.5,
          105.5,
          113.25,
          116.25,
          122.75,
          122.75,
          116,
          104.5,
          123.75,
          113,
          113.25,
          122.75,
          121.25,
          122.75,
          115,
          116,
          115,
          115,
          117,
          121.75,
          121.25,
          115,
          114,
          122.75,
          107.5,
          116,
          122.75,
          107.5,
          115,
          107.5,
          106.5,
          115,
          120.75,
          123.75,
          114,
          121.75,
          116.25,
          106.5,
          137.25,
          122.75,
          123.75,
          114.25,
          106.5,
          114.25,
          114.25,
          113.25,
          106.5,
          136.25,
          97.75,
          105.5,
          89,
          112.25,
          104.5,
          127.5,
          109.5,
          111.25,
          111.25,
          112.25,
          123.75,
          113,
          121.75,
          112,
          113.25,
          113.25,
          122.75,
          124.75,
          114,
          120.75,
          121.75,
          106.5,
          96.75,
          113,
          121.75,
          119.75,
          111.25,
          121.75,
          104.25,
          120.75,
          97.5,
          113,
          114,
          128.25,
          113.25,
          105.25,
          112.25,
          112,
          104.5,
          103.5,
          121.75,
          105.25,
          119.75,
          104.5,
          89.25,
          104.5,
          113,
          96.75,
          97.75,
          113,
          95.75,
          79.75,
          96.75,
          96.75,
          112,
          105.25,
          96,
          96,
          81.75,
          89.25,
          112.25,
          99.25,
          104.5,
          105.25,
          83.75,
          94.5,
          96,
          88.25,
          112.25,
          105.25,
          75.5,
          72.75,
          72.75,
          78,
          87.5,
          113,
          87.75,
          88.25,
          96,
          85.25,
          89,
          103.5,
          112.25,
          106.25,
          99,
          79.75,
          96,
          96,
          105.25,
          97.25,
          136.25,
          90,
          89,
          96.75,
          97.5,
          96.75,
          95.25,
          137.25,
          112.25,
          104.5,
          90.25,
          108.5,
          114,
          120.75,
          89,
          62,
          104.5,
          103.75,
          104.5,
          120.75,
          106.25,
          120,
          144,
          151.5,
          127.75,
          153.25,
          146.25,
          112.25,
          105.25,
          113,
          161,
          153.25,
          103.75,
          113,
          120.75,
          113,
          185,
          138.5,
          120,
          168.75,
          145.25,
          151.75,
          154,
          154.5,
          178.25,
          122.25,
          98.75,
          115.25,
          116,
          113,
          135.5,
          169.75,
          176.5,
          146.25,
          113,
          120.75,
          120.75,
          158.75,
          169.25,
          177.25,
          130,
          120,
          120.75,
          117.25,
          176.5,
          215,
          185.75,
          169.5,
          96,
          64.25,
          64.25,
          105.5,
          96,
          120.75,
          112.25,
          113.25,
          113,
          112,
          105.25,
          135.5,
          176.5,
          137.75,
          103.75,
          120.75,
          114,
          105.5,
          104.75,
          142.5,
          168,
          180.5,
          193.75,
          192.25,
          168,
          168,
          144,
          166.75,
          80.5,
          162.75,
          168.75,
          169.25,
          151.75,
          160.25,
          168.75,
          158.75,
          183.5,
          209.25,
          172,
          159.5,
          169.5,
          168.75,
          168.75,
          185,
          200,
          162.75,
          179.25,
          193.5,
          167.5,
          185,
          192.75,
          192.75,
          169.75,
          185.75,
          168,
          168,
          192.75,
          185.75,
          194.5,
          161,
          189,
          194.25,
          200.25,
          176.5,
          201.25,
          163.75,
          179.25,
          178,
          161,
          185.25,
          176.5,
          161.75,
          193.75,
          201.25,
          170.25,
          184.25,
          168.75,
          178,
          168.75,
          183,
          217.5,
          186.25,
          176.5,
          176.5,
          177.25,
          65,
          168.75,
          176.5,
          185,
          161,
          161.75,
          185,
          175,
          175.5,
          202.25,
          200.5,
          161,
          160.25,
          150.25,
          169.75,
          185,
          201.75,
          193.5,
          185,
          175.75,
          169.5,
          158.75,
          192.75,
          186.75,
          198.75,
          168.75,
          169.5,
          177.25,
          90.5,
          87.5,
          191.25,
          184.25,
          137,
          144,
          176.5,
          162.5,
          128.5,
          200.5,
          185.75,
          168.75,
          177.25,
          177.25,
          160.25,
          176.5,
          192.75,
          201.25,
          176.75,
          161,
          185,
          177.25,
          177.25,
          146.25,
          64.25,
          88.25,
          161,
          113,
          161,
          168.75,
          201.25,
          192.75,
          160.75,
          168.75,
          185,
          185,
          184.25,
          202.25,
          209,
          168.75,
          160.25,
          168,
          160.25,
          183.5,
          206.75,
          185,
          152.25,
          152.5,
          176.5,
          152.5,
          192.75,
          201.25,
          185.75,
          161,
          161,
          190.75,
          192,
          199.75,
          209,
          185.75,
          168.75,
          161,
          169.5,
          177,
          168,
          177.25,
          208.5,
          161,
          176.5,
          184.25,
          183.25,
          176.5,
          185.75,
          177.25,
          160.25,
          160.25,
          176.5,
          151.75,
          168.75,
          209,
          178,
          177.25,
          160.25,
          185,
          161,
          184.25,
          185.75,
          192.75,
          169.5,
          177.25,
          177.25,
          177.25,
          184.25,
          205.25,
          185.75,
          153.25,
          168.75,
          169.5,
          168.75,
          184.25,
          201.25,
          185,
          168.75,
          177.25,
          168.75,
          168.75,
          168.75,
          209,
          177.25,
          168.75,
          168.75,
          168,
          168.75,
          185,
          201.25,
          200.5,
          192,
          192.75,
          130.75,
          168.75,
          176.5,
          192,
          192.75,
          161.75,
          185,
          185,
          152.5,
          168.75,
          193.5,
          185,
          168.75,
          162,
          168.75,
          161,
          176.5,
          185,
          193.5,
          168.25,
          177.25,
          192.75,
          160.25,
          175.75,
          185.75,
          185.75,
          177.25,
          185,
          160.25,
          176.5,
          185,
          185,
          211,
          177.25,
          160.25,
          168.75,
          161,
          184.75,
          201.25,
          185.75,
          193.5,
          175.75,
          185.75,
          177.25,
          185,
          185.75,
          207.5,
          152.5,
          161,
          177.25,
          184.25,
          176.5,
          201.25,
          192,
          177.25,
          177.25,
          184.25,
          190.75,
          177.25,
          201.25,
          202,
          177.25,
          185.75,
          168.75,
          185,
          148.75,
          185,
          211,
          192.25,
          200.5,
          185,
          177.25,
          89.25,
          64.25,
          72,
          72,
          193.5,
          192,
          185.75,
          201.25,
          201.25,
          201.25,
          185,
          195.5,
          193.5,
          210.75,
          194.25,
          201.25,
          179.25,
          201.25,
          193.5,
          186.75,
          186.75,
          161.75,
          170.5,
          152.75,
          185,
          178.25,
          192.75,
          193.5,
          177.25,
          168.75,
          161.75,
          185.5,
          193.5,
          169,
          195.25,
          156.5,
          159.25,
          154,
          205.25,
          194,
          194.75,
          202.25,
          139.75,
          153.25,
          120,
          195.5,
          187,
          184,
          186.5,
          162.5,
          153.5,
          152.75,
          182.25,
          186,
          142.25,
          185,
          8.5,
          64.5,
          211,
          200.75,
          184,
          204.25,
          173.75,
          113.75,
          128.5,
          178.5,
          168.75,
          200.25,
          169.25,
          168.75,
          143.25,
          144.75,
          103,
          88.25,
          192.75,
          193.5,
          185,
          162,
          169.5,
          192.25,
          135.25,
          193.75,
          192.75,
          193.75,
          137,
          169.5,
          186,
          203.25,
          202.25,
          177,
          144.5,
          152.5,
          136.25,
          178.5,
          144.75,
          200.25,
          177,
          193.5,
          201.25,
          64.25,
          55.75,
          168,
          168,
          184.25,
          193.5,
          136.25,
          193.5,
          185.75,
          185.75,
          185.75,
          201,
          202.75,
          153.25,
          178,
          176.25,
          194.25,
          187.25,
          201.75,
          211.5,
          169.5,
          182,
          164,
          72.75,
          185.5,
          196.25,
          194.75,
          129.25,
          57.5,
          185.75,
          183.25,
          180.75,
          223.5,
          145.5,
          114,
          120.75,
          203,
          194.25,
          193.5,
          201.25,
          161,
          186.75,
          198.75,
          168.75,
          167.75,
          144.75,
          55.5,
          170.25,
          194.5,
          193.5,
          185,
          183.5,
          191.75,
          184,
          176.75,
          190,
          176.5,
          151.75,
          160,
          160,
          160.25,
          165.75,
          138.75,
          170.25,
          169.25,
          153.25,
          183,
          193.5,
          151.75,
          162.5,
          189,
          160,
          167.75,
          175.5,
          164.25,
          75.75,
          65.25,
          202,
          177.25,
          165.5,
          145.5,
          137.75,
          50.75,
          152.5,
          178,
          185.75,
          168.75,
          177.25,
          168,
          183.25,
          193.5,
          193.5,
          201.75,
          217.5,
          257.75,
          226,
          243.25,
          202.25,
          205.5,
          248.5,
          249.25,
          257.75,
          257,
          250,
          249.5,
          249.25,
          203.75,
          185.75,
          185,
          208.25,
          179,
          178.25,
          192.75,
          176.75,
          192.25,
          199.25,
          250,
          275.25,
          246.75,
          271.5,
          261.25,
          262.5,
          296,
          265,
          286.5,
          295.5,
          233,
          235.5,
          290.75,
          291.5,
          259.75,
          248,
          228.5,
          247.5,
          281.25,
          238.75,
          257.25,
          261.25,
          238.75,
          244.5,
          247.5,
          242.25,
          240.5,
          242,
          272.75,
          248.75,
          223.25,
          250.75,
          253.75,
          260.5,
          173.25,
          258.75,
          273.25,
          258.5,
          235.75,
          238.25,
          246.75,
          253,
          233.25,
          233.25,
          88.25,
          48,
          253,
          257,
          240.5,
          249.75,
          249,
          241.5,
          265.25,
          253,
          270.25,
          258.75,
          230.75,
          236.25,
          256,
          256,
          264.25,
          243.5,
          254.5,
          256.5,
          277.5,
          241.5,
          241.5,
          241,
          245.25,
          257.75,
          259.25,
          190.5,
          192.75,
          72.75,
          48.5,
          269,
          260.5,
          193.5,
          174.75,
          172.75,
          177.25,
          255.5,
          296,
          310.75,
          284.5,
          248.5,
          257,
          257,
          269,
          310,
          291.75,
          280.75,
          255.25,
          234,
          247.75,
          252.75,
          265.25,
          324,
          301.25,
          292,
          218,
          185.75,
          228.75,
          258,
          312.25,
          258.5,
          255,
          202,
          217.75,
          283,
          256,
          280.75,
          243.75,
          195.75,
          120,
          112.25,
          217.5,
          286,
          295.5,
          269.25,
          244,
          153.75,
          135.75,
          287,
          283.75,
          297.5,
          277.5,
          213.75,
          193.5,
          226,
          281.25,
          237.5,
          225.5,
          251.25,
          243,
          121.5,
          161,
          193.75,
          284.5,
          262.5,
          220.25,
          220.25,
          169.5,
          185,
          255.25,
          251.5,
          243,
          222.5,
          117.25,
          121.5,
          96.75,
          103.75,
          254,
          257.75,
          245.25,
          254.25,
          183.5,
          184.75,
          272,
          245.5,
          275.75,
          239.75,
          173.25,
          137.75,
          103.75,
          230.25,
          221.75,
          261,
          246.75,
          204.5,
          210.5,
          226,
          220.75,
          247.25,
          235,
          208.5,
          146.25,
          130.75,
          89,
          221.25,
          225,
          237.25,
          213.75,
          114.75,
          88.25,
          189.25,
          252.25,
          240.5,
          237.5,
          225,
          197.5,
          120,
          65,
          206.5,
          223,
          163.25
         ],
         "yaxis": "y"
        }
       ],
       "layout": {
        "legend": {
         "tracegroupgap": 0
        },
        "template": {
         "data": {
          "bar": [
           {
            "error_x": {
             "color": "#2a3f5f"
            },
            "error_y": {
             "color": "#2a3f5f"
            },
            "marker": {
             "line": {
              "color": "#E5ECF6",
              "width": 0.5
             },
             "pattern": {
              "fillmode": "overlay",
              "size": 10,
              "solidity": 0.2
             }
            },
            "type": "bar"
           }
          ],
          "barpolar": [
           {
            "marker": {
             "line": {
              "color": "#E5ECF6",
              "width": 0.5
             },
             "pattern": {
              "fillmode": "overlay",
              "size": 10,
              "solidity": 0.2
             }
            },
            "type": "barpolar"
           }
          ],
          "carpet": [
           {
            "aaxis": {
             "endlinecolor": "#2a3f5f",
             "gridcolor": "white",
             "linecolor": "white",
             "minorgridcolor": "white",
             "startlinecolor": "#2a3f5f"
            },
            "baxis": {
             "endlinecolor": "#2a3f5f",
             "gridcolor": "white",
             "linecolor": "white",
             "minorgridcolor": "white",
             "startlinecolor": "#2a3f5f"
            },
            "type": "carpet"
           }
          ],
          "choropleth": [
           {
            "colorbar": {
             "outlinewidth": 0,
             "ticks": ""
            },
            "type": "choropleth"
           }
          ],
          "contour": [
           {
            "colorbar": {
             "outlinewidth": 0,
             "ticks": ""
            },
            "colorscale": [
             [
              0,
              "#0d0887"
             ],
             [
              0.1111111111111111,
              "#46039f"
             ],
             [
              0.2222222222222222,
              "#7201a8"
             ],
             [
              0.3333333333333333,
              "#9c179e"
             ],
             [
              0.4444444444444444,
              "#bd3786"
             ],
             [
              0.5555555555555556,
              "#d8576b"
             ],
             [
              0.6666666666666666,
              "#ed7953"
             ],
             [
              0.7777777777777778,
              "#fb9f3a"
             ],
             [
              0.8888888888888888,
              "#fdca26"
             ],
             [
              1,
              "#f0f921"
             ]
            ],
            "type": "contour"
           }
          ],
          "contourcarpet": [
           {
            "colorbar": {
             "outlinewidth": 0,
             "ticks": ""
            },
            "type": "contourcarpet"
           }
          ],
          "heatmap": [
           {
            "colorbar": {
             "outlinewidth": 0,
             "ticks": ""
            },
            "colorscale": [
             [
              0,
              "#0d0887"
             ],
             [
              0.1111111111111111,
              "#46039f"
             ],
             [
              0.2222222222222222,
              "#7201a8"
             ],
             [
              0.3333333333333333,
              "#9c179e"
             ],
             [
              0.4444444444444444,
              "#bd3786"
             ],
             [
              0.5555555555555556,
              "#d8576b"
             ],
             [
              0.6666666666666666,
              "#ed7953"
             ],
             [
              0.7777777777777778,
              "#fb9f3a"
             ],
             [
              0.8888888888888888,
              "#fdca26"
             ],
             [
              1,
              "#f0f921"
             ]
            ],
            "type": "heatmap"
           }
          ],
          "heatmapgl": [
           {
            "colorbar": {
             "outlinewidth": 0,
             "ticks": ""
            },
            "colorscale": [
             [
              0,
              "#0d0887"
             ],
             [
              0.1111111111111111,
              "#46039f"
             ],
             [
              0.2222222222222222,
              "#7201a8"
             ],
             [
              0.3333333333333333,
              "#9c179e"
             ],
             [
              0.4444444444444444,
              "#bd3786"
             ],
             [
              0.5555555555555556,
              "#d8576b"
             ],
             [
              0.6666666666666666,
              "#ed7953"
             ],
             [
              0.7777777777777778,
              "#fb9f3a"
             ],
             [
              0.8888888888888888,
              "#fdca26"
             ],
             [
              1,
              "#f0f921"
             ]
            ],
            "type": "heatmapgl"
           }
          ],
          "histogram": [
           {
            "marker": {
             "pattern": {
              "fillmode": "overlay",
              "size": 10,
              "solidity": 0.2
             }
            },
            "type": "histogram"
           }
          ],
          "histogram2d": [
           {
            "colorbar": {
             "outlinewidth": 0,
             "ticks": ""
            },
            "colorscale": [
             [
              0,
              "#0d0887"
             ],
             [
              0.1111111111111111,
              "#46039f"
             ],
             [
              0.2222222222222222,
              "#7201a8"
             ],
             [
              0.3333333333333333,
              "#9c179e"
             ],
             [
              0.4444444444444444,
              "#bd3786"
             ],
             [
              0.5555555555555556,
              "#d8576b"
             ],
             [
              0.6666666666666666,
              "#ed7953"
             ],
             [
              0.7777777777777778,
              "#fb9f3a"
             ],
             [
              0.8888888888888888,
              "#fdca26"
             ],
             [
              1,
              "#f0f921"
             ]
            ],
            "type": "histogram2d"
           }
          ],
          "histogram2dcontour": [
           {
            "colorbar": {
             "outlinewidth": 0,
             "ticks": ""
            },
            "colorscale": [
             [
              0,
              "#0d0887"
             ],
             [
              0.1111111111111111,
              "#46039f"
             ],
             [
              0.2222222222222222,
              "#7201a8"
             ],
             [
              0.3333333333333333,
              "#9c179e"
             ],
             [
              0.4444444444444444,
              "#bd3786"
             ],
             [
              0.5555555555555556,
              "#d8576b"
             ],
             [
              0.6666666666666666,
              "#ed7953"
             ],
             [
              0.7777777777777778,
              "#fb9f3a"
             ],
             [
              0.8888888888888888,
              "#fdca26"
             ],
             [
              1,
              "#f0f921"
             ]
            ],
            "type": "histogram2dcontour"
           }
          ],
          "mesh3d": [
           {
            "colorbar": {
             "outlinewidth": 0,
             "ticks": ""
            },
            "type": "mesh3d"
           }
          ],
          "parcoords": [
           {
            "line": {
             "colorbar": {
              "outlinewidth": 0,
              "ticks": ""
             }
            },
            "type": "parcoords"
           }
          ],
          "pie": [
           {
            "automargin": true,
            "type": "pie"
           }
          ],
          "scatter": [
           {
            "fillpattern": {
             "fillmode": "overlay",
             "size": 10,
             "solidity": 0.2
            },
            "type": "scatter"
           }
          ],
          "scatter3d": [
           {
            "line": {
             "colorbar": {
              "outlinewidth": 0,
              "ticks": ""
             }
            },
            "marker": {
             "colorbar": {
              "outlinewidth": 0,
              "ticks": ""
             }
            },
            "type": "scatter3d"
           }
          ],
          "scattercarpet": [
           {
            "marker": {
             "colorbar": {
              "outlinewidth": 0,
              "ticks": ""
             }
            },
            "type": "scattercarpet"
           }
          ],
          "scattergeo": [
           {
            "marker": {
             "colorbar": {
              "outlinewidth": 0,
              "ticks": ""
             }
            },
            "type": "scattergeo"
           }
          ],
          "scattergl": [
           {
            "marker": {
             "colorbar": {
              "outlinewidth": 0,
              "ticks": ""
             }
            },
            "type": "scattergl"
           }
          ],
          "scattermapbox": [
           {
            "marker": {
             "colorbar": {
              "outlinewidth": 0,
              "ticks": ""
             }
            },
            "type": "scattermapbox"
           }
          ],
          "scatterpolar": [
           {
            "marker": {
             "colorbar": {
              "outlinewidth": 0,
              "ticks": ""
             }
            },
            "type": "scatterpolar"
           }
          ],
          "scatterpolargl": [
           {
            "marker": {
             "colorbar": {
              "outlinewidth": 0,
              "ticks": ""
             }
            },
            "type": "scatterpolargl"
           }
          ],
          "scatterternary": [
           {
            "marker": {
             "colorbar": {
              "outlinewidth": 0,
              "ticks": ""
             }
            },
            "type": "scatterternary"
           }
          ],
          "surface": [
           {
            "colorbar": {
             "outlinewidth": 0,
             "ticks": ""
            },
            "colorscale": [
             [
              0,
              "#0d0887"
             ],
             [
              0.1111111111111111,
              "#46039f"
             ],
             [
              0.2222222222222222,
              "#7201a8"
             ],
             [
              0.3333333333333333,
              "#9c179e"
             ],
             [
              0.4444444444444444,
              "#bd3786"
             ],
             [
              0.5555555555555556,
              "#d8576b"
             ],
             [
              0.6666666666666666,
              "#ed7953"
             ],
             [
              0.7777777777777778,
              "#fb9f3a"
             ],
             [
              0.8888888888888888,
              "#fdca26"
             ],
             [
              1,
              "#f0f921"
             ]
            ],
            "type": "surface"
           }
          ],
          "table": [
           {
            "cells": {
             "fill": {
              "color": "#EBF0F8"
             },
             "line": {
              "color": "white"
             }
            },
            "header": {
             "fill": {
              "color": "#C8D4E3"
             },
             "line": {
              "color": "white"
             }
            },
            "type": "table"
           }
          ]
         },
         "layout": {
          "annotationdefaults": {
           "arrowcolor": "#2a3f5f",
           "arrowhead": 0,
           "arrowwidth": 1
          },
          "autotypenumbers": "strict",
          "coloraxis": {
           "colorbar": {
            "outlinewidth": 0,
            "ticks": ""
           }
          },
          "colorscale": {
           "diverging": [
            [
             0,
             "#8e0152"
            ],
            [
             0.1,
             "#c51b7d"
            ],
            [
             0.2,
             "#de77ae"
            ],
            [
             0.3,
             "#f1b6da"
            ],
            [
             0.4,
             "#fde0ef"
            ],
            [
             0.5,
             "#f7f7f7"
            ],
            [
             0.6,
             "#e6f5d0"
            ],
            [
             0.7,
             "#b8e186"
            ],
            [
             0.8,
             "#7fbc41"
            ],
            [
             0.9,
             "#4d9221"
            ],
            [
             1,
             "#276419"
            ]
           ],
           "sequential": [
            [
             0,
             "#0d0887"
            ],
            [
             0.1111111111111111,
             "#46039f"
            ],
            [
             0.2222222222222222,
             "#7201a8"
            ],
            [
             0.3333333333333333,
             "#9c179e"
            ],
            [
             0.4444444444444444,
             "#bd3786"
            ],
            [
             0.5555555555555556,
             "#d8576b"
            ],
            [
             0.6666666666666666,
             "#ed7953"
            ],
            [
             0.7777777777777778,
             "#fb9f3a"
            ],
            [
             0.8888888888888888,
             "#fdca26"
            ],
            [
             1,
             "#f0f921"
            ]
           ],
           "sequentialminus": [
            [
             0,
             "#0d0887"
            ],
            [
             0.1111111111111111,
             "#46039f"
            ],
            [
             0.2222222222222222,
             "#7201a8"
            ],
            [
             0.3333333333333333,
             "#9c179e"
            ],
            [
             0.4444444444444444,
             "#bd3786"
            ],
            [
             0.5555555555555556,
             "#d8576b"
            ],
            [
             0.6666666666666666,
             "#ed7953"
            ],
            [
             0.7777777777777778,
             "#fb9f3a"
            ],
            [
             0.8888888888888888,
             "#fdca26"
            ],
            [
             1,
             "#f0f921"
            ]
           ]
          },
          "colorway": [
           "#636efa",
           "#EF553B",
           "#00cc96",
           "#ab63fa",
           "#FFA15A",
           "#19d3f3",
           "#FF6692",
           "#B6E880",
           "#FF97FF",
           "#FECB52"
          ],
          "font": {
           "color": "#2a3f5f"
          },
          "geo": {
           "bgcolor": "white",
           "lakecolor": "white",
           "landcolor": "#E5ECF6",
           "showlakes": true,
           "showland": true,
           "subunitcolor": "white"
          },
          "hoverlabel": {
           "align": "left"
          },
          "hovermode": "closest",
          "mapbox": {
           "style": "light"
          },
          "paper_bgcolor": "white",
          "plot_bgcolor": "#E5ECF6",
          "polar": {
           "angularaxis": {
            "gridcolor": "white",
            "linecolor": "white",
            "ticks": ""
           },
           "bgcolor": "#E5ECF6",
           "radialaxis": {
            "gridcolor": "white",
            "linecolor": "white",
            "ticks": ""
           }
          },
          "scene": {
           "xaxis": {
            "backgroundcolor": "#E5ECF6",
            "gridcolor": "white",
            "gridwidth": 2,
            "linecolor": "white",
            "showbackground": true,
            "ticks": "",
            "zerolinecolor": "white"
           },
           "yaxis": {
            "backgroundcolor": "#E5ECF6",
            "gridcolor": "white",
            "gridwidth": 2,
            "linecolor": "white",
            "showbackground": true,
            "ticks": "",
            "zerolinecolor": "white"
           },
           "zaxis": {
            "backgroundcolor": "#E5ECF6",
            "gridcolor": "white",
            "gridwidth": 2,
            "linecolor": "white",
            "showbackground": true,
            "ticks": "",
            "zerolinecolor": "white"
           }
          },
          "shapedefaults": {
           "line": {
            "color": "#2a3f5f"
           }
          },
          "ternary": {
           "aaxis": {
            "gridcolor": "white",
            "linecolor": "white",
            "ticks": ""
           },
           "baxis": {
            "gridcolor": "white",
            "linecolor": "white",
            "ticks": ""
           },
           "bgcolor": "#E5ECF6",
           "caxis": {
            "gridcolor": "white",
            "linecolor": "white",
            "ticks": ""
           }
          },
          "title": {
           "x": 0.05
          },
          "xaxis": {
           "automargin": true,
           "gridcolor": "white",
           "linecolor": "white",
           "ticks": "",
           "title": {
            "standoff": 15
           },
           "zerolinecolor": "white",
           "zerolinewidth": 2
          },
          "yaxis": {
           "automargin": true,
           "gridcolor": "white",
           "linecolor": "white",
           "ticks": "",
           "title": {
            "standoff": 15
           },
           "zerolinecolor": "white",
           "zerolinewidth": 2
          }
         }
        },
        "title": {
         "text": "Police OT hours at Mass/Melnea"
        },
        "xaxis": {
         "anchor": "y",
         "domain": [
          0,
          1
         ],
         "title": {
          "text": "Date"
         }
        },
        "yaxis": {
         "anchor": "x",
         "domain": [
          0,
          1
         ],
         "title": {
          "text": "Overtime Hours"
         }
        }
       }
      }
     },
     "metadata": {},
     "output_type": "display_data"
    },
    {
     "data": {
      "application/vnd.plotly.v1+json": {
       "config": {
        "plotlyServerURL": "https://plot.ly"
       },
       "data": [
        {
         "hovertemplate": "Date=%{x}<br>Overtime Hours=%{y}<extra></extra>",
         "legendgroup": "",
         "line": {
          "color": "#636efa",
          "dash": "solid"
         },
         "marker": {
          "symbol": "circle"
         },
         "mode": "lines",
         "name": "",
         "showlegend": false,
         "type": "scattergl",
         "x": [
          "2019-08-01T00:00:00",
          "2019-08-02T00:00:00",
          "2019-08-03T00:00:00",
          "2019-08-04T00:00:00",
          "2019-08-05T00:00:00",
          "2019-08-06T00:00:00",
          "2019-08-07T00:00:00",
          "2019-08-08T00:00:00",
          "2019-08-09T00:00:00",
          "2019-08-10T00:00:00",
          "2019-08-11T00:00:00",
          "2019-08-12T00:00:00",
          "2019-08-13T00:00:00",
          "2019-08-14T00:00:00",
          "2019-08-15T00:00:00",
          "2019-08-16T00:00:00",
          "2019-08-17T00:00:00",
          "2019-08-18T00:00:00",
          "2019-08-19T00:00:00",
          "2019-08-20T00:00:00",
          "2019-08-21T00:00:00",
          "2019-08-22T00:00:00",
          "2019-08-23T00:00:00",
          "2019-08-24T00:00:00",
          "2019-08-25T00:00:00",
          "2019-08-26T00:00:00",
          "2019-08-27T00:00:00",
          "2019-08-28T00:00:00",
          "2019-08-29T00:00:00",
          "2019-08-30T00:00:00",
          "2019-08-31T00:00:00",
          "2019-09-01T00:00:00",
          "2019-09-02T00:00:00",
          "2019-09-03T00:00:00",
          "2019-09-04T00:00:00",
          "2019-09-05T00:00:00",
          "2019-09-06T00:00:00",
          "2019-09-07T00:00:00",
          "2019-09-08T00:00:00",
          "2019-09-09T00:00:00",
          "2019-09-10T00:00:00",
          "2019-09-11T00:00:00",
          "2019-09-12T00:00:00",
          "2019-09-13T00:00:00",
          "2019-09-14T00:00:00",
          "2019-09-15T00:00:00",
          "2019-09-16T00:00:00",
          "2019-09-17T00:00:00",
          "2019-09-18T00:00:00",
          "2019-09-19T00:00:00",
          "2019-09-20T00:00:00",
          "2019-09-21T00:00:00",
          "2019-09-22T00:00:00",
          "2019-09-23T00:00:00",
          "2019-09-24T00:00:00",
          "2019-09-25T00:00:00",
          "2019-09-26T00:00:00",
          "2019-09-27T00:00:00",
          "2019-09-28T00:00:00",
          "2019-09-29T00:00:00",
          "2019-09-30T00:00:00",
          "2019-10-01T00:00:00",
          "2019-10-02T00:00:00",
          "2019-10-03T00:00:00",
          "2019-10-04T00:00:00",
          "2019-10-05T00:00:00",
          "2019-10-06T00:00:00",
          "2019-10-07T00:00:00",
          "2019-10-08T00:00:00",
          "2019-10-09T00:00:00",
          "2019-10-10T00:00:00",
          "2019-10-11T00:00:00",
          "2019-10-12T00:00:00",
          "2019-10-13T00:00:00",
          "2019-10-14T00:00:00",
          "2019-10-15T00:00:00",
          "2019-10-16T00:00:00",
          "2019-10-17T00:00:00",
          "2019-10-18T00:00:00",
          "2019-10-19T00:00:00",
          "2019-10-20T00:00:00",
          "2019-10-21T00:00:00",
          "2019-10-22T00:00:00",
          "2019-10-23T00:00:00",
          "2019-10-24T00:00:00",
          "2019-10-25T00:00:00",
          "2019-10-26T00:00:00",
          "2019-10-27T00:00:00",
          "2019-10-28T00:00:00",
          "2019-10-29T00:00:00",
          "2019-10-30T00:00:00",
          "2019-10-31T00:00:00",
          "2019-11-01T00:00:00",
          "2019-11-02T00:00:00",
          "2019-11-03T00:00:00",
          "2019-11-04T00:00:00",
          "2019-11-05T00:00:00",
          "2019-11-06T00:00:00",
          "2019-11-07T00:00:00",
          "2019-11-08T00:00:00",
          "2019-11-09T00:00:00",
          "2019-11-10T00:00:00",
          "2019-11-11T00:00:00",
          "2019-11-12T00:00:00",
          "2019-11-13T00:00:00",
          "2019-11-14T00:00:00",
          "2019-11-15T00:00:00",
          "2019-11-16T00:00:00",
          "2019-11-17T00:00:00",
          "2019-11-18T00:00:00",
          "2019-11-19T00:00:00",
          "2019-11-20T00:00:00",
          "2019-11-21T00:00:00",
          "2019-11-22T00:00:00",
          "2019-11-23T00:00:00",
          "2019-11-24T00:00:00",
          "2019-11-25T00:00:00",
          "2019-11-26T00:00:00",
          "2019-11-27T00:00:00",
          "2019-11-28T00:00:00",
          "2019-11-29T00:00:00",
          "2019-11-30T00:00:00",
          "2019-12-01T00:00:00",
          "2019-12-02T00:00:00",
          "2019-12-03T00:00:00",
          "2019-12-04T00:00:00",
          "2019-12-05T00:00:00",
          "2019-12-06T00:00:00",
          "2019-12-07T00:00:00",
          "2019-12-08T00:00:00",
          "2019-12-09T00:00:00",
          "2019-12-10T00:00:00",
          "2019-12-11T00:00:00",
          "2019-12-12T00:00:00",
          "2019-12-13T00:00:00",
          "2019-12-14T00:00:00",
          "2019-12-15T00:00:00",
          "2019-12-16T00:00:00",
          "2019-12-17T00:00:00",
          "2019-12-18T00:00:00",
          "2019-12-19T00:00:00",
          "2019-12-20T00:00:00",
          "2019-12-21T00:00:00",
          "2019-12-22T00:00:00",
          "2019-12-23T00:00:00",
          "2019-12-24T00:00:00",
          "2019-12-25T00:00:00",
          "2019-12-26T00:00:00",
          "2019-12-27T00:00:00",
          "2019-12-28T00:00:00",
          "2019-12-29T00:00:00",
          "2019-12-30T00:00:00",
          "2019-12-31T00:00:00",
          "2020-01-01T00:00:00",
          "2020-01-02T00:00:00",
          "2020-01-03T00:00:00",
          "2020-01-04T00:00:00",
          "2020-01-05T00:00:00",
          "2020-01-06T00:00:00",
          "2020-01-07T00:00:00",
          "2020-01-08T00:00:00",
          "2020-01-09T00:00:00",
          "2020-01-10T00:00:00",
          "2020-01-11T00:00:00",
          "2020-01-12T00:00:00",
          "2020-01-13T00:00:00",
          "2020-01-14T00:00:00",
          "2020-01-15T00:00:00",
          "2020-01-16T00:00:00",
          "2020-01-17T00:00:00",
          "2020-01-18T00:00:00",
          "2020-01-19T00:00:00",
          "2020-01-20T00:00:00",
          "2020-01-21T00:00:00",
          "2020-01-22T00:00:00",
          "2020-01-23T00:00:00",
          "2020-01-24T00:00:00",
          "2020-01-25T00:00:00",
          "2020-01-26T00:00:00",
          "2020-01-27T00:00:00",
          "2020-01-28T00:00:00",
          "2020-01-29T00:00:00",
          "2020-01-30T00:00:00",
          "2020-01-31T00:00:00",
          "2020-02-01T00:00:00",
          "2020-02-02T00:00:00",
          "2020-02-03T00:00:00",
          "2020-02-04T00:00:00",
          "2020-02-05T00:00:00",
          "2020-02-06T00:00:00",
          "2020-02-07T00:00:00",
          "2020-02-08T00:00:00",
          "2020-02-09T00:00:00",
          "2020-02-10T00:00:00",
          "2020-02-11T00:00:00",
          "2020-02-12T00:00:00",
          "2020-02-13T00:00:00",
          "2020-02-14T00:00:00",
          "2020-02-15T00:00:00",
          "2020-02-16T00:00:00",
          "2020-02-17T00:00:00",
          "2020-02-18T00:00:00",
          "2020-02-19T00:00:00",
          "2020-02-20T00:00:00",
          "2020-02-21T00:00:00",
          "2020-02-22T00:00:00",
          "2020-02-23T00:00:00",
          "2020-02-24T00:00:00",
          "2020-02-25T00:00:00",
          "2020-02-26T00:00:00",
          "2020-02-27T00:00:00",
          "2020-02-28T00:00:00",
          "2020-02-29T00:00:00",
          "2020-03-01T00:00:00",
          "2020-03-02T00:00:00",
          "2020-03-03T00:00:00",
          "2020-03-04T00:00:00",
          "2020-03-05T00:00:00",
          "2020-03-06T00:00:00",
          "2020-03-07T00:00:00",
          "2020-03-08T00:00:00",
          "2020-03-09T00:00:00",
          "2020-03-10T00:00:00",
          "2020-03-11T00:00:00",
          "2020-03-12T00:00:00",
          "2020-03-13T00:00:00",
          "2020-03-14T00:00:00",
          "2020-03-15T00:00:00",
          "2020-03-16T00:00:00",
          "2020-03-17T00:00:00",
          "2020-03-18T00:00:00",
          "2020-03-19T00:00:00",
          "2020-03-20T00:00:00",
          "2020-03-21T00:00:00",
          "2020-03-22T00:00:00",
          "2020-03-23T00:00:00",
          "2020-03-24T00:00:00",
          "2020-03-25T00:00:00",
          "2020-03-26T00:00:00",
          "2020-03-27T00:00:00",
          "2020-03-28T00:00:00",
          "2020-03-29T00:00:00",
          "2020-03-30T00:00:00",
          "2020-03-31T00:00:00",
          "2020-04-01T00:00:00",
          "2020-04-02T00:00:00",
          "2020-04-03T00:00:00",
          "2020-04-04T00:00:00",
          "2020-04-05T00:00:00",
          "2020-04-06T00:00:00",
          "2020-04-07T00:00:00",
          "2020-04-08T00:00:00",
          "2020-04-09T00:00:00",
          "2020-04-10T00:00:00",
          "2020-04-11T00:00:00",
          "2020-04-12T00:00:00",
          "2020-04-13T00:00:00",
          "2020-04-14T00:00:00",
          "2020-04-15T00:00:00",
          "2020-04-16T00:00:00",
          "2020-04-17T00:00:00",
          "2020-04-18T00:00:00",
          "2020-04-19T00:00:00",
          "2020-04-20T00:00:00",
          "2020-04-21T00:00:00",
          "2020-04-22T00:00:00",
          "2020-04-23T00:00:00",
          "2020-04-24T00:00:00",
          "2020-04-25T00:00:00",
          "2020-04-26T00:00:00",
          "2020-04-27T00:00:00",
          "2020-04-28T00:00:00",
          "2020-04-29T00:00:00",
          "2020-04-30T00:00:00",
          "2020-05-01T00:00:00",
          "2020-05-02T00:00:00",
          "2020-05-03T00:00:00",
          "2020-05-04T00:00:00",
          "2020-05-05T00:00:00",
          "2020-05-06T00:00:00",
          "2020-05-07T00:00:00",
          "2020-05-08T00:00:00",
          "2020-05-09T00:00:00",
          "2020-05-10T00:00:00",
          "2020-05-11T00:00:00",
          "2020-05-12T00:00:00",
          "2020-05-13T00:00:00",
          "2020-05-14T00:00:00",
          "2020-05-15T00:00:00",
          "2020-05-16T00:00:00",
          "2020-05-17T00:00:00",
          "2020-05-18T00:00:00",
          "2020-05-19T00:00:00",
          "2020-05-20T00:00:00",
          "2020-05-21T00:00:00",
          "2020-05-22T00:00:00",
          "2020-05-23T00:00:00",
          "2020-05-24T00:00:00",
          "2020-05-25T00:00:00",
          "2020-05-26T00:00:00",
          "2020-05-27T00:00:00",
          "2020-05-28T00:00:00",
          "2020-05-29T00:00:00",
          "2020-05-30T00:00:00",
          "2020-05-31T00:00:00",
          "2020-06-01T00:00:00",
          "2020-06-02T00:00:00",
          "2020-06-03T00:00:00",
          "2020-06-04T00:00:00",
          "2020-06-05T00:00:00",
          "2020-06-06T00:00:00",
          "2020-06-07T00:00:00",
          "2020-06-08T00:00:00",
          "2020-06-09T00:00:00",
          "2020-06-10T00:00:00",
          "2020-06-11T00:00:00",
          "2020-06-12T00:00:00",
          "2020-06-13T00:00:00",
          "2020-06-14T00:00:00",
          "2020-06-15T00:00:00",
          "2020-06-16T00:00:00",
          "2020-06-17T00:00:00",
          "2020-06-18T00:00:00",
          "2020-06-19T00:00:00",
          "2020-06-20T00:00:00",
          "2020-06-21T00:00:00",
          "2020-06-22T00:00:00",
          "2020-06-23T00:00:00",
          "2020-06-24T00:00:00",
          "2020-06-25T00:00:00",
          "2020-06-26T00:00:00",
          "2020-06-27T00:00:00",
          "2020-06-28T00:00:00",
          "2020-06-29T00:00:00",
          "2020-06-30T00:00:00",
          "2020-07-01T00:00:00",
          "2020-07-02T00:00:00",
          "2020-07-03T00:00:00",
          "2020-07-04T00:00:00",
          "2020-07-05T00:00:00",
          "2020-07-06T00:00:00",
          "2020-07-07T00:00:00",
          "2020-07-08T00:00:00",
          "2020-07-09T00:00:00",
          "2020-07-10T00:00:00",
          "2020-07-11T00:00:00",
          "2020-07-12T00:00:00",
          "2020-07-13T00:00:00",
          "2020-07-14T00:00:00",
          "2020-07-15T00:00:00",
          "2020-07-16T00:00:00",
          "2020-07-17T00:00:00",
          "2020-07-18T00:00:00",
          "2020-07-19T00:00:00",
          "2020-07-20T00:00:00",
          "2020-07-21T00:00:00",
          "2020-07-22T00:00:00",
          "2020-07-23T00:00:00",
          "2020-07-24T00:00:00",
          "2020-07-25T00:00:00",
          "2020-07-26T00:00:00",
          "2020-07-27T00:00:00",
          "2020-07-28T00:00:00",
          "2020-07-29T00:00:00",
          "2020-07-30T00:00:00",
          "2020-07-31T00:00:00",
          "2020-08-01T00:00:00",
          "2020-08-02T00:00:00",
          "2020-08-03T00:00:00",
          "2020-08-04T00:00:00",
          "2020-08-05T00:00:00",
          "2020-08-06T00:00:00",
          "2020-08-07T00:00:00",
          "2020-08-08T00:00:00",
          "2020-08-09T00:00:00",
          "2020-08-10T00:00:00",
          "2020-08-11T00:00:00",
          "2020-08-12T00:00:00",
          "2020-08-13T00:00:00",
          "2020-08-14T00:00:00",
          "2020-08-15T00:00:00",
          "2020-08-16T00:00:00",
          "2020-08-17T00:00:00",
          "2020-08-18T00:00:00",
          "2020-08-19T00:00:00",
          "2020-08-20T00:00:00",
          "2020-08-21T00:00:00",
          "2020-08-22T00:00:00",
          "2020-08-23T00:00:00",
          "2020-08-24T00:00:00",
          "2020-08-25T00:00:00",
          "2020-08-26T00:00:00",
          "2020-08-27T00:00:00",
          "2020-08-28T00:00:00",
          "2020-08-29T00:00:00",
          "2020-08-30T00:00:00",
          "2020-08-31T00:00:00",
          "2020-09-01T00:00:00",
          "2020-09-02T00:00:00",
          "2020-09-03T00:00:00",
          "2020-09-04T00:00:00",
          "2020-09-05T00:00:00",
          "2020-09-06T00:00:00",
          "2020-09-07T00:00:00",
          "2020-09-08T00:00:00",
          "2020-09-09T00:00:00",
          "2020-09-10T00:00:00",
          "2020-09-11T00:00:00",
          "2020-09-12T00:00:00",
          "2020-09-13T00:00:00",
          "2020-09-14T00:00:00",
          "2020-09-15T00:00:00",
          "2020-09-16T00:00:00",
          "2020-09-17T00:00:00",
          "2020-09-18T00:00:00",
          "2020-09-19T00:00:00",
          "2020-09-20T00:00:00",
          "2020-09-21T00:00:00",
          "2020-09-22T00:00:00",
          "2020-09-23T00:00:00",
          "2020-09-24T00:00:00",
          "2020-09-25T00:00:00",
          "2020-09-26T00:00:00",
          "2020-09-27T00:00:00",
          "2020-09-28T00:00:00",
          "2020-09-29T00:00:00",
          "2020-09-30T00:00:00",
          "2020-10-01T00:00:00",
          "2020-10-02T00:00:00",
          "2020-10-03T00:00:00",
          "2020-10-04T00:00:00",
          "2020-10-05T00:00:00",
          "2020-10-06T00:00:00",
          "2020-10-07T00:00:00",
          "2020-10-08T00:00:00",
          "2020-10-09T00:00:00",
          "2020-10-10T00:00:00",
          "2020-10-11T00:00:00",
          "2020-10-12T00:00:00",
          "2020-10-13T00:00:00",
          "2020-10-14T00:00:00",
          "2020-10-15T00:00:00",
          "2020-10-16T00:00:00",
          "2020-10-17T00:00:00",
          "2020-10-18T00:00:00",
          "2020-10-19T00:00:00",
          "2020-10-20T00:00:00",
          "2020-10-21T00:00:00",
          "2020-10-22T00:00:00",
          "2020-10-23T00:00:00",
          "2020-10-24T00:00:00",
          "2020-10-25T00:00:00",
          "2020-10-26T00:00:00",
          "2020-10-27T00:00:00",
          "2020-10-28T00:00:00",
          "2020-10-29T00:00:00",
          "2020-10-30T00:00:00",
          "2020-10-31T00:00:00",
          "2020-11-01T00:00:00",
          "2020-11-07T00:00:00",
          "2020-11-08T00:00:00",
          "2020-11-09T00:00:00",
          "2020-11-10T00:00:00",
          "2020-11-11T00:00:00",
          "2020-11-12T00:00:00",
          "2020-11-13T00:00:00",
          "2020-11-14T00:00:00",
          "2020-11-15T00:00:00",
          "2020-11-16T00:00:00",
          "2020-11-17T00:00:00",
          "2020-11-18T00:00:00",
          "2020-11-19T00:00:00",
          "2020-11-20T00:00:00",
          "2020-11-21T00:00:00",
          "2020-11-22T00:00:00",
          "2020-11-23T00:00:00",
          "2020-11-24T00:00:00",
          "2020-11-25T00:00:00",
          "2020-11-26T00:00:00",
          "2020-11-27T00:00:00",
          "2020-11-28T00:00:00",
          "2020-11-29T00:00:00",
          "2020-11-30T00:00:00",
          "2020-12-01T00:00:00",
          "2020-12-02T00:00:00",
          "2020-12-03T00:00:00",
          "2020-12-04T00:00:00",
          "2020-12-05T00:00:00",
          "2020-12-06T00:00:00",
          "2020-12-07T00:00:00",
          "2020-12-08T00:00:00",
          "2020-12-09T00:00:00",
          "2020-12-10T00:00:00",
          "2020-12-11T00:00:00",
          "2020-12-12T00:00:00",
          "2020-12-13T00:00:00",
          "2020-12-14T00:00:00",
          "2020-12-15T00:00:00",
          "2020-12-16T00:00:00",
          "2020-12-17T00:00:00",
          "2020-12-18T00:00:00",
          "2020-12-19T00:00:00",
          "2020-12-20T00:00:00",
          "2020-12-21T00:00:00",
          "2020-12-22T00:00:00",
          "2020-12-23T00:00:00",
          "2020-12-24T00:00:00",
          "2020-12-25T00:00:00",
          "2020-12-26T00:00:00",
          "2020-12-27T00:00:00",
          "2020-12-28T00:00:00",
          "2020-12-29T00:00:00",
          "2020-12-30T00:00:00",
          "2020-12-31T00:00:00",
          "2021-01-01T00:00:00",
          "2021-01-02T00:00:00",
          "2021-01-03T00:00:00",
          "2021-01-04T00:00:00",
          "2021-01-05T00:00:00",
          "2021-01-06T00:00:00",
          "2021-01-07T00:00:00",
          "2021-01-08T00:00:00",
          "2021-01-09T00:00:00",
          "2021-01-10T00:00:00",
          "2021-01-11T00:00:00",
          "2021-01-12T00:00:00",
          "2021-01-13T00:00:00",
          "2021-01-14T00:00:00",
          "2021-01-15T00:00:00",
          "2021-01-16T00:00:00",
          "2021-01-17T00:00:00",
          "2021-01-18T00:00:00",
          "2021-01-19T00:00:00",
          "2021-01-20T00:00:00",
          "2021-01-21T00:00:00",
          "2021-01-22T00:00:00",
          "2021-01-23T00:00:00",
          "2021-01-24T00:00:00",
          "2021-01-25T00:00:00",
          "2021-01-26T00:00:00",
          "2021-01-27T00:00:00",
          "2021-01-28T00:00:00",
          "2021-01-29T00:00:00",
          "2021-01-30T00:00:00",
          "2021-01-31T00:00:00",
          "2021-02-01T00:00:00",
          "2021-02-02T00:00:00",
          "2021-02-03T00:00:00",
          "2021-02-04T00:00:00",
          "2021-02-05T00:00:00",
          "2021-02-06T00:00:00",
          "2021-02-07T00:00:00",
          "2021-02-08T00:00:00",
          "2021-02-09T00:00:00",
          "2021-02-10T00:00:00",
          "2021-02-11T00:00:00",
          "2021-02-12T00:00:00",
          "2021-02-13T00:00:00",
          "2021-02-14T00:00:00",
          "2021-02-15T00:00:00",
          "2021-02-16T00:00:00",
          "2021-02-17T00:00:00",
          "2021-02-18T00:00:00",
          "2021-02-19T00:00:00",
          "2021-02-20T00:00:00",
          "2021-02-21T00:00:00",
          "2021-02-22T00:00:00",
          "2021-02-23T00:00:00",
          "2021-02-24T00:00:00",
          "2021-02-25T00:00:00",
          "2021-02-26T00:00:00",
          "2021-02-27T00:00:00",
          "2021-02-28T00:00:00",
          "2021-03-01T00:00:00",
          "2021-03-02T00:00:00",
          "2021-03-03T00:00:00",
          "2021-03-04T00:00:00",
          "2021-03-05T00:00:00",
          "2021-03-06T00:00:00",
          "2021-03-07T00:00:00",
          "2021-03-08T00:00:00",
          "2021-03-09T00:00:00",
          "2021-03-10T00:00:00",
          "2021-03-11T00:00:00",
          "2021-03-12T00:00:00",
          "2021-03-13T00:00:00",
          "2021-03-14T00:00:00",
          "2021-03-15T00:00:00",
          "2021-03-16T00:00:00",
          "2021-03-17T00:00:00",
          "2021-03-18T00:00:00",
          "2021-03-19T00:00:00",
          "2021-03-20T00:00:00",
          "2021-03-21T00:00:00",
          "2021-03-22T00:00:00",
          "2021-03-23T00:00:00",
          "2021-03-24T00:00:00",
          "2021-03-25T00:00:00",
          "2021-03-26T00:00:00",
          "2021-03-27T00:00:00",
          "2021-03-28T00:00:00",
          "2021-03-29T00:00:00",
          "2021-03-30T00:00:00",
          "2021-03-31T00:00:00",
          "2021-04-01T00:00:00",
          "2021-04-02T00:00:00",
          "2021-04-03T00:00:00",
          "2021-04-04T00:00:00",
          "2021-04-05T00:00:00",
          "2021-04-06T00:00:00",
          "2021-04-07T00:00:00",
          "2021-04-08T00:00:00",
          "2021-04-09T00:00:00",
          "2021-04-10T00:00:00",
          "2021-04-11T00:00:00",
          "2021-04-12T00:00:00",
          "2021-04-13T00:00:00",
          "2021-04-14T00:00:00",
          "2021-04-15T00:00:00",
          "2021-04-16T00:00:00",
          "2021-04-17T00:00:00",
          "2021-04-18T00:00:00",
          "2021-04-19T00:00:00",
          "2021-04-20T00:00:00",
          "2021-04-21T00:00:00",
          "2021-04-22T00:00:00",
          "2021-04-23T00:00:00",
          "2021-04-24T00:00:00",
          "2021-04-25T00:00:00",
          "2021-04-26T00:00:00",
          "2021-04-27T00:00:00",
          "2021-04-28T00:00:00",
          "2021-04-29T00:00:00",
          "2021-04-30T00:00:00",
          "2021-05-01T00:00:00",
          "2021-05-02T00:00:00",
          "2021-05-03T00:00:00",
          "2021-05-04T00:00:00",
          "2021-05-05T00:00:00",
          "2021-05-06T00:00:00",
          "2021-05-07T00:00:00",
          "2021-05-08T00:00:00",
          "2021-05-09T00:00:00",
          "2021-05-10T00:00:00",
          "2021-05-11T00:00:00",
          "2021-05-12T00:00:00",
          "2021-05-13T00:00:00",
          "2021-05-14T00:00:00",
          "2021-05-15T00:00:00",
          "2021-05-16T00:00:00",
          "2021-05-17T00:00:00",
          "2021-05-18T00:00:00",
          "2021-05-19T00:00:00",
          "2021-05-20T00:00:00",
          "2021-05-21T00:00:00",
          "2021-05-22T00:00:00",
          "2021-05-23T00:00:00",
          "2021-05-24T00:00:00",
          "2021-05-25T00:00:00",
          "2021-05-26T00:00:00",
          "2021-05-27T00:00:00",
          "2021-05-28T00:00:00",
          "2021-05-29T00:00:00",
          "2021-05-30T00:00:00",
          "2021-05-31T00:00:00",
          "2021-06-01T00:00:00",
          "2021-06-02T00:00:00",
          "2021-06-03T00:00:00",
          "2021-06-04T00:00:00",
          "2021-06-05T00:00:00",
          "2021-06-06T00:00:00",
          "2021-06-07T00:00:00",
          "2021-06-08T00:00:00",
          "2021-06-09T00:00:00",
          "2021-06-10T00:00:00",
          "2021-06-11T00:00:00",
          "2021-06-12T00:00:00",
          "2021-06-13T00:00:00",
          "2021-06-14T00:00:00",
          "2021-06-15T00:00:00",
          "2021-06-16T00:00:00",
          "2021-06-17T00:00:00",
          "2021-06-18T00:00:00",
          "2021-06-19T00:00:00",
          "2021-06-20T00:00:00",
          "2021-06-21T00:00:00",
          "2021-06-22T00:00:00",
          "2021-06-23T00:00:00",
          "2021-06-24T00:00:00",
          "2021-06-25T00:00:00",
          "2021-06-26T00:00:00",
          "2021-06-27T00:00:00",
          "2021-06-28T00:00:00",
          "2021-06-29T00:00:00",
          "2021-06-30T00:00:00",
          "2021-07-01T00:00:00",
          "2021-07-02T00:00:00",
          "2021-07-03T00:00:00",
          "2021-07-04T00:00:00",
          "2021-07-05T00:00:00",
          "2021-07-06T00:00:00",
          "2021-07-07T00:00:00",
          "2021-07-08T00:00:00",
          "2021-07-09T00:00:00",
          "2021-07-10T00:00:00",
          "2021-07-11T00:00:00",
          "2021-07-12T00:00:00",
          "2021-07-13T00:00:00",
          "2021-07-14T00:00:00",
          "2021-07-15T00:00:00",
          "2021-07-16T00:00:00",
          "2021-07-17T00:00:00",
          "2021-07-18T00:00:00",
          "2021-07-19T00:00:00",
          "2021-07-20T00:00:00",
          "2021-07-21T00:00:00",
          "2021-07-22T00:00:00",
          "2021-07-23T00:00:00",
          "2021-07-24T00:00:00",
          "2021-07-25T00:00:00",
          "2021-07-26T00:00:00",
          "2021-07-27T00:00:00",
          "2021-07-28T00:00:00",
          "2021-07-29T00:00:00",
          "2021-07-30T00:00:00",
          "2021-07-31T00:00:00",
          "2021-08-01T00:00:00",
          "2021-08-02T00:00:00",
          "2021-08-03T00:00:00",
          "2021-08-04T00:00:00",
          "2021-08-05T00:00:00",
          "2021-08-06T00:00:00",
          "2021-08-07T00:00:00",
          "2021-08-08T00:00:00",
          "2021-08-09T00:00:00",
          "2021-08-10T00:00:00",
          "2021-08-11T00:00:00",
          "2021-08-12T00:00:00",
          "2021-08-13T00:00:00",
          "2021-08-14T00:00:00",
          "2021-08-15T00:00:00",
          "2021-08-16T00:00:00",
          "2021-08-17T00:00:00",
          "2021-08-18T00:00:00",
          "2021-08-19T00:00:00",
          "2021-08-20T00:00:00",
          "2021-08-21T00:00:00",
          "2021-08-22T00:00:00",
          "2021-08-23T00:00:00",
          "2021-08-24T00:00:00",
          "2021-08-25T00:00:00",
          "2021-08-26T00:00:00",
          "2021-08-27T00:00:00",
          "2021-08-29T00:00:00",
          "2021-08-30T00:00:00",
          "2021-08-31T00:00:00",
          "2021-09-01T00:00:00",
          "2021-09-02T00:00:00",
          "2021-09-03T00:00:00",
          "2021-09-04T00:00:00",
          "2021-09-05T00:00:00",
          "2021-09-06T00:00:00",
          "2021-09-07T00:00:00",
          "2021-09-08T00:00:00",
          "2021-09-09T00:00:00",
          "2021-09-10T00:00:00",
          "2021-09-11T00:00:00",
          "2021-09-12T00:00:00",
          "2021-09-13T00:00:00",
          "2021-09-14T00:00:00",
          "2021-09-15T00:00:00",
          "2021-09-16T00:00:00",
          "2021-09-17T00:00:00",
          "2021-09-18T00:00:00",
          "2021-09-19T00:00:00",
          "2021-09-20T00:00:00",
          "2021-09-21T00:00:00",
          "2021-09-22T00:00:00",
          "2021-09-23T00:00:00",
          "2021-09-24T00:00:00",
          "2021-09-25T00:00:00",
          "2021-09-26T00:00:00",
          "2021-09-27T00:00:00",
          "2021-09-28T00:00:00",
          "2021-09-29T00:00:00",
          "2021-09-30T00:00:00",
          "2021-10-01T00:00:00",
          "2021-10-02T00:00:00",
          "2021-10-03T00:00:00",
          "2021-10-04T00:00:00",
          "2021-10-05T00:00:00",
          "2021-10-06T00:00:00",
          "2021-10-07T00:00:00",
          "2021-10-08T00:00:00",
          "2021-10-09T00:00:00",
          "2021-10-10T00:00:00",
          "2021-10-11T00:00:00",
          "2021-10-12T00:00:00",
          "2021-10-13T00:00:00",
          "2021-10-14T00:00:00",
          "2021-10-15T00:00:00",
          "2021-10-16T00:00:00",
          "2021-10-17T00:00:00",
          "2021-10-18T00:00:00",
          "2021-10-19T00:00:00",
          "2021-10-20T00:00:00",
          "2021-10-21T00:00:00",
          "2021-10-22T00:00:00",
          "2021-10-23T00:00:00",
          "2021-10-24T00:00:00",
          "2021-10-25T00:00:00",
          "2021-10-26T00:00:00",
          "2021-10-27T00:00:00",
          "2021-10-28T00:00:00",
          "2021-10-29T00:00:00",
          "2021-10-30T00:00:00",
          "2021-10-31T00:00:00",
          "2021-11-01T00:00:00",
          "2021-11-02T00:00:00",
          "2021-11-03T00:00:00",
          "2021-11-04T00:00:00",
          "2021-11-05T00:00:00",
          "2021-11-06T00:00:00",
          "2021-11-07T00:00:00",
          "2021-11-08T00:00:00",
          "2021-11-09T00:00:00",
          "2021-11-10T00:00:00",
          "2021-11-11T00:00:00",
          "2021-11-12T00:00:00",
          "2021-11-13T00:00:00",
          "2021-11-14T00:00:00",
          "2021-11-15T00:00:00",
          "2021-11-16T00:00:00",
          "2021-11-17T00:00:00",
          "2021-11-18T00:00:00",
          "2021-11-19T00:00:00",
          "2021-11-20T00:00:00",
          "2021-11-21T00:00:00",
          "2021-11-22T00:00:00",
          "2021-11-23T00:00:00",
          "2021-11-24T00:00:00",
          "2021-11-25T00:00:00",
          "2021-11-26T00:00:00",
          "2021-11-27T00:00:00",
          "2021-11-28T00:00:00",
          "2021-11-29T00:00:00",
          "2021-11-30T00:00:00",
          "2021-12-01T00:00:00",
          "2021-12-02T00:00:00",
          "2021-12-03T00:00:00",
          "2021-12-04T00:00:00",
          "2021-12-05T00:00:00",
          "2021-12-06T00:00:00",
          "2021-12-07T00:00:00",
          "2021-12-08T00:00:00",
          "2021-12-09T00:00:00",
          "2021-12-10T00:00:00",
          "2021-12-11T00:00:00",
          "2021-12-12T00:00:00",
          "2021-12-13T00:00:00",
          "2021-12-14T00:00:00",
          "2021-12-15T00:00:00",
          "2021-12-16T00:00:00",
          "2021-12-17T00:00:00",
          "2021-12-18T00:00:00",
          "2021-12-19T00:00:00",
          "2021-12-20T00:00:00",
          "2021-12-21T00:00:00",
          "2021-12-22T00:00:00",
          "2021-12-23T00:00:00",
          "2021-12-24T00:00:00",
          "2021-12-25T00:00:00",
          "2021-12-26T00:00:00",
          "2021-12-27T00:00:00",
          "2021-12-28T00:00:00",
          "2021-12-29T00:00:00",
          "2021-12-30T00:00:00",
          "2021-12-31T00:00:00",
          "2022-01-01T00:00:00",
          "2022-01-02T00:00:00",
          "2022-01-03T00:00:00",
          "2022-01-04T00:00:00",
          "2022-01-05T00:00:00",
          "2022-01-06T00:00:00",
          "2022-01-07T00:00:00",
          "2022-01-08T00:00:00",
          "2022-01-09T00:00:00",
          "2022-01-10T00:00:00",
          "2022-01-11T00:00:00",
          "2022-01-12T00:00:00",
          "2022-01-13T00:00:00",
          "2022-01-14T00:00:00",
          "2022-01-15T00:00:00",
          "2022-01-16T00:00:00",
          "2022-01-17T00:00:00",
          "2022-01-18T00:00:00",
          "2022-01-19T00:00:00",
          "2022-01-20T00:00:00",
          "2022-01-21T00:00:00",
          "2022-01-22T00:00:00",
          "2022-01-23T00:00:00",
          "2022-01-24T00:00:00",
          "2022-01-25T00:00:00",
          "2022-01-26T00:00:00",
          "2022-01-27T00:00:00",
          "2022-01-28T00:00:00",
          "2022-01-29T00:00:00",
          "2022-01-30T00:00:00",
          "2022-01-31T00:00:00",
          "2022-02-01T00:00:00",
          "2022-02-02T00:00:00",
          "2022-02-03T00:00:00",
          "2022-02-04T00:00:00",
          "2022-02-05T00:00:00",
          "2022-02-06T00:00:00",
          "2022-02-07T00:00:00",
          "2022-02-08T00:00:00",
          "2022-02-09T00:00:00",
          "2022-02-10T00:00:00",
          "2022-02-11T00:00:00",
          "2022-02-12T00:00:00",
          "2022-02-13T00:00:00",
          "2022-02-14T00:00:00",
          "2022-02-15T00:00:00",
          "2022-02-16T00:00:00",
          "2022-02-17T00:00:00",
          "2022-02-18T00:00:00",
          "2022-02-19T00:00:00",
          "2022-02-20T00:00:00",
          "2022-02-21T00:00:00",
          "2022-02-22T00:00:00",
          "2022-02-23T00:00:00",
          "2022-02-24T00:00:00",
          "2022-02-25T00:00:00",
          "2022-02-26T00:00:00",
          "2022-02-27T00:00:00",
          "2022-02-28T00:00:00",
          "2022-03-01T00:00:00",
          "2022-03-02T00:00:00",
          "2022-03-03T00:00:00",
          "2022-03-04T00:00:00",
          "2022-03-05T00:00:00",
          "2022-03-06T00:00:00",
          "2022-03-07T00:00:00",
          "2022-03-08T00:00:00",
          "2022-03-09T00:00:00",
          "2022-03-10T00:00:00",
          "2022-03-11T00:00:00",
          "2022-03-12T00:00:00",
          "2022-03-13T00:00:00",
          "2022-03-14T00:00:00",
          "2022-03-15T00:00:00",
          "2022-03-16T00:00:00",
          "2022-03-17T00:00:00",
          "2022-03-18T00:00:00",
          "2022-03-19T00:00:00",
          "2022-03-20T00:00:00",
          "2022-03-21T00:00:00",
          "2022-03-22T00:00:00",
          "2022-03-23T00:00:00",
          "2022-03-24T00:00:00",
          "2022-03-25T00:00:00",
          "2022-03-26T00:00:00",
          "2022-03-27T00:00:00",
          "2022-03-28T00:00:00",
          "2022-03-29T00:00:00",
          "2022-03-30T00:00:00",
          "2022-03-31T00:00:00",
          "2022-04-01T00:00:00",
          "2022-04-02T00:00:00",
          "2022-04-03T00:00:00",
          "2022-04-04T00:00:00",
          "2022-04-05T00:00:00",
          "2022-04-06T00:00:00",
          "2022-04-07T00:00:00",
          "2022-04-08T00:00:00",
          "2022-04-09T00:00:00",
          "2022-04-10T00:00:00",
          "2022-04-11T00:00:00",
          "2022-04-12T00:00:00",
          "2022-04-13T00:00:00",
          "2022-04-14T00:00:00",
          "2022-04-15T00:00:00",
          "2022-04-16T00:00:00",
          "2022-04-17T00:00:00",
          "2022-04-18T00:00:00",
          "2022-04-19T00:00:00",
          "2022-04-20T00:00:00",
          "2022-04-21T00:00:00",
          "2022-04-22T00:00:00",
          "2022-04-23T00:00:00",
          "2022-04-24T00:00:00",
          "2022-04-25T00:00:00",
          "2022-04-26T00:00:00",
          "2022-04-27T00:00:00",
          "2022-04-28T00:00:00",
          "2022-04-29T00:00:00",
          "2022-04-30T00:00:00",
          "2022-05-01T00:00:00",
          "2022-05-02T00:00:00",
          "2022-05-03T00:00:00",
          "2022-05-04T00:00:00",
          "2022-05-05T00:00:00",
          "2022-05-06T00:00:00",
          "2022-05-07T00:00:00",
          "2022-05-08T00:00:00",
          "2022-05-09T00:00:00",
          "2022-05-10T00:00:00",
          "2022-05-11T00:00:00",
          "2022-05-12T00:00:00",
          "2022-05-13T00:00:00",
          "2022-05-14T00:00:00",
          "2022-05-15T00:00:00",
          "2022-05-16T00:00:00",
          "2022-05-17T00:00:00",
          "2022-05-18T00:00:00",
          "2022-05-19T00:00:00",
          "2022-05-20T00:00:00",
          "2022-05-21T00:00:00",
          "2022-05-22T00:00:00",
          "2022-05-23T00:00:00",
          "2022-05-24T00:00:00",
          "2022-05-25T00:00:00",
          "2022-05-26T00:00:00",
          "2022-05-27T00:00:00",
          "2022-05-28T00:00:00",
          "2022-05-29T00:00:00",
          "2022-05-30T00:00:00",
          "2022-05-31T00:00:00",
          "2022-06-01T00:00:00",
          "2022-06-02T00:00:00",
          "2022-06-03T00:00:00",
          "2022-06-04T00:00:00",
          "2022-06-05T00:00:00",
          "2022-06-06T00:00:00",
          "2022-06-07T00:00:00",
          "2022-06-08T00:00:00",
          "2022-06-09T00:00:00",
          "2022-06-10T00:00:00",
          "2022-06-11T00:00:00",
          "2022-06-12T00:00:00",
          "2022-06-13T00:00:00",
          "2022-06-14T00:00:00",
          "2022-06-15T00:00:00",
          "2022-06-16T00:00:00",
          "2022-06-17T00:00:00",
          "2022-06-18T00:00:00",
          "2022-06-19T00:00:00",
          "2022-06-20T00:00:00",
          "2022-06-21T00:00:00",
          "2022-06-22T00:00:00",
          "2022-06-23T00:00:00",
          "2022-06-24T00:00:00",
          "2022-06-25T00:00:00",
          "2022-06-26T00:00:00",
          "2022-06-27T00:00:00",
          "2022-06-28T00:00:00",
          "2022-06-29T00:00:00",
          "2022-06-30T00:00:00",
          "2022-07-01T00:00:00",
          "2022-07-02T00:00:00",
          "2022-07-03T00:00:00",
          "2022-07-04T00:00:00",
          "2022-07-05T00:00:00",
          "2022-07-06T00:00:00",
          "2022-07-07T00:00:00",
          "2022-07-08T00:00:00",
          "2022-07-09T00:00:00",
          "2022-07-10T00:00:00",
          "2022-07-11T00:00:00",
          "2022-07-12T00:00:00",
          "2022-07-13T00:00:00",
          "2022-07-14T00:00:00",
          "2022-07-15T00:00:00",
          "2022-07-16T00:00:00",
          "2022-07-17T00:00:00",
          "2022-07-18T00:00:00",
          "2022-07-19T00:00:00",
          "2022-07-20T00:00:00",
          "2022-07-21T00:00:00",
          "2022-07-22T00:00:00",
          "2022-07-23T00:00:00",
          "2022-07-24T00:00:00",
          "2022-07-25T00:00:00",
          "2022-07-26T00:00:00",
          "2022-07-27T00:00:00",
          "2022-07-28T00:00:00",
          "2022-07-29T00:00:00",
          "2022-07-30T00:00:00",
          "2022-07-31T00:00:00",
          "2022-08-01T00:00:00",
          "2022-08-02T00:00:00",
          "2022-08-03T00:00:00",
          "2022-08-04T00:00:00",
          "2022-08-05T00:00:00",
          "2022-08-06T00:00:00",
          "2022-08-07T00:00:00",
          "2022-08-08T00:00:00",
          "2022-08-09T00:00:00",
          "2022-08-10T00:00:00",
          "2022-08-11T00:00:00",
          "2022-08-12T00:00:00",
          "2022-08-13T00:00:00",
          "2022-08-14T00:00:00",
          "2022-08-15T00:00:00",
          "2022-08-16T00:00:00",
          "2022-08-17T00:00:00"
         ],
         "xaxis": "x",
         "y": [
          null,
          null,
          null,
          null,
          null,
          null,
          135.75,
          137.42857142857142,
          126.32142857142857,
          127.85714285714286,
          124.85714285714286,
          124.35714285714286,
          123.14285714285714,
          122.35714285714286,
          120.85714285714286,
          117.57142857142857,
          113.46428571428571,
          109.89285714285714,
          106.10714285714286,
          100.60714285714286,
          97.25,
          94.39285714285714,
          95.35714285714286,
          92,
          94.07142857142857,
          97.21428571428571,
          102.17857142857143,
          105.67857142857143,
          107.57142857142857,
          107.96428571428571,
          112.46428571428571,
          109.57142857142857,
          110.42857142857143,
          111.32142857142857,
          111.46428571428571,
          112.85714285714286,
          116.03571428571429,
          118.32142857142857,
          120.35714285714286,
          119.64285714285714,
          119.57142857142857,
          119.28571428571429,
          118.17857142857143,
          118.17857142857143,
          119,
          121.35714285714286,
          121.92857142857143,
          122.64285714285714,
          123.21428571428571,
          125.60714285714286,
          125.78571428571429,
          124.71428571428571,
          124.03571428571429,
          123.89285714285714,
          116.5,
          115.78571428571429,
          114.5,
          114.17857142857143,
          114.57142857142857,
          114.32142857142857,
          112.96428571428571,
          119.60714285714286,
          119.46428571428571,
          119.60714285714286,
          119.75,
          119.17857142857143,
          119.17857142857143,
          120.53571428571429,
          120.71428571428571,
          120.85714285714286,
          120.57142857142857,
          120.71428571428571,
          122.25,
          123.46428571428571,
          122.21428571428571,
          122.5,
          122.78571428571429,
          122.78571428571429,
          122.78571428571429,
          121.67857142857143,
          121.53571428571429,
          122.64285714285714,
          122.14285714285714,
          120.89285714285714,
          121.17857142857143,
          117.89285714285714,
          119.28571428571429,
          119.57142857142857,
          118.32142857142857,
          117.32142857142857,
          117.32142857142857,
          115.82142857142857,
          116.64285714285714,
          116.07142857142857,
          115,
          115.14285714285714,
          115.10714285714286,
          114.03571428571429,
          114.17857142857143,
          114.60714285714286,
          114.46428571428571,
          114.96428571428571,
          116.21428571428571,
          116.64285714285714,
          118.82142857142857,
          118.67857142857143,
          119.46428571428571,
          119.75,
          120.17857142857143,
          119.21428571428571,
          117.75,
          115.53571428571429,
          115.25,
          114.85714285714286,
          114.71428571428571,
          114.71428571428571,
          114.32142857142857,
          115.64285714285714,
          116.78571428571429,
          111.32142857142857,
          112.82142857142857,
          111.85714285714286,
          111.57142857142857,
          111.82142857142857,
          110.46428571428571,
          109.35714285714286,
          115.25,
          113.17857142857143,
          113.03571428571429,
          113.17857142857143,
          112.92857142857143,
          112.92857142857143,
          114.03571428571429,
          115.25,
          113.71428571428571,
          113.85714285714286,
          113.71428571428571,
          112.39285714285714,
          113.75,
          112.64285714285714,
          110.46428571428571,
          115.32142857142857,
          116.42857142857143,
          116.42857142857143,
          116.35714285714286,
          112.78571428571429,
          106.89285714285714,
          107.96428571428571,
          104.25,
          104.39285714285714,
          104.39285714285714,
          104.39285714285714,
          104.28571428571429,
          113.42857142857143,
          113.03571428571429,
          113.32142857142857,
          111.92857142857143,
          112.21428571428571,
          114.14285714285714,
          116.57142857142857,
          114.57142857142857,
          113.60714285714286,
          112.64285714285714,
          113.89285714285714,
          113.32142857142857,
          112.64285714285714,
          112.67857142857143,
          114,
          114.28571428571429,
          116.5,
          116.28571428571429,
          115.60714285714286,
          117,
          117.14285714285714,
          114.71428571428571,
          117.03571428571429,
          115.92857142857143,
          116.42857142857143,
          117.53571428571429,
          115.03571428571429,
          114.75,
          115.67857142857143,
          114.39285714285714,
          116.57142857142857,
          116.28571428571429,
          115.07142857142857,
          115.07142857142857,
          115.5,
          114.14285714285714,
          113.78571428571429,
          112.71428571428571,
          112.71428571428571,
          113.78571428571429,
          115.14285714285714,
          114.42857142857143,
          117.03571428571429,
          117,
          116.57142857142857,
          116.57142857142857,
          116.35714285714286,
          117.32142857142857,
          118.82142857142857,
          117.71428571428571,
          118,
          118.25,
          117.42857142857143,
          117.5,
          117.28571428571429,
          117.28571428571429,
          117,
          118.10714285714286,
          117.03571428571429,
          116.89285714285714,
          117.03571428571429,
          115.07142857142857,
          115.07142857142857,
          114.14285714285714,
          111.82142857142857,
          112.89285714285714,
          113.57142857142857,
          113.71428571428571,
          114.64285714285714,
          115.60714285714286,
          116.85714285714286,
          116.85714285714286,
          120.03571428571429,
          120.32142857142857,
          120.32142857142857,
          120.35714285714286,
          118.17857142857143,
          117.89285714285714,
          119,
          115.57142857142857,
          113.25,
          115.03571428571429,
          112.67857142857143,
          112.53571428571429,
          108.92857142857143,
          108.64285714285714,
          107.39285714285714,
          110.39285714285714,
          106.57142857142857,
          108.5,
          109.32142857142857,
          112.64285714285714,
          114.28571428571429,
          115.5,
          114.67857142857143,
          115.03571428571429,
          115.32142857142857,
          115.60714285714286,
          117.10714285714286,
          117.25,
          117.39285714285714,
          117.25,
          118.64285714285714,
          117.67857142857143,
          115.32142857142857,
          113.92857142857143,
          113.5,
          114.32142857142857,
          112.96428571428571,
          112.96428571428571,
          112.64285714285714,
          116.07142857142857,
          113.85714285714286,
          112.60714285714286,
          111.78571428571429,
          114.21428571428571,
          113,
          113.14285714285714,
          111.92857142857143,
          114,
          112.78571428571429,
          111.28571428571429,
          110.35714285714286,
          109.21428571428571,
          111.28571428571429,
          110.17857142857143,
          106.92857142857143,
          106.92857142857143,
          108.28571428571429,
          104.71428571428571,
          103.64285714285714,
          102.67857142857143,
          101.42857142857143,
          100.07142857142857,
          98.96428571428571,
          96.64285714285714,
          98.82142857142857,
          99.89285714285714,
          97.46428571428571,
          97.5,
          97.78571428571429,
          96.71428571428571,
          98.92857142857143,
          97.10714285714286,
          97,
          98.32142857142857,
          96.57142857142857,
          98.39285714285714,
          99.35714285714286,
          95.92857142857143,
          97.78571428571429,
          97.89285714285714,
          93.64285714285714,
          92.07142857142857,
          88.96428571428571,
          86.39285714285714,
          86.28571428571429,
          86.39285714285714,
          83.89285714285714,
          85.71428571428571,
          89.03571428571429,
          90.82142857142857,
          92.39285714285714,
          94.67857142857143,
          94.57142857142857,
          97.21428571428571,
          98.75,
          96.42857142857143,
          97.96428571428571,
          98.96428571428571,
          99.21428571428571,
          97.07142857142857,
          101.35714285714286,
          100.07142857142857,
          101.39285714285714,
          101.5,
          101.71428571428571,
          100.5,
          100.21428571428571,
          100.35714285714286,
          103.53571428571429,
          105.75,
          104.82142857142857,
          106.39285714285714,
          108.85714285714286,
          112.5,
          105.60714285714286,
          98.42857142857143,
          98.42857142857143,
          100.35714285714286,
          99.78571428571429,
          100.75,
          98.67857142857143,
          103.10714285714286,
          114.82142857142857,
          121.53571428571429,
          124.96428571428571,
          131.92857142857142,
          135.57142857142858,
          136.42857142857142,
          134.32142857142858,
          129.89285714285714,
          131.25,
          134.89285714285714,
          127.82142857142857,
          123.07142857142857,
          124.28571428571429,
          125.39285714285714,
          135.67857142857142,
          132.46428571428572,
          127.71428571428571,
          137,
          141.60714285714286,
          146.03571428571428,
          151.89285714285714,
          147.53571428571428,
          153.21428571428572,
          153.53571428571428,
          143.53571428571428,
          139.25,
          134.14285714285714,
          128.28571428571428,
          125.57142857142857,
          124.35714285714286,
          132.10714285714286,
          138.89285714285714,
          138.57142857142858,
          139.25,
          140.35714285714286,
          143.67857142857142,
          143.60714285714286,
          143.71428571428572,
          141.39285714285714,
          142.39285714285714,
          142.39285714285714,
          141.89285714285714,
          144.42857142857142,
          150.96428571428572,
          152.17857142857142,
          157.82142857142858,
          154.39285714285714,
          146.32142857142858,
          138.75,
          128.60714285714286,
          111.60714285714286,
          102.32142857142857,
          94.14285714285714,
          96.60714285714286,
          103.57142857142857,
          110.39285714285714,
          110.35714285714286,
          116,
          123.96428571428571,
          127.60714285714286,
          126.25,
          127.35714285714286,
          127.64285714285714,
          127.67857142857143,
          123.28571428571429,
          118.42857142857143,
          122.75,
          133.71428571428572,
          144.14285714285714,
          155.32142857142858,
          164.25,
          173.28571428571428,
          173.5,
          173.32142857142858,
          159.03571428571428,
          154.60714285714286,
          151.25,
          151.42857142857142,
          149.10714285714286,
          151.42857142857142,
          151.71428571428572,
          162.89285714285714,
          165.85714285714286,
          171.64285714285714,
          172.03571428571428,
          173.14285714285714,
          174.46428571428572,
          174.46428571428572,
          175.89285714285714,
          176.10714285714286,
          174.78571428571428,
          173.46428571428572,
          176.28571428571428,
          179.71428571428572,
          179.53571428571428,
          181.85714285714286,
          182.96428571428572,
          181.92857142857142,
          182.92857142857142,
          183.85714285714286,
          180.21428571428572,
          180.28571428571428,
          181.39285714285714,
          180.39285714285714,
          180.64285714285714,
          179.39285714285714,
          179.85714285714286,
          183.60714285714286,
          188.21428571428572,
          185.89285714285714,
          188.10714285714286,
          183.71428571428572,
          186.32142857142858,
          184.75,
          180,
          177.85714285714286,
          177.85714285714286,
          172.21428571428572,
          176.5,
          179.64285714285714,
          178.53571428571428,
          181.85714285714286,
          179.5,
          179.71428571428572,
          180.71428571428572,
          179.17857142857142,
          181.5,
          183.78571428571428,
          182.67857142857142,
          183.78571428571428,
          183.67857142857142,
          168.85714285714286,
          166.82142857142858,
          160.96428571428572,
          160.78571428571428,
          158.57142857142858,
          156.46428571428572,
          157.57142857142858,
          173.28571428571428,
          174.25,
          177.92857142857142,
          180.14285714285714,
          180.14285714285714,
          179.92857142857142,
          174.96428571428572,
          174.21428571428572,
          175.57142857142858,
          175.5,
          174.5,
          177.92857142857142,
          180.14285714285714,
          182.89285714285714,
          181.32142857142858,
          182.42857142857142,
          180.28571428571428,
          181.03571428571428,
          178.71428571428572,
          177.82142857142858,
          178.92857142857142,
          169.17857142857142,
          154.14285714285714,
          154.78571428571428,
          152.71428571428572,
          148.17857142857142,
          144.53571428571428,
          144.42857142857142,
          154.71428571428572,
          160.57142857142858,
          161.89285714285714,
          162.10714285714286,
          166.64285714285714,
          171.39285714285714,
          171.5,
          171.17857142857142,
          178.03571428571428,
          176.92857142857142,
          179.14285714285714,
          180.28571428571428,
          177.96428571428572,
          179.07142857142858,
          181.5,
          181.60714285714286,
          174.96428571428572,
          155.39285714285714,
          142.75,
          142.75,
          132.46428571428572,
          130.14285714285714,
          128.92857142857142,
          136.78571428571428,
          155.14285714285714,
          165.5,
          166.60714285714286,
          176.89285714285714,
          180.32142857142858,
          182.53571428571428,
          182.67857142857142,
          185,
          186.14285714285714,
          184.92857142857142,
          182.5,
          178.96428571428572,
          178.85714285714286,
          179.5,
          176.07142857142858,
          173.71428571428572,
          172.60714285714286,
          173.82142857142858,
          172.71428571428572,
          174.03571428571428,
          173.25,
          173.35714285714286,
          174.60714285714286,
          175.82142857142858,
          177.85714285714286,
          183.5,
          184.5,
          185.60714285714286,
          185.60714285714286,
          186.71428571428572,
          186.71428571428572,
          183.67857142857142,
          181.53571428571428,
          177,
          172.46428571428572,
          175.71428571428572,
          174.60714285714286,
          176.82142857142858,
          178.92857142857142,
          179.82142857142858,
          181.03571428571428,
          182.25,
          177.78571428571428,
          177.67857142857142,
          175.35714285714286,
          174.25,
          169.75,
          168.64285714285714,
          171.96428571428572,
          172.07142857142858,
          174.5,
          174.5,
          175.71428571428572,
          177.03571428571428,
          179.25,
          175.92857142857142,
          178.03571428571428,
          176.92857142857142,
          179.35714285714286,
          178.25,
          180.57142857142858,
          180.57142857142858,
          183.35714285714286,
          182.35714285714286,
          180.03571428571428,
          178.82142857142858,
          177.71428571428572,
          176.5,
          176.5,
          175.92857142857142,
          175.82142857142858,
          178.03571428571428,
          179.25,
          179.14285714285714,
          179.14285714285714,
          176.92857142857142,
          178.03571428571428,
          176.92857142857142,
          176.92857142857142,
          175.71428571428572,
          175.60714285714286,
          175.60714285714286,
          177.92857142857142,
          176.82142857142858,
          180.14285714285714,
          183.46428571428572,
          186.89285714285714,
          181.57142857142858,
          181.57142857142858,
          180.35714285714286,
          179.03571428571428,
          177.92857142857142,
          173.60714285714286,
          172.5,
          180.25,
          177.92857142857142,
          176.82142857142858,
          177.03571428571428,
          175.92857142857142,
          176.92857142857142,
          173.64285714285714,
          171.32142857142858,
          172.53571428571428,
          173.64285714285714,
          172.42857142857142,
          173.64285714285714,
          173.57142857142858,
          175.75,
          179.17857142857142,
          179.07142857142858,
          178.96428571428572,
          179.07142857142858,
          177.96428571428572,
          179.25,
          180.35714285714286,
          175.71428571428572,
          178.03571428571428,
          179.35714285714286,
          179.25,
          182.85714285714286,
          182.85714285714286,
          179.32142857142858,
          180.53571428571428,
          178.32142857142858,
          178.28571428571428,
          180.60714285714286,
          177,
          179.32142857142858,
          181.53571428571428,
          183.96428571428572,
          186.28571428571428,
          186.32142857142858,
          184.10714285714286,
          187.21428571428572,
          181.35714285714286,
          179.25,
          178.03571428571428,
          179.03571428571428,
          177.82142857142858,
          180.03571428571428,
          177.82142857142858,
          181.35714285714286,
          183.67857142857142,
          184.67857142857142,
          185.60714285714286,
          185.71428571428572,
          185.71428571428572,
          187.14285714285714,
          187.14285714285714,
          188.35714285714286,
          186.14285714285714,
          185.32142857142858,
          181.25,
          178.92857142857142,
          180.21428571428572,
          182.35714285714286,
          184.46428571428572,
          186.78571428571428,
          185.67857142857142,
          177.17857142857142,
          159.92857142857142,
          140.07142857142858,
          122.89285714285714,
          121.89285714285714,
          122.89285714285714,
          124.10714285714286,
          140.10714285714286,
          159.67857142857142,
          178.14285714285714,
          194.28571428571428,
          194.57142857142858,
          194.78571428571428,
          198.35714285714286,
          197.35714285714286,
          197.35714285714286,
          194.21428571428572,
          196.53571428571428,
          196.25,
          195.28571428571428,
          191.85714285714286,
          187.21428571428572,
          182.82142857142858,
          179.03571428571428,
          176.71428571428572,
          174.53571428571428,
          175.39285714285714,
          176.35714285714286,
          178.57142857142858,
          178.32142857142858,
          179.60714285714286,
          179.67857142857142,
          181.85714285714286,
          178.46428571428572,
          178.71428571428572,
          175.75,
          174.39285714285714,
          173.28571428571428,
          176.10714285714286,
          176.17857142857142,
          179.85714285714286,
          180.85714285714286,
          178.46428571428572,
          177.60714285714286,
          172.75,
          171.35714285714286,
          170.35714285714286,
          168.82142857142858,
          166.57142857142858,
          169.82142857142858,
          169.85714285714286,
          174.53571428571428,
          172.64285714285714,
          172.5,
          166.53571428571428,
          166.32142857142858,
          144.32142857142858,
          131.60714285714286,
          139.92857142857142,
          142.57142857142858,
          142.28571428571428,
          151.14285714285714,
          149.53571428571428,
          164.57142857142858,
          173.71428571428572,
          169.07142857142858,
          164.5,
          166.82142857142858,
          161.82142857142858,
          161.10714285714286,
          165.32142857142858,
          167.64285714285714,
          156.85714285714286,
          145.35714285714286,
          144.28571428571428,
          147.75,
          150.07142857142858,
          152.75,
          156.28571428571428,
          169.03571428571428,
          175.75,
          175.89285714285714,
          175.78571428571428,
          177.03571428571428,
          173.46428571428572,
          173.46428571428572,
          172.57142857142858,
          182.28571428571428,
          183.5,
          181.25,
          174.21428571428572,
          176.42857142857142,
          171.67857142857142,
          170.60714285714286,
          162.25,
          161.96428571428572,
          161.96428571428572,
          168.96428571428572,
          175.92857142857142,
          165.64285714285714,
          148.10714285714286,
          151.42857142857142,
          146.82142857142858,
          147.85714285714286,
          147.85714285714286,
          138.57142857142858,
          157.03571428571428,
          175.60714285714286,
          178.14285714285714,
          180.67857142857142,
          183.07142857142858,
          184.39285714285714,
          186.82142857142858,
          184.60714285714286,
          183.25,
          184.46428571428572,
          184.67857142857142,
          184.78571428571428,
          186.03571428571428,
          188.35714285714286,
          188.92857142857142,
          187.17857142857142,
          169.82142857142858,
          169.57142857142858,
          168.78571428571428,
          166.39285714285714,
          160.64285714285714,
          142.85714285714286,
          145.96428571428572,
          161.75,
          161.07142857142858,
          164.96428571428572,
          157.92857142857142,
          155.75,
          164.78571428571428,
          167.25,
          168.82142857142858,
          170.64285714285714,
          167.46428571428572,
          169.67857142857142,
          180.07142857142858,
          191.21428571428572,
          186.32142857142858,
          182.53571428571428,
          175.57142857142858,
          154.75,
          156.07142857142858,
          157.17857142857142,
          156.42857142857142,
          158.75,
          161,
          167.71428571428572,
          186.07142857142858,
          187,
          186.35714285714286,
          183.92857142857142,
          179.17857142857142,
          175.82142857142858,
          171.28571428571428,
          167.89285714285714,
          166.32142857142858,
          159,
          158.10714285714286,
          160.60714285714286,
          159.64285714285714,
          162.92857142857142,
          167.67857142857142,
          165.67857142857142,
          169.07142857142858,
          171.75,
          170.42857142857142,
          172.5,
          171.42857142857142,
          167.25,
          156.39285714285714,
          142.5,
          144.35714285714286,
          146.82142857142858,
          146.5,
          142.21428571428572,
          138.42857142857142,
          134.85714285714286,
          147.32142857142858,
          143.89285714285714,
          145.10714285714286,
          145.57142857142858,
          150.10714285714286,
          154.42857142857142,
          173.35714285714286,
          179.21428571428572,
          181.42857142857142,
          183.71428571428572,
          190.67857142857142,
          202.17857142857142,
          210.46428571428572,
          219.03571428571428,
          220.28571428571428,
          222,
          228.67857142857142,
          233.21428571428572,
          233.21428571428572,
          237.64285714285714,
          238.60714285714286,
          245.35714285714286,
          251.60714285714286,
          245.21428571428572,
          236.14285714285714,
          225.75,
          218.78571428571428,
          208.64285714285714,
          198.46428571428572,
          190.39285714285714,
          186.53571428571428,
          187.46428571428572,
          189.5,
          195.46428571428572,
          209.21428571428572,
          219,
          230.25,
          242.32142857142858,
          252.35714285714286,
          266.17857142857144,
          268.32142857142856,
          269.92857142857144,
          276.89285714285717,
          271.39285714285717,
          267.7142857142857,
          271.75,
          271.10714285714283,
          270.35714285714283,
          264.85714285714283,
          255.28571428571428,
          257.35714285714283,
          263.89285714285717,
          256.4642857142857,
          251.57142857142858,
          251.78571428571428,
          250.46428571428572,
          252.75,
          252.75,
          247.17857142857142,
          247.42857142857142,
          245.25,
          246.89285714285714,
          248.32142857142858,
          245.28571428571428,
          245.75,
          247.39285714285714,
          250.25,
          240.42857142857142,
          238.42857142857142,
          241.92857142857142,
          246.96428571428572,
          244.82142857142858,
          242.60714285714286,
          240.64285714285714,
          252.03571428571428,
          248.39285714285714,
          242.67857142857142,
          218.35714285714286,
          191.53571428571428,
          193.64285714285714,
          195.10714285714286,
          193.32142857142858,
          195.67857142857142,
          197.92857142857142,
          219.82142857142858,
          250.85714285714286,
          250.85714285714286,
          252.75,
          255.35714285714286,
          252.64285714285714,
          250.82142857142858,
          252.89285714285714,
          251.57142857142858,
          253.17857142857142,
          249.35714285714286,
          248.75,
          252.42857142857142,
          258.32142857142856,
          256.25,
          254.17857142857142,
          250.85714285714286,
          251.10714285714286,
          251.57142857142858,
          251.96428571428572,
          239.53571428571428,
          232.57142857142858,
          208.46428571428572,
          180.96428571428572,
          184.35714285714286,
          184.75,
          175.35714285714286,
          173.10714285714286,
          170.25,
          185.17857142857142,
          214.75,
          218.60714285714286,
          225.78571428571428,
          238.78571428571428,
          249.32142857142858,
          261.35714285714283,
          272.75,
          274.67857142857144,
          276.67857142857144,
          273.9642857142857,
          273.42857142857144,
          274.39285714285717,
          271.10714285714283,
          269.7857142857143,
          267.4642857142857,
          261.07142857142856,
          265.67857142857144,
          268.60714285714283,
          273.85714285714283,
          271.57142857142856,
          262.7142857142857,
          259.2857142857143,
          258.25,
          256.57142857142856,
          250.46428571428572,
          245.17857142857142,
          242.89285714285714,
          247.46428571428572,
          255.21428571428572,
          254.92857142857142,
          250.42857142857142,
          248.32142857142858,
          239.85714285714286,
          228.14285714285714,
          213.07142857142858,
          203.71428571428572,
          208,
          210.10714285714286,
          213.75,
          220.64285714285714,
          225.46428571428572,
          228.82142857142858,
          238.75,
          238.42857142857142,
          238.71428571428572,
          239.89285714285714,
          235.57142857142858,
          241.25,
          254.14285714285714,
          253.32142857142858,
          246.71428571428572,
          236.42857142857142,
          232.67857142857142,
          236.85714285714286,
          226.57142857142858,
          217.28571428571428,
          204.78571428571428,
          211.5,
          216.78571428571428,
          212.35714285714286,
          209.10714285714286,
          215.96428571428572,
          219.39285714285714,
          228.17857142857142,
          223.46428571428572,
          220.67857142857142,
          221,
          206.28571428571428,
          199.42857142857142,
          186.82142857142858,
          165.17857142857142,
          165.53571428571428,
          167.64285714285714,
          170.89285714285714,
          190.46428571428572,
          199.32142857142858,
          211.89285714285714,
          235.92857142857142,
          234.71428571428572,
          237.28571428571428,
          236.5,
          224.92857142857142,
          218.39285714285714,
          206.82142857142858,
          200.85714285714286,
          197.46428571428572,
          195.35714285714286,
          196.35714285714286,
          200.82142857142858,
          211.21428571428572,
          228.67857142857142,
          227.32142857142858,
          230.96428571428572,
          227.25,
          221.78571428571428,
          213.46428571428572,
          202.07142857142858,
          182.5,
          182.57142857142858,
          179.39285714285714,
          179.71428571428572,
          180.46428571428572,
          175.96428571428572,
          169.89285714285714,
          184.21428571428572,
          188.64285714285714,
          190.85714285714286,
          190.89285714285714,
          192.5,
          204.32142857142858,
          208.85714285714286,
          191.10714285714286,
          184.57142857142858,
          182.07142857142858,
          171.46428571428572
         ],
         "yaxis": "y"
        }
       ],
       "layout": {
        "legend": {
         "tracegroupgap": 0
        },
        "template": {
         "data": {
          "bar": [
           {
            "error_x": {
             "color": "#2a3f5f"
            },
            "error_y": {
             "color": "#2a3f5f"
            },
            "marker": {
             "line": {
              "color": "#E5ECF6",
              "width": 0.5
             },
             "pattern": {
              "fillmode": "overlay",
              "size": 10,
              "solidity": 0.2
             }
            },
            "type": "bar"
           }
          ],
          "barpolar": [
           {
            "marker": {
             "line": {
              "color": "#E5ECF6",
              "width": 0.5
             },
             "pattern": {
              "fillmode": "overlay",
              "size": 10,
              "solidity": 0.2
             }
            },
            "type": "barpolar"
           }
          ],
          "carpet": [
           {
            "aaxis": {
             "endlinecolor": "#2a3f5f",
             "gridcolor": "white",
             "linecolor": "white",
             "minorgridcolor": "white",
             "startlinecolor": "#2a3f5f"
            },
            "baxis": {
             "endlinecolor": "#2a3f5f",
             "gridcolor": "white",
             "linecolor": "white",
             "minorgridcolor": "white",
             "startlinecolor": "#2a3f5f"
            },
            "type": "carpet"
           }
          ],
          "choropleth": [
           {
            "colorbar": {
             "outlinewidth": 0,
             "ticks": ""
            },
            "type": "choropleth"
           }
          ],
          "contour": [
           {
            "colorbar": {
             "outlinewidth": 0,
             "ticks": ""
            },
            "colorscale": [
             [
              0,
              "#0d0887"
             ],
             [
              0.1111111111111111,
              "#46039f"
             ],
             [
              0.2222222222222222,
              "#7201a8"
             ],
             [
              0.3333333333333333,
              "#9c179e"
             ],
             [
              0.4444444444444444,
              "#bd3786"
             ],
             [
              0.5555555555555556,
              "#d8576b"
             ],
             [
              0.6666666666666666,
              "#ed7953"
             ],
             [
              0.7777777777777778,
              "#fb9f3a"
             ],
             [
              0.8888888888888888,
              "#fdca26"
             ],
             [
              1,
              "#f0f921"
             ]
            ],
            "type": "contour"
           }
          ],
          "contourcarpet": [
           {
            "colorbar": {
             "outlinewidth": 0,
             "ticks": ""
            },
            "type": "contourcarpet"
           }
          ],
          "heatmap": [
           {
            "colorbar": {
             "outlinewidth": 0,
             "ticks": ""
            },
            "colorscale": [
             [
              0,
              "#0d0887"
             ],
             [
              0.1111111111111111,
              "#46039f"
             ],
             [
              0.2222222222222222,
              "#7201a8"
             ],
             [
              0.3333333333333333,
              "#9c179e"
             ],
             [
              0.4444444444444444,
              "#bd3786"
             ],
             [
              0.5555555555555556,
              "#d8576b"
             ],
             [
              0.6666666666666666,
              "#ed7953"
             ],
             [
              0.7777777777777778,
              "#fb9f3a"
             ],
             [
              0.8888888888888888,
              "#fdca26"
             ],
             [
              1,
              "#f0f921"
             ]
            ],
            "type": "heatmap"
           }
          ],
          "heatmapgl": [
           {
            "colorbar": {
             "outlinewidth": 0,
             "ticks": ""
            },
            "colorscale": [
             [
              0,
              "#0d0887"
             ],
             [
              0.1111111111111111,
              "#46039f"
             ],
             [
              0.2222222222222222,
              "#7201a8"
             ],
             [
              0.3333333333333333,
              "#9c179e"
             ],
             [
              0.4444444444444444,
              "#bd3786"
             ],
             [
              0.5555555555555556,
              "#d8576b"
             ],
             [
              0.6666666666666666,
              "#ed7953"
             ],
             [
              0.7777777777777778,
              "#fb9f3a"
             ],
             [
              0.8888888888888888,
              "#fdca26"
             ],
             [
              1,
              "#f0f921"
             ]
            ],
            "type": "heatmapgl"
           }
          ],
          "histogram": [
           {
            "marker": {
             "pattern": {
              "fillmode": "overlay",
              "size": 10,
              "solidity": 0.2
             }
            },
            "type": "histogram"
           }
          ],
          "histogram2d": [
           {
            "colorbar": {
             "outlinewidth": 0,
             "ticks": ""
            },
            "colorscale": [
             [
              0,
              "#0d0887"
             ],
             [
              0.1111111111111111,
              "#46039f"
             ],
             [
              0.2222222222222222,
              "#7201a8"
             ],
             [
              0.3333333333333333,
              "#9c179e"
             ],
             [
              0.4444444444444444,
              "#bd3786"
             ],
             [
              0.5555555555555556,
              "#d8576b"
             ],
             [
              0.6666666666666666,
              "#ed7953"
             ],
             [
              0.7777777777777778,
              "#fb9f3a"
             ],
             [
              0.8888888888888888,
              "#fdca26"
             ],
             [
              1,
              "#f0f921"
             ]
            ],
            "type": "histogram2d"
           }
          ],
          "histogram2dcontour": [
           {
            "colorbar": {
             "outlinewidth": 0,
             "ticks": ""
            },
            "colorscale": [
             [
              0,
              "#0d0887"
             ],
             [
              0.1111111111111111,
              "#46039f"
             ],
             [
              0.2222222222222222,
              "#7201a8"
             ],
             [
              0.3333333333333333,
              "#9c179e"
             ],
             [
              0.4444444444444444,
              "#bd3786"
             ],
             [
              0.5555555555555556,
              "#d8576b"
             ],
             [
              0.6666666666666666,
              "#ed7953"
             ],
             [
              0.7777777777777778,
              "#fb9f3a"
             ],
             [
              0.8888888888888888,
              "#fdca26"
             ],
             [
              1,
              "#f0f921"
             ]
            ],
            "type": "histogram2dcontour"
           }
          ],
          "mesh3d": [
           {
            "colorbar": {
             "outlinewidth": 0,
             "ticks": ""
            },
            "type": "mesh3d"
           }
          ],
          "parcoords": [
           {
            "line": {
             "colorbar": {
              "outlinewidth": 0,
              "ticks": ""
             }
            },
            "type": "parcoords"
           }
          ],
          "pie": [
           {
            "automargin": true,
            "type": "pie"
           }
          ],
          "scatter": [
           {
            "fillpattern": {
             "fillmode": "overlay",
             "size": 10,
             "solidity": 0.2
            },
            "type": "scatter"
           }
          ],
          "scatter3d": [
           {
            "line": {
             "colorbar": {
              "outlinewidth": 0,
              "ticks": ""
             }
            },
            "marker": {
             "colorbar": {
              "outlinewidth": 0,
              "ticks": ""
             }
            },
            "type": "scatter3d"
           }
          ],
          "scattercarpet": [
           {
            "marker": {
             "colorbar": {
              "outlinewidth": 0,
              "ticks": ""
             }
            },
            "type": "scattercarpet"
           }
          ],
          "scattergeo": [
           {
            "marker": {
             "colorbar": {
              "outlinewidth": 0,
              "ticks": ""
             }
            },
            "type": "scattergeo"
           }
          ],
          "scattergl": [
           {
            "marker": {
             "colorbar": {
              "outlinewidth": 0,
              "ticks": ""
             }
            },
            "type": "scattergl"
           }
          ],
          "scattermapbox": [
           {
            "marker": {
             "colorbar": {
              "outlinewidth": 0,
              "ticks": ""
             }
            },
            "type": "scattermapbox"
           }
          ],
          "scatterpolar": [
           {
            "marker": {
             "colorbar": {
              "outlinewidth": 0,
              "ticks": ""
             }
            },
            "type": "scatterpolar"
           }
          ],
          "scatterpolargl": [
           {
            "marker": {
             "colorbar": {
              "outlinewidth": 0,
              "ticks": ""
             }
            },
            "type": "scatterpolargl"
           }
          ],
          "scatterternary": [
           {
            "marker": {
             "colorbar": {
              "outlinewidth": 0,
              "ticks": ""
             }
            },
            "type": "scatterternary"
           }
          ],
          "surface": [
           {
            "colorbar": {
             "outlinewidth": 0,
             "ticks": ""
            },
            "colorscale": [
             [
              0,
              "#0d0887"
             ],
             [
              0.1111111111111111,
              "#46039f"
             ],
             [
              0.2222222222222222,
              "#7201a8"
             ],
             [
              0.3333333333333333,
              "#9c179e"
             ],
             [
              0.4444444444444444,
              "#bd3786"
             ],
             [
              0.5555555555555556,
              "#d8576b"
             ],
             [
              0.6666666666666666,
              "#ed7953"
             ],
             [
              0.7777777777777778,
              "#fb9f3a"
             ],
             [
              0.8888888888888888,
              "#fdca26"
             ],
             [
              1,
              "#f0f921"
             ]
            ],
            "type": "surface"
           }
          ],
          "table": [
           {
            "cells": {
             "fill": {
              "color": "#EBF0F8"
             },
             "line": {
              "color": "white"
             }
            },
            "header": {
             "fill": {
              "color": "#C8D4E3"
             },
             "line": {
              "color": "white"
             }
            },
            "type": "table"
           }
          ]
         },
         "layout": {
          "annotationdefaults": {
           "arrowcolor": "#2a3f5f",
           "arrowhead": 0,
           "arrowwidth": 1
          },
          "autotypenumbers": "strict",
          "coloraxis": {
           "colorbar": {
            "outlinewidth": 0,
            "ticks": ""
           }
          },
          "colorscale": {
           "diverging": [
            [
             0,
             "#8e0152"
            ],
            [
             0.1,
             "#c51b7d"
            ],
            [
             0.2,
             "#de77ae"
            ],
            [
             0.3,
             "#f1b6da"
            ],
            [
             0.4,
             "#fde0ef"
            ],
            [
             0.5,
             "#f7f7f7"
            ],
            [
             0.6,
             "#e6f5d0"
            ],
            [
             0.7,
             "#b8e186"
            ],
            [
             0.8,
             "#7fbc41"
            ],
            [
             0.9,
             "#4d9221"
            ],
            [
             1,
             "#276419"
            ]
           ],
           "sequential": [
            [
             0,
             "#0d0887"
            ],
            [
             0.1111111111111111,
             "#46039f"
            ],
            [
             0.2222222222222222,
             "#7201a8"
            ],
            [
             0.3333333333333333,
             "#9c179e"
            ],
            [
             0.4444444444444444,
             "#bd3786"
            ],
            [
             0.5555555555555556,
             "#d8576b"
            ],
            [
             0.6666666666666666,
             "#ed7953"
            ],
            [
             0.7777777777777778,
             "#fb9f3a"
            ],
            [
             0.8888888888888888,
             "#fdca26"
            ],
            [
             1,
             "#f0f921"
            ]
           ],
           "sequentialminus": [
            [
             0,
             "#0d0887"
            ],
            [
             0.1111111111111111,
             "#46039f"
            ],
            [
             0.2222222222222222,
             "#7201a8"
            ],
            [
             0.3333333333333333,
             "#9c179e"
            ],
            [
             0.4444444444444444,
             "#bd3786"
            ],
            [
             0.5555555555555556,
             "#d8576b"
            ],
            [
             0.6666666666666666,
             "#ed7953"
            ],
            [
             0.7777777777777778,
             "#fb9f3a"
            ],
            [
             0.8888888888888888,
             "#fdca26"
            ],
            [
             1,
             "#f0f921"
            ]
           ]
          },
          "colorway": [
           "#636efa",
           "#EF553B",
           "#00cc96",
           "#ab63fa",
           "#FFA15A",
           "#19d3f3",
           "#FF6692",
           "#B6E880",
           "#FF97FF",
           "#FECB52"
          ],
          "font": {
           "color": "#2a3f5f"
          },
          "geo": {
           "bgcolor": "white",
           "lakecolor": "white",
           "landcolor": "#E5ECF6",
           "showlakes": true,
           "showland": true,
           "subunitcolor": "white"
          },
          "hoverlabel": {
           "align": "left"
          },
          "hovermode": "closest",
          "mapbox": {
           "style": "light"
          },
          "paper_bgcolor": "white",
          "plot_bgcolor": "#E5ECF6",
          "polar": {
           "angularaxis": {
            "gridcolor": "white",
            "linecolor": "white",
            "ticks": ""
           },
           "bgcolor": "#E5ECF6",
           "radialaxis": {
            "gridcolor": "white",
            "linecolor": "white",
            "ticks": ""
           }
          },
          "scene": {
           "xaxis": {
            "backgroundcolor": "#E5ECF6",
            "gridcolor": "white",
            "gridwidth": 2,
            "linecolor": "white",
            "showbackground": true,
            "ticks": "",
            "zerolinecolor": "white"
           },
           "yaxis": {
            "backgroundcolor": "#E5ECF6",
            "gridcolor": "white",
            "gridwidth": 2,
            "linecolor": "white",
            "showbackground": true,
            "ticks": "",
            "zerolinecolor": "white"
           },
           "zaxis": {
            "backgroundcolor": "#E5ECF6",
            "gridcolor": "white",
            "gridwidth": 2,
            "linecolor": "white",
            "showbackground": true,
            "ticks": "",
            "zerolinecolor": "white"
           }
          },
          "shapedefaults": {
           "line": {
            "color": "#2a3f5f"
           }
          },
          "ternary": {
           "aaxis": {
            "gridcolor": "white",
            "linecolor": "white",
            "ticks": ""
           },
           "baxis": {
            "gridcolor": "white",
            "linecolor": "white",
            "ticks": ""
           },
           "bgcolor": "#E5ECF6",
           "caxis": {
            "gridcolor": "white",
            "linecolor": "white",
            "ticks": ""
           }
          },
          "title": {
           "x": 0.05
          },
          "xaxis": {
           "automargin": true,
           "gridcolor": "white",
           "linecolor": "white",
           "ticks": "",
           "title": {
            "standoff": 15
           },
           "zerolinecolor": "white",
           "zerolinewidth": 2
          },
          "yaxis": {
           "automargin": true,
           "gridcolor": "white",
           "linecolor": "white",
           "ticks": "",
           "title": {
            "standoff": 15
           },
           "zerolinecolor": "white",
           "zerolinewidth": 2
          }
         }
        },
        "title": {
         "text": "Police OT hours at Mass/Melnea - 7 day rolling average"
        },
        "xaxis": {
         "anchor": "y",
         "domain": [
          0,
          1
         ],
         "title": {
          "text": "Date"
         }
        },
        "yaxis": {
         "anchor": "x",
         "domain": [
          0,
          1
         ],
         "title": {
          "text": "Overtime Hours"
         }
        }
       }
      }
     },
     "metadata": {},
     "output_type": "display_data"
    },
    {
     "data": {
      "application/vnd.plotly.v1+json": {
       "config": {
        "plotlyServerURL": "https://plot.ly"
       },
       "data": [
        {
         "hovertemplate": "Date=%{x}<br>Overtime Hours per Day=%{y}<extra></extra>",
         "legendgroup": "",
         "line": {
          "color": "#0055AA",
          "dash": "solid"
         },
         "marker": {
          "symbol": "circle"
         },
         "mode": "lines",
         "name": "",
         "showlegend": false,
         "type": "scattergl",
         "x": [
          "2019-08-01T00:00:00",
          "2019-08-02T00:00:00",
          "2019-08-03T00:00:00",
          "2019-08-04T00:00:00",
          "2019-08-05T00:00:00",
          "2019-08-06T00:00:00",
          "2019-08-07T00:00:00",
          "2019-08-08T00:00:00",
          "2019-08-09T00:00:00",
          "2019-08-10T00:00:00",
          "2019-08-11T00:00:00",
          "2019-08-12T00:00:00",
          "2019-08-13T00:00:00",
          "2019-08-14T00:00:00",
          "2019-08-15T00:00:00",
          "2019-08-16T00:00:00",
          "2019-08-17T00:00:00",
          "2019-08-18T00:00:00",
          "2019-08-19T00:00:00",
          "2019-08-20T00:00:00",
          "2019-08-21T00:00:00",
          "2019-08-22T00:00:00",
          "2019-08-23T00:00:00",
          "2019-08-24T00:00:00",
          "2019-08-25T00:00:00",
          "2019-08-26T00:00:00",
          "2019-08-27T00:00:00",
          "2019-08-28T00:00:00",
          "2019-08-29T00:00:00",
          "2019-08-30T00:00:00",
          "2019-08-31T00:00:00",
          "2019-09-01T00:00:00",
          "2019-09-02T00:00:00",
          "2019-09-03T00:00:00",
          "2019-09-04T00:00:00",
          "2019-09-05T00:00:00",
          "2019-09-06T00:00:00",
          "2019-09-07T00:00:00",
          "2019-09-08T00:00:00",
          "2019-09-09T00:00:00",
          "2019-09-10T00:00:00",
          "2019-09-11T00:00:00",
          "2019-09-12T00:00:00",
          "2019-09-13T00:00:00",
          "2019-09-14T00:00:00",
          "2019-09-15T00:00:00",
          "2019-09-16T00:00:00",
          "2019-09-17T00:00:00",
          "2019-09-18T00:00:00",
          "2019-09-19T00:00:00",
          "2019-09-20T00:00:00",
          "2019-09-21T00:00:00",
          "2019-09-22T00:00:00",
          "2019-09-23T00:00:00",
          "2019-09-24T00:00:00",
          "2019-09-25T00:00:00",
          "2019-09-26T00:00:00",
          "2019-09-27T00:00:00",
          "2019-09-28T00:00:00",
          "2019-09-29T00:00:00",
          "2019-09-30T00:00:00",
          "2019-10-01T00:00:00",
          "2019-10-02T00:00:00",
          "2019-10-03T00:00:00",
          "2019-10-04T00:00:00",
          "2019-10-05T00:00:00",
          "2019-10-06T00:00:00",
          "2019-10-07T00:00:00",
          "2019-10-08T00:00:00",
          "2019-10-09T00:00:00",
          "2019-10-10T00:00:00",
          "2019-10-11T00:00:00",
          "2019-10-12T00:00:00",
          "2019-10-13T00:00:00",
          "2019-10-14T00:00:00",
          "2019-10-15T00:00:00",
          "2019-10-16T00:00:00",
          "2019-10-17T00:00:00",
          "2019-10-18T00:00:00",
          "2019-10-19T00:00:00",
          "2019-10-20T00:00:00",
          "2019-10-21T00:00:00",
          "2019-10-22T00:00:00",
          "2019-10-23T00:00:00",
          "2019-10-24T00:00:00",
          "2019-10-25T00:00:00",
          "2019-10-26T00:00:00",
          "2019-10-27T00:00:00",
          "2019-10-28T00:00:00",
          "2019-10-29T00:00:00",
          "2019-10-30T00:00:00",
          "2019-10-31T00:00:00",
          "2019-11-01T00:00:00",
          "2019-11-02T00:00:00",
          "2019-11-03T00:00:00",
          "2019-11-04T00:00:00",
          "2019-11-05T00:00:00",
          "2019-11-06T00:00:00",
          "2019-11-07T00:00:00",
          "2019-11-08T00:00:00",
          "2019-11-09T00:00:00",
          "2019-11-10T00:00:00",
          "2019-11-11T00:00:00",
          "2019-11-12T00:00:00",
          "2019-11-13T00:00:00",
          "2019-11-14T00:00:00",
          "2019-11-15T00:00:00",
          "2019-11-16T00:00:00",
          "2019-11-17T00:00:00",
          "2019-11-18T00:00:00",
          "2019-11-19T00:00:00",
          "2019-11-20T00:00:00",
          "2019-11-21T00:00:00",
          "2019-11-22T00:00:00",
          "2019-11-23T00:00:00",
          "2019-11-24T00:00:00",
          "2019-11-25T00:00:00",
          "2019-11-26T00:00:00",
          "2019-11-27T00:00:00",
          "2019-11-28T00:00:00",
          "2019-11-29T00:00:00",
          "2019-11-30T00:00:00",
          "2019-12-01T00:00:00",
          "2019-12-02T00:00:00",
          "2019-12-03T00:00:00",
          "2019-12-04T00:00:00",
          "2019-12-05T00:00:00",
          "2019-12-06T00:00:00",
          "2019-12-07T00:00:00",
          "2019-12-08T00:00:00",
          "2019-12-09T00:00:00",
          "2019-12-10T00:00:00",
          "2019-12-11T00:00:00",
          "2019-12-12T00:00:00",
          "2019-12-13T00:00:00",
          "2019-12-14T00:00:00",
          "2019-12-15T00:00:00",
          "2019-12-16T00:00:00",
          "2019-12-17T00:00:00",
          "2019-12-18T00:00:00",
          "2019-12-19T00:00:00",
          "2019-12-20T00:00:00",
          "2019-12-21T00:00:00",
          "2019-12-22T00:00:00",
          "2019-12-23T00:00:00",
          "2019-12-24T00:00:00",
          "2019-12-25T00:00:00",
          "2019-12-26T00:00:00",
          "2019-12-27T00:00:00",
          "2019-12-28T00:00:00",
          "2019-12-29T00:00:00",
          "2019-12-30T00:00:00",
          "2019-12-31T00:00:00",
          "2020-01-01T00:00:00",
          "2020-01-02T00:00:00",
          "2020-01-03T00:00:00",
          "2020-01-04T00:00:00",
          "2020-01-05T00:00:00",
          "2020-01-06T00:00:00",
          "2020-01-07T00:00:00",
          "2020-01-08T00:00:00",
          "2020-01-09T00:00:00",
          "2020-01-10T00:00:00",
          "2020-01-11T00:00:00",
          "2020-01-12T00:00:00",
          "2020-01-13T00:00:00",
          "2020-01-14T00:00:00",
          "2020-01-15T00:00:00",
          "2020-01-16T00:00:00",
          "2020-01-17T00:00:00",
          "2020-01-18T00:00:00",
          "2020-01-19T00:00:00",
          "2020-01-20T00:00:00",
          "2020-01-21T00:00:00",
          "2020-01-22T00:00:00",
          "2020-01-23T00:00:00",
          "2020-01-24T00:00:00",
          "2020-01-25T00:00:00",
          "2020-01-26T00:00:00",
          "2020-01-27T00:00:00",
          "2020-01-28T00:00:00",
          "2020-01-29T00:00:00",
          "2020-01-30T00:00:00",
          "2020-01-31T00:00:00",
          "2020-02-01T00:00:00",
          "2020-02-02T00:00:00",
          "2020-02-03T00:00:00",
          "2020-02-04T00:00:00",
          "2020-02-05T00:00:00",
          "2020-02-06T00:00:00",
          "2020-02-07T00:00:00",
          "2020-02-08T00:00:00",
          "2020-02-09T00:00:00",
          "2020-02-10T00:00:00",
          "2020-02-11T00:00:00",
          "2020-02-12T00:00:00",
          "2020-02-13T00:00:00",
          "2020-02-14T00:00:00",
          "2020-02-15T00:00:00",
          "2020-02-16T00:00:00",
          "2020-02-17T00:00:00",
          "2020-02-18T00:00:00",
          "2020-02-19T00:00:00",
          "2020-02-20T00:00:00",
          "2020-02-21T00:00:00",
          "2020-02-22T00:00:00",
          "2020-02-23T00:00:00",
          "2020-02-24T00:00:00",
          "2020-02-25T00:00:00",
          "2020-02-26T00:00:00",
          "2020-02-27T00:00:00",
          "2020-02-28T00:00:00",
          "2020-02-29T00:00:00",
          "2020-03-01T00:00:00",
          "2020-03-02T00:00:00",
          "2020-03-03T00:00:00",
          "2020-03-04T00:00:00",
          "2020-03-05T00:00:00",
          "2020-03-06T00:00:00",
          "2020-03-07T00:00:00",
          "2020-03-08T00:00:00",
          "2020-03-09T00:00:00",
          "2020-03-10T00:00:00",
          "2020-03-11T00:00:00",
          "2020-03-12T00:00:00",
          "2020-03-13T00:00:00",
          "2020-03-14T00:00:00",
          "2020-03-15T00:00:00",
          "2020-03-16T00:00:00",
          "2020-03-17T00:00:00",
          "2020-03-18T00:00:00",
          "2020-03-19T00:00:00",
          "2020-03-20T00:00:00",
          "2020-03-21T00:00:00",
          "2020-03-22T00:00:00",
          "2020-03-23T00:00:00",
          "2020-03-24T00:00:00",
          "2020-03-25T00:00:00",
          "2020-03-26T00:00:00",
          "2020-03-27T00:00:00",
          "2020-03-28T00:00:00",
          "2020-03-29T00:00:00",
          "2020-03-30T00:00:00",
          "2020-03-31T00:00:00",
          "2020-04-01T00:00:00",
          "2020-04-02T00:00:00",
          "2020-04-03T00:00:00",
          "2020-04-04T00:00:00",
          "2020-04-05T00:00:00",
          "2020-04-06T00:00:00",
          "2020-04-07T00:00:00",
          "2020-04-08T00:00:00",
          "2020-04-09T00:00:00",
          "2020-04-10T00:00:00",
          "2020-04-11T00:00:00",
          "2020-04-12T00:00:00",
          "2020-04-13T00:00:00",
          "2020-04-14T00:00:00",
          "2020-04-15T00:00:00",
          "2020-04-16T00:00:00",
          "2020-04-17T00:00:00",
          "2020-04-18T00:00:00",
          "2020-04-19T00:00:00",
          "2020-04-20T00:00:00",
          "2020-04-21T00:00:00",
          "2020-04-22T00:00:00",
          "2020-04-23T00:00:00",
          "2020-04-24T00:00:00",
          "2020-04-25T00:00:00",
          "2020-04-26T00:00:00",
          "2020-04-27T00:00:00",
          "2020-04-28T00:00:00",
          "2020-04-29T00:00:00",
          "2020-04-30T00:00:00",
          "2020-05-01T00:00:00",
          "2020-05-02T00:00:00",
          "2020-05-03T00:00:00",
          "2020-05-04T00:00:00",
          "2020-05-05T00:00:00",
          "2020-05-06T00:00:00",
          "2020-05-07T00:00:00",
          "2020-05-08T00:00:00",
          "2020-05-09T00:00:00",
          "2020-05-10T00:00:00",
          "2020-05-11T00:00:00",
          "2020-05-12T00:00:00",
          "2020-05-13T00:00:00",
          "2020-05-14T00:00:00",
          "2020-05-15T00:00:00",
          "2020-05-16T00:00:00",
          "2020-05-17T00:00:00",
          "2020-05-18T00:00:00",
          "2020-05-19T00:00:00",
          "2020-05-20T00:00:00",
          "2020-05-21T00:00:00",
          "2020-05-22T00:00:00",
          "2020-05-23T00:00:00",
          "2020-05-24T00:00:00",
          "2020-05-25T00:00:00",
          "2020-05-26T00:00:00",
          "2020-05-27T00:00:00",
          "2020-05-28T00:00:00",
          "2020-05-29T00:00:00",
          "2020-05-30T00:00:00",
          "2020-05-31T00:00:00",
          "2020-06-01T00:00:00",
          "2020-06-02T00:00:00",
          "2020-06-03T00:00:00",
          "2020-06-04T00:00:00",
          "2020-06-05T00:00:00",
          "2020-06-06T00:00:00",
          "2020-06-07T00:00:00",
          "2020-06-08T00:00:00",
          "2020-06-09T00:00:00",
          "2020-06-10T00:00:00",
          "2020-06-11T00:00:00",
          "2020-06-12T00:00:00",
          "2020-06-13T00:00:00",
          "2020-06-14T00:00:00",
          "2020-06-15T00:00:00",
          "2020-06-16T00:00:00",
          "2020-06-17T00:00:00",
          "2020-06-18T00:00:00",
          "2020-06-19T00:00:00",
          "2020-06-20T00:00:00",
          "2020-06-21T00:00:00",
          "2020-06-22T00:00:00",
          "2020-06-23T00:00:00",
          "2020-06-24T00:00:00",
          "2020-06-25T00:00:00",
          "2020-06-26T00:00:00",
          "2020-06-27T00:00:00",
          "2020-06-28T00:00:00",
          "2020-06-29T00:00:00",
          "2020-06-30T00:00:00",
          "2020-07-01T00:00:00",
          "2020-07-02T00:00:00",
          "2020-07-03T00:00:00",
          "2020-07-04T00:00:00",
          "2020-07-05T00:00:00",
          "2020-07-06T00:00:00",
          "2020-07-07T00:00:00",
          "2020-07-08T00:00:00",
          "2020-07-09T00:00:00",
          "2020-07-10T00:00:00",
          "2020-07-11T00:00:00",
          "2020-07-12T00:00:00",
          "2020-07-13T00:00:00",
          "2020-07-14T00:00:00",
          "2020-07-15T00:00:00",
          "2020-07-16T00:00:00",
          "2020-07-17T00:00:00",
          "2020-07-18T00:00:00",
          "2020-07-19T00:00:00",
          "2020-07-20T00:00:00",
          "2020-07-21T00:00:00",
          "2020-07-22T00:00:00",
          "2020-07-23T00:00:00",
          "2020-07-24T00:00:00",
          "2020-07-25T00:00:00",
          "2020-07-26T00:00:00",
          "2020-07-27T00:00:00",
          "2020-07-28T00:00:00",
          "2020-07-29T00:00:00",
          "2020-07-30T00:00:00",
          "2020-07-31T00:00:00",
          "2020-08-01T00:00:00",
          "2020-08-02T00:00:00",
          "2020-08-03T00:00:00",
          "2020-08-04T00:00:00",
          "2020-08-05T00:00:00",
          "2020-08-06T00:00:00",
          "2020-08-07T00:00:00",
          "2020-08-08T00:00:00",
          "2020-08-09T00:00:00",
          "2020-08-10T00:00:00",
          "2020-08-11T00:00:00",
          "2020-08-12T00:00:00",
          "2020-08-13T00:00:00",
          "2020-08-14T00:00:00",
          "2020-08-15T00:00:00",
          "2020-08-16T00:00:00",
          "2020-08-17T00:00:00",
          "2020-08-18T00:00:00",
          "2020-08-19T00:00:00",
          "2020-08-20T00:00:00",
          "2020-08-21T00:00:00",
          "2020-08-22T00:00:00",
          "2020-08-23T00:00:00",
          "2020-08-24T00:00:00",
          "2020-08-25T00:00:00",
          "2020-08-26T00:00:00",
          "2020-08-27T00:00:00",
          "2020-08-28T00:00:00",
          "2020-08-29T00:00:00",
          "2020-08-30T00:00:00",
          "2020-08-31T00:00:00",
          "2020-09-01T00:00:00",
          "2020-09-02T00:00:00",
          "2020-09-03T00:00:00",
          "2020-09-04T00:00:00",
          "2020-09-05T00:00:00",
          "2020-09-06T00:00:00",
          "2020-09-07T00:00:00",
          "2020-09-08T00:00:00",
          "2020-09-09T00:00:00",
          "2020-09-10T00:00:00",
          "2020-09-11T00:00:00",
          "2020-09-12T00:00:00",
          "2020-09-13T00:00:00",
          "2020-09-14T00:00:00",
          "2020-09-15T00:00:00",
          "2020-09-16T00:00:00",
          "2020-09-17T00:00:00",
          "2020-09-18T00:00:00",
          "2020-09-19T00:00:00",
          "2020-09-20T00:00:00",
          "2020-09-21T00:00:00",
          "2020-09-22T00:00:00",
          "2020-09-23T00:00:00",
          "2020-09-24T00:00:00",
          "2020-09-25T00:00:00",
          "2020-09-26T00:00:00",
          "2020-09-27T00:00:00",
          "2020-09-28T00:00:00",
          "2020-09-29T00:00:00",
          "2020-09-30T00:00:00",
          "2020-10-01T00:00:00",
          "2020-10-02T00:00:00",
          "2020-10-03T00:00:00",
          "2020-10-04T00:00:00",
          "2020-10-05T00:00:00",
          "2020-10-06T00:00:00",
          "2020-10-07T00:00:00",
          "2020-10-08T00:00:00",
          "2020-10-09T00:00:00",
          "2020-10-10T00:00:00",
          "2020-10-11T00:00:00",
          "2020-10-12T00:00:00",
          "2020-10-13T00:00:00",
          "2020-10-14T00:00:00",
          "2020-10-15T00:00:00",
          "2020-10-16T00:00:00",
          "2020-10-17T00:00:00",
          "2020-10-18T00:00:00",
          "2020-10-19T00:00:00",
          "2020-10-20T00:00:00",
          "2020-10-21T00:00:00",
          "2020-10-22T00:00:00",
          "2020-10-23T00:00:00",
          "2020-10-24T00:00:00",
          "2020-10-25T00:00:00",
          "2020-10-26T00:00:00",
          "2020-10-27T00:00:00",
          "2020-10-28T00:00:00",
          "2020-10-29T00:00:00",
          "2020-10-30T00:00:00",
          "2020-10-31T00:00:00",
          "2020-11-01T00:00:00",
          "2020-11-07T00:00:00",
          "2020-11-08T00:00:00",
          "2020-11-09T00:00:00",
          "2020-11-10T00:00:00",
          "2020-11-11T00:00:00",
          "2020-11-12T00:00:00",
          "2020-11-13T00:00:00",
          "2020-11-14T00:00:00",
          "2020-11-15T00:00:00",
          "2020-11-16T00:00:00",
          "2020-11-17T00:00:00",
          "2020-11-18T00:00:00",
          "2020-11-19T00:00:00",
          "2020-11-20T00:00:00",
          "2020-11-21T00:00:00",
          "2020-11-22T00:00:00",
          "2020-11-23T00:00:00",
          "2020-11-24T00:00:00",
          "2020-11-25T00:00:00",
          "2020-11-26T00:00:00",
          "2020-11-27T00:00:00",
          "2020-11-28T00:00:00",
          "2020-11-29T00:00:00",
          "2020-11-30T00:00:00",
          "2020-12-01T00:00:00",
          "2020-12-02T00:00:00",
          "2020-12-03T00:00:00",
          "2020-12-04T00:00:00",
          "2020-12-05T00:00:00",
          "2020-12-06T00:00:00",
          "2020-12-07T00:00:00",
          "2020-12-08T00:00:00",
          "2020-12-09T00:00:00",
          "2020-12-10T00:00:00",
          "2020-12-11T00:00:00",
          "2020-12-12T00:00:00",
          "2020-12-13T00:00:00",
          "2020-12-14T00:00:00",
          "2020-12-15T00:00:00",
          "2020-12-16T00:00:00",
          "2020-12-17T00:00:00",
          "2020-12-18T00:00:00",
          "2020-12-19T00:00:00",
          "2020-12-20T00:00:00",
          "2020-12-21T00:00:00",
          "2020-12-22T00:00:00",
          "2020-12-23T00:00:00",
          "2020-12-24T00:00:00",
          "2020-12-25T00:00:00",
          "2020-12-26T00:00:00",
          "2020-12-27T00:00:00",
          "2020-12-28T00:00:00",
          "2020-12-29T00:00:00",
          "2020-12-30T00:00:00",
          "2020-12-31T00:00:00",
          "2021-01-01T00:00:00",
          "2021-01-02T00:00:00",
          "2021-01-03T00:00:00",
          "2021-01-04T00:00:00",
          "2021-01-05T00:00:00",
          "2021-01-06T00:00:00",
          "2021-01-07T00:00:00",
          "2021-01-08T00:00:00",
          "2021-01-09T00:00:00",
          "2021-01-10T00:00:00",
          "2021-01-11T00:00:00",
          "2021-01-12T00:00:00",
          "2021-01-13T00:00:00",
          "2021-01-14T00:00:00",
          "2021-01-15T00:00:00",
          "2021-01-16T00:00:00",
          "2021-01-17T00:00:00",
          "2021-01-18T00:00:00",
          "2021-01-19T00:00:00",
          "2021-01-20T00:00:00",
          "2021-01-21T00:00:00",
          "2021-01-22T00:00:00",
          "2021-01-23T00:00:00",
          "2021-01-24T00:00:00",
          "2021-01-25T00:00:00",
          "2021-01-26T00:00:00",
          "2021-01-27T00:00:00",
          "2021-01-28T00:00:00",
          "2021-01-29T00:00:00",
          "2021-01-30T00:00:00",
          "2021-01-31T00:00:00",
          "2021-02-01T00:00:00",
          "2021-02-02T00:00:00",
          "2021-02-03T00:00:00",
          "2021-02-04T00:00:00",
          "2021-02-05T00:00:00",
          "2021-02-06T00:00:00",
          "2021-02-07T00:00:00",
          "2021-02-08T00:00:00",
          "2021-02-09T00:00:00",
          "2021-02-10T00:00:00",
          "2021-02-11T00:00:00",
          "2021-02-12T00:00:00",
          "2021-02-13T00:00:00",
          "2021-02-14T00:00:00",
          "2021-02-15T00:00:00",
          "2021-02-16T00:00:00",
          "2021-02-17T00:00:00",
          "2021-02-18T00:00:00",
          "2021-02-19T00:00:00",
          "2021-02-20T00:00:00",
          "2021-02-21T00:00:00",
          "2021-02-22T00:00:00",
          "2021-02-23T00:00:00",
          "2021-02-24T00:00:00",
          "2021-02-25T00:00:00",
          "2021-02-26T00:00:00",
          "2021-02-27T00:00:00",
          "2021-02-28T00:00:00",
          "2021-03-01T00:00:00",
          "2021-03-02T00:00:00",
          "2021-03-03T00:00:00",
          "2021-03-04T00:00:00",
          "2021-03-05T00:00:00",
          "2021-03-06T00:00:00",
          "2021-03-07T00:00:00",
          "2021-03-08T00:00:00",
          "2021-03-09T00:00:00",
          "2021-03-10T00:00:00",
          "2021-03-11T00:00:00",
          "2021-03-12T00:00:00",
          "2021-03-13T00:00:00",
          "2021-03-14T00:00:00",
          "2021-03-15T00:00:00",
          "2021-03-16T00:00:00",
          "2021-03-17T00:00:00",
          "2021-03-18T00:00:00",
          "2021-03-19T00:00:00",
          "2021-03-20T00:00:00",
          "2021-03-21T00:00:00",
          "2021-03-22T00:00:00",
          "2021-03-23T00:00:00",
          "2021-03-24T00:00:00",
          "2021-03-25T00:00:00",
          "2021-03-26T00:00:00",
          "2021-03-27T00:00:00",
          "2021-03-28T00:00:00",
          "2021-03-29T00:00:00",
          "2021-03-30T00:00:00",
          "2021-03-31T00:00:00",
          "2021-04-01T00:00:00",
          "2021-04-02T00:00:00",
          "2021-04-03T00:00:00",
          "2021-04-04T00:00:00",
          "2021-04-05T00:00:00",
          "2021-04-06T00:00:00",
          "2021-04-07T00:00:00",
          "2021-04-08T00:00:00",
          "2021-04-09T00:00:00",
          "2021-04-10T00:00:00",
          "2021-04-11T00:00:00",
          "2021-04-12T00:00:00",
          "2021-04-13T00:00:00",
          "2021-04-14T00:00:00",
          "2021-04-15T00:00:00",
          "2021-04-16T00:00:00",
          "2021-04-17T00:00:00",
          "2021-04-18T00:00:00",
          "2021-04-19T00:00:00",
          "2021-04-20T00:00:00",
          "2021-04-21T00:00:00",
          "2021-04-22T00:00:00",
          "2021-04-23T00:00:00",
          "2021-04-24T00:00:00",
          "2021-04-25T00:00:00",
          "2021-04-26T00:00:00",
          "2021-04-27T00:00:00",
          "2021-04-28T00:00:00",
          "2021-04-29T00:00:00",
          "2021-04-30T00:00:00",
          "2021-05-01T00:00:00",
          "2021-05-02T00:00:00",
          "2021-05-03T00:00:00",
          "2021-05-04T00:00:00",
          "2021-05-05T00:00:00",
          "2021-05-06T00:00:00",
          "2021-05-07T00:00:00",
          "2021-05-08T00:00:00",
          "2021-05-09T00:00:00",
          "2021-05-10T00:00:00",
          "2021-05-11T00:00:00",
          "2021-05-12T00:00:00",
          "2021-05-13T00:00:00",
          "2021-05-14T00:00:00",
          "2021-05-15T00:00:00",
          "2021-05-16T00:00:00",
          "2021-05-17T00:00:00",
          "2021-05-18T00:00:00",
          "2021-05-19T00:00:00",
          "2021-05-20T00:00:00",
          "2021-05-21T00:00:00",
          "2021-05-22T00:00:00",
          "2021-05-23T00:00:00",
          "2021-05-24T00:00:00",
          "2021-05-25T00:00:00",
          "2021-05-26T00:00:00",
          "2021-05-27T00:00:00",
          "2021-05-28T00:00:00",
          "2021-05-29T00:00:00",
          "2021-05-30T00:00:00",
          "2021-05-31T00:00:00",
          "2021-06-01T00:00:00",
          "2021-06-02T00:00:00",
          "2021-06-03T00:00:00",
          "2021-06-04T00:00:00",
          "2021-06-05T00:00:00",
          "2021-06-06T00:00:00",
          "2021-06-07T00:00:00",
          "2021-06-08T00:00:00",
          "2021-06-09T00:00:00",
          "2021-06-10T00:00:00",
          "2021-06-11T00:00:00",
          "2021-06-12T00:00:00",
          "2021-06-13T00:00:00",
          "2021-06-14T00:00:00",
          "2021-06-15T00:00:00",
          "2021-06-16T00:00:00",
          "2021-06-17T00:00:00",
          "2021-06-18T00:00:00",
          "2021-06-19T00:00:00",
          "2021-06-20T00:00:00",
          "2021-06-21T00:00:00",
          "2021-06-22T00:00:00",
          "2021-06-23T00:00:00",
          "2021-06-24T00:00:00",
          "2021-06-25T00:00:00",
          "2021-06-26T00:00:00",
          "2021-06-27T00:00:00",
          "2021-06-28T00:00:00",
          "2021-06-29T00:00:00",
          "2021-06-30T00:00:00",
          "2021-07-01T00:00:00",
          "2021-07-02T00:00:00",
          "2021-07-03T00:00:00",
          "2021-07-04T00:00:00",
          "2021-07-05T00:00:00",
          "2021-07-06T00:00:00",
          "2021-07-07T00:00:00",
          "2021-07-08T00:00:00",
          "2021-07-09T00:00:00",
          "2021-07-10T00:00:00",
          "2021-07-11T00:00:00",
          "2021-07-12T00:00:00",
          "2021-07-13T00:00:00",
          "2021-07-14T00:00:00",
          "2021-07-15T00:00:00",
          "2021-07-16T00:00:00",
          "2021-07-17T00:00:00",
          "2021-07-18T00:00:00",
          "2021-07-19T00:00:00",
          "2021-07-20T00:00:00",
          "2021-07-21T00:00:00",
          "2021-07-22T00:00:00",
          "2021-07-23T00:00:00",
          "2021-07-24T00:00:00",
          "2021-07-25T00:00:00",
          "2021-07-26T00:00:00",
          "2021-07-27T00:00:00",
          "2021-07-28T00:00:00",
          "2021-07-29T00:00:00",
          "2021-07-30T00:00:00",
          "2021-07-31T00:00:00",
          "2021-08-01T00:00:00",
          "2021-08-02T00:00:00",
          "2021-08-03T00:00:00",
          "2021-08-04T00:00:00",
          "2021-08-05T00:00:00",
          "2021-08-06T00:00:00",
          "2021-08-07T00:00:00",
          "2021-08-08T00:00:00",
          "2021-08-09T00:00:00",
          "2021-08-10T00:00:00",
          "2021-08-11T00:00:00",
          "2021-08-12T00:00:00",
          "2021-08-13T00:00:00",
          "2021-08-14T00:00:00",
          "2021-08-15T00:00:00",
          "2021-08-16T00:00:00",
          "2021-08-17T00:00:00",
          "2021-08-18T00:00:00",
          "2021-08-19T00:00:00",
          "2021-08-20T00:00:00",
          "2021-08-21T00:00:00",
          "2021-08-22T00:00:00",
          "2021-08-23T00:00:00",
          "2021-08-24T00:00:00",
          "2021-08-25T00:00:00",
          "2021-08-26T00:00:00",
          "2021-08-27T00:00:00",
          "2021-08-29T00:00:00",
          "2021-08-30T00:00:00",
          "2021-08-31T00:00:00",
          "2021-09-01T00:00:00",
          "2021-09-02T00:00:00",
          "2021-09-03T00:00:00",
          "2021-09-04T00:00:00",
          "2021-09-05T00:00:00",
          "2021-09-06T00:00:00",
          "2021-09-07T00:00:00",
          "2021-09-08T00:00:00",
          "2021-09-09T00:00:00",
          "2021-09-10T00:00:00",
          "2021-09-11T00:00:00",
          "2021-09-12T00:00:00",
          "2021-09-13T00:00:00",
          "2021-09-14T00:00:00",
          "2021-09-15T00:00:00",
          "2021-09-16T00:00:00",
          "2021-09-17T00:00:00",
          "2021-09-18T00:00:00",
          "2021-09-19T00:00:00",
          "2021-09-20T00:00:00",
          "2021-09-21T00:00:00",
          "2021-09-22T00:00:00",
          "2021-09-23T00:00:00",
          "2021-09-24T00:00:00",
          "2021-09-25T00:00:00",
          "2021-09-26T00:00:00",
          "2021-09-27T00:00:00",
          "2021-09-28T00:00:00",
          "2021-09-29T00:00:00",
          "2021-09-30T00:00:00",
          "2021-10-01T00:00:00",
          "2021-10-02T00:00:00",
          "2021-10-03T00:00:00",
          "2021-10-04T00:00:00",
          "2021-10-05T00:00:00",
          "2021-10-06T00:00:00",
          "2021-10-07T00:00:00",
          "2021-10-08T00:00:00",
          "2021-10-09T00:00:00",
          "2021-10-10T00:00:00",
          "2021-10-11T00:00:00",
          "2021-10-12T00:00:00",
          "2021-10-13T00:00:00",
          "2021-10-14T00:00:00",
          "2021-10-15T00:00:00",
          "2021-10-16T00:00:00",
          "2021-10-17T00:00:00",
          "2021-10-18T00:00:00",
          "2021-10-19T00:00:00",
          "2021-10-20T00:00:00",
          "2021-10-21T00:00:00",
          "2021-10-22T00:00:00",
          "2021-10-23T00:00:00",
          "2021-10-24T00:00:00",
          "2021-10-25T00:00:00",
          "2021-10-26T00:00:00",
          "2021-10-27T00:00:00",
          "2021-10-28T00:00:00",
          "2021-10-29T00:00:00",
          "2021-10-30T00:00:00",
          "2021-10-31T00:00:00",
          "2021-11-01T00:00:00",
          "2021-11-02T00:00:00",
          "2021-11-03T00:00:00",
          "2021-11-04T00:00:00",
          "2021-11-05T00:00:00",
          "2021-11-06T00:00:00",
          "2021-11-07T00:00:00",
          "2021-11-08T00:00:00",
          "2021-11-09T00:00:00",
          "2021-11-10T00:00:00",
          "2021-11-11T00:00:00",
          "2021-11-12T00:00:00",
          "2021-11-13T00:00:00",
          "2021-11-14T00:00:00",
          "2021-11-15T00:00:00",
          "2021-11-16T00:00:00",
          "2021-11-17T00:00:00",
          "2021-11-18T00:00:00",
          "2021-11-19T00:00:00",
          "2021-11-20T00:00:00",
          "2021-11-21T00:00:00",
          "2021-11-22T00:00:00",
          "2021-11-23T00:00:00",
          "2021-11-24T00:00:00",
          "2021-11-25T00:00:00",
          "2021-11-26T00:00:00",
          "2021-11-27T00:00:00",
          "2021-11-28T00:00:00",
          "2021-11-29T00:00:00",
          "2021-11-30T00:00:00",
          "2021-12-01T00:00:00",
          "2021-12-02T00:00:00",
          "2021-12-03T00:00:00",
          "2021-12-04T00:00:00",
          "2021-12-05T00:00:00",
          "2021-12-06T00:00:00",
          "2021-12-07T00:00:00",
          "2021-12-08T00:00:00",
          "2021-12-09T00:00:00",
          "2021-12-10T00:00:00",
          "2021-12-11T00:00:00",
          "2021-12-12T00:00:00",
          "2021-12-13T00:00:00",
          "2021-12-14T00:00:00",
          "2021-12-15T00:00:00",
          "2021-12-16T00:00:00",
          "2021-12-17T00:00:00",
          "2021-12-18T00:00:00",
          "2021-12-19T00:00:00",
          "2021-12-20T00:00:00",
          "2021-12-21T00:00:00",
          "2021-12-22T00:00:00",
          "2021-12-23T00:00:00",
          "2021-12-24T00:00:00",
          "2021-12-25T00:00:00",
          "2021-12-26T00:00:00",
          "2021-12-27T00:00:00",
          "2021-12-28T00:00:00",
          "2021-12-29T00:00:00",
          "2021-12-30T00:00:00",
          "2021-12-31T00:00:00",
          "2022-01-01T00:00:00",
          "2022-01-02T00:00:00",
          "2022-01-03T00:00:00",
          "2022-01-04T00:00:00",
          "2022-01-05T00:00:00",
          "2022-01-06T00:00:00",
          "2022-01-07T00:00:00",
          "2022-01-08T00:00:00",
          "2022-01-09T00:00:00",
          "2022-01-10T00:00:00",
          "2022-01-11T00:00:00",
          "2022-01-12T00:00:00",
          "2022-01-13T00:00:00",
          "2022-01-14T00:00:00",
          "2022-01-15T00:00:00",
          "2022-01-16T00:00:00",
          "2022-01-17T00:00:00",
          "2022-01-18T00:00:00",
          "2022-01-19T00:00:00",
          "2022-01-20T00:00:00",
          "2022-01-21T00:00:00",
          "2022-01-22T00:00:00",
          "2022-01-23T00:00:00",
          "2022-01-24T00:00:00",
          "2022-01-25T00:00:00",
          "2022-01-26T00:00:00",
          "2022-01-27T00:00:00",
          "2022-01-28T00:00:00",
          "2022-01-29T00:00:00",
          "2022-01-30T00:00:00",
          "2022-01-31T00:00:00",
          "2022-02-01T00:00:00",
          "2022-02-02T00:00:00",
          "2022-02-03T00:00:00",
          "2022-02-04T00:00:00",
          "2022-02-05T00:00:00",
          "2022-02-06T00:00:00",
          "2022-02-07T00:00:00",
          "2022-02-08T00:00:00",
          "2022-02-09T00:00:00",
          "2022-02-10T00:00:00",
          "2022-02-11T00:00:00",
          "2022-02-12T00:00:00",
          "2022-02-13T00:00:00",
          "2022-02-14T00:00:00",
          "2022-02-15T00:00:00",
          "2022-02-16T00:00:00",
          "2022-02-17T00:00:00",
          "2022-02-18T00:00:00",
          "2022-02-19T00:00:00",
          "2022-02-20T00:00:00",
          "2022-02-21T00:00:00",
          "2022-02-22T00:00:00",
          "2022-02-23T00:00:00",
          "2022-02-24T00:00:00",
          "2022-02-25T00:00:00",
          "2022-02-26T00:00:00",
          "2022-02-27T00:00:00",
          "2022-02-28T00:00:00",
          "2022-03-01T00:00:00",
          "2022-03-02T00:00:00",
          "2022-03-03T00:00:00",
          "2022-03-04T00:00:00",
          "2022-03-05T00:00:00",
          "2022-03-06T00:00:00",
          "2022-03-07T00:00:00",
          "2022-03-08T00:00:00",
          "2022-03-09T00:00:00",
          "2022-03-10T00:00:00",
          "2022-03-11T00:00:00",
          "2022-03-12T00:00:00",
          "2022-03-13T00:00:00",
          "2022-03-14T00:00:00",
          "2022-03-15T00:00:00",
          "2022-03-16T00:00:00",
          "2022-03-17T00:00:00",
          "2022-03-18T00:00:00",
          "2022-03-19T00:00:00",
          "2022-03-20T00:00:00",
          "2022-03-21T00:00:00",
          "2022-03-22T00:00:00",
          "2022-03-23T00:00:00",
          "2022-03-24T00:00:00",
          "2022-03-25T00:00:00",
          "2022-03-26T00:00:00",
          "2022-03-27T00:00:00",
          "2022-03-28T00:00:00",
          "2022-03-29T00:00:00",
          "2022-03-30T00:00:00",
          "2022-03-31T00:00:00",
          "2022-04-01T00:00:00",
          "2022-04-02T00:00:00",
          "2022-04-03T00:00:00",
          "2022-04-04T00:00:00",
          "2022-04-05T00:00:00",
          "2022-04-06T00:00:00",
          "2022-04-07T00:00:00",
          "2022-04-08T00:00:00",
          "2022-04-09T00:00:00",
          "2022-04-10T00:00:00",
          "2022-04-11T00:00:00",
          "2022-04-12T00:00:00",
          "2022-04-13T00:00:00",
          "2022-04-14T00:00:00",
          "2022-04-15T00:00:00",
          "2022-04-16T00:00:00",
          "2022-04-17T00:00:00",
          "2022-04-18T00:00:00",
          "2022-04-19T00:00:00",
          "2022-04-20T00:00:00",
          "2022-04-21T00:00:00",
          "2022-04-22T00:00:00",
          "2022-04-23T00:00:00",
          "2022-04-24T00:00:00",
          "2022-04-25T00:00:00",
          "2022-04-26T00:00:00",
          "2022-04-27T00:00:00",
          "2022-04-28T00:00:00",
          "2022-04-29T00:00:00",
          "2022-04-30T00:00:00",
          "2022-05-01T00:00:00",
          "2022-05-02T00:00:00",
          "2022-05-03T00:00:00",
          "2022-05-04T00:00:00",
          "2022-05-05T00:00:00",
          "2022-05-06T00:00:00",
          "2022-05-07T00:00:00",
          "2022-05-08T00:00:00",
          "2022-05-09T00:00:00",
          "2022-05-10T00:00:00",
          "2022-05-11T00:00:00",
          "2022-05-12T00:00:00",
          "2022-05-13T00:00:00",
          "2022-05-14T00:00:00",
          "2022-05-15T00:00:00",
          "2022-05-16T00:00:00",
          "2022-05-17T00:00:00",
          "2022-05-18T00:00:00",
          "2022-05-19T00:00:00",
          "2022-05-20T00:00:00",
          "2022-05-21T00:00:00",
          "2022-05-22T00:00:00",
          "2022-05-23T00:00:00",
          "2022-05-24T00:00:00",
          "2022-05-25T00:00:00",
          "2022-05-26T00:00:00",
          "2022-05-27T00:00:00",
          "2022-05-28T00:00:00",
          "2022-05-29T00:00:00",
          "2022-05-30T00:00:00",
          "2022-05-31T00:00:00",
          "2022-06-01T00:00:00",
          "2022-06-02T00:00:00",
          "2022-06-03T00:00:00",
          "2022-06-04T00:00:00",
          "2022-06-05T00:00:00",
          "2022-06-06T00:00:00",
          "2022-06-07T00:00:00",
          "2022-06-08T00:00:00",
          "2022-06-09T00:00:00",
          "2022-06-10T00:00:00",
          "2022-06-11T00:00:00",
          "2022-06-12T00:00:00",
          "2022-06-13T00:00:00",
          "2022-06-14T00:00:00",
          "2022-06-15T00:00:00",
          "2022-06-16T00:00:00",
          "2022-06-17T00:00:00",
          "2022-06-18T00:00:00",
          "2022-06-19T00:00:00",
          "2022-06-20T00:00:00",
          "2022-06-21T00:00:00",
          "2022-06-22T00:00:00",
          "2022-06-23T00:00:00",
          "2022-06-24T00:00:00",
          "2022-06-25T00:00:00",
          "2022-06-26T00:00:00",
          "2022-06-27T00:00:00",
          "2022-06-28T00:00:00",
          "2022-06-29T00:00:00",
          "2022-06-30T00:00:00",
          "2022-07-01T00:00:00",
          "2022-07-02T00:00:00",
          "2022-07-03T00:00:00",
          "2022-07-04T00:00:00",
          "2022-07-05T00:00:00",
          "2022-07-06T00:00:00",
          "2022-07-07T00:00:00",
          "2022-07-08T00:00:00",
          "2022-07-09T00:00:00",
          "2022-07-10T00:00:00",
          "2022-07-11T00:00:00",
          "2022-07-12T00:00:00",
          "2022-07-13T00:00:00",
          "2022-07-14T00:00:00",
          "2022-07-15T00:00:00",
          "2022-07-16T00:00:00",
          "2022-07-17T00:00:00",
          "2022-07-18T00:00:00",
          "2022-07-19T00:00:00",
          "2022-07-20T00:00:00",
          "2022-07-21T00:00:00",
          "2022-07-22T00:00:00",
          "2022-07-23T00:00:00",
          "2022-07-24T00:00:00",
          "2022-07-25T00:00:00",
          "2022-07-26T00:00:00",
          "2022-07-27T00:00:00",
          "2022-07-28T00:00:00",
          "2022-07-29T00:00:00",
          "2022-07-30T00:00:00",
          "2022-07-31T00:00:00",
          "2022-08-01T00:00:00",
          "2022-08-02T00:00:00",
          "2022-08-03T00:00:00",
          "2022-08-04T00:00:00",
          "2022-08-05T00:00:00",
          "2022-08-06T00:00:00",
          "2022-08-07T00:00:00",
          "2022-08-08T00:00:00",
          "2022-08-09T00:00:00",
          "2022-08-10T00:00:00",
          "2022-08-11T00:00:00",
          "2022-08-12T00:00:00",
          "2022-08-13T00:00:00",
          "2022-08-14T00:00:00",
          "2022-08-15T00:00:00",
          "2022-08-16T00:00:00",
          "2022-08-17T00:00:00"
         ],
         "xaxis": "x",
         "y": [
          null,
          null,
          null,
          null,
          null,
          null,
          null,
          null,
          null,
          null,
          null,
          null,
          null,
          129.05357142857142,
          129.14285714285714,
          121.94642857142857,
          120.66071428571429,
          117.375,
          115.23214285714286,
          111.875,
          109.80357142857143,
          107.625,
          106.46428571428571,
          102.73214285714286,
          101.98214285714286,
          101.66071428571429,
          101.39285714285714,
          101.46428571428571,
          100.98214285714286,
          101.66071428571429,
          102.23214285714286,
          101.82142857142857,
          103.82142857142857,
          106.75,
          108.57142857142857,
          110.21428571428571,
          112,
          115.39285714285714,
          114.96428571428571,
          115.03571428571429,
          115.44642857142857,
          115.375,
          115.51785714285714,
          117.10714285714286,
          118.66071428571429,
          120.85714285714286,
          120.78571428571429,
          121.10714285714286,
          121.25,
          121.89285714285714,
          121.98214285714286,
          121.85714285714286,
          122.69642857142857,
          122.91071428571429,
          119.57142857142857,
          119.5,
          120.05357142857143,
          119.98214285714286,
          119.64285714285714,
          119.17857142857143,
          118.42857142857143,
          118.05357142857143,
          117.625,
          117.05357142857143,
          116.96428571428571,
          116.875,
          116.75,
          116.75,
          120.16071428571429,
          120.16071428571429,
          120.08928571428571,
          120.23214285714286,
          120.71428571428571,
          121.32142857142857,
          121.375,
          121.60714285714286,
          121.82142857142857,
          121.67857142857143,
          121.75,
          121.96428571428571,
          122.5,
          122.42857142857143,
          122.32142857142857,
          121.83928571428571,
          121.98214285714286,
          120.33928571428571,
          120.48214285714286,
          120.55357142857143,
          120.48214285714286,
          119.73214285714286,
          119.10714285714286,
          118.5,
          117.26785714285714,
          117.67857142857143,
          117.28571428571429,
          116.73214285714286,
          116.21428571428571,
          115.67857142857143,
          115,
          115.625,
          115.26785714285714,
          114.98214285714286,
          115.67857142857143,
          115.875,
          116.42857142857143,
          116.42857142857143,
          117.03571428571429,
          117.10714285714286,
          117.57142857142857,
          117.71428571428571,
          117.19642857142857,
          117.17857142857143,
          116.96428571428571,
          117.16071428571429,
          117.23214285714286,
          117.44642857142857,
          116.76785714285714,
          116.69642857142857,
          116.16071428571429,
          113.28571428571429,
          113.83928571428571,
          113.28571428571429,
          113.14285714285714,
          113.07142857142857,
          113.05357142857143,
          113.07142857142857,
          113.28571428571429,
          113,
          112.44642857142857,
          112.375,
          112.375,
          111.69642857142857,
          111.69642857142857,
          115.25,
          113.44642857142857,
          113.44642857142857,
          113.44642857142857,
          112.66071428571429,
          113.33928571428571,
          113.33928571428571,
          112.85714285714286,
          114.51785714285714,
          115.14285714285714,
          115.07142857142857,
          114.375,
          113.26785714285714,
          109.76785714285714,
          109.21428571428571,
          109.78571428571429,
          110.41071428571429,
          110.41071428571429,
          110.375,
          108.53571428571429,
          110.16071428571429,
          110.5,
          108.78571428571429,
          108.16071428571429,
          108.30357142857143,
          109.26785714285714,
          110.42857142857143,
          114,
          113.32142857142857,
          112.98214285714286,
          112.91071428571429,
          112.76785714285714,
          113.39285714285714,
          114.625,
          114.28571428571429,
          113.94642857142857,
          114.57142857142857,
          115.08928571428571,
          114.46428571428571,
          114.82142857142857,
          114.91071428571429,
          114.35714285714286,
          115.66071428571429,
          116.21428571428571,
          116.35714285714286,
          116.57142857142857,
          116.01785714285714,
          115.94642857142857,
          115.19642857142857,
          115.71428571428571,
          116.25,
          116.35714285714286,
          116.30357142857143,
          115.05357142857143,
          115.125,
          114.91071428571429,
          114.08928571428571,
          114.64285714285714,
          114.5,
          114.42857142857143,
          115.10714285714286,
          114.96428571428571,
          115.58928571428571,
          115.39285714285714,
          114.64285714285714,
          114.64285714285714,
          115.07142857142857,
          116.23214285714286,
          116.625,
          117.375,
          117.5,
          117.41071428571429,
          117,
          116.92857142857143,
          117.30357142857143,
          118.05357142857143,
          117.35714285714286,
          118.05357142857143,
          117.64285714285714,
          117.16071428571429,
          117.26785714285714,
          116.17857142857143,
          116.17857142857143,
          115.57142857142857,
          114.96428571428571,
          114.96428571428571,
          115.23214285714286,
          115.375,
          114.85714285714286,
          115.33928571428571,
          115.5,
          114.33928571428571,
          116.46428571428571,
          116.94642857142857,
          117.01785714285714,
          117.5,
          116.89285714285714,
          117.375,
          117.92857142857143,
          117.80357142857143,
          116.78571428571429,
          117.67857142857143,
          116.51785714285714,
          115.35714285714286,
          113.41071428571429,
          113.82142857142857,
          111.48214285714286,
          111.82142857142857,
          110.80357142857143,
          110.58928571428571,
          110.92857142857143,
          110.78571428571429,
          111.46428571428571,
          111.44642857142857,
          112.53571428571429,
          110.80357142857143,
          111.91071428571429,
          112.46428571428571,
          114.875,
          115.76785714285714,
          116.44642857142857,
          115.96428571428571,
          116.83928571428571,
          116.5,
          115.46428571428571,
          115.51785714285714,
          115.375,
          115.85714285714286,
          115.10714285714286,
          115.80357142857143,
          115.16071428571429,
          115.69642857142857,
          113.89285714285714,
          113.05357142857143,
          113.05357142857143,
          113.58928571428571,
          112.98214285714286,
          112.89285714285714,
          114,
          113.92857142857143,
          112.69642857142857,
          111.53571428571429,
          112.28571428571429,
          111.10714285714286,
          112.21428571428571,
          111.05357142857143,
          110.46428571428571,
          109.85714285714286,
          109.78571428571429,
          107.53571428571429,
          106.42857142857143,
          106.98214285714286,
          105.80357142857143,
          103.5,
          102.94642857142857,
          102.46428571428571,
          101.76785714285714,
          101.76785714285714,
          100.07142857142857,
          99.46428571428571,
          98.92857142857143,
          97.83928571428571,
          97.78571428571429,
          97.96428571428571,
          98.44642857142857,
          97.89285714285714,
          97.03571428571429,
          98.08928571428571,
          98.03571428571429,
          97.42857142857143,
          97.44642857142857,
          97.44642857142857,
          95.98214285714286,
          94.32142857142857,
          93.67857142857143,
          92.875,
          91.10714285714286,
          92.08928571428571,
          90.89285714285714,
          89.67857142857143,
          90.55357142857143,
          89.89285714285714,
          89.39285714285714,
          90.48214285714286,
          90.48214285714286,
          90.55357142857143,
          92.23214285714286,
          92.73214285714286,
          94.39285714285714,
          95.67857142857143,
          96.94642857142857,
          95.82142857142857,
          99.28571428571429,
          99.41071428571429,
          98.91071428571429,
          99.73214285714286,
          100.33928571428571,
          99.85714285714286,
          98.64285714285714,
          100.85714285714286,
          101.80357142857143,
          103.57142857142857,
          103.16071428571429,
          104.05357142857143,
          104.67857142857143,
          106.35714285714286,
          102.98214285714286,
          100.98214285714286,
          102.08928571428571,
          102.58928571428571,
          103.08928571428571,
          104.80357142857143,
          105.58928571428571,
          104.35714285714286,
          106.625,
          109.98214285714286,
          112.66071428571429,
          115.85714285714286,
          118.16071428571429,
          117.55357142857143,
          118.71428571428571,
          122.35714285714286,
          126.39285714285714,
          129.92857142857142,
          129.875,
          129.32142857142858,
          130.35714285714286,
          129.85714285714286,
          132.78571428571428,
          131.85714285714286,
          131.30357142857142,
          132.41071428571428,
          132.33928571428572,
          135.16071428571428,
          138.64285714285714,
          141.60714285714286,
          142.83928571428572,
          140.625,
          140.26785714285714,
          140.42857142857142,
          140.08928571428572,
          140.08928571428572,
          136.55357142857142,
          138.78571428571428,
          142.82142857142858,
          141.21428571428572,
          138.91071428571428,
          136.69642857142858,
          134.32142857142858,
          134.625,
          133.98214285714286,
          137.91071428571428,
          140.14285714285714,
          140.48214285714286,
          140.82142857142858,
          141.125,
          144.05357142857142,
          147.28571428571428,
          147.94642857142858,
          149.60714285714286,
          148.39285714285714,
          144.35714285714286,
          140.32142857142858,
          136.51785714285714,
          131.28571428571428,
          127.25,
          125.98214285714286,
          125.5,
          124.94642857142857,
          124.57142857142857,
          119.48214285714286,
          113.80357142857143,
          113.14285714285714,
          110.875,
          111.42857142857143,
          115.46428571428571,
          119.01785714285714,
          119.01785714285714,
          119.64285714285714,
          121.19642857142857,
          125.17857142857143,
          129.98214285714286,
          135.75,
          141.48214285714286,
          145.96428571428572,
          148.28571428571428,
          145.96428571428572,
          148.03571428571428,
          146.375,
          149.375,
          153.28571428571428,
          157.83928571428572,
          161.19642857142858,
          162.46428571428572,
          162.51785714285714,
          160.96428571428572,
          160.23214285714286,
          161.44642857142858,
          161.73214285714286,
          161.125,
          162.94642857142858,
          163.08928571428572,
          169.39285714285714,
          170.98214285714286,
          173.21428571428572,
          172.75,
          174.71428571428572,
          177.08928571428572,
          177,
          178.875,
          179.53571428571428,
          178.35714285714286,
          178.19642857142858,
          180.07142857142858,
          179.96428571428572,
          179.91071428571428,
          181.625,
          181.67857142857142,
          181.28571428571428,
          181.16071428571428,
          181.85714285714286,
          181.91071428571428,
          184.25,
          183.64285714285714,
          184.25,
          182.17857142857142,
          182.85714285714286,
          182.30357142857142,
          181.80357142857142,
          183.03571428571428,
          181.875,
          180.16071428571428,
          180.10714285714286,
          182.98214285714286,
          181.64285714285714,
          180.92857142857142,
          178.67857142857142,
          178.78571428571428,
          176.46428571428572,
          177.83928571428572,
          180.57142857142858,
          181.16071428571428,
          182.26785714285714,
          181.64285714285714,
          181.69642857142858,
          174.78571428571428,
          173,
          171.23214285714286,
          172.28571428571428,
          170.625,
          170.125,
          170.625,
          171.07142857142858,
          170.53571428571428,
          169.44642857142858,
          170.46428571428572,
          169.35714285714286,
          168.19642857142858,
          166.26785714285714,
          173.75,
          174.91071428571428,
          176.71428571428572,
          177.32142857142858,
          179.03571428571428,
          180.03571428571428,
          178.92857142857142,
          177.76785714285714,
          179,
          177.89285714285714,
          177.76785714285714,
          178.32142857142858,
          178.98214285714286,
          180.91071428571428,
          175.25,
          168.28571428571428,
          167.53571428571428,
          166.875,
          163.44642857142858,
          161.17857142857142,
          161.67857142857142,
          161.94642857142858,
          157.35714285714286,
          158.33928571428572,
          157.41071428571428,
          157.41071428571428,
          157.96428571428572,
          157.96428571428572,
          162.94642857142858,
          169.30357142857142,
          169.41071428571428,
          170.625,
          173.46428571428572,
          174.67857142857142,
          175.28571428571428,
          176.33928571428572,
          179.82142857142858,
          175.94642857142858,
          167.26785714285714,
          161.51785714285714,
          160.35714285714286,
          155.76785714285714,
          155.82142857142858,
          155.26785714285714,
          155.875,
          155.26785714285714,
          154.125,
          154.67857142857142,
          154.67857142857142,
          155.23214285714286,
          155.73214285714286,
          159.73214285714286,
          170.07142857142858,
          175.82142857142858,
          175.76785714285714,
          179.69642857142858,
          179.64285714285714,
          180.69642857142858,
          181.08928571428572,
          180.53571428571428,
          179.92857142857142,
          178.76785714285714,
          178.16071428571428,
          175.83928571428572,
          176.44642857142858,
          176.375,
          174.71428571428572,
          174.16071428571428,
          174.21428571428572,
          175.83928571428572,
          178.10714285714286,
          179.26785714285714,
          179.42857142857142,
          179.48214285714286,
          180.66071428571428,
          181.26785714285714,
          180.76785714285714,
          182.51785714285714,
          180.75,
          179.03571428571428,
          180.66071428571428,
          180.66071428571428,
          181.76785714285714,
          181.30357142857142,
          180.67857142857142,
          179.01785714285714,
          177.35714285714286,
          176.75,
          176.14285714285714,
          176.08928571428572,
          176.58928571428572,
          174.78571428571428,
          174.83928571428572,
          177.10714285714286,
          174.92857142857142,
          176.08928571428572,
          174.92857142857142,
          174.98214285714286,
          173.39285714285714,
          173.94642857142858,
          173.94642857142858,
          175.05357142857142,
          175.71428571428572,
          176.92857142857142,
          176.98214285714286,
          178.80357142857142,
          179.91071428571428,
          179.64285714285714,
          180.19642857142858,
          178.48214285714286,
          179.08928571428572,
          177.98214285714286,
          178.53571428571428,
          178.53571428571428,
          179.64285714285714,
          179.08928571428572,
          179.03571428571428,
          179.03571428571428,
          178.42857142857142,
          177.82142857142858,
          176.71428571428572,
          176.98214285714286,
          176.375,
          177.48214285714286,
          177.48214285714286,
          177.375,
          177.375,
          177.42857142857142,
          177.42857142857142,
          178.53571428571428,
          180.19642857142858,
          181.30357142857142,
          178.58928571428572,
          178.58928571428572,
          179.14285714285714,
          177.92857142857142,
          179.03571428571428,
          178.53571428571428,
          179.69642857142858,
          180.91071428571428,
          179.75,
          178.58928571428572,
          178.03571428571428,
          176.92857142857142,
          175.26785714285714,
          173.07142857142858,
          175.78571428571428,
          175.23214285714286,
          175.23214285714286,
          174.73214285714286,
          174.78571428571428,
          175.25,
          174.69642857142858,
          175.25,
          175.80357142857142,
          176.30357142857142,
          175.75,
          175.80357142857142,
          176.41071428571428,
          178.05357142857142,
          177.44642857142858,
          178.55357142857142,
          179.16071428571428,
          179.16071428571428,
          180.41071428571428,
          181.05357142857142,
          179.83928571428572,
          178.125,
          178.17857142857142,
          178.82142857142858,
          179.92857142857142,
          179.92857142857142,
          181.08928571428572,
          180.42857142857142,
          182.25,
          182.30357142857142,
          182.30357142857142,
          182.35714285714286,
          182.10714285714286,
          180.33928571428572,
          180.39285714285714,
          181,
          182.66071428571428,
          182.07142857142858,
          182.07142857142858,
          182.51785714285714,
          181.35714285714286,
          181.46428571428572,
          181.35714285714286,
          182.32142857142858,
          181.76785714285714,
          182.875,
          182.48214285714286,
          184.25,
          186.01785714285714,
          185.41071428571428,
          185.46428571428572,
          183.48214285714286,
          182.32142857142858,
          183.67857142857142,
          184.75,
          186.41071428571428,
          186.46428571428572,
          185.5,
          179.21428571428572,
          169.42857142857142,
          160.14285714285714,
          152.625,
          153.17857142857142,
          154.83928571428572,
          154.89285714285714,
          158.64285714285714,
          159.80357142857142,
          159.10714285714286,
          158.58928571428572,
          158.23214285714286,
          158.83928571428572,
          161.23214285714286,
          168.73214285714286,
          178.51785714285714,
          186.17857142857142,
          195.41071428571428,
          195.41071428571428,
          195.03571428571428,
          195.10714285714286,
          192.28571428571428,
          190.08928571428572,
          186.625,
          186.625,
          185.39285714285714,
          185.33928571428572,
          184.10714285714286,
          182.89285714285714,
          180.57142857142858,
          179.32142857142858,
          178.19642857142858,
          178.19642857142858,
          176.92857142857142,
          177.53571428571428,
          177.16071428571428,
          176.35714285714286,
          176.44642857142858,
          177.89285714285714,
          179.01785714285714,
          179.16071428571428,
          179.78571428571428,
          177.10714285714286,
          176,
          173.01785714285714,
          173.73214285714286,
          173.26785714285714,
          174.33928571428572,
          173.71428571428572,
          174.14285714285714,
          173.73214285714286,
          173.64285714285714,
          172,
          171.42857142857142,
          167.67857142857142,
          166.44642857142858,
          157.07142857142858,
          150.73214285714286,
          157.23214285714286,
          157.60714285714286,
          157.39285714285714,
          158.83928571428572,
          157.92857142857142,
          154.44642857142858,
          152.66071428571428,
          154.5,
          153.53571428571428,
          154.55357142857142,
          156.48214285714286,
          155.32142857142858,
          164.94642857142858,
          170.67857142857142,
          162.96428571428572,
          154.92857142857142,
          155.55357142857142,
          154.78571428571428,
          155.58928571428572,
          159.03571428571428,
          161.96428571428572,
          162.94642857142858,
          160.55357142857142,
          160.08928571428572,
          161.76785714285714,
          163.55357142857142,
          163.10714285714286,
          164.875,
          170.80357142857142,
          179.01785714285714,
          179.69642857142858,
          178.51785714285714,
          175.625,
          174.94642857142858,
          172.57142857142858,
          171.58928571428572,
          172.26785714285714,
          172.73214285714286,
          171.60714285714286,
          171.58928571428572,
          176.17857142857142,
          168.66071428571428,
          159.35714285714286,
          156.83928571428572,
          154.39285714285714,
          154.91071428571428,
          158.41071428571428,
          157.25,
          161.33928571428572,
          161.85714285714286,
          164.78571428571428,
          163.75,
          165.46428571428572,
          166.125,
          162.69642857142858,
          170.82142857142858,
          179.42857142857142,
          181.30357142857142,
          182.67857142857142,
          183.92857142857142,
          185.21428571428572,
          187.58928571428572,
          186.76785714285714,
          185.21428571428572,
          177.14285714285714,
          177.125,
          176.78571428571428,
          176.21428571428572,
          174.5,
          165.89285714285714,
          166.57142857142858,
          165.78571428571428,
          165.32142857142858,
          166.875,
          162.16071428571428,
          158.19642857142858,
          153.82142857142858,
          156.60714285714286,
          165.28571428571428,
          165.85714285714286,
          166.21428571428572,
          163.80357142857142,
          167.91071428571428,
          178,
          176.78571428571428,
          175.67857142857142,
          173.10714285714286,
          161.10714285714286,
          162.875,
          168.625,
          173.82142857142858,
          172.53571428571428,
          171.76785714285714,
          171.64285714285714,
          170.41071428571428,
          171.53571428571428,
          171.76785714285714,
          170.17857142857142,
          168.96428571428572,
          168.41071428571428,
          169.5,
          176.98214285714286,
          176.66071428571428,
          172.67857142857142,
          171.01785714285714,
          169.89285714285714,
          167.73214285714286,
          167.10714285714286,
          167.78571428571428,
          166,
          164.03571428571428,
          164.92857142857142,
          165.51785714285714,
          166.07142857142858,
          167.17857142857142,
          167.46428571428572,
          161.03571428571428,
          155.78571428571428,
          158.05357142857142,
          158.625,
          159.5,
          156.82142857142858,
          152.83928571428572,
          145.625,
          144.91071428571428,
          144.125,
          145.96428571428572,
          146.03571428571428,
          146.16071428571428,
          146.42857142857142,
          154.10714285714286,
          163.26785714285714,
          162.66071428571428,
          164.41071428571428,
          168.125,
          176.14285714285714,
          182.44642857142858,
          196.19642857142858,
          199.75,
          201.71428571428572,
          206.19642857142858,
          211.94642857142858,
          217.69642857142858,
          224.05357142857142,
          228.82142857142858,
          232.82142857142858,
          236.80357142857142,
          236.94642857142858,
          234.67857142857142,
          229.48214285714286,
          228.21428571428572,
          223.625,
          221.91071428571428,
          221,
          215.875,
          211.80357142857142,
          207.625,
          207.125,
          208.92857142857142,
          208.73214285714286,
          210.32142857142858,
          214.42857142857142,
          219.91071428571428,
          227.83928571428572,
          231.89285714285714,
          239.57142857142858,
          247.94642857142858,
          250.82142857142858,
          255.01785714285714,
          262.05357142857144,
          268.64285714285717,
          269.3392857142857,
          267.39285714285717,
          266.0892857142857,
          264.375,
          265.80357142857144,
          264.10714285714283,
          261.3392857142857,
          261.07142857142856,
          257.6607142857143,
          254.01785714285714,
          255.05357142857142,
          255.53571428571428,
          251.94642857142858,
          248.41071428571428,
          249.33928571428572,
          249.39285714285714,
          249.01785714285714,
          249.25,
          247.28571428571428,
          248.83928571428572,
          242.83928571428572,
          242.66071428571428,
          245.125,
          246.125,
          245.28571428571428,
          245,
          245.44642857142858,
          246.23214285714286,
          243.41071428571428,
          242.30357142857142,
          232.66071428571428,
          218.17857142857142,
          218.125,
          217.875,
          222.67857142857142,
          222.03571428571428,
          220.30357142857142,
          219.08928571428572,
          221.19642857142858,
          222.25,
          223.92857142857142,
          224.33928571428572,
          224.16071428571428,
          224.375,
          236.35714285714286,
          251.21428571428572,
          252.01785714285714,
          251.05357142857142,
          252.05357142857142,
          252.53571428571428,
          254.57142857142858,
          254.57142857142858,
          252.875,
          252.01785714285714,
          250.23214285714286,
          250.16071428571428,
          252.19642857142858,
          248.92857142857142,
          244.41071428571428,
          231.32142857142858,
          215.91071428571428,
          217.73214285714286,
          218.16071428571428,
          213.66071428571428,
          206.32142857142858,
          201.41071428571428,
          196.82142857142858,
          197.85714285714286,
          201.48214285714286,
          205.26785714285714,
          207.07142857142858,
          211.21428571428572,
          215.80357142857142,
          228.96428571428572,
          244.71428571428572,
          247.64285714285714,
          249.875,
          256.10714285714283,
          261.85714285714283,
          266.23214285714283,
          271.26785714285717,
          271.07142857142856,
          268.875,
          269.82142857142856,
          271.01785714285717,
          274.125,
          271.3392857142857,
          266.25,
          263.375,
          259.6607142857143,
          261.125,
          259.5357142857143,
          259.51785714285717,
          257.23214285714283,
          255.08928571428572,
          257.25,
          256.5892857142857,
          253.5,
          249.39285714285714,
          242.51785714285714,
          235.51785714285714,
          230.26785714285714,
          229.46428571428572,
          231.46428571428572,
          230.26785714285714,
          231.03571428571428,
          230.25,
          226.80357142857142,
          220.94642857142858,
          221.23214285714286,
          223.21428571428572,
          224.41071428571428,
          226.82142857142858,
          228.10714285714286,
          233.35714285714286,
          241.48214285714286,
          246.03571428571428,
          242.57142857142858,
          237.57142857142858,
          236.28571428571428,
          236.21428571428572,
          233.91071428571428,
          235.71428571428572,
          229.05357142857142,
          229.10714285714286,
          226.60714285714286,
          222.51785714285714,
          222.98214285714286,
          221.26785714285714,
          218.33928571428572,
          216.48214285714286,
          217.48214285714286,
          218.73214285714286,
          216.67857142857142,
          207.69642857142858,
          207.69642857142858,
          203.10714285714286,
          196.67857142857142,
          194.5,
          194.16071428571428,
          195.94642857142858,
          198.375,
          199.375,
          199.35714285714286,
          200.55357142857142,
          200.125,
          202.46428571428572,
          203.69642857142858,
          207.69642857142858,
          208.85714285714286,
          209.35714285714286,
          218.39285714285714,
          216.08928571428572,
          216.32142857142858,
          216.42857142857142,
          212.875,
          214.80357142857142,
          217.75,
          214.08928571428572,
          214.21428571428572,
          211.30357142857142,
          209.07142857142858,
          207.14285714285714,
          206.64285714285714,
          205.58928571428572,
          204.94642857142858,
          205.17857142857142,
          203.48214285714286,
          201.125,
          194.71428571428572,
          185.98214285714286,
          183.35714285714286,
          185.60714285714286,
          185.125,
          185.30357142857142,
          186.48214285714286,
          190.14285714285714,
          189.375,
          187.66071428571428,
          186.60714285714286,
          186.46428571428572,
          181.17857142857142
         ],
         "yaxis": "y"
        }
       ],
       "layout": {
        "annotations": [
         {
          "font": {
           "family": "GT America",
           "size": 12
          },
          "showarrow": false,
          "text": "Michelle Wu becomes mayor of Boston ",
          "x": 1637038800000,
          "xanchor": "right",
          "xref": "x",
          "y": 1,
          "yanchor": "top",
          "yref": "y domain"
         }
        ],
        "font": {
         "color": "black",
         "family": "GT America"
        },
        "height": 500,
        "legend": {
         "tracegroupgap": 0
        },
        "margin": {
         "b": 100,
         "l": 100,
         "pad": 4,
         "r": 100,
         "t": 100
        },
        "plot_bgcolor": "rgba(0,0,0,0)",
        "shapes": [
         {
          "line": {
           "color": "red",
           "dash": "dash",
           "width": 2
          },
          "type": "line",
          "x0": 1637038800000,
          "x1": 1637038800000,
          "xref": "x",
          "y0": 0,
          "y1": 1,
          "yref": "y domain"
         }
        ],
        "template": {
         "data": {
          "bar": [
           {
            "error_x": {
             "color": "#2a3f5f"
            },
            "error_y": {
             "color": "#2a3f5f"
            },
            "marker": {
             "line": {
              "color": "#E5ECF6",
              "width": 0.5
             },
             "pattern": {
              "fillmode": "overlay",
              "size": 10,
              "solidity": 0.2
             }
            },
            "type": "bar"
           }
          ],
          "barpolar": [
           {
            "marker": {
             "line": {
              "color": "#E5ECF6",
              "width": 0.5
             },
             "pattern": {
              "fillmode": "overlay",
              "size": 10,
              "solidity": 0.2
             }
            },
            "type": "barpolar"
           }
          ],
          "carpet": [
           {
            "aaxis": {
             "endlinecolor": "#2a3f5f",
             "gridcolor": "white",
             "linecolor": "white",
             "minorgridcolor": "white",
             "startlinecolor": "#2a3f5f"
            },
            "baxis": {
             "endlinecolor": "#2a3f5f",
             "gridcolor": "white",
             "linecolor": "white",
             "minorgridcolor": "white",
             "startlinecolor": "#2a3f5f"
            },
            "type": "carpet"
           }
          ],
          "choropleth": [
           {
            "colorbar": {
             "outlinewidth": 0,
             "ticks": ""
            },
            "type": "choropleth"
           }
          ],
          "contour": [
           {
            "colorbar": {
             "outlinewidth": 0,
             "ticks": ""
            },
            "colorscale": [
             [
              0,
              "#0d0887"
             ],
             [
              0.1111111111111111,
              "#46039f"
             ],
             [
              0.2222222222222222,
              "#7201a8"
             ],
             [
              0.3333333333333333,
              "#9c179e"
             ],
             [
              0.4444444444444444,
              "#bd3786"
             ],
             [
              0.5555555555555556,
              "#d8576b"
             ],
             [
              0.6666666666666666,
              "#ed7953"
             ],
             [
              0.7777777777777778,
              "#fb9f3a"
             ],
             [
              0.8888888888888888,
              "#fdca26"
             ],
             [
              1,
              "#f0f921"
             ]
            ],
            "type": "contour"
           }
          ],
          "contourcarpet": [
           {
            "colorbar": {
             "outlinewidth": 0,
             "ticks": ""
            },
            "type": "contourcarpet"
           }
          ],
          "heatmap": [
           {
            "colorbar": {
             "outlinewidth": 0,
             "ticks": ""
            },
            "colorscale": [
             [
              0,
              "#0d0887"
             ],
             [
              0.1111111111111111,
              "#46039f"
             ],
             [
              0.2222222222222222,
              "#7201a8"
             ],
             [
              0.3333333333333333,
              "#9c179e"
             ],
             [
              0.4444444444444444,
              "#bd3786"
             ],
             [
              0.5555555555555556,
              "#d8576b"
             ],
             [
              0.6666666666666666,
              "#ed7953"
             ],
             [
              0.7777777777777778,
              "#fb9f3a"
             ],
             [
              0.8888888888888888,
              "#fdca26"
             ],
             [
              1,
              "#f0f921"
             ]
            ],
            "type": "heatmap"
           }
          ],
          "heatmapgl": [
           {
            "colorbar": {
             "outlinewidth": 0,
             "ticks": ""
            },
            "colorscale": [
             [
              0,
              "#0d0887"
             ],
             [
              0.1111111111111111,
              "#46039f"
             ],
             [
              0.2222222222222222,
              "#7201a8"
             ],
             [
              0.3333333333333333,
              "#9c179e"
             ],
             [
              0.4444444444444444,
              "#bd3786"
             ],
             [
              0.5555555555555556,
              "#d8576b"
             ],
             [
              0.6666666666666666,
              "#ed7953"
             ],
             [
              0.7777777777777778,
              "#fb9f3a"
             ],
             [
              0.8888888888888888,
              "#fdca26"
             ],
             [
              1,
              "#f0f921"
             ]
            ],
            "type": "heatmapgl"
           }
          ],
          "histogram": [
           {
            "marker": {
             "pattern": {
              "fillmode": "overlay",
              "size": 10,
              "solidity": 0.2
             }
            },
            "type": "histogram"
           }
          ],
          "histogram2d": [
           {
            "colorbar": {
             "outlinewidth": 0,
             "ticks": ""
            },
            "colorscale": [
             [
              0,
              "#0d0887"
             ],
             [
              0.1111111111111111,
              "#46039f"
             ],
             [
              0.2222222222222222,
              "#7201a8"
             ],
             [
              0.3333333333333333,
              "#9c179e"
             ],
             [
              0.4444444444444444,
              "#bd3786"
             ],
             [
              0.5555555555555556,
              "#d8576b"
             ],
             [
              0.6666666666666666,
              "#ed7953"
             ],
             [
              0.7777777777777778,
              "#fb9f3a"
             ],
             [
              0.8888888888888888,
              "#fdca26"
             ],
             [
              1,
              "#f0f921"
             ]
            ],
            "type": "histogram2d"
           }
          ],
          "histogram2dcontour": [
           {
            "colorbar": {
             "outlinewidth": 0,
             "ticks": ""
            },
            "colorscale": [
             [
              0,
              "#0d0887"
             ],
             [
              0.1111111111111111,
              "#46039f"
             ],
             [
              0.2222222222222222,
              "#7201a8"
             ],
             [
              0.3333333333333333,
              "#9c179e"
             ],
             [
              0.4444444444444444,
              "#bd3786"
             ],
             [
              0.5555555555555556,
              "#d8576b"
             ],
             [
              0.6666666666666666,
              "#ed7953"
             ],
             [
              0.7777777777777778,
              "#fb9f3a"
             ],
             [
              0.8888888888888888,
              "#fdca26"
             ],
             [
              1,
              "#f0f921"
             ]
            ],
            "type": "histogram2dcontour"
           }
          ],
          "mesh3d": [
           {
            "colorbar": {
             "outlinewidth": 0,
             "ticks": ""
            },
            "type": "mesh3d"
           }
          ],
          "parcoords": [
           {
            "line": {
             "colorbar": {
              "outlinewidth": 0,
              "ticks": ""
             }
            },
            "type": "parcoords"
           }
          ],
          "pie": [
           {
            "automargin": true,
            "type": "pie"
           }
          ],
          "scatter": [
           {
            "fillpattern": {
             "fillmode": "overlay",
             "size": 10,
             "solidity": 0.2
            },
            "type": "scatter"
           }
          ],
          "scatter3d": [
           {
            "line": {
             "colorbar": {
              "outlinewidth": 0,
              "ticks": ""
             }
            },
            "marker": {
             "colorbar": {
              "outlinewidth": 0,
              "ticks": ""
             }
            },
            "type": "scatter3d"
           }
          ],
          "scattercarpet": [
           {
            "marker": {
             "colorbar": {
              "outlinewidth": 0,
              "ticks": ""
             }
            },
            "type": "scattercarpet"
           }
          ],
          "scattergeo": [
           {
            "marker": {
             "colorbar": {
              "outlinewidth": 0,
              "ticks": ""
             }
            },
            "type": "scattergeo"
           }
          ],
          "scattergl": [
           {
            "marker": {
             "colorbar": {
              "outlinewidth": 0,
              "ticks": ""
             }
            },
            "type": "scattergl"
           }
          ],
          "scattermapbox": [
           {
            "marker": {
             "colorbar": {
              "outlinewidth": 0,
              "ticks": ""
             }
            },
            "type": "scattermapbox"
           }
          ],
          "scatterpolar": [
           {
            "marker": {
             "colorbar": {
              "outlinewidth": 0,
              "ticks": ""
             }
            },
            "type": "scatterpolar"
           }
          ],
          "scatterpolargl": [
           {
            "marker": {
             "colorbar": {
              "outlinewidth": 0,
              "ticks": ""
             }
            },
            "type": "scatterpolargl"
           }
          ],
          "scatterternary": [
           {
            "marker": {
             "colorbar": {
              "outlinewidth": 0,
              "ticks": ""
             }
            },
            "type": "scatterternary"
           }
          ],
          "surface": [
           {
            "colorbar": {
             "outlinewidth": 0,
             "ticks": ""
            },
            "colorscale": [
             [
              0,
              "#0d0887"
             ],
             [
              0.1111111111111111,
              "#46039f"
             ],
             [
              0.2222222222222222,
              "#7201a8"
             ],
             [
              0.3333333333333333,
              "#9c179e"
             ],
             [
              0.4444444444444444,
              "#bd3786"
             ],
             [
              0.5555555555555556,
              "#d8576b"
             ],
             [
              0.6666666666666666,
              "#ed7953"
             ],
             [
              0.7777777777777778,
              "#fb9f3a"
             ],
             [
              0.8888888888888888,
              "#fdca26"
             ],
             [
              1,
              "#f0f921"
             ]
            ],
            "type": "surface"
           }
          ],
          "table": [
           {
            "cells": {
             "fill": {
              "color": "#EBF0F8"
             },
             "line": {
              "color": "white"
             }
            },
            "header": {
             "fill": {
              "color": "#C8D4E3"
             },
             "line": {
              "color": "white"
             }
            },
            "type": "table"
           }
          ]
         },
         "layout": {
          "annotationdefaults": {
           "arrowcolor": "#2a3f5f",
           "arrowhead": 0,
           "arrowwidth": 1
          },
          "autotypenumbers": "strict",
          "coloraxis": {
           "colorbar": {
            "outlinewidth": 0,
            "ticks": ""
           }
          },
          "colorscale": {
           "diverging": [
            [
             0,
             "#8e0152"
            ],
            [
             0.1,
             "#c51b7d"
            ],
            [
             0.2,
             "#de77ae"
            ],
            [
             0.3,
             "#f1b6da"
            ],
            [
             0.4,
             "#fde0ef"
            ],
            [
             0.5,
             "#f7f7f7"
            ],
            [
             0.6,
             "#e6f5d0"
            ],
            [
             0.7,
             "#b8e186"
            ],
            [
             0.8,
             "#7fbc41"
            ],
            [
             0.9,
             "#4d9221"
            ],
            [
             1,
             "#276419"
            ]
           ],
           "sequential": [
            [
             0,
             "#0d0887"
            ],
            [
             0.1111111111111111,
             "#46039f"
            ],
            [
             0.2222222222222222,
             "#7201a8"
            ],
            [
             0.3333333333333333,
             "#9c179e"
            ],
            [
             0.4444444444444444,
             "#bd3786"
            ],
            [
             0.5555555555555556,
             "#d8576b"
            ],
            [
             0.6666666666666666,
             "#ed7953"
            ],
            [
             0.7777777777777778,
             "#fb9f3a"
            ],
            [
             0.8888888888888888,
             "#fdca26"
            ],
            [
             1,
             "#f0f921"
            ]
           ],
           "sequentialminus": [
            [
             0,
             "#0d0887"
            ],
            [
             0.1111111111111111,
             "#46039f"
            ],
            [
             0.2222222222222222,
             "#7201a8"
            ],
            [
             0.3333333333333333,
             "#9c179e"
            ],
            [
             0.4444444444444444,
             "#bd3786"
            ],
            [
             0.5555555555555556,
             "#d8576b"
            ],
            [
             0.6666666666666666,
             "#ed7953"
            ],
            [
             0.7777777777777778,
             "#fb9f3a"
            ],
            [
             0.8888888888888888,
             "#fdca26"
            ],
            [
             1,
             "#f0f921"
            ]
           ]
          },
          "colorway": [
           "#636efa",
           "#EF553B",
           "#00cc96",
           "#ab63fa",
           "#FFA15A",
           "#19d3f3",
           "#FF6692",
           "#B6E880",
           "#FF97FF",
           "#FECB52"
          ],
          "font": {
           "color": "#2a3f5f"
          },
          "geo": {
           "bgcolor": "white",
           "lakecolor": "white",
           "landcolor": "#E5ECF6",
           "showlakes": true,
           "showland": true,
           "subunitcolor": "white"
          },
          "hoverlabel": {
           "align": "left"
          },
          "hovermode": "closest",
          "mapbox": {
           "style": "light"
          },
          "paper_bgcolor": "white",
          "plot_bgcolor": "#E5ECF6",
          "polar": {
           "angularaxis": {
            "gridcolor": "white",
            "linecolor": "white",
            "ticks": ""
           },
           "bgcolor": "#E5ECF6",
           "radialaxis": {
            "gridcolor": "white",
            "linecolor": "white",
            "ticks": ""
           }
          },
          "scene": {
           "xaxis": {
            "backgroundcolor": "#E5ECF6",
            "gridcolor": "white",
            "gridwidth": 2,
            "linecolor": "white",
            "showbackground": true,
            "ticks": "",
            "zerolinecolor": "white"
           },
           "yaxis": {
            "backgroundcolor": "#E5ECF6",
            "gridcolor": "white",
            "gridwidth": 2,
            "linecolor": "white",
            "showbackground": true,
            "ticks": "",
            "zerolinecolor": "white"
           },
           "zaxis": {
            "backgroundcolor": "#E5ECF6",
            "gridcolor": "white",
            "gridwidth": 2,
            "linecolor": "white",
            "showbackground": true,
            "ticks": "",
            "zerolinecolor": "white"
           }
          },
          "shapedefaults": {
           "line": {
            "color": "#2a3f5f"
           }
          },
          "ternary": {
           "aaxis": {
            "gridcolor": "white",
            "linecolor": "white",
            "ticks": ""
           },
           "baxis": {
            "gridcolor": "white",
            "linecolor": "white",
            "ticks": ""
           },
           "bgcolor": "#E5ECF6",
           "caxis": {
            "gridcolor": "white",
            "linecolor": "white",
            "ticks": ""
           }
          },
          "title": {
           "x": 0.05
          },
          "xaxis": {
           "automargin": true,
           "gridcolor": "white",
           "linecolor": "white",
           "ticks": "",
           "title": {
            "standoff": 15
           },
           "zerolinecolor": "white",
           "zerolinewidth": 2
          },
          "yaxis": {
           "automargin": true,
           "gridcolor": "white",
           "linecolor": "white",
           "ticks": "",
           "title": {
            "standoff": 15
           },
           "zerolinecolor": "white",
           "zerolinewidth": 2
          }
         }
        },
        "title": {
         "font": {
          "family": "GT America Bold",
          "size": 18
         },
         "text": "Police overtime at Mass and Cass has grown over the years and has significantly increased during Mayor Wu's term<br><sup style='color:gray;'>The overtime hour values are represented by a 14 day rolling average</sup>",
         "x": 0,
         "xref": "paper"
        },
        "width": 1200,
        "xaxis": {
         "anchor": "y",
         "domain": [
          0,
          1
         ],
         "title": {}
        },
        "yaxis": {
         "anchor": "x",
         "domain": [
          0,
          1
         ],
         "gridcolor": "LightGray",
         "gridwidth": 0.5,
         "showgrid": true,
         "title": {
          "text": "Overtime Hours per Day"
         }
        }
       }
      }
     },
     "metadata": {},
     "output_type": "display_data"
    }
   ],
   "source": [
    "\n",
    "date = []\n",
    "ot_hours = []\n",
    "\n",
    "grouped_df = ot_data_df[['OTDATE','OTHOURS']].groupby('OTDATE').sum()\n",
    "print(grouped_df.head(10))\n",
    "\n",
    "for index, row in grouped_df.iterrows():\n",
    "    date.append(index.to_pydatetime())\n",
    "    ot_hours.append(row['OTHOURS'])\n",
    "    \n",
    "\n",
    "dic = {\n",
    "    'Date': date,\n",
    "    'Overtime Hours': ot_hours,\n",
    "}\n",
    "\n",
    "df = pd.DataFrame(dic)\n",
    "fig = px.line(df, x='Date', y=\"Overtime Hours\", title='Police OT hours at Mass/Melnea')\n",
    "fig.show()\n",
    "\n",
    "# Rolling average graph BY 7 DAYS\n",
    "\n",
    "date = []\n",
    "ot_hours = []\n",
    "\n",
    "rolling_avg = grouped_df['OTHOURS'].rolling(7).mean()\n",
    "rolling_avg = rolling_avg.to_frame()\n",
    "\n",
    "for index, row in rolling_avg.iterrows():\n",
    "    date.append(index.to_pydatetime())\n",
    "    ot_hours.append(row['OTHOURS'])\n",
    "\n",
    "dic = {\n",
    "    'Date': date,\n",
    "    'Overtime Hours': ot_hours,\n",
    "}\n",
    "df = pd.DataFrame(dic)\n",
    "fig2 = px.line(df, x='Date', y=\"Overtime Hours\", title='Police OT hours at Mass/Melnea - 7 day rolling average')\n",
    "fig2.show()\n",
    "\n",
    "\n",
    "# Rolling average graph BY 14 DAYS\n",
    "\n",
    "date = []\n",
    "ot_hours = []\n",
    "\n",
    "rolling_avg = grouped_df['OTHOURS'].rolling(14).mean()\n",
    "rolling_avg = rolling_avg.to_frame()\n",
    "\n",
    "for index, row in rolling_avg.iterrows():\n",
    "    date.append(index.to_pydatetime())\n",
    "    ot_hours.append(row['OTHOURS'])\n",
    "\n",
    "dic = {\n",
    "    'Date': date,\n",
    "    'Overtime Hours per Day': ot_hours,\n",
    "}\n",
    "df = pd.DataFrame(dic)\n",
    "fig3 = px.line(df, x='Date', y=\"Overtime Hours per Day\", color_discrete_sequence=['#0055AA'])\n",
    "\n",
    "# fig3.add_vline(x='Mar 22, 2021', line_width=2, line_dash=\"dash\", line_color=\"red\", annotation_text=\"Kim Janey becomes acting mayor of Boston\")\n",
    "date_in_ms = datetime.datetime.strptime(\"2021-11-16\", \"%Y-%m-%d\").timestamp() * 1000\n",
    "fig3.add_vline(x=date_in_ms, \n",
    "    line_width=2, \n",
    "    line_dash=\"dash\", \n",
    "    line_color=\"red\", \n",
    "    annotation_text=\"Michelle Wu becomes mayor of Boston \", \n",
    "    annotation_position=\"top left\",\n",
    "    annotation=dict(font_size=12, font_family=\"GT America\")\n",
    ")\n",
    "\n",
    "# Font & other aesthetic stuff\n",
    "fig3.update_layout(\n",
    "    plot_bgcolor='rgba(0,0,0,0)',\n",
    "    font_family=\"GT America\",\n",
    "    font_color=\"black\",\n",
    "    xaxis_title=None,\n",
    "    height=500,\n",
    "    width=1200,\n",
    "    margin=dict(\n",
    "        l=100,\n",
    "        r=100,\n",
    "        b=100,\n",
    "        t=100,\n",
    "        pad=4\n",
    "    )\n",
    ")\n",
    "\n",
    "# Customize title to add captions!\n",
    "fig3.update_layout(\n",
    "    title=go.layout.Title(\n",
    "        text=\"Police overtime at Mass and Cass has grown over the years and has significantly increased during Mayor Wu's term<br><sup style='color:gray;'>The overtime hour values are represented by a 14 day rolling average</sup>\",\n",
    "        xref=\"paper\",\n",
    "        x=0,\n",
    "        font_family=\"GT America Bold\",\n",
    "        font_size=18\n",
    "    )\n",
    ")\n",
    "\n",
    "# Gridlines \n",
    "fig3.update_yaxes(showgrid=True, gridwidth=0.5, gridcolor='LightGray')\n",
    "\n",
    "fig3.show()\n",
    "\n",
    "\n"
   ]
  },
  {
   "cell_type": "markdown",
   "metadata": {},
   "source": [
    "Extension Question 2: Hours when police are mot active at Mass/Melnea\n",
    "\n",
    "Each bar in x-axis represents 1 hour of the day [12am, 1am ,2am, ... 10pm, 11pm]\n",
    "y-axis is the hours spent"
   ]
  },
  {
   "cell_type": "code",
   "execution_count": 10,
   "metadata": {},
   "outputs": [
    {
     "name": "stdout",
     "output_type": "stream",
     "text": [
      "           OTDATE  OTHOURS\n",
      "144204 2019-08-01     4.00\n",
      "144205 2019-08-01     4.75\n",
      "144209 2019-08-01     4.75\n",
      "144212 2019-08-01     4.75\n",
      "144215 2019-08-01     4.75\n",
      "144216 2019-08-01     7.75\n",
      "144217 2019-08-01     7.75\n",
      "144218 2019-08-01     4.75\n",
      "144219 2019-08-01     4.75\n",
      "144220 2019-08-01     4.75\n",
      "dict_keys(['12am', '1am', '2am', '3am', '4am', '5am', '6am', '7am', '8am', '9am', '10am', '11am', '12pm', '1pm', '2pm', '3pm', '4pm', '5pm', '6pm', '7pm', '8pm', '9pm', '10pm', '11pm'])\n",
      "dict_values([257520.0, 249325.0, 248875.0, 248865, 249005.0, 249205, 250000.0, 877305.0, 877390.0, 870945.0, 882615.0, 882595.0, 885330.0, 662455.0, 633960.0, 630700.0, 1510065.0, 1490470.0, 1487960.0, 977825.0, 878975.0, 878045.0, 872865.0, 908680.0])\n"
     ]
    },
    {
     "data": {
      "application/vnd.plotly.v1+json": {
       "config": {
        "plotlyServerURL": "https://plot.ly"
       },
       "data": [
        {
         "alignmentgroup": "True",
         "hovertemplate": "Hours of day=%{x}<br>Total Overtime Hours=%{y}<extra></extra>",
         "legendgroup": "",
         "marker": {
          "color": "#0055AA",
          "pattern": {
           "shape": ""
          }
         },
         "name": "",
         "offsetgroup": "",
         "orientation": "v",
         "showlegend": false,
         "textposition": "auto",
         "type": "bar",
         "x": [
          "12am",
          "1am",
          "2am",
          "3am",
          "4am",
          "5am",
          "6am",
          "7am",
          "8am",
          "9am",
          "10am",
          "11am",
          "12pm",
          "1pm",
          "2pm",
          "3pm",
          "4pm",
          "5pm",
          "6pm",
          "7pm",
          "8pm",
          "9pm",
          "10pm",
          "11pm"
         ],
         "xaxis": "x",
         "y": [
          257520,
          249325,
          248875,
          248865,
          249005,
          249205,
          250000,
          877305,
          877390,
          870945,
          882615,
          882595,
          885330,
          662455,
          633960,
          630700,
          1510065,
          1490470,
          1487960,
          977825,
          878975,
          878045,
          872865,
          908680
         ],
         "yaxis": "y"
        }
       ],
       "layout": {
        "bargap": 0.1,
        "barmode": "relative",
        "font": {
         "color": "black",
         "family": "GT America"
        },
        "height": 500,
        "legend": {
         "tracegroupgap": 0
        },
        "margin": {
         "b": 100,
         "l": 100,
         "pad": 4,
         "r": 100,
         "t": 100
        },
        "plot_bgcolor": "rgba(0,0,0,0)",
        "template": {
         "data": {
          "bar": [
           {
            "error_x": {
             "color": "#2a3f5f"
            },
            "error_y": {
             "color": "#2a3f5f"
            },
            "marker": {
             "line": {
              "color": "#E5ECF6",
              "width": 0.5
             },
             "pattern": {
              "fillmode": "overlay",
              "size": 10,
              "solidity": 0.2
             }
            },
            "type": "bar"
           }
          ],
          "barpolar": [
           {
            "marker": {
             "line": {
              "color": "#E5ECF6",
              "width": 0.5
             },
             "pattern": {
              "fillmode": "overlay",
              "size": 10,
              "solidity": 0.2
             }
            },
            "type": "barpolar"
           }
          ],
          "carpet": [
           {
            "aaxis": {
             "endlinecolor": "#2a3f5f",
             "gridcolor": "white",
             "linecolor": "white",
             "minorgridcolor": "white",
             "startlinecolor": "#2a3f5f"
            },
            "baxis": {
             "endlinecolor": "#2a3f5f",
             "gridcolor": "white",
             "linecolor": "white",
             "minorgridcolor": "white",
             "startlinecolor": "#2a3f5f"
            },
            "type": "carpet"
           }
          ],
          "choropleth": [
           {
            "colorbar": {
             "outlinewidth": 0,
             "ticks": ""
            },
            "type": "choropleth"
           }
          ],
          "contour": [
           {
            "colorbar": {
             "outlinewidth": 0,
             "ticks": ""
            },
            "colorscale": [
             [
              0,
              "#0d0887"
             ],
             [
              0.1111111111111111,
              "#46039f"
             ],
             [
              0.2222222222222222,
              "#7201a8"
             ],
             [
              0.3333333333333333,
              "#9c179e"
             ],
             [
              0.4444444444444444,
              "#bd3786"
             ],
             [
              0.5555555555555556,
              "#d8576b"
             ],
             [
              0.6666666666666666,
              "#ed7953"
             ],
             [
              0.7777777777777778,
              "#fb9f3a"
             ],
             [
              0.8888888888888888,
              "#fdca26"
             ],
             [
              1,
              "#f0f921"
             ]
            ],
            "type": "contour"
           }
          ],
          "contourcarpet": [
           {
            "colorbar": {
             "outlinewidth": 0,
             "ticks": ""
            },
            "type": "contourcarpet"
           }
          ],
          "heatmap": [
           {
            "colorbar": {
             "outlinewidth": 0,
             "ticks": ""
            },
            "colorscale": [
             [
              0,
              "#0d0887"
             ],
             [
              0.1111111111111111,
              "#46039f"
             ],
             [
              0.2222222222222222,
              "#7201a8"
             ],
             [
              0.3333333333333333,
              "#9c179e"
             ],
             [
              0.4444444444444444,
              "#bd3786"
             ],
             [
              0.5555555555555556,
              "#d8576b"
             ],
             [
              0.6666666666666666,
              "#ed7953"
             ],
             [
              0.7777777777777778,
              "#fb9f3a"
             ],
             [
              0.8888888888888888,
              "#fdca26"
             ],
             [
              1,
              "#f0f921"
             ]
            ],
            "type": "heatmap"
           }
          ],
          "heatmapgl": [
           {
            "colorbar": {
             "outlinewidth": 0,
             "ticks": ""
            },
            "colorscale": [
             [
              0,
              "#0d0887"
             ],
             [
              0.1111111111111111,
              "#46039f"
             ],
             [
              0.2222222222222222,
              "#7201a8"
             ],
             [
              0.3333333333333333,
              "#9c179e"
             ],
             [
              0.4444444444444444,
              "#bd3786"
             ],
             [
              0.5555555555555556,
              "#d8576b"
             ],
             [
              0.6666666666666666,
              "#ed7953"
             ],
             [
              0.7777777777777778,
              "#fb9f3a"
             ],
             [
              0.8888888888888888,
              "#fdca26"
             ],
             [
              1,
              "#f0f921"
             ]
            ],
            "type": "heatmapgl"
           }
          ],
          "histogram": [
           {
            "marker": {
             "pattern": {
              "fillmode": "overlay",
              "size": 10,
              "solidity": 0.2
             }
            },
            "type": "histogram"
           }
          ],
          "histogram2d": [
           {
            "colorbar": {
             "outlinewidth": 0,
             "ticks": ""
            },
            "colorscale": [
             [
              0,
              "#0d0887"
             ],
             [
              0.1111111111111111,
              "#46039f"
             ],
             [
              0.2222222222222222,
              "#7201a8"
             ],
             [
              0.3333333333333333,
              "#9c179e"
             ],
             [
              0.4444444444444444,
              "#bd3786"
             ],
             [
              0.5555555555555556,
              "#d8576b"
             ],
             [
              0.6666666666666666,
              "#ed7953"
             ],
             [
              0.7777777777777778,
              "#fb9f3a"
             ],
             [
              0.8888888888888888,
              "#fdca26"
             ],
             [
              1,
              "#f0f921"
             ]
            ],
            "type": "histogram2d"
           }
          ],
          "histogram2dcontour": [
           {
            "colorbar": {
             "outlinewidth": 0,
             "ticks": ""
            },
            "colorscale": [
             [
              0,
              "#0d0887"
             ],
             [
              0.1111111111111111,
              "#46039f"
             ],
             [
              0.2222222222222222,
              "#7201a8"
             ],
             [
              0.3333333333333333,
              "#9c179e"
             ],
             [
              0.4444444444444444,
              "#bd3786"
             ],
             [
              0.5555555555555556,
              "#d8576b"
             ],
             [
              0.6666666666666666,
              "#ed7953"
             ],
             [
              0.7777777777777778,
              "#fb9f3a"
             ],
             [
              0.8888888888888888,
              "#fdca26"
             ],
             [
              1,
              "#f0f921"
             ]
            ],
            "type": "histogram2dcontour"
           }
          ],
          "mesh3d": [
           {
            "colorbar": {
             "outlinewidth": 0,
             "ticks": ""
            },
            "type": "mesh3d"
           }
          ],
          "parcoords": [
           {
            "line": {
             "colorbar": {
              "outlinewidth": 0,
              "ticks": ""
             }
            },
            "type": "parcoords"
           }
          ],
          "pie": [
           {
            "automargin": true,
            "type": "pie"
           }
          ],
          "scatter": [
           {
            "fillpattern": {
             "fillmode": "overlay",
             "size": 10,
             "solidity": 0.2
            },
            "type": "scatter"
           }
          ],
          "scatter3d": [
           {
            "line": {
             "colorbar": {
              "outlinewidth": 0,
              "ticks": ""
             }
            },
            "marker": {
             "colorbar": {
              "outlinewidth": 0,
              "ticks": ""
             }
            },
            "type": "scatter3d"
           }
          ],
          "scattercarpet": [
           {
            "marker": {
             "colorbar": {
              "outlinewidth": 0,
              "ticks": ""
             }
            },
            "type": "scattercarpet"
           }
          ],
          "scattergeo": [
           {
            "marker": {
             "colorbar": {
              "outlinewidth": 0,
              "ticks": ""
             }
            },
            "type": "scattergeo"
           }
          ],
          "scattergl": [
           {
            "marker": {
             "colorbar": {
              "outlinewidth": 0,
              "ticks": ""
             }
            },
            "type": "scattergl"
           }
          ],
          "scattermapbox": [
           {
            "marker": {
             "colorbar": {
              "outlinewidth": 0,
              "ticks": ""
             }
            },
            "type": "scattermapbox"
           }
          ],
          "scatterpolar": [
           {
            "marker": {
             "colorbar": {
              "outlinewidth": 0,
              "ticks": ""
             }
            },
            "type": "scatterpolar"
           }
          ],
          "scatterpolargl": [
           {
            "marker": {
             "colorbar": {
              "outlinewidth": 0,
              "ticks": ""
             }
            },
            "type": "scatterpolargl"
           }
          ],
          "scatterternary": [
           {
            "marker": {
             "colorbar": {
              "outlinewidth": 0,
              "ticks": ""
             }
            },
            "type": "scatterternary"
           }
          ],
          "surface": [
           {
            "colorbar": {
             "outlinewidth": 0,
             "ticks": ""
            },
            "colorscale": [
             [
              0,
              "#0d0887"
             ],
             [
              0.1111111111111111,
              "#46039f"
             ],
             [
              0.2222222222222222,
              "#7201a8"
             ],
             [
              0.3333333333333333,
              "#9c179e"
             ],
             [
              0.4444444444444444,
              "#bd3786"
             ],
             [
              0.5555555555555556,
              "#d8576b"
             ],
             [
              0.6666666666666666,
              "#ed7953"
             ],
             [
              0.7777777777777778,
              "#fb9f3a"
             ],
             [
              0.8888888888888888,
              "#fdca26"
             ],
             [
              1,
              "#f0f921"
             ]
            ],
            "type": "surface"
           }
          ],
          "table": [
           {
            "cells": {
             "fill": {
              "color": "#EBF0F8"
             },
             "line": {
              "color": "white"
             }
            },
            "header": {
             "fill": {
              "color": "#C8D4E3"
             },
             "line": {
              "color": "white"
             }
            },
            "type": "table"
           }
          ]
         },
         "layout": {
          "annotationdefaults": {
           "arrowcolor": "#2a3f5f",
           "arrowhead": 0,
           "arrowwidth": 1
          },
          "autotypenumbers": "strict",
          "coloraxis": {
           "colorbar": {
            "outlinewidth": 0,
            "ticks": ""
           }
          },
          "colorscale": {
           "diverging": [
            [
             0,
             "#8e0152"
            ],
            [
             0.1,
             "#c51b7d"
            ],
            [
             0.2,
             "#de77ae"
            ],
            [
             0.3,
             "#f1b6da"
            ],
            [
             0.4,
             "#fde0ef"
            ],
            [
             0.5,
             "#f7f7f7"
            ],
            [
             0.6,
             "#e6f5d0"
            ],
            [
             0.7,
             "#b8e186"
            ],
            [
             0.8,
             "#7fbc41"
            ],
            [
             0.9,
             "#4d9221"
            ],
            [
             1,
             "#276419"
            ]
           ],
           "sequential": [
            [
             0,
             "#0d0887"
            ],
            [
             0.1111111111111111,
             "#46039f"
            ],
            [
             0.2222222222222222,
             "#7201a8"
            ],
            [
             0.3333333333333333,
             "#9c179e"
            ],
            [
             0.4444444444444444,
             "#bd3786"
            ],
            [
             0.5555555555555556,
             "#d8576b"
            ],
            [
             0.6666666666666666,
             "#ed7953"
            ],
            [
             0.7777777777777778,
             "#fb9f3a"
            ],
            [
             0.8888888888888888,
             "#fdca26"
            ],
            [
             1,
             "#f0f921"
            ]
           ],
           "sequentialminus": [
            [
             0,
             "#0d0887"
            ],
            [
             0.1111111111111111,
             "#46039f"
            ],
            [
             0.2222222222222222,
             "#7201a8"
            ],
            [
             0.3333333333333333,
             "#9c179e"
            ],
            [
             0.4444444444444444,
             "#bd3786"
            ],
            [
             0.5555555555555556,
             "#d8576b"
            ],
            [
             0.6666666666666666,
             "#ed7953"
            ],
            [
             0.7777777777777778,
             "#fb9f3a"
            ],
            [
             0.8888888888888888,
             "#fdca26"
            ],
            [
             1,
             "#f0f921"
            ]
           ]
          },
          "colorway": [
           "#636efa",
           "#EF553B",
           "#00cc96",
           "#ab63fa",
           "#FFA15A",
           "#19d3f3",
           "#FF6692",
           "#B6E880",
           "#FF97FF",
           "#FECB52"
          ],
          "font": {
           "color": "#2a3f5f"
          },
          "geo": {
           "bgcolor": "white",
           "lakecolor": "white",
           "landcolor": "#E5ECF6",
           "showlakes": true,
           "showland": true,
           "subunitcolor": "white"
          },
          "hoverlabel": {
           "align": "left"
          },
          "hovermode": "closest",
          "mapbox": {
           "style": "light"
          },
          "paper_bgcolor": "white",
          "plot_bgcolor": "#E5ECF6",
          "polar": {
           "angularaxis": {
            "gridcolor": "white",
            "linecolor": "white",
            "ticks": ""
           },
           "bgcolor": "#E5ECF6",
           "radialaxis": {
            "gridcolor": "white",
            "linecolor": "white",
            "ticks": ""
           }
          },
          "scene": {
           "xaxis": {
            "backgroundcolor": "#E5ECF6",
            "gridcolor": "white",
            "gridwidth": 2,
            "linecolor": "white",
            "showbackground": true,
            "ticks": "",
            "zerolinecolor": "white"
           },
           "yaxis": {
            "backgroundcolor": "#E5ECF6",
            "gridcolor": "white",
            "gridwidth": 2,
            "linecolor": "white",
            "showbackground": true,
            "ticks": "",
            "zerolinecolor": "white"
           },
           "zaxis": {
            "backgroundcolor": "#E5ECF6",
            "gridcolor": "white",
            "gridwidth": 2,
            "linecolor": "white",
            "showbackground": true,
            "ticks": "",
            "zerolinecolor": "white"
           }
          },
          "shapedefaults": {
           "line": {
            "color": "#2a3f5f"
           }
          },
          "ternary": {
           "aaxis": {
            "gridcolor": "white",
            "linecolor": "white",
            "ticks": ""
           },
           "baxis": {
            "gridcolor": "white",
            "linecolor": "white",
            "ticks": ""
           },
           "bgcolor": "#E5ECF6",
           "caxis": {
            "gridcolor": "white",
            "linecolor": "white",
            "ticks": ""
           }
          },
          "title": {
           "x": 0.05
          },
          "xaxis": {
           "automargin": true,
           "gridcolor": "white",
           "linecolor": "white",
           "ticks": "",
           "title": {
            "standoff": 15
           },
           "zerolinecolor": "white",
           "zerolinewidth": 2
          },
          "yaxis": {
           "automargin": true,
           "gridcolor": "white",
           "linecolor": "white",
           "ticks": "",
           "title": {
            "standoff": 15
           },
           "zerolinecolor": "white",
           "zerolinewidth": 2
          }
         }
        },
        "title": {
         "font": {
          "family": "GT America Bold",
          "size": 19
         },
         "text": "Police are most active at Mass and Cass from 4-7pm and somewhat active from 7am-4pm and 7pm-12am",
         "x": 0,
         "xref": "paper"
        },
        "width": 1200,
        "xaxis": {
         "anchor": "y",
         "domain": [
          0,
          1
         ],
         "title": {}
        },
        "yaxis": {
         "anchor": "x",
         "domain": [
          0,
          1
         ],
         "gridcolor": "LightGray",
         "gridwidth": 0.5,
         "showgrid": true,
         "title": {
          "text": "Total Overtime Hours"
         }
        }
       }
      }
     },
     "metadata": {},
     "output_type": "display_data"
    }
   ],
   "source": [
    "hours = {'12am': 0, \n",
    "    '1am': 0, \n",
    "    '2am': 0, \n",
    "    '3am': 0, \n",
    "    '4am': 0, \n",
    "    '5am': 0, \n",
    "    '6am': 0, \n",
    "    '7am': 0, \n",
    "    '8am': 0, \n",
    "    '9am': 0, \n",
    "    '10am': 0, \n",
    "    '11am': 0, \n",
    "    '12pm': 0, \n",
    "    '1pm': 0, \n",
    "    '2pm': 0, \n",
    "    '3pm': 0, \n",
    "    '4pm': 0, \n",
    "    '5pm': 0, \n",
    "    '6pm': 0, \n",
    "    '7pm': 0, \n",
    "    '8pm': 0, \n",
    "    '9pm': 0, \n",
    "    '10pm': 0, \n",
    "    '11pm': 0}\n",
    "\n",
    "def record_hours(start, ot_hours):\n",
    "\n",
    "    start_hr = -1\n",
    "    start_min = -1\n",
    "\n",
    "    # x100 to make it easier to work with \n",
    "    ot_hours = ot_hours * 100\n",
    "\n",
    "    # SET start_hr AND start_min\n",
    "    # 0-99 (12am - 12:59am)\n",
    "    if (start >= 0 and start < 100):\n",
    "        start_hr = 0\n",
    "        start_min = start\n",
    "    elif (start >= 100 and start < 1000):\n",
    "        start_hr = int(str(start)[0])\n",
    "        start_min = int(str(start)[1:])\n",
    "    elif (start >= 1000 and start < 2400):\n",
    "        start_hr = int(str(start)[:2])\n",
    "        start_min = int(str(start)[2:])\n",
    "\n",
    "    def getHoursToRecord(start_m):\n",
    "        \n",
    "        # Cases:\n",
    "        # 1. Starting_Min = 0\n",
    "        #   1-1. OT hours >= 100\n",
    "        #   1-2. OT hours < 100\n",
    "        # 2. Starting_Min > 0\n",
    "        #   2-1. OT hours >= 100 - Starting_Min\n",
    "        #   2-2. OT hours < 100 - Starting_Min\n",
    "\n",
    "        # Time needed to reach next hour\n",
    "        rem_time = 100 - start_m\n",
    "        \n",
    "        # Enough ot_hours to reach next hour\n",
    "        if (ot_hours >= rem_time):\n",
    "            return rem_time\n",
    "        # Not enough ot_hours to reach next hour (IF CALLED, END HAS BEEN REACHED)\n",
    "        elif (ot_hours < rem_time):\n",
    "            return ot_hours\n",
    "\n",
    "    def incrementHour(hr):\n",
    "        hr = hr + 1\n",
    "        if hr == 24:\n",
    "            hr = 0\n",
    "        return hr\n",
    "\n",
    "    def getHourString(hr):\n",
    "        string = ''\n",
    "\n",
    "        if hr == 0:\n",
    "            string = '12am'\n",
    "        elif hr == 1:\n",
    "            string = '1am'\n",
    "        elif hr == 2:\n",
    "            string = '2am'\n",
    "        elif hr == 3:\n",
    "            string = '3am'            \n",
    "        elif hr == 4:\n",
    "            string = '4am'\n",
    "        elif hr == 5:\n",
    "            string = '5am'\n",
    "        elif hr == 6:\n",
    "            string = '6am'\n",
    "        elif hr == 7:\n",
    "            string = '7am'\n",
    "        elif hr == 8:\n",
    "            string = '8am'\n",
    "        elif hr == 9:\n",
    "            string = '9am'            \n",
    "        elif hr == 10:\n",
    "            string = '10am'\n",
    "        elif hr == 11:\n",
    "            string = '11am'\n",
    "        elif hr == 12:\n",
    "            string = '12pm'\n",
    "        elif hr == 13:\n",
    "            string = '1pm'\n",
    "        elif hr == 14:\n",
    "            string = '2pm'\n",
    "        elif hr == 15:\n",
    "            string = '3pm'            \n",
    "        elif hr == 16:\n",
    "            string = '4pm'\n",
    "        elif hr == 17:\n",
    "            string = '5pm'\n",
    "        elif hr == 18:\n",
    "            string = '6pm'\n",
    "        elif hr == 19:\n",
    "            string = '7pm'\n",
    "        elif hr == 20:\n",
    "            string = '8pm'\n",
    "        elif hr == 21:\n",
    "            string = '9pm'            \n",
    "        elif hr == 22:\n",
    "            string = '10pm'\n",
    "        elif hr == 23:\n",
    "            string = '11pm'\n",
    "        \n",
    "        return string\n",
    "\n",
    "    while (ot_hours != 0):\n",
    "\n",
    "        # get hours to record\n",
    "        hours_to_record = getHoursToRecord(start_min)\n",
    "\n",
    "        # decrease ot hours by amount recorded\n",
    "        ot_hours = ot_hours - hours_to_record\n",
    "\n",
    "        # record hours in dictionary\n",
    "        key = getHourString(start_hr)\n",
    "        hours[key] = hours[key] + hours_to_record\n",
    "\n",
    "        # increment start_hr \n",
    "        start_hr = incrementHour(start_hr)\n",
    "\n",
    "\n",
    "\n",
    "df = ot_data_df[['OTDATE','OTHOURS']]\n",
    "print(df.head(10))\n",
    "\n",
    "for index, row in ot_data_df.iterrows():\n",
    "    # date.append(index.to_pydatetime())\n",
    "    record_hours(row['STARTTIME'], row['OTHOURS'])\n",
    "\n",
    "print(hours.keys())\n",
    "print(hours.values())\n",
    "\n",
    "dic = {\n",
    "    'Hours of day': hours.keys(),\n",
    "    'Total Overtime Hours': hours.values(),\n",
    "}\n",
    "\n",
    "df = pd.DataFrame(dic)\n",
    "fig = px.bar(df, x='Hours of day', y=\"Total Overtime Hours\", color_discrete_sequence=['#0055AA'])\n",
    "\n",
    "# Font & other aesthetic stuff\n",
    "fig.update_layout(\n",
    "    plot_bgcolor='rgba(0,0,0,0)',\n",
    "    font_family=\"GT America\",\n",
    "    font_color=\"black\",\n",
    "    xaxis_title=None,\n",
    "    height=500,\n",
    "    width = 1200,\n",
    "    margin=dict(\n",
    "        l=100,\n",
    "        r=100,\n",
    "        b=100,\n",
    "        t=100,\n",
    "        pad=4\n",
    "    ),\n",
    "    bargap=0.1\n",
    ")\n",
    "\n",
    "# Customize title to add captions!\n",
    "fig.update_layout(\n",
    "    title=go.layout.Title(\n",
    "        text=\"Police are most active at Mass and Cass from 4-7pm and somewhat active from 7am-4pm and 7pm-12am\",\n",
    "        xref=\"paper\",\n",
    "        x=0,\n",
    "        font_family=\"GT America Bold\",\n",
    "        font_size=19\n",
    "    )\n",
    ")\n",
    "\n",
    "# Gridlines \n",
    "fig.update_yaxes(showgrid=True, gridwidth=0.5, gridcolor='LightGray')\n",
    "\n",
    "fig.show()"
   ]
  }
 ],
 "metadata": {
  "kernelspec": {
   "display_name": "Python 3.10.7 64-bit",
   "language": "python",
   "name": "python3"
  },
  "language_info": {
   "codemirror_mode": {
    "name": "ipython",
    "version": 3
   },
   "file_extension": ".py",
   "mimetype": "text/x-python",
   "name": "python",
   "nbconvert_exporter": "python",
   "pygments_lexer": "ipython3",
   "version": "3.10.7"
  },
  "orig_nbformat": 4,
  "vscode": {
   "interpreter": {
    "hash": "b0fa6594d8f4cbf19f97940f81e996739fb7646882a419484c72d19e05852a7e"
   }
  }
 },
 "nbformat": 4,
 "nbformat_minor": 2
}
