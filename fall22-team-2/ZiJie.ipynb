{
 "cells": [
  {
   "cell_type": "code",
   "execution_count": 1,
   "metadata": {},
   "outputs": [
    {
     "data": {
      "text/html": [
       "<div>\n",
       "<style scoped>\n",
       "    .dataframe tbody tr th:only-of-type {\n",
       "        vertical-align: middle;\n",
       "    }\n",
       "\n",
       "    .dataframe tbody tr th {\n",
       "        vertical-align: top;\n",
       "    }\n",
       "\n",
       "    .dataframe thead th {\n",
       "        text-align: right;\n",
       "    }\n",
       "</style>\n",
       "<table border=\"1\" class=\"dataframe\">\n",
       "  <thead>\n",
       "    <tr style=\"text-align: right;\">\n",
       "      <th></th>\n",
       "      <th>Cabinet</th>\n",
       "      <th>Dept</th>\n",
       "      <th>Program</th>\n",
       "      <th>Expense Category</th>\n",
       "      <th>FY20 Actual Expense</th>\n",
       "      <th>FY21 Actual Expense</th>\n",
       "      <th>FY22 Appropriation</th>\n",
       "      <th>FY23 Adopted</th>\n",
       "      <th>Unnamed: 8</th>\n",
       "      <th>Unnamed: 9</th>\n",
       "      <th>Unnamed: 10</th>\n",
       "      <th>Unnamed: 11</th>\n",
       "    </tr>\n",
       "  </thead>\n",
       "  <tbody>\n",
       "    <tr>\n",
       "      <th>599</th>\n",
       "      <td>Public Safety</td>\n",
       "      <td>Police Department</td>\n",
       "      <td>Police Commissioner's Office</td>\n",
       "      <td>Personnel Services</td>\n",
       "      <td>9,129,493</td>\n",
       "      <td>15,107,448</td>\n",
       "      <td>13,188,722</td>\n",
       "      <td>12,533,766</td>\n",
       "      <td>NaN</td>\n",
       "      <td>NaN</td>\n",
       "      <td>NaN</td>\n",
       "      <td>NaN</td>\n",
       "    </tr>\n",
       "    <tr>\n",
       "      <th>600</th>\n",
       "      <td>Public Safety</td>\n",
       "      <td>Police Department</td>\n",
       "      <td>Police Commissioner's Office</td>\n",
       "      <td>Contractual Services</td>\n",
       "      <td>602,687</td>\n",
       "      <td>625,980</td>\n",
       "      <td>688,984</td>\n",
       "      <td>714,584</td>\n",
       "      <td>NaN</td>\n",
       "      <td>NaN</td>\n",
       "      <td>NaN</td>\n",
       "      <td>NaN</td>\n",
       "    </tr>\n",
       "    <tr>\n",
       "      <th>601</th>\n",
       "      <td>Public Safety</td>\n",
       "      <td>Police Department</td>\n",
       "      <td>Police Commissioner's Office</td>\n",
       "      <td>Supplies &amp; Materials</td>\n",
       "      <td>86,321</td>\n",
       "      <td>111,188</td>\n",
       "      <td>51,400</td>\n",
       "      <td>50,900</td>\n",
       "      <td>NaN</td>\n",
       "      <td>NaN</td>\n",
       "      <td>NaN</td>\n",
       "      <td>NaN</td>\n",
       "    </tr>\n",
       "    <tr>\n",
       "      <th>602</th>\n",
       "      <td>Public Safety</td>\n",
       "      <td>Police Department</td>\n",
       "      <td>Police Commissioner's Office</td>\n",
       "      <td>Current Charges &amp; Obligations</td>\n",
       "      <td>35,188</td>\n",
       "      <td>32,052</td>\n",
       "      <td>31,255</td>\n",
       "      <td>35,123</td>\n",
       "      <td>NaN</td>\n",
       "      <td>NaN</td>\n",
       "      <td>NaN</td>\n",
       "      <td>NaN</td>\n",
       "    </tr>\n",
       "    <tr>\n",
       "      <th>603</th>\n",
       "      <td>Public Safety</td>\n",
       "      <td>Police Department</td>\n",
       "      <td>Police Commissioner's Office</td>\n",
       "      <td>Equipment</td>\n",
       "      <td>4,902</td>\n",
       "      <td>6,282</td>\n",
       "      <td>25,885</td>\n",
       "      <td>25,885</td>\n",
       "      <td>NaN</td>\n",
       "      <td>NaN</td>\n",
       "      <td>NaN</td>\n",
       "      <td>NaN</td>\n",
       "    </tr>\n",
       "    <tr>\n",
       "      <th>604</th>\n",
       "      <td>Public Safety</td>\n",
       "      <td>Police Department</td>\n",
       "      <td>Bureau of Community Engagement</td>\n",
       "      <td>Personnel Services</td>\n",
       "      <td>4,224,644</td>\n",
       "      <td>4,061,873</td>\n",
       "      <td>4,117,094</td>\n",
       "      <td>4,122,892</td>\n",
       "      <td>NaN</td>\n",
       "      <td>NaN</td>\n",
       "      <td>NaN</td>\n",
       "      <td>NaN</td>\n",
       "    </tr>\n",
       "    <tr>\n",
       "      <th>605</th>\n",
       "      <td>Public Safety</td>\n",
       "      <td>Police Department</td>\n",
       "      <td>Bureau of Community Engagement</td>\n",
       "      <td>Contractual Services</td>\n",
       "      <td>#Missing</td>\n",
       "      <td>640</td>\n",
       "      <td>80,525</td>\n",
       "      <td>110,000</td>\n",
       "      <td>NaN</td>\n",
       "      <td>NaN</td>\n",
       "      <td>NaN</td>\n",
       "      <td>NaN</td>\n",
       "    </tr>\n",
       "    <tr>\n",
       "      <th>606</th>\n",
       "      <td>Public Safety</td>\n",
       "      <td>Police Department</td>\n",
       "      <td>Bureau of Community Engagement</td>\n",
       "      <td>Supplies &amp; Materials</td>\n",
       "      <td>23,385</td>\n",
       "      <td>22,675</td>\n",
       "      <td>15,000</td>\n",
       "      <td>20,000</td>\n",
       "      <td>NaN</td>\n",
       "      <td>NaN</td>\n",
       "      <td>NaN</td>\n",
       "      <td>NaN</td>\n",
       "    </tr>\n",
       "    <tr>\n",
       "      <th>607</th>\n",
       "      <td>Public Safety</td>\n",
       "      <td>Police Department</td>\n",
       "      <td>Bureau of Community Engagement</td>\n",
       "      <td>Current Charges &amp; Obligations</td>\n",
       "      <td>120</td>\n",
       "      <td>120</td>\n",
       "      <td>2,000</td>\n",
       "      <td>7,500</td>\n",
       "      <td>NaN</td>\n",
       "      <td>NaN</td>\n",
       "      <td>NaN</td>\n",
       "      <td>NaN</td>\n",
       "    </tr>\n",
       "    <tr>\n",
       "      <th>608</th>\n",
       "      <td>Public Safety</td>\n",
       "      <td>Police Department</td>\n",
       "      <td>Bureau of Community Engagement</td>\n",
       "      <td>Equipment</td>\n",
       "      <td>#Missing</td>\n",
       "      <td>#Missing</td>\n",
       "      <td>6,500</td>\n",
       "      <td>12,500</td>\n",
       "      <td>NaN</td>\n",
       "      <td>NaN</td>\n",
       "      <td>NaN</td>\n",
       "      <td>NaN</td>\n",
       "    </tr>\n",
       "    <tr>\n",
       "      <th>609</th>\n",
       "      <td>Public Safety</td>\n",
       "      <td>Police Department</td>\n",
       "      <td>BAT-Operations</td>\n",
       "      <td>Personnel Services</td>\n",
       "      <td>290,489</td>\n",
       "      <td>6,457,190</td>\n",
       "      <td>7,023,854</td>\n",
       "      <td>6,914,533</td>\n",
       "      <td>NaN</td>\n",
       "      <td>NaN</td>\n",
       "      <td>NaN</td>\n",
       "      <td>NaN</td>\n",
       "    </tr>\n",
       "    <tr>\n",
       "      <th>610</th>\n",
       "      <td>Public Safety</td>\n",
       "      <td>Police Department</td>\n",
       "      <td>BAT-Operations</td>\n",
       "      <td>Contractual Services</td>\n",
       "      <td>4,168,120</td>\n",
       "      <td>3,758,262</td>\n",
       "      <td>3,518,255</td>\n",
       "      <td>3,914,902</td>\n",
       "      <td>NaN</td>\n",
       "      <td>NaN</td>\n",
       "      <td>NaN</td>\n",
       "      <td>NaN</td>\n",
       "    </tr>\n",
       "    <tr>\n",
       "      <th>611</th>\n",
       "      <td>Public Safety</td>\n",
       "      <td>Police Department</td>\n",
       "      <td>BAT-Operations</td>\n",
       "      <td>Supplies &amp; Materials</td>\n",
       "      <td>3,734,831</td>\n",
       "      <td>3,220,538</td>\n",
       "      <td>3,795,006</td>\n",
       "      <td>4,426,341</td>\n",
       "      <td>NaN</td>\n",
       "      <td>NaN</td>\n",
       "      <td>NaN</td>\n",
       "      <td>NaN</td>\n",
       "    </tr>\n",
       "    <tr>\n",
       "      <th>612</th>\n",
       "      <td>Public Safety</td>\n",
       "      <td>Police Department</td>\n",
       "      <td>BAT-Operations</td>\n",
       "      <td>Current Charges &amp; Obligations</td>\n",
       "      <td>316,420</td>\n",
       "      <td>296,962</td>\n",
       "      <td>571,660</td>\n",
       "      <td>580,160</td>\n",
       "      <td>NaN</td>\n",
       "      <td>NaN</td>\n",
       "      <td>NaN</td>\n",
       "      <td>NaN</td>\n",
       "    </tr>\n",
       "    <tr>\n",
       "      <th>613</th>\n",
       "      <td>Public Safety</td>\n",
       "      <td>Police Department</td>\n",
       "      <td>BAT-Operations</td>\n",
       "      <td>Equipment</td>\n",
       "      <td>4,314,193</td>\n",
       "      <td>7,926,530</td>\n",
       "      <td>4,368,169</td>\n",
       "      <td>4,221,829</td>\n",
       "      <td>NaN</td>\n",
       "      <td>NaN</td>\n",
       "      <td>NaN</td>\n",
       "      <td>NaN</td>\n",
       "    </tr>\n",
       "    <tr>\n",
       "      <th>614</th>\n",
       "      <td>Public Safety</td>\n",
       "      <td>Police Department</td>\n",
       "      <td>BAT-Admin &amp; Technology</td>\n",
       "      <td>Personnel Services</td>\n",
       "      <td>55,191,808</td>\n",
       "      <td>58,557,011</td>\n",
       "      <td>59,641,767</td>\n",
       "      <td>56,289,125</td>\n",
       "      <td>NaN</td>\n",
       "      <td>NaN</td>\n",
       "      <td>NaN</td>\n",
       "      <td>NaN</td>\n",
       "    </tr>\n",
       "    <tr>\n",
       "      <th>615</th>\n",
       "      <td>Public Safety</td>\n",
       "      <td>Police Department</td>\n",
       "      <td>BAT-Admin &amp; Technology</td>\n",
       "      <td>Contractual Services</td>\n",
       "      <td>14,804,270</td>\n",
       "      <td>15,371,484</td>\n",
       "      <td>15,612,403</td>\n",
       "      <td>18,828,995</td>\n",
       "      <td>NaN</td>\n",
       "      <td>NaN</td>\n",
       "      <td>NaN</td>\n",
       "      <td>NaN</td>\n",
       "    </tr>\n",
       "    <tr>\n",
       "      <th>616</th>\n",
       "      <td>Public Safety</td>\n",
       "      <td>Police Department</td>\n",
       "      <td>BAT-Admin &amp; Technology</td>\n",
       "      <td>Supplies &amp; Materials</td>\n",
       "      <td>1,371,803</td>\n",
       "      <td>1,001,241</td>\n",
       "      <td>703,085</td>\n",
       "      <td>819,683</td>\n",
       "      <td>NaN</td>\n",
       "      <td>NaN</td>\n",
       "      <td>NaN</td>\n",
       "      <td>NaN</td>\n",
       "    </tr>\n",
       "    <tr>\n",
       "      <th>617</th>\n",
       "      <td>Public Safety</td>\n",
       "      <td>Police Department</td>\n",
       "      <td>BAT-Admin &amp; Technology</td>\n",
       "      <td>Current Charges &amp; Obligations</td>\n",
       "      <td>4,813,727</td>\n",
       "      <td>7,111,876</td>\n",
       "      <td>4,500,855</td>\n",
       "      <td>4,654,836</td>\n",
       "      <td>NaN</td>\n",
       "      <td>NaN</td>\n",
       "      <td>NaN</td>\n",
       "      <td>NaN</td>\n",
       "    </tr>\n",
       "    <tr>\n",
       "      <th>618</th>\n",
       "      <td>Public Safety</td>\n",
       "      <td>Police Department</td>\n",
       "      <td>BAT-Admin &amp; Technology</td>\n",
       "      <td>Equipment</td>\n",
       "      <td>1,117,148</td>\n",
       "      <td>2,222,092</td>\n",
       "      <td>1,078,209</td>\n",
       "      <td>1,487,400</td>\n",
       "      <td>NaN</td>\n",
       "      <td>NaN</td>\n",
       "      <td>NaN</td>\n",
       "      <td>NaN</td>\n",
       "    </tr>\n",
       "    <tr>\n",
       "      <th>619</th>\n",
       "      <td>Public Safety</td>\n",
       "      <td>Police Department</td>\n",
       "      <td>Bureau of Professional Development</td>\n",
       "      <td>Personnel Services</td>\n",
       "      <td>19,419,080</td>\n",
       "      <td>6,065,867</td>\n",
       "      <td>5,340,111</td>\n",
       "      <td>5,390,288</td>\n",
       "      <td>NaN</td>\n",
       "      <td>NaN</td>\n",
       "      <td>NaN</td>\n",
       "      <td>NaN</td>\n",
       "    </tr>\n",
       "    <tr>\n",
       "      <th>620</th>\n",
       "      <td>Public Safety</td>\n",
       "      <td>Police Department</td>\n",
       "      <td>Bureau of Professional Development</td>\n",
       "      <td>Contractual Services</td>\n",
       "      <td>174,599</td>\n",
       "      <td>89,084</td>\n",
       "      <td>200,956</td>\n",
       "      <td>236,546</td>\n",
       "      <td>NaN</td>\n",
       "      <td>NaN</td>\n",
       "      <td>NaN</td>\n",
       "      <td>NaN</td>\n",
       "    </tr>\n",
       "    <tr>\n",
       "      <th>621</th>\n",
       "      <td>Public Safety</td>\n",
       "      <td>Police Department</td>\n",
       "      <td>Bureau of Professional Development</td>\n",
       "      <td>Supplies &amp; Materials</td>\n",
       "      <td>617,273</td>\n",
       "      <td>323,967</td>\n",
       "      <td>263,164</td>\n",
       "      <td>582,626</td>\n",
       "      <td>NaN</td>\n",
       "      <td>NaN</td>\n",
       "      <td>NaN</td>\n",
       "      <td>NaN</td>\n",
       "    </tr>\n",
       "    <tr>\n",
       "      <th>622</th>\n",
       "      <td>Public Safety</td>\n",
       "      <td>Police Department</td>\n",
       "      <td>Bureau of Professional Development</td>\n",
       "      <td>Current Charges &amp; Obligations</td>\n",
       "      <td>41,818</td>\n",
       "      <td>29,728</td>\n",
       "      <td>9,950</td>\n",
       "      <td>9,950</td>\n",
       "      <td>NaN</td>\n",
       "      <td>NaN</td>\n",
       "      <td>NaN</td>\n",
       "      <td>NaN</td>\n",
       "    </tr>\n",
       "    <tr>\n",
       "      <th>623</th>\n",
       "      <td>Public Safety</td>\n",
       "      <td>Police Department</td>\n",
       "      <td>Bureau of Professional Development</td>\n",
       "      <td>Equipment</td>\n",
       "      <td>40,958</td>\n",
       "      <td>12,742</td>\n",
       "      <td>29,100</td>\n",
       "      <td>29,100</td>\n",
       "      <td>NaN</td>\n",
       "      <td>NaN</td>\n",
       "      <td>NaN</td>\n",
       "      <td>NaN</td>\n",
       "    </tr>\n",
       "    <tr>\n",
       "      <th>624</th>\n",
       "      <td>Public Safety</td>\n",
       "      <td>Police Department</td>\n",
       "      <td>Bureau of Field Services</td>\n",
       "      <td>Personnel Services</td>\n",
       "      <td>199,827,050</td>\n",
       "      <td>195,968,566</td>\n",
       "      <td>189,784,872</td>\n",
       "      <td>187,010,013</td>\n",
       "      <td>NaN</td>\n",
       "      <td>NaN</td>\n",
       "      <td>NaN</td>\n",
       "      <td>NaN</td>\n",
       "    </tr>\n",
       "    <tr>\n",
       "      <th>625</th>\n",
       "      <td>Public Safety</td>\n",
       "      <td>Police Department</td>\n",
       "      <td>Bureau of Field Services</td>\n",
       "      <td>Contractual Services</td>\n",
       "      <td>469,971</td>\n",
       "      <td>497,872</td>\n",
       "      <td>286,471</td>\n",
       "      <td>290,481</td>\n",
       "      <td>NaN</td>\n",
       "      <td>NaN</td>\n",
       "      <td>NaN</td>\n",
       "      <td>NaN</td>\n",
       "    </tr>\n",
       "    <tr>\n",
       "      <th>626</th>\n",
       "      <td>Public Safety</td>\n",
       "      <td>Police Department</td>\n",
       "      <td>Bureau of Field Services</td>\n",
       "      <td>Supplies &amp; Materials</td>\n",
       "      <td>1,753,093</td>\n",
       "      <td>1,540,739</td>\n",
       "      <td>2,360,640</td>\n",
       "      <td>2,399,975</td>\n",
       "      <td>NaN</td>\n",
       "      <td>NaN</td>\n",
       "      <td>NaN</td>\n",
       "      <td>NaN</td>\n",
       "    </tr>\n",
       "    <tr>\n",
       "      <th>627</th>\n",
       "      <td>Public Safety</td>\n",
       "      <td>Police Department</td>\n",
       "      <td>Bureau of Field Services</td>\n",
       "      <td>Current Charges &amp; Obligations</td>\n",
       "      <td>2,463</td>\n",
       "      <td>2,292</td>\n",
       "      <td>2,200</td>\n",
       "      <td>52,600</td>\n",
       "      <td>NaN</td>\n",
       "      <td>NaN</td>\n",
       "      <td>NaN</td>\n",
       "      <td>NaN</td>\n",
       "    </tr>\n",
       "    <tr>\n",
       "      <th>628</th>\n",
       "      <td>Public Safety</td>\n",
       "      <td>Police Department</td>\n",
       "      <td>Bureau of Field Services</td>\n",
       "      <td>Equipment</td>\n",
       "      <td>112,309</td>\n",
       "      <td>201,991</td>\n",
       "      <td>171,175</td>\n",
       "      <td>239,072</td>\n",
       "      <td>NaN</td>\n",
       "      <td>NaN</td>\n",
       "      <td>NaN</td>\n",
       "      <td>NaN</td>\n",
       "    </tr>\n",
       "    <tr>\n",
       "      <th>629</th>\n",
       "      <td>Public Safety</td>\n",
       "      <td>Police Department</td>\n",
       "      <td>Bureau of Professional Standards</td>\n",
       "      <td>Personnel Services</td>\n",
       "      <td>6,178,037</td>\n",
       "      <td>5,425,993</td>\n",
       "      <td>4,606,907</td>\n",
       "      <td>4,258,615</td>\n",
       "      <td>NaN</td>\n",
       "      <td>NaN</td>\n",
       "      <td>NaN</td>\n",
       "      <td>NaN</td>\n",
       "    </tr>\n",
       "    <tr>\n",
       "      <th>630</th>\n",
       "      <td>Public Safety</td>\n",
       "      <td>Police Department</td>\n",
       "      <td>Bureau of Professional Standards</td>\n",
       "      <td>Contractual Services</td>\n",
       "      <td>62,656</td>\n",
       "      <td>85,529</td>\n",
       "      <td>63,843</td>\n",
       "      <td>130,118</td>\n",
       "      <td>NaN</td>\n",
       "      <td>NaN</td>\n",
       "      <td>NaN</td>\n",
       "      <td>NaN</td>\n",
       "    </tr>\n",
       "    <tr>\n",
       "      <th>631</th>\n",
       "      <td>Public Safety</td>\n",
       "      <td>Police Department</td>\n",
       "      <td>Bureau of Professional Standards</td>\n",
       "      <td>Supplies &amp; Materials</td>\n",
       "      <td>24,933</td>\n",
       "      <td>20,867</td>\n",
       "      <td>#Missing</td>\n",
       "      <td>#Missing</td>\n",
       "      <td>NaN</td>\n",
       "      <td>NaN</td>\n",
       "      <td>NaN</td>\n",
       "      <td>NaN</td>\n",
       "    </tr>\n",
       "    <tr>\n",
       "      <th>632</th>\n",
       "      <td>Public Safety</td>\n",
       "      <td>Police Department</td>\n",
       "      <td>Bureau of Professional Standards</td>\n",
       "      <td>Current Charges &amp; Obligations</td>\n",
       "      <td>60,082</td>\n",
       "      <td>50,722</td>\n",
       "      <td>40,730</td>\n",
       "      <td>40,730</td>\n",
       "      <td>NaN</td>\n",
       "      <td>NaN</td>\n",
       "      <td>NaN</td>\n",
       "      <td>NaN</td>\n",
       "    </tr>\n",
       "    <tr>\n",
       "      <th>633</th>\n",
       "      <td>Public Safety</td>\n",
       "      <td>Police Department</td>\n",
       "      <td>Bureau of Professional Standards</td>\n",
       "      <td>Equipment</td>\n",
       "      <td>186</td>\n",
       "      <td>380</td>\n",
       "      <td>5,000</td>\n",
       "      <td>5,000</td>\n",
       "      <td>NaN</td>\n",
       "      <td>NaN</td>\n",
       "      <td>NaN</td>\n",
       "      <td>NaN</td>\n",
       "    </tr>\n",
       "    <tr>\n",
       "      <th>634</th>\n",
       "      <td>Public Safety</td>\n",
       "      <td>Police Department</td>\n",
       "      <td>Bureau of Investigative Services</td>\n",
       "      <td>Personnel Services</td>\n",
       "      <td>85,351,784</td>\n",
       "      <td>80,589,543</td>\n",
       "      <td>72,608,629</td>\n",
       "      <td>69,713,701</td>\n",
       "      <td>NaN</td>\n",
       "      <td>NaN</td>\n",
       "      <td>NaN</td>\n",
       "      <td>NaN</td>\n",
       "    </tr>\n",
       "    <tr>\n",
       "      <th>635</th>\n",
       "      <td>Public Safety</td>\n",
       "      <td>Police Department</td>\n",
       "      <td>Bureau of Investigative Services</td>\n",
       "      <td>Contractual Services</td>\n",
       "      <td>374,691</td>\n",
       "      <td>450,260</td>\n",
       "      <td>503,809</td>\n",
       "      <td>628,241</td>\n",
       "      <td>NaN</td>\n",
       "      <td>NaN</td>\n",
       "      <td>NaN</td>\n",
       "      <td>NaN</td>\n",
       "    </tr>\n",
       "    <tr>\n",
       "      <th>636</th>\n",
       "      <td>Public Safety</td>\n",
       "      <td>Police Department</td>\n",
       "      <td>Bureau of Investigative Services</td>\n",
       "      <td>Supplies &amp; Materials</td>\n",
       "      <td>804,242</td>\n",
       "      <td>618,142</td>\n",
       "      <td>472,826</td>\n",
       "      <td>493,304</td>\n",
       "      <td>NaN</td>\n",
       "      <td>NaN</td>\n",
       "      <td>NaN</td>\n",
       "      <td>NaN</td>\n",
       "    </tr>\n",
       "    <tr>\n",
       "      <th>637</th>\n",
       "      <td>Public Safety</td>\n",
       "      <td>Police Department</td>\n",
       "      <td>Bureau of Investigative Services</td>\n",
       "      <td>Current Charges &amp; Obligations</td>\n",
       "      <td>180,649</td>\n",
       "      <td>346,336</td>\n",
       "      <td>122,485</td>\n",
       "      <td>148,969</td>\n",
       "      <td>NaN</td>\n",
       "      <td>NaN</td>\n",
       "      <td>NaN</td>\n",
       "      <td>NaN</td>\n",
       "    </tr>\n",
       "    <tr>\n",
       "      <th>638</th>\n",
       "      <td>Public Safety</td>\n",
       "      <td>Police Department</td>\n",
       "      <td>Bureau of Investigative Services</td>\n",
       "      <td>Equipment</td>\n",
       "      <td>521,306</td>\n",
       "      <td>144,870</td>\n",
       "      <td>188,633</td>\n",
       "      <td>83,090</td>\n",
       "      <td>NaN</td>\n",
       "      <td>NaN</td>\n",
       "      <td>NaN</td>\n",
       "      <td>NaN</td>\n",
       "    </tr>\n",
       "    <tr>\n",
       "      <th>639</th>\n",
       "      <td>Public Safety</td>\n",
       "      <td>Police Department</td>\n",
       "      <td>Special Operations</td>\n",
       "      <td>Total Overtime</td>\n",
       "      <td>#Missing</td>\n",
       "      <td>#Missing</td>\n",
       "      <td>589,090</td>\n",
       "      <td>#Missing</td>\n",
       "      <td>NaN</td>\n",
       "      <td>NaN</td>\n",
       "      <td>NaN</td>\n",
       "      <td>NaN</td>\n",
       "    </tr>\n",
       "    <tr>\n",
       "      <th>640</th>\n",
       "      <td>Public Safety</td>\n",
       "      <td>Police Department</td>\n",
       "      <td>Bureau of Intelligence &amp; Analysis</td>\n",
       "      <td>Personnel Services</td>\n",
       "      <td>5,284,611</td>\n",
       "      <td>4,542,834</td>\n",
       "      <td>3,634,970</td>\n",
       "      <td>3,581,423</td>\n",
       "      <td>NaN</td>\n",
       "      <td>NaN</td>\n",
       "      <td>NaN</td>\n",
       "      <td>NaN</td>\n",
       "    </tr>\n",
       "    <tr>\n",
       "      <th>641</th>\n",
       "      <td>Public Safety</td>\n",
       "      <td>Police Department</td>\n",
       "      <td>Bureau of Intelligence &amp; Analysis</td>\n",
       "      <td>Contractual Services</td>\n",
       "      <td>557</td>\n",
       "      <td>-18</td>\n",
       "      <td>#Missing</td>\n",
       "      <td>#Missing</td>\n",
       "      <td>NaN</td>\n",
       "      <td>NaN</td>\n",
       "      <td>NaN</td>\n",
       "      <td>NaN</td>\n",
       "    </tr>\n",
       "    <tr>\n",
       "      <th>642</th>\n",
       "      <td>Public Safety</td>\n",
       "      <td>Police Department</td>\n",
       "      <td>Bureau of Intelligence &amp; Analysis</td>\n",
       "      <td>Supplies &amp; Materials</td>\n",
       "      <td>21,317</td>\n",
       "      <td>17,750</td>\n",
       "      <td>#Missing</td>\n",
       "      <td>#Missing</td>\n",
       "      <td>NaN</td>\n",
       "      <td>NaN</td>\n",
       "      <td>NaN</td>\n",
       "      <td>NaN</td>\n",
       "    </tr>\n",
       "  </tbody>\n",
       "</table>\n",
       "</div>"
      ],
      "text/plain": [
       "           Cabinet               Dept                          Program     \\\n",
       "599  Public Safety  Police Department        Police Commissioner's Office   \n",
       "600  Public Safety  Police Department        Police Commissioner's Office   \n",
       "601  Public Safety  Police Department        Police Commissioner's Office   \n",
       "602  Public Safety  Police Department        Police Commissioner's Office   \n",
       "603  Public Safety  Police Department        Police Commissioner's Office   \n",
       "604  Public Safety  Police Department      Bureau of Community Engagement   \n",
       "605  Public Safety  Police Department      Bureau of Community Engagement   \n",
       "606  Public Safety  Police Department      Bureau of Community Engagement   \n",
       "607  Public Safety  Police Department      Bureau of Community Engagement   \n",
       "608  Public Safety  Police Department      Bureau of Community Engagement   \n",
       "609  Public Safety  Police Department                      BAT-Operations   \n",
       "610  Public Safety  Police Department                      BAT-Operations   \n",
       "611  Public Safety  Police Department                      BAT-Operations   \n",
       "612  Public Safety  Police Department                      BAT-Operations   \n",
       "613  Public Safety  Police Department                      BAT-Operations   \n",
       "614  Public Safety  Police Department              BAT-Admin & Technology   \n",
       "615  Public Safety  Police Department              BAT-Admin & Technology   \n",
       "616  Public Safety  Police Department              BAT-Admin & Technology   \n",
       "617  Public Safety  Police Department              BAT-Admin & Technology   \n",
       "618  Public Safety  Police Department              BAT-Admin & Technology   \n",
       "619  Public Safety  Police Department  Bureau of Professional Development   \n",
       "620  Public Safety  Police Department  Bureau of Professional Development   \n",
       "621  Public Safety  Police Department  Bureau of Professional Development   \n",
       "622  Public Safety  Police Department  Bureau of Professional Development   \n",
       "623  Public Safety  Police Department  Bureau of Professional Development   \n",
       "624  Public Safety  Police Department            Bureau of Field Services   \n",
       "625  Public Safety  Police Department            Bureau of Field Services   \n",
       "626  Public Safety  Police Department            Bureau of Field Services   \n",
       "627  Public Safety  Police Department            Bureau of Field Services   \n",
       "628  Public Safety  Police Department            Bureau of Field Services   \n",
       "629  Public Safety  Police Department    Bureau of Professional Standards   \n",
       "630  Public Safety  Police Department    Bureau of Professional Standards   \n",
       "631  Public Safety  Police Department    Bureau of Professional Standards   \n",
       "632  Public Safety  Police Department    Bureau of Professional Standards   \n",
       "633  Public Safety  Police Department    Bureau of Professional Standards   \n",
       "634  Public Safety  Police Department    Bureau of Investigative Services   \n",
       "635  Public Safety  Police Department    Bureau of Investigative Services   \n",
       "636  Public Safety  Police Department    Bureau of Investigative Services   \n",
       "637  Public Safety  Police Department    Bureau of Investigative Services   \n",
       "638  Public Safety  Police Department    Bureau of Investigative Services   \n",
       "639  Public Safety  Police Department                  Special Operations   \n",
       "640  Public Safety  Police Department   Bureau of Intelligence & Analysis   \n",
       "641  Public Safety  Police Department   Bureau of Intelligence & Analysis   \n",
       "642  Public Safety  Police Department   Bureau of Intelligence & Analysis   \n",
       "\n",
       "                  Expense Category FY20 Actual Expense FY21 Actual Expense  \\\n",
       "599             Personnel Services           9,129,493          15,107,448   \n",
       "600           Contractual Services             602,687             625,980   \n",
       "601           Supplies & Materials              86,321             111,188   \n",
       "602  Current Charges & Obligations              35,188              32,052   \n",
       "603                      Equipment               4,902               6,282   \n",
       "604             Personnel Services           4,224,644           4,061,873   \n",
       "605           Contractual Services            #Missing                 640   \n",
       "606           Supplies & Materials              23,385              22,675   \n",
       "607  Current Charges & Obligations                 120                 120   \n",
       "608                      Equipment            #Missing            #Missing   \n",
       "609             Personnel Services             290,489           6,457,190   \n",
       "610           Contractual Services           4,168,120           3,758,262   \n",
       "611           Supplies & Materials           3,734,831           3,220,538   \n",
       "612  Current Charges & Obligations             316,420             296,962   \n",
       "613                      Equipment           4,314,193           7,926,530   \n",
       "614             Personnel Services          55,191,808          58,557,011   \n",
       "615           Contractual Services          14,804,270          15,371,484   \n",
       "616           Supplies & Materials           1,371,803           1,001,241   \n",
       "617  Current Charges & Obligations           4,813,727           7,111,876   \n",
       "618                      Equipment           1,117,148           2,222,092   \n",
       "619             Personnel Services          19,419,080           6,065,867   \n",
       "620           Contractual Services             174,599              89,084   \n",
       "621           Supplies & Materials             617,273             323,967   \n",
       "622  Current Charges & Obligations              41,818              29,728   \n",
       "623                      Equipment              40,958              12,742   \n",
       "624             Personnel Services         199,827,050         195,968,566   \n",
       "625           Contractual Services             469,971             497,872   \n",
       "626           Supplies & Materials           1,753,093           1,540,739   \n",
       "627  Current Charges & Obligations               2,463               2,292   \n",
       "628                      Equipment             112,309             201,991   \n",
       "629             Personnel Services           6,178,037           5,425,993   \n",
       "630           Contractual Services              62,656              85,529   \n",
       "631           Supplies & Materials              24,933              20,867   \n",
       "632  Current Charges & Obligations              60,082              50,722   \n",
       "633                      Equipment                 186                 380   \n",
       "634             Personnel Services          85,351,784          80,589,543   \n",
       "635           Contractual Services             374,691             450,260   \n",
       "636           Supplies & Materials             804,242             618,142   \n",
       "637  Current Charges & Obligations             180,649             346,336   \n",
       "638                      Equipment             521,306             144,870   \n",
       "639                 Total Overtime            #Missing            #Missing   \n",
       "640             Personnel Services           5,284,611           4,542,834   \n",
       "641           Contractual Services                 557                 -18   \n",
       "642           Supplies & Materials              21,317              17,750   \n",
       "\n",
       "    FY22 Appropriation FY23 Adopted  Unnamed: 8 Unnamed: 9 Unnamed: 10  \\\n",
       "599         13,188,722   12,533,766         NaN        NaN         NaN   \n",
       "600            688,984      714,584         NaN        NaN         NaN   \n",
       "601             51,400       50,900         NaN        NaN         NaN   \n",
       "602             31,255       35,123         NaN        NaN         NaN   \n",
       "603             25,885       25,885         NaN        NaN         NaN   \n",
       "604          4,117,094    4,122,892         NaN        NaN         NaN   \n",
       "605             80,525      110,000         NaN        NaN         NaN   \n",
       "606             15,000       20,000         NaN        NaN         NaN   \n",
       "607              2,000        7,500         NaN        NaN         NaN   \n",
       "608              6,500       12,500         NaN        NaN         NaN   \n",
       "609          7,023,854    6,914,533         NaN        NaN         NaN   \n",
       "610          3,518,255    3,914,902         NaN        NaN         NaN   \n",
       "611          3,795,006    4,426,341         NaN        NaN         NaN   \n",
       "612            571,660      580,160         NaN        NaN         NaN   \n",
       "613          4,368,169    4,221,829         NaN        NaN         NaN   \n",
       "614         59,641,767   56,289,125         NaN        NaN         NaN   \n",
       "615         15,612,403   18,828,995         NaN        NaN         NaN   \n",
       "616            703,085      819,683         NaN        NaN         NaN   \n",
       "617          4,500,855    4,654,836         NaN        NaN         NaN   \n",
       "618          1,078,209    1,487,400         NaN        NaN         NaN   \n",
       "619          5,340,111    5,390,288         NaN        NaN         NaN   \n",
       "620            200,956      236,546         NaN        NaN         NaN   \n",
       "621            263,164      582,626         NaN        NaN         NaN   \n",
       "622              9,950        9,950         NaN        NaN         NaN   \n",
       "623             29,100       29,100         NaN        NaN         NaN   \n",
       "624        189,784,872  187,010,013         NaN        NaN         NaN   \n",
       "625            286,471      290,481         NaN        NaN         NaN   \n",
       "626          2,360,640    2,399,975         NaN        NaN         NaN   \n",
       "627              2,200       52,600         NaN        NaN         NaN   \n",
       "628            171,175      239,072         NaN        NaN         NaN   \n",
       "629          4,606,907    4,258,615         NaN        NaN         NaN   \n",
       "630             63,843      130,118         NaN        NaN         NaN   \n",
       "631           #Missing     #Missing         NaN        NaN         NaN   \n",
       "632             40,730       40,730         NaN        NaN         NaN   \n",
       "633              5,000        5,000         NaN        NaN         NaN   \n",
       "634         72,608,629   69,713,701         NaN        NaN         NaN   \n",
       "635            503,809      628,241         NaN        NaN         NaN   \n",
       "636            472,826      493,304         NaN        NaN         NaN   \n",
       "637            122,485      148,969         NaN        NaN         NaN   \n",
       "638            188,633       83,090         NaN        NaN         NaN   \n",
       "639            589,090     #Missing         NaN        NaN         NaN   \n",
       "640          3,634,970    3,581,423         NaN        NaN         NaN   \n",
       "641           #Missing     #Missing         NaN        NaN         NaN   \n",
       "642           #Missing     #Missing         NaN        NaN         NaN   \n",
       "\n",
       "    Unnamed: 11  \n",
       "599         NaN  \n",
       "600         NaN  \n",
       "601         NaN  \n",
       "602         NaN  \n",
       "603         NaN  \n",
       "604         NaN  \n",
       "605         NaN  \n",
       "606         NaN  \n",
       "607         NaN  \n",
       "608         NaN  \n",
       "609         NaN  \n",
       "610         NaN  \n",
       "611         NaN  \n",
       "612         NaN  \n",
       "613         NaN  \n",
       "614         NaN  \n",
       "615         NaN  \n",
       "616         NaN  \n",
       "617         NaN  \n",
       "618         NaN  \n",
       "619         NaN  \n",
       "620         NaN  \n",
       "621         NaN  \n",
       "622         NaN  \n",
       "623         NaN  \n",
       "624         NaN  \n",
       "625         NaN  \n",
       "626         NaN  \n",
       "627         NaN  \n",
       "628         NaN  \n",
       "629         NaN  \n",
       "630         NaN  \n",
       "631         NaN  \n",
       "632         NaN  \n",
       "633         NaN  \n",
       "634         NaN  \n",
       "635         NaN  \n",
       "636         NaN  \n",
       "637         NaN  \n",
       "638         NaN  \n",
       "639         NaN  \n",
       "640         NaN  \n",
       "641         NaN  \n",
       "642         NaN  "
      ]
     },
     "execution_count": 1,
     "metadata": {},
     "output_type": "execute_result"
    }
   ],
   "source": [
    "import numpy as np\n",
    "import pandas as pd\n",
    "import matplotlib.pyplot as plt\n",
    "\n",
    "f=pd.read_csv('./Data/operating-budget.csv')\n",
    "df = pd.DataFrame(f)\n",
    "BPD = df.loc[(df['Dept'] == \"Police Department\")]\n",
    "BPD"
   ]
  },
  {
   "cell_type": "code",
   "execution_count": 2,
   "metadata": {},
   "outputs": [],
   "source": [
    "Personnel_Services = df.loc[(df['Dept'] == \"Police Department\") & (df['Expense Category'] == \"Personnel Services\")]\n",
    "\n",
    "Contractual_Services = df.loc[(df['Dept'] == \"Police Department\") & (df['Expense Category'] == \"Contractual Services\")]\n",
    "\n",
    "Supplies_Materials\t= df.loc[(df['Dept'] == \"Police Department\") & (df['Expense Category'] == \"Supplies & Materials\")]\n",
    "\n",
    "Current_Charges_Obligations\t= df.loc[(df['Dept'] == \"Police Department\") & (df['Expense Category'] == \"Current Charges & Obligations\")]\n",
    "\n",
    "Equipment = df.loc[(df['Dept'] == \"Police Department\") & (df['Expense Category'] == \"Equipment\")]\n",
    "\n",
    "Total_Overtime = df.loc[(df['Dept'] == \"Police Department\") & (df['Expense Category'] == \"Total Overtime\")]"
   ]
  },
  {
   "cell_type": "code",
   "execution_count": 3,
   "metadata": {},
   "outputs": [
    {
     "name": "stdout",
     "output_type": "stream",
     "text": [
      "PS on 20 is 384896996\n",
      "PS on 21 is 376776325\n",
      "PS on 22 is 359946926\n",
      "PS on 23 is 349814356\n"
     ]
    }
   ],
   "source": [
    "ps20 = Personnel_Services[\"FY20 Actual Expense\"]\n",
    "x = ps20.tolist()\n",
    "sumps20 = 0\n",
    "for i in x:\n",
    "    y = int(i.replace(',', ''))\n",
    "    sumps20 += y\n",
    "print(\"PS on 20 is\" ,sumps20)\n",
    "\n",
    "ps21 = Personnel_Services[\"FY21 Actual Expense\"]\n",
    "x = ps21.tolist()\n",
    "sumps21 = 0\n",
    "for i in x:\n",
    "    y = int(i.replace(',', ''))\n",
    "    sumps21 += y\n",
    "print(\"PS on 21 is\" ,sumps21)\n",
    "\n",
    "ps22 = Personnel_Services[\"FY22 Appropriation\"]\n",
    "x = ps22.tolist()\n",
    "sumps22 = 0\n",
    "for i in x:\n",
    "    y = int(i.replace(',', ''))\n",
    "    sumps22 += y\n",
    "print(\"PS on 22 is\" ,sumps22)\n",
    "\n",
    "ps23 = Personnel_Services[\"FY23 Adopted\"]\n",
    "x = ps23.tolist()\n",
    "sumps23 = 0\n",
    "for i in x:\n",
    "    y = int(i.replace(',', ''))\n",
    "    sumps23 += y\n",
    "print(\"PS on 23 is\" ,sumps23)\n",
    "\n",
    "psData = [sumps20, sumps21, sumps22, sumps23]\n"
   ]
  },
  {
   "cell_type": "code",
   "execution_count": 4,
   "metadata": {},
   "outputs": [
    {
     "name": "stdout",
     "output_type": "stream",
     "text": [
      "CS on 20 is 20657551\n",
      "CS on 21 is 20879093\n",
      "CS on 22 is 20955246\n",
      "CS on 23 is 24853867\n"
     ]
    }
   ],
   "source": [
    "cs20 = Contractual_Services[\"FY20 Actual Expense\"]\n",
    "x = cs20.tolist()\n",
    "sumcs20 = 0\n",
    "for i in x:\n",
    "    if i == \"#Missing\":\n",
    "        continue\n",
    "    y = int(i.replace(',', ''))\n",
    "    sumcs20 += y\n",
    "print(\"CS on 20 is\" ,sumcs20)\n",
    "\n",
    "\n",
    "cs21 = Contractual_Services[\"FY21 Actual Expense\"]\n",
    "x = cs21.tolist()\n",
    "sumcs21 = 0\n",
    "for i in x:\n",
    "    if i == \"#Missing\":\n",
    "        continue\n",
    "    y = int(i.replace(',', ''))\n",
    "    sumcs21 += y\n",
    "print(\"CS on 21 is\" ,sumcs21)\n",
    "\n",
    "cs22 = Contractual_Services[\"FY22 Appropriation\"]\n",
    "x = cs22.tolist()\n",
    "sumcs22 = 0\n",
    "for i in x:\n",
    "    if i == \"#Missing\":\n",
    "        continue\n",
    "    y = int(i.replace(',', ''))\n",
    "    sumcs22 += y\n",
    "print(\"CS on 22 is\" ,sumcs22)\n",
    "\n",
    "cs23 = Contractual_Services[\"FY23 Adopted\"]\n",
    "x = cs23.tolist()\n",
    "sumcs23 = 0\n",
    "for i in x:\n",
    "    if i == \"#Missing\":\n",
    "        continue\n",
    "    y = int(i.replace(',', ''))\n",
    "    sumcs23 += y\n",
    "print(\"CS on 23 is\" ,sumcs23)\n",
    "\n",
    "csData = [sumcs20, sumcs21, sumcs22, sumcs23]\n",
    "\n",
    "\n",
    "\n",
    "\n"
   ]
  },
  {
   "cell_type": "code",
   "execution_count": 5,
   "metadata": {},
   "outputs": [
    {
     "name": "stdout",
     "output_type": "stream",
     "text": [
      "SM on 20 is 8437198\n",
      "SM on 21 is 6877107\n",
      "SM on 22 is 7661121\n",
      "CS on 23 is 8792829\n"
     ]
    }
   ],
   "source": [
    "sm20 = Supplies_Materials[\"FY20 Actual Expense\"]\n",
    "x = sm20.tolist()\n",
    "sumsm20 = 0\n",
    "for i in x:\n",
    "    if i == \"#Missing\":\n",
    "        continue\n",
    "    y = int(i.replace(',', ''))\n",
    "    sumsm20 += y\n",
    "print(\"SM on 20 is\" ,sumsm20)\n",
    "\n",
    "\n",
    "sm21 = Supplies_Materials[\"FY21 Actual Expense\"]\n",
    "x = sm21.tolist()\n",
    "sumsm21 = 0\n",
    "for i in x:\n",
    "    if i == \"#Missing\":\n",
    "        continue\n",
    "    y = int(i.replace(',', ''))\n",
    "    sumsm21 += y\n",
    "print(\"SM on 21 is\" ,sumsm21)\n",
    "\n",
    "sm22 = Supplies_Materials[\"FY22 Appropriation\"]\n",
    "x = sm22.tolist()\n",
    "sumsm22 = 0\n",
    "for i in x:\n",
    "    if i == \"#Missing\":\n",
    "        continue\n",
    "    y = int(i.replace(',', ''))\n",
    "    sumsm22 += y\n",
    "print(\"SM on 22 is\" ,sumsm22)\n",
    "\n",
    "sm23 = Supplies_Materials[\"FY23 Adopted\"]\n",
    "x = sm23.tolist()\n",
    "sumsm23 = 0\n",
    "for i in x:\n",
    "    if i == \"#Missing\":\n",
    "        continue\n",
    "    y = int(i.replace(',', ''))\n",
    "    sumsm23 += y\n",
    "print(\"CS on 23 is\" ,sumsm23)\n",
    "\n",
    "smData = [sumsm20, sumsm21, sumsm22, sumsm23]\n",
    "\n"
   ]
  },
  {
   "cell_type": "code",
   "execution_count": 6,
   "metadata": {},
   "outputs": [
    {
     "name": "stdout",
     "output_type": "stream",
     "text": [
      "CCO on 20 is 5450467\n",
      "CCO on 21 is 7870088\n",
      "CCO on 22 is 5281135\n",
      "CCO on 23 is 5529868\n"
     ]
    }
   ],
   "source": [
    "cco20 = Current_Charges_Obligations[\"FY20 Actual Expense\"]\n",
    "x = cco20.tolist()\n",
    "sumcco20 = 0\n",
    "for i in x:\n",
    "    if i == \"#Missing\":\n",
    "        continue\n",
    "    y = int(i.replace(',', ''))\n",
    "    sumcco20 += y\n",
    "print(\"CCO on 20 is\" ,sumcco20)\n",
    "\n",
    "\n",
    "cco21 = Current_Charges_Obligations[\"FY21 Actual Expense\"]\n",
    "x = cco21.tolist()\n",
    "sumcco21 = 0\n",
    "for i in x:\n",
    "    if i == \"#Missing\":\n",
    "        continue\n",
    "    y = int(i.replace(',', ''))\n",
    "    sumcco21 += y\n",
    "print(\"CCO on 21 is\" ,sumcco21)\n",
    "\n",
    "cco22 = Current_Charges_Obligations[\"FY22 Appropriation\"]\n",
    "x = cco22.tolist()\n",
    "sumcco22 = 0\n",
    "for i in x:\n",
    "    if i == \"#Missing\":\n",
    "        continue\n",
    "    y = int(i.replace(',', ''))\n",
    "    sumcco22 += y\n",
    "print(\"CCO on 22 is\" ,sumcco22)\n",
    "\n",
    "cco23 = cco22 = Current_Charges_Obligations[\"FY23 Adopted\"]\n",
    "x = cco23.tolist()\n",
    "sumcco23 = 0\n",
    "for i in x:\n",
    "    if i == \"#Missing\":\n",
    "        continue\n",
    "    y = int(i.replace(',', ''))\n",
    "    sumcco23 += y\n",
    "print(\"CCO on 23 is\" ,sumcco23)\n",
    "\n",
    "ccoData = [sumcco20, sumcco21, sumcco22, sumcco23]\n"
   ]
  },
  {
   "cell_type": "code",
   "execution_count": 7,
   "metadata": {},
   "outputs": [
    {
     "name": "stdout",
     "output_type": "stream",
     "text": [
      "CCO on 20 is 6111002\n",
      "EQ on 21 is 10514887\n",
      "EQ on 22 is 5872671\n",
      "EQ on 23 is 6103876\n"
     ]
    }
   ],
   "source": [
    "eq20 = Equipment[\"FY20 Actual Expense\"]\n",
    "x = eq20.tolist()\n",
    "sumeq20 = 0\n",
    "for i in x:\n",
    "    if i == \"#Missing\":\n",
    "        continue\n",
    "    y = int(i.replace(',', ''))\n",
    "    sumeq20 += y\n",
    "print(\"CCO on 20 is\" ,sumeq20)\n",
    "\n",
    "\n",
    "eq21 = Equipment[\"FY21 Actual Expense\"]\n",
    "x = eq21.tolist()\n",
    "sumeq21 = 0\n",
    "for i in x:\n",
    "    if i == \"#Missing\":\n",
    "        continue\n",
    "    y = int(i.replace(',', ''))\n",
    "    sumeq21 += y\n",
    "print(\"EQ on 21 is\" ,sumeq21)\n",
    "\n",
    "eq22 = Equipment[\"FY22 Appropriation\"]\n",
    "x = eq22.tolist()\n",
    "sumeq22 = 0\n",
    "for i in x:\n",
    "    if i == \"#Missing\":\n",
    "        continue\n",
    "    y = int(i.replace(',', ''))\n",
    "    sumeq22 += y\n",
    "print(\"EQ on 22 is\" ,sumeq22)\n",
    "\n",
    "eq23 = Equipment[\"FY23 Adopted\"]\n",
    "x = eq23.tolist()\n",
    "sumeq23 = 0\n",
    "for i in x:\n",
    "    if i == \"#Missing\":\n",
    "        continue\n",
    "    y = int(i.replace(',', ''))\n",
    "    sumeq23 += y\n",
    "print(\"EQ on 23 is\" ,sumeq23)\n",
    "\n",
    "eqData = [sumeq20, sumeq21, sumeq22, sumeq23]\n",
    "\n"
   ]
  },
  {
   "cell_type": "code",
   "execution_count": 8,
   "metadata": {},
   "outputs": [],
   "source": [
    "# barWidth = 0.18\n",
    "# fig = plt.subplots(figsize =(20, 15))\n",
    "\n",
    "# br1 = np.arange(len(psData))\n",
    "# br2 = [x + barWidth for x in br1]\n",
    "# br3 = [x + barWidth for x in br2]\n",
    "# br4 = [x + barWidth for x in br3]\n",
    "# br5 = [x + barWidth for x in br4]\n",
    "\n",
    "\n",
    "\n",
    "# plt.bar(br1, psData, color ='r', width = barWidth,\n",
    "#         edgecolor ='grey', label ='Personal Services')\n",
    "        \n",
    "# plt.bar(br2, csData, color ='b', width = barWidth,\n",
    "#         edgecolor ='grey', label ='Contractual Services')\n",
    "\n",
    "# plt.bar(br3, smData, color ='g', width = barWidth,\n",
    "#         edgecolor ='grey', label ='Supplies and Materials') \n",
    "\n",
    "# plt.bar(br4, ccoData, color ='y', width = barWidth, edgecolor ='grey', label ='Current Charges and Obligations')\n",
    "\n",
    "# plt.bar(br5, eqData, color ='c', width = barWidth, edgecolor ='grey', label ='Equipment')\n",
    "\n",
    "# plt.xlabel('Categories', fontweight ='bold', fontsize = 15)\n",
    "# plt.ylabel('Budget', fontweight ='bold', fontsize = 15)\n",
    "# plt.xticks([r + barWidth for r in range(len(psData))],\n",
    "#         ['2020', '2021', '2022', '2023'])\n",
    "\n",
    "# plt.plot(br1, psData,marker='o', color ='r')\n",
    "# plt.plot(br2, csData,marker='o', color ='b')\n",
    "# plt.plot(br3, smData,marker='o', color ='g')\n",
    "# plt.plot(br4, ccoData,marker='o', color ='y')\n",
    "# plt.plot(br5, eqData,marker='o', color ='c')\n",
    "\n",
    "# plt.legend()\n"
   ]
  },
  {
   "cell_type": "code",
   "execution_count": 9,
   "metadata": {},
   "outputs": [
    {
     "data": {
      "text/plain": [
       "[384896996,\n",
       " 20657551,\n",
       " 8437198,\n",
       " 5450467,\n",
       " 6111002,\n",
       " 376776325,\n",
       " 20879093,\n",
       " 6877107,\n",
       " 7870088,\n",
       " 10514887,\n",
       " 359946926,\n",
       " 20955246,\n",
       " 7661121,\n",
       " 5281135,\n",
       " 5872671,\n",
       " 349814356,\n",
       " 24853867,\n",
       " 8792829,\n",
       " 5529868,\n",
       " 6103876]"
      ]
     },
     "execution_count": 9,
     "metadata": {},
     "output_type": "execute_result"
    }
   ],
   "source": [
    "x = []\n",
    "for i in range(4):\n",
    "    x.append(psData[i])\n",
    "    x.append(csData[i])\n",
    "    x.append(smData[i])\n",
    "    x.append(ccoData[i])\n",
    "    x.append(eqData[i])\n",
    "\n",
    "x\n"
   ]
  },
  {
   "cell_type": "code",
   "execution_count": 10,
   "metadata": {},
   "outputs": [
    {
     "data": {
      "application/vnd.plotly.v1+json": {
       "config": {
        "plotlyServerURL": "https://plot.ly"
       },
       "data": [
        {
         "alignmentgroup": "True",
         "hovertemplate": "Expense Category=Personnel Services<br>Year=%{x}<br>Budget=%{y}<extra></extra>",
         "legendgroup": "Personnel Services",
         "marker": {
          "color": "#130F54",
          "line": {
           "width": 0
          },
          "pattern": {
           "shape": ""
          }
         },
         "name": "Personnel Services",
         "offsetgroup": "Personnel Services",
         "orientation": "v",
         "showlegend": true,
         "textposition": "auto",
         "type": "bar",
         "x": [
          "2020",
          "2021",
          "2022",
          "2023"
         ],
         "xaxis": "x",
         "y": [
          384896996,
          376776325,
          359946926,
          349814356
         ],
         "yaxis": "y"
        },
        {
         "alignmentgroup": "True",
         "hovertemplate": "Expense Category=Contractual Services<br>Year=%{x}<br>Budget=%{y}<extra></extra>",
         "legendgroup": "Contractual Services",
         "marker": {
          "color": "#EF404E",
          "line": {
           "width": 0
          },
          "pattern": {
           "shape": ""
          }
         },
         "name": "Contractual Services",
         "offsetgroup": "Contractual Services",
         "orientation": "v",
         "showlegend": true,
         "textposition": "auto",
         "type": "bar",
         "x": [
          "2020",
          "2021",
          "2022",
          "2023"
         ],
         "xaxis": "x",
         "y": [
          20657551,
          20879093,
          20955246,
          24853867
         ],
         "yaxis": "y"
        },
        {
         "alignmentgroup": "True",
         "hovertemplate": "Expense Category=Supplies and Materials<br>Year=%{x}<br>Budget=%{y}<extra></extra>",
         "legendgroup": "Supplies and Materials",
         "marker": {
          "color": "#BBBBBB",
          "line": {
           "width": 0
          },
          "pattern": {
           "shape": ""
          }
         },
         "name": "Supplies and Materials",
         "offsetgroup": "Supplies and Materials",
         "orientation": "v",
         "showlegend": true,
         "textposition": "auto",
         "type": "bar",
         "x": [
          "2020",
          "2021",
          "2022",
          "2023"
         ],
         "xaxis": "x",
         "y": [
          8437198,
          6877107,
          7661121,
          8792829
         ],
         "yaxis": "y"
        },
        {
         "alignmentgroup": "True",
         "hovertemplate": "Expense Category=Current Charges and Obligations<br>Year=%{x}<br>Budget=%{y}<extra></extra>",
         "legendgroup": "Current Charges and Obligations",
         "marker": {
          "color": "#691B40",
          "line": {
           "width": 0
          },
          "pattern": {
           "shape": ""
          }
         },
         "name": "Current Charges and Obligations",
         "offsetgroup": "Current Charges and Obligations",
         "orientation": "v",
         "showlegend": true,
         "textposition": "auto",
         "type": "bar",
         "x": [
          "2020",
          "2021",
          "2022",
          "2023"
         ],
         "xaxis": "x",
         "y": [
          5450467,
          7870088,
          5281135,
          5529868
         ],
         "yaxis": "y"
        },
        {
         "alignmentgroup": "True",
         "hovertemplate": "Expense Category=Equipment<br>Year=%{x}<br>Budget=%{y}<extra></extra>",
         "legendgroup": "Equipment",
         "marker": {
          "color": "#FCAA17",
          "line": {
           "width": 0
          },
          "pattern": {
           "shape": ""
          }
         },
         "name": "Equipment",
         "offsetgroup": "Equipment",
         "orientation": "v",
         "showlegend": true,
         "textposition": "auto",
         "type": "bar",
         "x": [
          "2020",
          "2021",
          "2022",
          "2023"
         ],
         "xaxis": "x",
         "y": [
          6111002,
          10514887,
          5872671,
          6103876
         ],
         "yaxis": "y"
        }
       ],
       "layout": {
        "bargap": 0.1,
        "bargroupgap": 0,
        "barmode": "group",
        "font": {
         "color": "black",
         "family": "GT America"
        },
        "height": 500,
        "legend": {
         "title": {
          "text": "Expense Category"
         },
         "tracegroupgap": 0
        },
        "margin": {
         "b": 80,
         "l": 100,
         "pad": 4,
         "r": 100,
         "t": 120
        },
        "plot_bgcolor": "rgba(0,0,0,0)",
        "template": {
         "data": {
          "bar": [
           {
            "error_x": {
             "color": "#2a3f5f"
            },
            "error_y": {
             "color": "#2a3f5f"
            },
            "marker": {
             "line": {
              "color": "#E5ECF6",
              "width": 0.5
             },
             "pattern": {
              "fillmode": "overlay",
              "size": 10,
              "solidity": 0.2
             }
            },
            "type": "bar"
           }
          ],
          "barpolar": [
           {
            "marker": {
             "line": {
              "color": "#E5ECF6",
              "width": 0.5
             },
             "pattern": {
              "fillmode": "overlay",
              "size": 10,
              "solidity": 0.2
             }
            },
            "type": "barpolar"
           }
          ],
          "carpet": [
           {
            "aaxis": {
             "endlinecolor": "#2a3f5f",
             "gridcolor": "white",
             "linecolor": "white",
             "minorgridcolor": "white",
             "startlinecolor": "#2a3f5f"
            },
            "baxis": {
             "endlinecolor": "#2a3f5f",
             "gridcolor": "white",
             "linecolor": "white",
             "minorgridcolor": "white",
             "startlinecolor": "#2a3f5f"
            },
            "type": "carpet"
           }
          ],
          "choropleth": [
           {
            "colorbar": {
             "outlinewidth": 0,
             "ticks": ""
            },
            "type": "choropleth"
           }
          ],
          "contour": [
           {
            "colorbar": {
             "outlinewidth": 0,
             "ticks": ""
            },
            "colorscale": [
             [
              0,
              "#0d0887"
             ],
             [
              0.1111111111111111,
              "#46039f"
             ],
             [
              0.2222222222222222,
              "#7201a8"
             ],
             [
              0.3333333333333333,
              "#9c179e"
             ],
             [
              0.4444444444444444,
              "#bd3786"
             ],
             [
              0.5555555555555556,
              "#d8576b"
             ],
             [
              0.6666666666666666,
              "#ed7953"
             ],
             [
              0.7777777777777778,
              "#fb9f3a"
             ],
             [
              0.8888888888888888,
              "#fdca26"
             ],
             [
              1,
              "#f0f921"
             ]
            ],
            "type": "contour"
           }
          ],
          "contourcarpet": [
           {
            "colorbar": {
             "outlinewidth": 0,
             "ticks": ""
            },
            "type": "contourcarpet"
           }
          ],
          "heatmap": [
           {
            "colorbar": {
             "outlinewidth": 0,
             "ticks": ""
            },
            "colorscale": [
             [
              0,
              "#0d0887"
             ],
             [
              0.1111111111111111,
              "#46039f"
             ],
             [
              0.2222222222222222,
              "#7201a8"
             ],
             [
              0.3333333333333333,
              "#9c179e"
             ],
             [
              0.4444444444444444,
              "#bd3786"
             ],
             [
              0.5555555555555556,
              "#d8576b"
             ],
             [
              0.6666666666666666,
              "#ed7953"
             ],
             [
              0.7777777777777778,
              "#fb9f3a"
             ],
             [
              0.8888888888888888,
              "#fdca26"
             ],
             [
              1,
              "#f0f921"
             ]
            ],
            "type": "heatmap"
           }
          ],
          "heatmapgl": [
           {
            "colorbar": {
             "outlinewidth": 0,
             "ticks": ""
            },
            "colorscale": [
             [
              0,
              "#0d0887"
             ],
             [
              0.1111111111111111,
              "#46039f"
             ],
             [
              0.2222222222222222,
              "#7201a8"
             ],
             [
              0.3333333333333333,
              "#9c179e"
             ],
             [
              0.4444444444444444,
              "#bd3786"
             ],
             [
              0.5555555555555556,
              "#d8576b"
             ],
             [
              0.6666666666666666,
              "#ed7953"
             ],
             [
              0.7777777777777778,
              "#fb9f3a"
             ],
             [
              0.8888888888888888,
              "#fdca26"
             ],
             [
              1,
              "#f0f921"
             ]
            ],
            "type": "heatmapgl"
           }
          ],
          "histogram": [
           {
            "marker": {
             "pattern": {
              "fillmode": "overlay",
              "size": 10,
              "solidity": 0.2
             }
            },
            "type": "histogram"
           }
          ],
          "histogram2d": [
           {
            "colorbar": {
             "outlinewidth": 0,
             "ticks": ""
            },
            "colorscale": [
             [
              0,
              "#0d0887"
             ],
             [
              0.1111111111111111,
              "#46039f"
             ],
             [
              0.2222222222222222,
              "#7201a8"
             ],
             [
              0.3333333333333333,
              "#9c179e"
             ],
             [
              0.4444444444444444,
              "#bd3786"
             ],
             [
              0.5555555555555556,
              "#d8576b"
             ],
             [
              0.6666666666666666,
              "#ed7953"
             ],
             [
              0.7777777777777778,
              "#fb9f3a"
             ],
             [
              0.8888888888888888,
              "#fdca26"
             ],
             [
              1,
              "#f0f921"
             ]
            ],
            "type": "histogram2d"
           }
          ],
          "histogram2dcontour": [
           {
            "colorbar": {
             "outlinewidth": 0,
             "ticks": ""
            },
            "colorscale": [
             [
              0,
              "#0d0887"
             ],
             [
              0.1111111111111111,
              "#46039f"
             ],
             [
              0.2222222222222222,
              "#7201a8"
             ],
             [
              0.3333333333333333,
              "#9c179e"
             ],
             [
              0.4444444444444444,
              "#bd3786"
             ],
             [
              0.5555555555555556,
              "#d8576b"
             ],
             [
              0.6666666666666666,
              "#ed7953"
             ],
             [
              0.7777777777777778,
              "#fb9f3a"
             ],
             [
              0.8888888888888888,
              "#fdca26"
             ],
             [
              1,
              "#f0f921"
             ]
            ],
            "type": "histogram2dcontour"
           }
          ],
          "mesh3d": [
           {
            "colorbar": {
             "outlinewidth": 0,
             "ticks": ""
            },
            "type": "mesh3d"
           }
          ],
          "parcoords": [
           {
            "line": {
             "colorbar": {
              "outlinewidth": 0,
              "ticks": ""
             }
            },
            "type": "parcoords"
           }
          ],
          "pie": [
           {
            "automargin": true,
            "type": "pie"
           }
          ],
          "scatter": [
           {
            "fillpattern": {
             "fillmode": "overlay",
             "size": 10,
             "solidity": 0.2
            },
            "type": "scatter"
           }
          ],
          "scatter3d": [
           {
            "line": {
             "colorbar": {
              "outlinewidth": 0,
              "ticks": ""
             }
            },
            "marker": {
             "colorbar": {
              "outlinewidth": 0,
              "ticks": ""
             }
            },
            "type": "scatter3d"
           }
          ],
          "scattercarpet": [
           {
            "marker": {
             "colorbar": {
              "outlinewidth": 0,
              "ticks": ""
             }
            },
            "type": "scattercarpet"
           }
          ],
          "scattergeo": [
           {
            "marker": {
             "colorbar": {
              "outlinewidth": 0,
              "ticks": ""
             }
            },
            "type": "scattergeo"
           }
          ],
          "scattergl": [
           {
            "marker": {
             "colorbar": {
              "outlinewidth": 0,
              "ticks": ""
             }
            },
            "type": "scattergl"
           }
          ],
          "scattermapbox": [
           {
            "marker": {
             "colorbar": {
              "outlinewidth": 0,
              "ticks": ""
             }
            },
            "type": "scattermapbox"
           }
          ],
          "scatterpolar": [
           {
            "marker": {
             "colorbar": {
              "outlinewidth": 0,
              "ticks": ""
             }
            },
            "type": "scatterpolar"
           }
          ],
          "scatterpolargl": [
           {
            "marker": {
             "colorbar": {
              "outlinewidth": 0,
              "ticks": ""
             }
            },
            "type": "scatterpolargl"
           }
          ],
          "scatterternary": [
           {
            "marker": {
             "colorbar": {
              "outlinewidth": 0,
              "ticks": ""
             }
            },
            "type": "scatterternary"
           }
          ],
          "surface": [
           {
            "colorbar": {
             "outlinewidth": 0,
             "ticks": ""
            },
            "colorscale": [
             [
              0,
              "#0d0887"
             ],
             [
              0.1111111111111111,
              "#46039f"
             ],
             [
              0.2222222222222222,
              "#7201a8"
             ],
             [
              0.3333333333333333,
              "#9c179e"
             ],
             [
              0.4444444444444444,
              "#bd3786"
             ],
             [
              0.5555555555555556,
              "#d8576b"
             ],
             [
              0.6666666666666666,
              "#ed7953"
             ],
             [
              0.7777777777777778,
              "#fb9f3a"
             ],
             [
              0.8888888888888888,
              "#fdca26"
             ],
             [
              1,
              "#f0f921"
             ]
            ],
            "type": "surface"
           }
          ],
          "table": [
           {
            "cells": {
             "fill": {
              "color": "#EBF0F8"
             },
             "line": {
              "color": "white"
             }
            },
            "header": {
             "fill": {
              "color": "#C8D4E3"
             },
             "line": {
              "color": "white"
             }
            },
            "type": "table"
           }
          ]
         },
         "layout": {
          "annotationdefaults": {
           "arrowcolor": "#2a3f5f",
           "arrowhead": 0,
           "arrowwidth": 1
          },
          "autotypenumbers": "strict",
          "coloraxis": {
           "colorbar": {
            "outlinewidth": 0,
            "ticks": ""
           }
          },
          "colorscale": {
           "diverging": [
            [
             0,
             "#8e0152"
            ],
            [
             0.1,
             "#c51b7d"
            ],
            [
             0.2,
             "#de77ae"
            ],
            [
             0.3,
             "#f1b6da"
            ],
            [
             0.4,
             "#fde0ef"
            ],
            [
             0.5,
             "#f7f7f7"
            ],
            [
             0.6,
             "#e6f5d0"
            ],
            [
             0.7,
             "#b8e186"
            ],
            [
             0.8,
             "#7fbc41"
            ],
            [
             0.9,
             "#4d9221"
            ],
            [
             1,
             "#276419"
            ]
           ],
           "sequential": [
            [
             0,
             "#0d0887"
            ],
            [
             0.1111111111111111,
             "#46039f"
            ],
            [
             0.2222222222222222,
             "#7201a8"
            ],
            [
             0.3333333333333333,
             "#9c179e"
            ],
            [
             0.4444444444444444,
             "#bd3786"
            ],
            [
             0.5555555555555556,
             "#d8576b"
            ],
            [
             0.6666666666666666,
             "#ed7953"
            ],
            [
             0.7777777777777778,
             "#fb9f3a"
            ],
            [
             0.8888888888888888,
             "#fdca26"
            ],
            [
             1,
             "#f0f921"
            ]
           ],
           "sequentialminus": [
            [
             0,
             "#0d0887"
            ],
            [
             0.1111111111111111,
             "#46039f"
            ],
            [
             0.2222222222222222,
             "#7201a8"
            ],
            [
             0.3333333333333333,
             "#9c179e"
            ],
            [
             0.4444444444444444,
             "#bd3786"
            ],
            [
             0.5555555555555556,
             "#d8576b"
            ],
            [
             0.6666666666666666,
             "#ed7953"
            ],
            [
             0.7777777777777778,
             "#fb9f3a"
            ],
            [
             0.8888888888888888,
             "#fdca26"
            ],
            [
             1,
             "#f0f921"
            ]
           ]
          },
          "colorway": [
           "#636efa",
           "#EF553B",
           "#00cc96",
           "#ab63fa",
           "#FFA15A",
           "#19d3f3",
           "#FF6692",
           "#B6E880",
           "#FF97FF",
           "#FECB52"
          ],
          "font": {
           "color": "#2a3f5f"
          },
          "geo": {
           "bgcolor": "white",
           "lakecolor": "white",
           "landcolor": "#E5ECF6",
           "showlakes": true,
           "showland": true,
           "subunitcolor": "white"
          },
          "hoverlabel": {
           "align": "left"
          },
          "hovermode": "closest",
          "mapbox": {
           "style": "light"
          },
          "paper_bgcolor": "white",
          "plot_bgcolor": "#E5ECF6",
          "polar": {
           "angularaxis": {
            "gridcolor": "white",
            "linecolor": "white",
            "ticks": ""
           },
           "bgcolor": "#E5ECF6",
           "radialaxis": {
            "gridcolor": "white",
            "linecolor": "white",
            "ticks": ""
           }
          },
          "scene": {
           "xaxis": {
            "backgroundcolor": "#E5ECF6",
            "gridcolor": "white",
            "gridwidth": 2,
            "linecolor": "white",
            "showbackground": true,
            "ticks": "",
            "zerolinecolor": "white"
           },
           "yaxis": {
            "backgroundcolor": "#E5ECF6",
            "gridcolor": "white",
            "gridwidth": 2,
            "linecolor": "white",
            "showbackground": true,
            "ticks": "",
            "zerolinecolor": "white"
           },
           "zaxis": {
            "backgroundcolor": "#E5ECF6",
            "gridcolor": "white",
            "gridwidth": 2,
            "linecolor": "white",
            "showbackground": true,
            "ticks": "",
            "zerolinecolor": "white"
           }
          },
          "shapedefaults": {
           "line": {
            "color": "#2a3f5f"
           }
          },
          "ternary": {
           "aaxis": {
            "gridcolor": "white",
            "linecolor": "white",
            "ticks": ""
           },
           "baxis": {
            "gridcolor": "white",
            "linecolor": "white",
            "ticks": ""
           },
           "bgcolor": "#E5ECF6",
           "caxis": {
            "gridcolor": "white",
            "linecolor": "white",
            "ticks": ""
           }
          },
          "title": {
           "x": 0.05
          },
          "xaxis": {
           "automargin": true,
           "gridcolor": "white",
           "linecolor": "white",
           "ticks": "",
           "title": {
            "standoff": 15
           },
           "zerolinecolor": "white",
           "zerolinewidth": 2
          },
          "yaxis": {
           "automargin": true,
           "gridcolor": "white",
           "linecolor": "white",
           "ticks": "",
           "title": {
            "standoff": 15
           },
           "zerolinecolor": "white",
           "zerolinewidth": 2
          }
         }
        },
        "title": {
         "font": {
          "family": "GT America",
          "size": 20
         },
         "text": "<b>The vast majority of BPD's budget goes toward 'Personnel Services'<b> <br><sup style='color:gray;'>'Personnel Services' comprises of the salaries and benefits paid to police officers</sup>",
         "x": 0,
         "xref": "paper"
        },
        "width": 1200,
        "xaxis": {
         "anchor": "y",
         "domain": [
          0,
          1
         ],
         "title": {}
        },
        "yaxis": {
         "anchor": "x",
         "domain": [
          0,
          1
         ],
         "gridcolor": "LightGray",
         "gridwidth": 0.5,
         "showgrid": true,
         "tickprefix": "$",
         "title": {}
        }
       }
      }
     },
     "metadata": {},
     "output_type": "display_data"
    }
   ],
   "source": [
    "import plotly_express as px\n",
    "import plotly.graph_objs as go\n",
    "\n",
    "num_categories = 5\n",
    "year = [\"2020\"]*num_categories + [\"2021\"]*num_categories + [\"2022\"]*num_categories + [\"2023\"]*num_categories\n",
    "categories = [\"Personnel Services\", \"Contractual Services\", \"Supplies and Materials\", \"Current Charges and Obligations\", \"Equipment\"]*4\n",
    "\n",
    "fig_dict = {\n",
    "    \"Year\": year,\n",
    "    \"Expense Category\": categories,\n",
    "    \"Budget\": x\n",
    "    }\n",
    "    \n",
    "\n",
    "dft = pd.DataFrame(fig_dict)\n",
    "fig5 = px.bar(dft, x='Year', y='Budget', color='Expense Category', title='BPDs Budget Spend Categories', barmode=\"group\", color_discrete_sequence=[\"#130F54\",'#EF404E','#BBBBBB', '#691B40', '#FCAA17'], width=1200, height=500)\n",
    "fig5.update_layout(plot_bgcolor='rgba(0,0,0,0)',\n",
    "    bargap=0.10,\n",
    "    bargroupgap=0.0, \n",
    "    font_family = \"GT America\", \n",
    "    font_color = \"black\",\n",
    "    xaxis_title = None, \n",
    "    yaxis_title=None, \n",
    "    yaxis_tickprefix = '$',\n",
    "    margin=dict(\n",
    "        l=100,\n",
    "        r=100,\n",
    "        b=80,\n",
    "        t=120,\n",
    "        pad=4\n",
    "    ))\n",
    "fig5.update_layout(\n",
    "    title = go.layout.Title(\n",
    "        text = \"<b>The vast majority of BPD's budget goes toward 'Personnel Services'<b> <br><sup style='color:gray;'>'Personnel Services' comprises of the salaries and benefits paid to police officers</sup>\",\n",
    "        xref = \"paper\",\n",
    "        x = 0,\n",
    "        font_family = \"GT America\",\n",
    "        font_size = 20,\n",
    "    )\n",
    ")\n",
    "fig5.update_yaxes(showgrid=True, gridwidth=0.5, gridcolor='LightGray')\n",
    "fig5.update_traces(marker_line_width = 0)\n",
    "fig5.show()\n"
   ]
  },
  {
   "cell_type": "code",
   "execution_count": 11,
   "metadata": {},
   "outputs": [
    {
     "data": {
      "application/vnd.plotly.v1+json": {
       "config": {
        "plotlyServerURL": "https://plot.ly"
       },
       "data": [
        {
         "alignmentgroup": "True",
         "hovertemplate": "Expense Category=Contractual Services<br>Year=%{x}<br>Budget=%{y}<extra></extra>",
         "legendgroup": "Contractual Services",
         "marker": {
          "color": "#130F54",
          "line": {
           "width": 0
          },
          "pattern": {
           "shape": ""
          }
         },
         "name": "Contractual Services",
         "offsetgroup": "Contractual Services",
         "orientation": "v",
         "showlegend": true,
         "textposition": "auto",
         "type": "bar",
         "x": [
          "2020",
          "2021",
          "2022",
          "2023"
         ],
         "xaxis": "x",
         "y": [
          20657551,
          20879093,
          20955246,
          24853867
         ],
         "yaxis": "y"
        },
        {
         "alignmentgroup": "True",
         "hovertemplate": "Expense Category=Supplies and Materials<br>Year=%{x}<br>Budget=%{y}<extra></extra>",
         "legendgroup": "Supplies and Materials",
         "marker": {
          "color": "#EF404E",
          "line": {
           "width": 0
          },
          "pattern": {
           "shape": ""
          }
         },
         "name": "Supplies and Materials",
         "offsetgroup": "Supplies and Materials",
         "orientation": "v",
         "showlegend": true,
         "textposition": "auto",
         "type": "bar",
         "x": [
          "2020",
          "2021",
          "2022",
          "2023"
         ],
         "xaxis": "x",
         "y": [
          8437198,
          6877107,
          7661121,
          8792829
         ],
         "yaxis": "y"
        },
        {
         "alignmentgroup": "True",
         "hovertemplate": "Expense Category=Current Charges and Obligations<br>Year=%{x}<br>Budget=%{y}<extra></extra>",
         "legendgroup": "Current Charges and Obligations",
         "marker": {
          "color": "#BBBBBB",
          "line": {
           "width": 0
          },
          "pattern": {
           "shape": ""
          }
         },
         "name": "Current Charges and Obligations",
         "offsetgroup": "Current Charges and Obligations",
         "orientation": "v",
         "showlegend": true,
         "textposition": "auto",
         "type": "bar",
         "x": [
          "2020",
          "2021",
          "2022",
          "2023"
         ],
         "xaxis": "x",
         "y": [
          5450467,
          7870088,
          5281135,
          5529868
         ],
         "yaxis": "y"
        },
        {
         "alignmentgroup": "True",
         "hovertemplate": "Expense Category=Equipment<br>Year=%{x}<br>Budget=%{y}<extra></extra>",
         "legendgroup": "Equipment",
         "marker": {
          "color": "#691B40",
          "line": {
           "width": 0
          },
          "pattern": {
           "shape": ""
          }
         },
         "name": "Equipment",
         "offsetgroup": "Equipment",
         "orientation": "v",
         "showlegend": true,
         "textposition": "auto",
         "type": "bar",
         "x": [
          "2020",
          "2021",
          "2022",
          "2023"
         ],
         "xaxis": "x",
         "y": [
          6111002,
          10514887,
          5872671,
          6103876
         ],
         "yaxis": "y"
        }
       ],
       "layout": {
        "bargap": 0.1,
        "bargroupgap": 0,
        "barmode": "group",
        "font": {
         "color": "black",
         "family": "GT America"
        },
        "height": 500,
        "legend": {
         "title": {
          "text": "Expense Category"
         },
         "tracegroupgap": 0
        },
        "margin": {
         "b": 80,
         "l": 100,
         "pad": 4,
         "r": 100,
         "t": 120
        },
        "plot_bgcolor": "rgba(0,0,0,0)",
        "template": {
         "data": {
          "bar": [
           {
            "error_x": {
             "color": "#2a3f5f"
            },
            "error_y": {
             "color": "#2a3f5f"
            },
            "marker": {
             "line": {
              "color": "#E5ECF6",
              "width": 0.5
             },
             "pattern": {
              "fillmode": "overlay",
              "size": 10,
              "solidity": 0.2
             }
            },
            "type": "bar"
           }
          ],
          "barpolar": [
           {
            "marker": {
             "line": {
              "color": "#E5ECF6",
              "width": 0.5
             },
             "pattern": {
              "fillmode": "overlay",
              "size": 10,
              "solidity": 0.2
             }
            },
            "type": "barpolar"
           }
          ],
          "carpet": [
           {
            "aaxis": {
             "endlinecolor": "#2a3f5f",
             "gridcolor": "white",
             "linecolor": "white",
             "minorgridcolor": "white",
             "startlinecolor": "#2a3f5f"
            },
            "baxis": {
             "endlinecolor": "#2a3f5f",
             "gridcolor": "white",
             "linecolor": "white",
             "minorgridcolor": "white",
             "startlinecolor": "#2a3f5f"
            },
            "type": "carpet"
           }
          ],
          "choropleth": [
           {
            "colorbar": {
             "outlinewidth": 0,
             "ticks": ""
            },
            "type": "choropleth"
           }
          ],
          "contour": [
           {
            "colorbar": {
             "outlinewidth": 0,
             "ticks": ""
            },
            "colorscale": [
             [
              0,
              "#0d0887"
             ],
             [
              0.1111111111111111,
              "#46039f"
             ],
             [
              0.2222222222222222,
              "#7201a8"
             ],
             [
              0.3333333333333333,
              "#9c179e"
             ],
             [
              0.4444444444444444,
              "#bd3786"
             ],
             [
              0.5555555555555556,
              "#d8576b"
             ],
             [
              0.6666666666666666,
              "#ed7953"
             ],
             [
              0.7777777777777778,
              "#fb9f3a"
             ],
             [
              0.8888888888888888,
              "#fdca26"
             ],
             [
              1,
              "#f0f921"
             ]
            ],
            "type": "contour"
           }
          ],
          "contourcarpet": [
           {
            "colorbar": {
             "outlinewidth": 0,
             "ticks": ""
            },
            "type": "contourcarpet"
           }
          ],
          "heatmap": [
           {
            "colorbar": {
             "outlinewidth": 0,
             "ticks": ""
            },
            "colorscale": [
             [
              0,
              "#0d0887"
             ],
             [
              0.1111111111111111,
              "#46039f"
             ],
             [
              0.2222222222222222,
              "#7201a8"
             ],
             [
              0.3333333333333333,
              "#9c179e"
             ],
             [
              0.4444444444444444,
              "#bd3786"
             ],
             [
              0.5555555555555556,
              "#d8576b"
             ],
             [
              0.6666666666666666,
              "#ed7953"
             ],
             [
              0.7777777777777778,
              "#fb9f3a"
             ],
             [
              0.8888888888888888,
              "#fdca26"
             ],
             [
              1,
              "#f0f921"
             ]
            ],
            "type": "heatmap"
           }
          ],
          "heatmapgl": [
           {
            "colorbar": {
             "outlinewidth": 0,
             "ticks": ""
            },
            "colorscale": [
             [
              0,
              "#0d0887"
             ],
             [
              0.1111111111111111,
              "#46039f"
             ],
             [
              0.2222222222222222,
              "#7201a8"
             ],
             [
              0.3333333333333333,
              "#9c179e"
             ],
             [
              0.4444444444444444,
              "#bd3786"
             ],
             [
              0.5555555555555556,
              "#d8576b"
             ],
             [
              0.6666666666666666,
              "#ed7953"
             ],
             [
              0.7777777777777778,
              "#fb9f3a"
             ],
             [
              0.8888888888888888,
              "#fdca26"
             ],
             [
              1,
              "#f0f921"
             ]
            ],
            "type": "heatmapgl"
           }
          ],
          "histogram": [
           {
            "marker": {
             "pattern": {
              "fillmode": "overlay",
              "size": 10,
              "solidity": 0.2
             }
            },
            "type": "histogram"
           }
          ],
          "histogram2d": [
           {
            "colorbar": {
             "outlinewidth": 0,
             "ticks": ""
            },
            "colorscale": [
             [
              0,
              "#0d0887"
             ],
             [
              0.1111111111111111,
              "#46039f"
             ],
             [
              0.2222222222222222,
              "#7201a8"
             ],
             [
              0.3333333333333333,
              "#9c179e"
             ],
             [
              0.4444444444444444,
              "#bd3786"
             ],
             [
              0.5555555555555556,
              "#d8576b"
             ],
             [
              0.6666666666666666,
              "#ed7953"
             ],
             [
              0.7777777777777778,
              "#fb9f3a"
             ],
             [
              0.8888888888888888,
              "#fdca26"
             ],
             [
              1,
              "#f0f921"
             ]
            ],
            "type": "histogram2d"
           }
          ],
          "histogram2dcontour": [
           {
            "colorbar": {
             "outlinewidth": 0,
             "ticks": ""
            },
            "colorscale": [
             [
              0,
              "#0d0887"
             ],
             [
              0.1111111111111111,
              "#46039f"
             ],
             [
              0.2222222222222222,
              "#7201a8"
             ],
             [
              0.3333333333333333,
              "#9c179e"
             ],
             [
              0.4444444444444444,
              "#bd3786"
             ],
             [
              0.5555555555555556,
              "#d8576b"
             ],
             [
              0.6666666666666666,
              "#ed7953"
             ],
             [
              0.7777777777777778,
              "#fb9f3a"
             ],
             [
              0.8888888888888888,
              "#fdca26"
             ],
             [
              1,
              "#f0f921"
             ]
            ],
            "type": "histogram2dcontour"
           }
          ],
          "mesh3d": [
           {
            "colorbar": {
             "outlinewidth": 0,
             "ticks": ""
            },
            "type": "mesh3d"
           }
          ],
          "parcoords": [
           {
            "line": {
             "colorbar": {
              "outlinewidth": 0,
              "ticks": ""
             }
            },
            "type": "parcoords"
           }
          ],
          "pie": [
           {
            "automargin": true,
            "type": "pie"
           }
          ],
          "scatter": [
           {
            "fillpattern": {
             "fillmode": "overlay",
             "size": 10,
             "solidity": 0.2
            },
            "type": "scatter"
           }
          ],
          "scatter3d": [
           {
            "line": {
             "colorbar": {
              "outlinewidth": 0,
              "ticks": ""
             }
            },
            "marker": {
             "colorbar": {
              "outlinewidth": 0,
              "ticks": ""
             }
            },
            "type": "scatter3d"
           }
          ],
          "scattercarpet": [
           {
            "marker": {
             "colorbar": {
              "outlinewidth": 0,
              "ticks": ""
             }
            },
            "type": "scattercarpet"
           }
          ],
          "scattergeo": [
           {
            "marker": {
             "colorbar": {
              "outlinewidth": 0,
              "ticks": ""
             }
            },
            "type": "scattergeo"
           }
          ],
          "scattergl": [
           {
            "marker": {
             "colorbar": {
              "outlinewidth": 0,
              "ticks": ""
             }
            },
            "type": "scattergl"
           }
          ],
          "scattermapbox": [
           {
            "marker": {
             "colorbar": {
              "outlinewidth": 0,
              "ticks": ""
             }
            },
            "type": "scattermapbox"
           }
          ],
          "scatterpolar": [
           {
            "marker": {
             "colorbar": {
              "outlinewidth": 0,
              "ticks": ""
             }
            },
            "type": "scatterpolar"
           }
          ],
          "scatterpolargl": [
           {
            "marker": {
             "colorbar": {
              "outlinewidth": 0,
              "ticks": ""
             }
            },
            "type": "scatterpolargl"
           }
          ],
          "scatterternary": [
           {
            "marker": {
             "colorbar": {
              "outlinewidth": 0,
              "ticks": ""
             }
            },
            "type": "scatterternary"
           }
          ],
          "surface": [
           {
            "colorbar": {
             "outlinewidth": 0,
             "ticks": ""
            },
            "colorscale": [
             [
              0,
              "#0d0887"
             ],
             [
              0.1111111111111111,
              "#46039f"
             ],
             [
              0.2222222222222222,
              "#7201a8"
             ],
             [
              0.3333333333333333,
              "#9c179e"
             ],
             [
              0.4444444444444444,
              "#bd3786"
             ],
             [
              0.5555555555555556,
              "#d8576b"
             ],
             [
              0.6666666666666666,
              "#ed7953"
             ],
             [
              0.7777777777777778,
              "#fb9f3a"
             ],
             [
              0.8888888888888888,
              "#fdca26"
             ],
             [
              1,
              "#f0f921"
             ]
            ],
            "type": "surface"
           }
          ],
          "table": [
           {
            "cells": {
             "fill": {
              "color": "#EBF0F8"
             },
             "line": {
              "color": "white"
             }
            },
            "header": {
             "fill": {
              "color": "#C8D4E3"
             },
             "line": {
              "color": "white"
             }
            },
            "type": "table"
           }
          ]
         },
         "layout": {
          "annotationdefaults": {
           "arrowcolor": "#2a3f5f",
           "arrowhead": 0,
           "arrowwidth": 1
          },
          "autotypenumbers": "strict",
          "coloraxis": {
           "colorbar": {
            "outlinewidth": 0,
            "ticks": ""
           }
          },
          "colorscale": {
           "diverging": [
            [
             0,
             "#8e0152"
            ],
            [
             0.1,
             "#c51b7d"
            ],
            [
             0.2,
             "#de77ae"
            ],
            [
             0.3,
             "#f1b6da"
            ],
            [
             0.4,
             "#fde0ef"
            ],
            [
             0.5,
             "#f7f7f7"
            ],
            [
             0.6,
             "#e6f5d0"
            ],
            [
             0.7,
             "#b8e186"
            ],
            [
             0.8,
             "#7fbc41"
            ],
            [
             0.9,
             "#4d9221"
            ],
            [
             1,
             "#276419"
            ]
           ],
           "sequential": [
            [
             0,
             "#0d0887"
            ],
            [
             0.1111111111111111,
             "#46039f"
            ],
            [
             0.2222222222222222,
             "#7201a8"
            ],
            [
             0.3333333333333333,
             "#9c179e"
            ],
            [
             0.4444444444444444,
             "#bd3786"
            ],
            [
             0.5555555555555556,
             "#d8576b"
            ],
            [
             0.6666666666666666,
             "#ed7953"
            ],
            [
             0.7777777777777778,
             "#fb9f3a"
            ],
            [
             0.8888888888888888,
             "#fdca26"
            ],
            [
             1,
             "#f0f921"
            ]
           ],
           "sequentialminus": [
            [
             0,
             "#0d0887"
            ],
            [
             0.1111111111111111,
             "#46039f"
            ],
            [
             0.2222222222222222,
             "#7201a8"
            ],
            [
             0.3333333333333333,
             "#9c179e"
            ],
            [
             0.4444444444444444,
             "#bd3786"
            ],
            [
             0.5555555555555556,
             "#d8576b"
            ],
            [
             0.6666666666666666,
             "#ed7953"
            ],
            [
             0.7777777777777778,
             "#fb9f3a"
            ],
            [
             0.8888888888888888,
             "#fdca26"
            ],
            [
             1,
             "#f0f921"
            ]
           ]
          },
          "colorway": [
           "#636efa",
           "#EF553B",
           "#00cc96",
           "#ab63fa",
           "#FFA15A",
           "#19d3f3",
           "#FF6692",
           "#B6E880",
           "#FF97FF",
           "#FECB52"
          ],
          "font": {
           "color": "#2a3f5f"
          },
          "geo": {
           "bgcolor": "white",
           "lakecolor": "white",
           "landcolor": "#E5ECF6",
           "showlakes": true,
           "showland": true,
           "subunitcolor": "white"
          },
          "hoverlabel": {
           "align": "left"
          },
          "hovermode": "closest",
          "mapbox": {
           "style": "light"
          },
          "paper_bgcolor": "white",
          "plot_bgcolor": "#E5ECF6",
          "polar": {
           "angularaxis": {
            "gridcolor": "white",
            "linecolor": "white",
            "ticks": ""
           },
           "bgcolor": "#E5ECF6",
           "radialaxis": {
            "gridcolor": "white",
            "linecolor": "white",
            "ticks": ""
           }
          },
          "scene": {
           "xaxis": {
            "backgroundcolor": "#E5ECF6",
            "gridcolor": "white",
            "gridwidth": 2,
            "linecolor": "white",
            "showbackground": true,
            "ticks": "",
            "zerolinecolor": "white"
           },
           "yaxis": {
            "backgroundcolor": "#E5ECF6",
            "gridcolor": "white",
            "gridwidth": 2,
            "linecolor": "white",
            "showbackground": true,
            "ticks": "",
            "zerolinecolor": "white"
           },
           "zaxis": {
            "backgroundcolor": "#E5ECF6",
            "gridcolor": "white",
            "gridwidth": 2,
            "linecolor": "white",
            "showbackground": true,
            "ticks": "",
            "zerolinecolor": "white"
           }
          },
          "shapedefaults": {
           "line": {
            "color": "#2a3f5f"
           }
          },
          "ternary": {
           "aaxis": {
            "gridcolor": "white",
            "linecolor": "white",
            "ticks": ""
           },
           "baxis": {
            "gridcolor": "white",
            "linecolor": "white",
            "ticks": ""
           },
           "bgcolor": "#E5ECF6",
           "caxis": {
            "gridcolor": "white",
            "linecolor": "white",
            "ticks": ""
           }
          },
          "title": {
           "x": 0.05
          },
          "xaxis": {
           "automargin": true,
           "gridcolor": "white",
           "linecolor": "white",
           "ticks": "",
           "title": {
            "standoff": 15
           },
           "zerolinecolor": "white",
           "zerolinewidth": 2
          },
          "yaxis": {
           "automargin": true,
           "gridcolor": "white",
           "linecolor": "white",
           "ticks": "",
           "title": {
            "standoff": 15
           },
           "zerolinecolor": "white",
           "zerolinewidth": 2
          }
         }
        },
        "title": {
         "font": {
          "family": "GT America",
          "size": 20
         },
         "text": "<b>'Contractual Services' is BPD's second largest spending category after 'Personnel Services'<b>",
         "x": 0,
         "xref": "paper"
        },
        "width": 1200,
        "xaxis": {
         "anchor": "y",
         "domain": [
          0,
          1
         ],
         "title": {}
        },
        "yaxis": {
         "anchor": "x",
         "domain": [
          0,
          1
         ],
         "gridcolor": "LightGray",
         "gridwidth": 0.5,
         "showgrid": true,
         "tickprefix": "$",
         "title": {}
        }
       }
      }
     },
     "metadata": {},
     "output_type": "display_data"
    }
   ],
   "source": [
    "y = []\n",
    "for i in range(4):\n",
    "    y.append(csData[i])\n",
    "    y.append(smData[i])\n",
    "    y.append(ccoData[i])\n",
    "    y.append(eqData[i])\n",
    "\n",
    "\n",
    "\n",
    "num_categories = 4\n",
    "year = [\"2020\"]*num_categories + [\"2021\"]*num_categories + [\"2022\"]*num_categories + [\"2023\"]*num_categories\n",
    "categories = [\"Contractual Services\", \"Supplies and Materials\", \"Current Charges and Obligations\", \"Equipment\"]*4\n",
    "\n",
    "fig_dict = {\n",
    "    \"Year\": year,\n",
    "    \"Expense Category\": categories,\n",
    "    \"Budget\": y\n",
    "    }\n",
    "    \n",
    "\n",
    "dfy = pd.DataFrame(fig_dict)\n",
    "fig6 = px.bar(dfy, x='Year', y='Budget', color='Expense Category', barmode=\"group\", color_discrete_sequence=[\"#130F54\",'#EF404E','#BBBBBB', '#691B40'], width=1200, height=500)\n",
    "fig6.update_layout(\n",
    "    title = go.layout.Title(\n",
    "        text = \"<b>'Contractual Services' is BPD's second largest spending category after 'Personnel Services'<b>\",\n",
    "        xref = \"paper\",\n",
    "        x = 0,\n",
    "        font_family = \"GT America\",\n",
    "        font_size = 20\n",
    "    ),\n",
    "    plot_bgcolor='rgba(0,0,0,0)',\n",
    "    bargap=0.10,\n",
    "    bargroupgap=0.0, \n",
    "    font_family = \"GT America\", \n",
    "    font_color = \"black\",\n",
    "    xaxis_title = None, \n",
    "    yaxis_title=None, \n",
    "    yaxis_tickprefix = '$',\n",
    "    margin=dict(\n",
    "        l=100,\n",
    "        r=100,\n",
    "        b=80,\n",
    "        t=120,\n",
    "        pad=4\n",
    "    )\n",
    ")\n",
    "fig6.update_yaxes(showgrid=True, gridwidth=0.5, gridcolor='LightGray')\n",
    "fig6.update_traces(marker_line_width = 0)\n",
    "\n",
    "\n",
    "fig6.show()"
   ]
  },
  {
   "cell_type": "code",
   "execution_count": 12,
   "metadata": {},
   "outputs": [],
   "source": [
    "# barWidth = 0.18\n",
    "# fig = plt.subplots(figsize =(20, 15))\n",
    "\n",
    "\n",
    "# br2 = np.arange(len(psData))\n",
    "# br3 = [x + barWidth for x in br2]\n",
    "# br4 = [x + barWidth for x in br3]\n",
    "# br5 = [x + barWidth for x in br4]\n",
    "\n",
    "\n",
    "\n",
    "\n",
    "        \n",
    "# plt.bar(br2, csData, color ='b', width = barWidth,\n",
    "#         edgecolor ='grey', label ='Contractual Services')\n",
    "\n",
    "# plt.bar(br3, smData, color ='g', width = barWidth,\n",
    "#         edgecolor ='grey', label ='Supplies and Materials') \n",
    "\n",
    "# plt.bar(br4, ccoData, color ='y', width = barWidth, edgecolor ='grey', label ='Current Charges and Obligations')\n",
    "\n",
    "# plt.bar(br5, eqData, color ='c', width = barWidth, edgecolor ='grey', label ='Equipment')\n",
    "\n",
    "# plt.xlabel('Categories', fontweight ='bold', fontsize = 15)\n",
    "# plt.ylabel('Budget', fontweight ='bold', fontsize = 15)\n",
    "# plt.xticks([r + barWidth for r in range(len(psData))],\n",
    "#         ['2020', '2021', '2022', '2023'])\n",
    "\n",
    "\n",
    "# plt.plot(br2, csData,marker='o', color ='b')\n",
    "# plt.plot(br3, smData,marker='o', color ='g')\n",
    "# plt.plot(br4, ccoData,marker='o', color ='y')\n",
    "# plt.plot(br5, eqData,marker='o', color ='c')\n",
    "\n",
    "# plt.legend()\n",
    "# plt.show()"
   ]
  },
  {
   "cell_type": "code",
   "execution_count": 13,
   "metadata": {},
   "outputs": [],
   "source": [
    "# fig = plt.subplots(figsize =(20, 15))\n",
    "# plt.plot(br1, psData,marker='o', color ='r')\n",
    "# plt.plot(br2, csData,marker='o', color ='b')\n",
    "# plt.plot(br3, smData,marker='o', color ='g')\n",
    "# plt.plot(br4, ccoData,marker='o', color ='y')\n",
    "# plt.plot(br5, eqData,marker='o', color ='c')\n",
    "\n",
    "# plt.xlabel('Categories', fontweight ='bold', fontsize = 15)\n",
    "# plt.ylabel('Budget', fontweight ='bold', fontsize = 15)\n",
    "# plt.xticks([r + barWidth for r in range(len(psData))],\n",
    "#         ['2020', '2021', '2022', '2023'])\n",
    "        \n",
    "# plt.legend()\n"
   ]
  },
  {
   "cell_type": "code",
   "execution_count": null,
   "metadata": {},
   "outputs": [],
   "source": []
  },
  {
   "cell_type": "code",
   "execution_count": 14,
   "metadata": {},
   "outputs": [],
   "source": [
    "dfccoData = pd.DataFrame({'Year': ['2020', '2021', '2022', '2023'], 'Budget': ccoData})\n",
    "dfeqData = pd.DataFrame({'Year': ['2020', '2021', '2022', '2023'], 'Budget': eqData})\n",
    "dfcsData = pd.DataFrame({'Year': ['2020', '2021', '2022', '2023'], 'Budget': csData})\n",
    "dfpsData = pd.DataFrame({'Year': ['2020', '2021', '2022', '2023'], 'Budget': psData})\n",
    "dfsmData = pd.DataFrame({'Year': ['2020', '2021', '2022', '2023'], 'Budget': smData})\n",
    "\n"
   ]
  },
  {
   "cell_type": "code",
   "execution_count": 15,
   "metadata": {},
   "outputs": [
    {
     "data": {
      "text/html": [
       "<div>\n",
       "<style scoped>\n",
       "    .dataframe tbody tr th:only-of-type {\n",
       "        vertical-align: middle;\n",
       "    }\n",
       "\n",
       "    .dataframe tbody tr th {\n",
       "        vertical-align: top;\n",
       "    }\n",
       "\n",
       "    .dataframe thead th {\n",
       "        text-align: right;\n",
       "    }\n",
       "</style>\n",
       "<table border=\"1\" class=\"dataframe\">\n",
       "  <thead>\n",
       "    <tr style=\"text-align: right;\">\n",
       "      <th></th>\n",
       "      <th>NAME</th>\n",
       "      <th>DEPARTMENT_NAME</th>\n",
       "      <th>TITLE</th>\n",
       "      <th>REGULAR</th>\n",
       "      <th>RETRO</th>\n",
       "      <th>OTHER</th>\n",
       "      <th>OVERTIME</th>\n",
       "      <th>INJURED</th>\n",
       "      <th>DETAIL</th>\n",
       "      <th>QUINN_EDUCATION</th>\n",
       "      <th>TOTAL_ GROSS</th>\n",
       "      <th>POSTAL</th>\n",
       "    </tr>\n",
       "  </thead>\n",
       "  <tbody>\n",
       "    <tr>\n",
       "      <th>0</th>\n",
       "      <td>Gavin,Donna M.</td>\n",
       "      <td>Boston Police Department</td>\n",
       "      <td>Police Lieutenant (Det)</td>\n",
       "      <td>53,226.90</td>\n",
       "      <td>NaN</td>\n",
       "      <td>1,045,845.44</td>\n",
       "      <td>463.52</td>\n",
       "      <td>NaN</td>\n",
       "      <td>NaN</td>\n",
       "      <td>12,812.39</td>\n",
       "      <td>1,112,348.25</td>\n",
       "      <td>02186</td>\n",
       "    </tr>\n",
       "    <tr>\n",
       "      <th>1</th>\n",
       "      <td>Cassellius,Brenda</td>\n",
       "      <td>Superintendent</td>\n",
       "      <td>Superintendent</td>\n",
       "      <td>179,109.61</td>\n",
       "      <td>NaN</td>\n",
       "      <td>417,839.83</td>\n",
       "      <td>NaN</td>\n",
       "      <td>NaN</td>\n",
       "      <td>NaN</td>\n",
       "      <td>NaN</td>\n",
       "      <td>596,949.44</td>\n",
       "      <td>55419</td>\n",
       "    </tr>\n",
       "    <tr>\n",
       "      <th>2</th>\n",
       "      <td>Dempsey,John</td>\n",
       "      <td>Boston Fire Department</td>\n",
       "      <td>Commissioner (BFD)</td>\n",
       "      <td>133,653.78</td>\n",
       "      <td>NaN</td>\n",
       "      <td>312,752.53</td>\n",
       "      <td>NaN</td>\n",
       "      <td>NaN</td>\n",
       "      <td>NaN</td>\n",
       "      <td>NaN</td>\n",
       "      <td>446,406.31</td>\n",
       "      <td>02152</td>\n",
       "    </tr>\n",
       "    <tr>\n",
       "      <th>3</th>\n",
       "      <td>Demesmin,Stanley</td>\n",
       "      <td>Boston Police Department</td>\n",
       "      <td>Police Lieutenant (Det)</td>\n",
       "      <td>145,775.26</td>\n",
       "      <td>NaN</td>\n",
       "      <td>13,932.92</td>\n",
       "      <td>196,515.25</td>\n",
       "      <td>NaN</td>\n",
       "      <td>11,880.00</td>\n",
       "      <td>29,155.26</td>\n",
       "      <td>397,258.69</td>\n",
       "      <td>02052</td>\n",
       "    </tr>\n",
       "    <tr>\n",
       "      <th>4</th>\n",
       "      <td>Smith,Sean P</td>\n",
       "      <td>Boston Police Department</td>\n",
       "      <td>Police Lieutenant</td>\n",
       "      <td>142,535.62</td>\n",
       "      <td>NaN</td>\n",
       "      <td>18,827.45</td>\n",
       "      <td>142,692.38</td>\n",
       "      <td>NaN</td>\n",
       "      <td>46,365.00</td>\n",
       "      <td>35,633.88</td>\n",
       "      <td>386,054.33</td>\n",
       "      <td>02186</td>\n",
       "    </tr>\n",
       "    <tr>\n",
       "      <th>5</th>\n",
       "      <td>McCormick,Kelley J</td>\n",
       "      <td>Boston Police Department</td>\n",
       "      <td>Police Captain</td>\n",
       "      <td>147,690.64</td>\n",
       "      <td>NaN</td>\n",
       "      <td>7,452.73</td>\n",
       "      <td>83,593.06</td>\n",
       "      <td>16,410.06</td>\n",
       "      <td>78,060.00</td>\n",
       "      <td>41,025.08</td>\n",
       "      <td>374,231.57</td>\n",
       "      <td>02476</td>\n",
       "    </tr>\n",
       "    <tr>\n",
       "      <th>6</th>\n",
       "      <td>Long,Gregory P</td>\n",
       "      <td>Boston Police Department</td>\n",
       "      <td>Supn-In Chief</td>\n",
       "      <td>290,703.31</td>\n",
       "      <td>NaN</td>\n",
       "      <td>30,244.46</td>\n",
       "      <td>NaN</td>\n",
       "      <td>NaN</td>\n",
       "      <td>NaN</td>\n",
       "      <td>52,180.57</td>\n",
       "      <td>373,128.34</td>\n",
       "      <td>02021</td>\n",
       "    </tr>\n",
       "    <tr>\n",
       "      <th>7</th>\n",
       "      <td>Danilecki,John H</td>\n",
       "      <td>Boston Police Department</td>\n",
       "      <td>Police Captain</td>\n",
       "      <td>164,100.70</td>\n",
       "      <td>NaN</td>\n",
       "      <td>24,504.13</td>\n",
       "      <td>71,315.48</td>\n",
       "      <td>NaN</td>\n",
       "      <td>61,200.00</td>\n",
       "      <td>41,025.08</td>\n",
       "      <td>362,145.39</td>\n",
       "      <td>02559</td>\n",
       "    </tr>\n",
       "    <tr>\n",
       "      <th>8</th>\n",
       "      <td>Webb,Keith A</td>\n",
       "      <td>Boston Police Department</td>\n",
       "      <td>Police Sergeant (Det)</td>\n",
       "      <td>130,930.12</td>\n",
       "      <td>NaN</td>\n",
       "      <td>19,722.83</td>\n",
       "      <td>134,229.14</td>\n",
       "      <td>NaN</td>\n",
       "      <td>37,312.00</td>\n",
       "      <td>32,732.72</td>\n",
       "      <td>354,926.81</td>\n",
       "      <td>02121</td>\n",
       "    </tr>\n",
       "    <tr>\n",
       "      <th>9</th>\n",
       "      <td>McMahon,Joseph G</td>\n",
       "      <td>Boston Fire Department</td>\n",
       "      <td>Chief of Support Services</td>\n",
       "      <td>146,502.16</td>\n",
       "      <td>NaN</td>\n",
       "      <td>208,058.56</td>\n",
       "      <td>NaN</td>\n",
       "      <td>NaN</td>\n",
       "      <td>NaN</td>\n",
       "      <td>NaN</td>\n",
       "      <td>354,560.72</td>\n",
       "      <td>02492</td>\n",
       "    </tr>\n",
       "  </tbody>\n",
       "</table>\n",
       "</div>"
      ],
      "text/plain": [
       "                 NAME           DEPARTMENT_NAME                      TITLE  \\\n",
       "0      Gavin,Donna M.  Boston Police Department    Police Lieutenant (Det)   \n",
       "1   Cassellius,Brenda            Superintendent             Superintendent   \n",
       "2        Dempsey,John    Boston Fire Department         Commissioner (BFD)   \n",
       "3    Demesmin,Stanley  Boston Police Department    Police Lieutenant (Det)   \n",
       "4        Smith,Sean P  Boston Police Department          Police Lieutenant   \n",
       "5  McCormick,Kelley J  Boston Police Department             Police Captain   \n",
       "6      Long,Gregory P  Boston Police Department              Supn-In Chief   \n",
       "7    Danilecki,John H  Boston Police Department             Police Captain   \n",
       "8        Webb,Keith A  Boston Police Department      Police Sergeant (Det)   \n",
       "9    McMahon,Joseph G    Boston Fire Department  Chief of Support Services   \n",
       "\n",
       "      REGULAR RETRO         OTHER    OVERTIME    INJURED     DETAIL  \\\n",
       "0   53,226.90   NaN  1,045,845.44      463.52        NaN        NaN   \n",
       "1  179,109.61   NaN    417,839.83         NaN        NaN        NaN   \n",
       "2  133,653.78   NaN    312,752.53         NaN        NaN        NaN   \n",
       "3  145,775.26   NaN     13,932.92  196,515.25        NaN  11,880.00   \n",
       "4  142,535.62   NaN     18,827.45  142,692.38        NaN  46,365.00   \n",
       "5  147,690.64   NaN      7,452.73   83,593.06  16,410.06  78,060.00   \n",
       "6  290,703.31   NaN     30,244.46         NaN        NaN        NaN   \n",
       "7  164,100.70   NaN     24,504.13   71,315.48        NaN  61,200.00   \n",
       "8  130,930.12   NaN     19,722.83  134,229.14        NaN  37,312.00   \n",
       "9  146,502.16   NaN    208,058.56         NaN        NaN        NaN   \n",
       "\n",
       "  QUINN_EDUCATION  TOTAL_ GROSS POSTAL  \n",
       "0       12,812.39  1,112,348.25  02186  \n",
       "1             NaN    596,949.44  55419  \n",
       "2             NaN    446,406.31  02152  \n",
       "3       29,155.26    397,258.69  02052  \n",
       "4       35,633.88    386,054.33  02186  \n",
       "5       41,025.08    374,231.57  02476  \n",
       "6       52,180.57    373,128.34  02021  \n",
       "7       41,025.08    362,145.39  02559  \n",
       "8       32,732.72    354,926.81  02121  \n",
       "9             NaN    354,560.72  02492  "
      ]
     },
     "execution_count": 15,
     "metadata": {},
     "output_type": "execute_result"
    }
   ],
   "source": [
    "f2=pd.read_csv('./Data/employees-2022.csv', encoding='latin-1')\n",
    "df2 = pd.DataFrame(f2)\n",
    "\n",
    "\n",
    "df2.head(10)"
   ]
  },
  {
   "cell_type": "code",
   "execution_count": 16,
   "metadata": {},
   "outputs": [
    {
     "name": "stdout",
     "output_type": "stream",
     "text": [
      "23204\n"
     ]
    }
   ],
   "source": [
    "# DEPARTMENT_NAME is replaced with \"Police Officer\" if they have \"Police Officer\" as their title\n",
    "\n",
    "BPD2 = df2.loc[(df2['DEPARTMENT_NAME'] == \"Boston Police Department\")]\n",
    "departments = df2[[\"DEPARTMENT_NAME\"]]\n",
    "x = BPD2.TITLE.values.tolist()\n",
    "count_officers = 0\n",
    "for i in x:\n",
    "    if \"Police Off\" in i:\n",
    "        df2.loc[df2['TITLE'] == i, 'DEPARTMENT_NAME'] = \"Police Officer\"\n",
    "        count_officers += 1\n",
    "count_officers\n",
    "departments = df2[[\"DEPARTMENT_NAME\"]]\n",
    "\n",
    "departments.value_counts()\n",
    "print(len(departments))"
   ]
  },
  {
   "cell_type": "code",
   "execution_count": 17,
   "metadata": {},
   "outputs": [
    {
     "name": "stdout",
     "output_type": "stream",
     "text": [
      "There are 1545 Police Officers in the Boston Police Department\n"
     ]
    }
   ],
   "source": [
    "print(\"There are\", count_officers, \"Police Officers in the Boston Police Department\")"
   ]
  },
  {
   "cell_type": "code",
   "execution_count": 18,
   "metadata": {},
   "outputs": [
    {
     "name": "stdout",
     "output_type": "stream",
     "text": [
      "There are 128 departments with less than 100 employees\n",
      "11\n"
     ]
    }
   ],
   "source": [
    "departments = df2[[\"DEPARTMENT_NAME\"]]\n",
    "departments = departments.dropna()\n",
    "small_count = []\n",
    "\n",
    "for i in departments.DEPARTMENT_NAME.unique():\n",
    "    if \"BPS\" in i:\n",
    "        departments.DEPARTMENT_NAME.replace(i, \"BPS\", inplace=True)\n",
    "\n",
    "\n",
    "employee_count = departments.DEPARTMENT_NAME.value_counts()\n",
    "\n",
    "for i in departments.DEPARTMENT_NAME.unique():\n",
    "    if employee_count[i] < 250:\n",
    "        departments[departments.DEPARTMENT_NAME == i] = \"Other\"\n",
    "        small_count.append(i)\n",
    "\n",
    "\n",
    "print(\"There are\", len(small_count), \"departments with less than 100 employees\")\n",
    "print(len(departments.DEPARTMENT_NAME.unique()))\n"
   ]
  },
  {
   "cell_type": "code",
   "execution_count": 19,
   "metadata": {},
   "outputs": [
    {
     "name": "stdout",
     "output_type": "stream",
     "text": [
      "There are 1495 employees in the Boston Police Department\n"
     ]
    }
   ],
   "source": [
    "bpd = departments.DEPARTMENT_NAME.value_counts()[\"Boston Police Department\"]\n",
    "bfd = departments.DEPARTMENT_NAME.value_counts()[\"Boston Fire Department\"]\n",
    "other = departments.DEPARTMENT_NAME.value_counts()[\"Other\"]\n",
    "bpl = departments.DEPARTMENT_NAME.value_counts()[\"Boston Public Library\"]\n",
    "bps = departments.DEPARTMENT_NAME.value_counts()[\"BPS\"]\n",
    "tl = departments.DEPARTMENT_NAME.value_counts()[\"Traffic Division\"]\n",
    "pws = departments.DEPARTMENT_NAME.value_counts()[\"Public Works Department\"]\n",
    "pdx = departments.DEPARTMENT_NAME.value_counts()[\"Parks Department\"]\n",
    "bc = departments.DEPARTMENT_NAME.value_counts()[\"Boston Cntr - Youth & Families\"]\n",
    "all_of_other = bfd + other + bpl + bps + tl + pws + pdx + bc\n",
    "\n",
    "print(\"There are\", departments.DEPARTMENT_NAME.value_counts()[\"Boston Police Department\"], \"employees in the Boston Police Department\")"
   ]
  },
  {
   "cell_type": "code",
   "execution_count": 20,
   "metadata": {},
   "outputs": [],
   "source": [
    "# plt.figure(figsize=(10,10)) #调节图形大小\n",
    "# labels = [\"Police Officer\",\"Other Employees\"] #定义标签\n",
    "# sizes = [count_officers, all_of_other + bpd] #每块值\n",
    "# # colors = [\"#EF404E\",\"#90EE90\",\"#FCAA17\",\"#552564\",\"#0055AA\",\"#FFE06A\",\"#FABEAF\",\"#A3DBE3\",\"#691B40\",\"#130F54\"]  #每块颜色定义\n",
    "# colors = [\"#FCAA17\",\"#CCCCCC\"]\n",
    "# explode = (0,0) #将某一块分割出来，值越大分割出的间隙越大\n",
    "# patches,text1,text2 = plt.pie(sizes,\n",
    "#                       explode=explode,\n",
    "#                       labels=labels,\n",
    "#                       colors=colors,\n",
    "#                       autopct = '%3.2f%%', #数值保留固定小数位\n",
    "#                       shadow = False, #无阴影设置\n",
    "#                       startangle =90, #逆时针起始角度设置\n",
    "#                       pctdistance = 0.6) #数值距圆心半径倍数距离\n",
    "# #patches饼图的返回值，texts1饼图外label的文本，texts2饼图内部的文本\n",
    "# # x，y轴刻度设置一致，保证饼图为圆形\n",
    "# gtfont = {'fontname':'GT America'}\n",
    "# plt.axis('equal')\n",
    "# plt.title(\"BPD Police Officers vs. Other Employees\", fontsize=20, **gtfont,fontweight=\"bold\")\n",
    "# text1[0].set_fontsize(15)\n",
    "# text2[0].set_fontsize(15)\n",
    "# plt.legend()\n",
    "# plt.show()\n",
    "# print(count_officers / len(departments))"
   ]
  },
  {
   "cell_type": "code",
   "execution_count": 21,
   "metadata": {},
   "outputs": [
    {
     "data": {
      "application/vnd.plotly.v1+json": {
       "config": {
        "plotlyServerURL": "https://plot.ly"
       },
       "data": [
        {
         "hole": 0.3,
         "hoverinfo": "label+percent",
         "labels": [
          "Police Officers",
          "Other Employees"
         ],
         "marker": {
          "colors": [
           "#EF404E",
           "#CCCCCC"
          ]
         },
         "rotation": -76,
         "textfont": {
          "family": "GT America",
          "size": 18
         },
         "textinfo": "percent+label",
         "textposition": "inside",
         "type": "pie",
         "values": [
          1545,
          21136
         ]
        }
       ],
       "layout": {
        "autosize": false,
        "height": 730,
        "margin": {
         "t": 120
        },
        "showlegend": false,
        "template": {
         "data": {
          "bar": [
           {
            "error_x": {
             "color": "#2a3f5f"
            },
            "error_y": {
             "color": "#2a3f5f"
            },
            "marker": {
             "line": {
              "color": "#E5ECF6",
              "width": 0.5
             },
             "pattern": {
              "fillmode": "overlay",
              "size": 10,
              "solidity": 0.2
             }
            },
            "type": "bar"
           }
          ],
          "barpolar": [
           {
            "marker": {
             "line": {
              "color": "#E5ECF6",
              "width": 0.5
             },
             "pattern": {
              "fillmode": "overlay",
              "size": 10,
              "solidity": 0.2
             }
            },
            "type": "barpolar"
           }
          ],
          "carpet": [
           {
            "aaxis": {
             "endlinecolor": "#2a3f5f",
             "gridcolor": "white",
             "linecolor": "white",
             "minorgridcolor": "white",
             "startlinecolor": "#2a3f5f"
            },
            "baxis": {
             "endlinecolor": "#2a3f5f",
             "gridcolor": "white",
             "linecolor": "white",
             "minorgridcolor": "white",
             "startlinecolor": "#2a3f5f"
            },
            "type": "carpet"
           }
          ],
          "choropleth": [
           {
            "colorbar": {
             "outlinewidth": 0,
             "ticks": ""
            },
            "type": "choropleth"
           }
          ],
          "contour": [
           {
            "colorbar": {
             "outlinewidth": 0,
             "ticks": ""
            },
            "colorscale": [
             [
              0,
              "#0d0887"
             ],
             [
              0.1111111111111111,
              "#46039f"
             ],
             [
              0.2222222222222222,
              "#7201a8"
             ],
             [
              0.3333333333333333,
              "#9c179e"
             ],
             [
              0.4444444444444444,
              "#bd3786"
             ],
             [
              0.5555555555555556,
              "#d8576b"
             ],
             [
              0.6666666666666666,
              "#ed7953"
             ],
             [
              0.7777777777777778,
              "#fb9f3a"
             ],
             [
              0.8888888888888888,
              "#fdca26"
             ],
             [
              1,
              "#f0f921"
             ]
            ],
            "type": "contour"
           }
          ],
          "contourcarpet": [
           {
            "colorbar": {
             "outlinewidth": 0,
             "ticks": ""
            },
            "type": "contourcarpet"
           }
          ],
          "heatmap": [
           {
            "colorbar": {
             "outlinewidth": 0,
             "ticks": ""
            },
            "colorscale": [
             [
              0,
              "#0d0887"
             ],
             [
              0.1111111111111111,
              "#46039f"
             ],
             [
              0.2222222222222222,
              "#7201a8"
             ],
             [
              0.3333333333333333,
              "#9c179e"
             ],
             [
              0.4444444444444444,
              "#bd3786"
             ],
             [
              0.5555555555555556,
              "#d8576b"
             ],
             [
              0.6666666666666666,
              "#ed7953"
             ],
             [
              0.7777777777777778,
              "#fb9f3a"
             ],
             [
              0.8888888888888888,
              "#fdca26"
             ],
             [
              1,
              "#f0f921"
             ]
            ],
            "type": "heatmap"
           }
          ],
          "heatmapgl": [
           {
            "colorbar": {
             "outlinewidth": 0,
             "ticks": ""
            },
            "colorscale": [
             [
              0,
              "#0d0887"
             ],
             [
              0.1111111111111111,
              "#46039f"
             ],
             [
              0.2222222222222222,
              "#7201a8"
             ],
             [
              0.3333333333333333,
              "#9c179e"
             ],
             [
              0.4444444444444444,
              "#bd3786"
             ],
             [
              0.5555555555555556,
              "#d8576b"
             ],
             [
              0.6666666666666666,
              "#ed7953"
             ],
             [
              0.7777777777777778,
              "#fb9f3a"
             ],
             [
              0.8888888888888888,
              "#fdca26"
             ],
             [
              1,
              "#f0f921"
             ]
            ],
            "type": "heatmapgl"
           }
          ],
          "histogram": [
           {
            "marker": {
             "pattern": {
              "fillmode": "overlay",
              "size": 10,
              "solidity": 0.2
             }
            },
            "type": "histogram"
           }
          ],
          "histogram2d": [
           {
            "colorbar": {
             "outlinewidth": 0,
             "ticks": ""
            },
            "colorscale": [
             [
              0,
              "#0d0887"
             ],
             [
              0.1111111111111111,
              "#46039f"
             ],
             [
              0.2222222222222222,
              "#7201a8"
             ],
             [
              0.3333333333333333,
              "#9c179e"
             ],
             [
              0.4444444444444444,
              "#bd3786"
             ],
             [
              0.5555555555555556,
              "#d8576b"
             ],
             [
              0.6666666666666666,
              "#ed7953"
             ],
             [
              0.7777777777777778,
              "#fb9f3a"
             ],
             [
              0.8888888888888888,
              "#fdca26"
             ],
             [
              1,
              "#f0f921"
             ]
            ],
            "type": "histogram2d"
           }
          ],
          "histogram2dcontour": [
           {
            "colorbar": {
             "outlinewidth": 0,
             "ticks": ""
            },
            "colorscale": [
             [
              0,
              "#0d0887"
             ],
             [
              0.1111111111111111,
              "#46039f"
             ],
             [
              0.2222222222222222,
              "#7201a8"
             ],
             [
              0.3333333333333333,
              "#9c179e"
             ],
             [
              0.4444444444444444,
              "#bd3786"
             ],
             [
              0.5555555555555556,
              "#d8576b"
             ],
             [
              0.6666666666666666,
              "#ed7953"
             ],
             [
              0.7777777777777778,
              "#fb9f3a"
             ],
             [
              0.8888888888888888,
              "#fdca26"
             ],
             [
              1,
              "#f0f921"
             ]
            ],
            "type": "histogram2dcontour"
           }
          ],
          "mesh3d": [
           {
            "colorbar": {
             "outlinewidth": 0,
             "ticks": ""
            },
            "type": "mesh3d"
           }
          ],
          "parcoords": [
           {
            "line": {
             "colorbar": {
              "outlinewidth": 0,
              "ticks": ""
             }
            },
            "type": "parcoords"
           }
          ],
          "pie": [
           {
            "automargin": true,
            "type": "pie"
           }
          ],
          "scatter": [
           {
            "fillpattern": {
             "fillmode": "overlay",
             "size": 10,
             "solidity": 0.2
            },
            "type": "scatter"
           }
          ],
          "scatter3d": [
           {
            "line": {
             "colorbar": {
              "outlinewidth": 0,
              "ticks": ""
             }
            },
            "marker": {
             "colorbar": {
              "outlinewidth": 0,
              "ticks": ""
             }
            },
            "type": "scatter3d"
           }
          ],
          "scattercarpet": [
           {
            "marker": {
             "colorbar": {
              "outlinewidth": 0,
              "ticks": ""
             }
            },
            "type": "scattercarpet"
           }
          ],
          "scattergeo": [
           {
            "marker": {
             "colorbar": {
              "outlinewidth": 0,
              "ticks": ""
             }
            },
            "type": "scattergeo"
           }
          ],
          "scattergl": [
           {
            "marker": {
             "colorbar": {
              "outlinewidth": 0,
              "ticks": ""
             }
            },
            "type": "scattergl"
           }
          ],
          "scattermapbox": [
           {
            "marker": {
             "colorbar": {
              "outlinewidth": 0,
              "ticks": ""
             }
            },
            "type": "scattermapbox"
           }
          ],
          "scatterpolar": [
           {
            "marker": {
             "colorbar": {
              "outlinewidth": 0,
              "ticks": ""
             }
            },
            "type": "scatterpolar"
           }
          ],
          "scatterpolargl": [
           {
            "marker": {
             "colorbar": {
              "outlinewidth": 0,
              "ticks": ""
             }
            },
            "type": "scatterpolargl"
           }
          ],
          "scatterternary": [
           {
            "marker": {
             "colorbar": {
              "outlinewidth": 0,
              "ticks": ""
             }
            },
            "type": "scatterternary"
           }
          ],
          "surface": [
           {
            "colorbar": {
             "outlinewidth": 0,
             "ticks": ""
            },
            "colorscale": [
             [
              0,
              "#0d0887"
             ],
             [
              0.1111111111111111,
              "#46039f"
             ],
             [
              0.2222222222222222,
              "#7201a8"
             ],
             [
              0.3333333333333333,
              "#9c179e"
             ],
             [
              0.4444444444444444,
              "#bd3786"
             ],
             [
              0.5555555555555556,
              "#d8576b"
             ],
             [
              0.6666666666666666,
              "#ed7953"
             ],
             [
              0.7777777777777778,
              "#fb9f3a"
             ],
             [
              0.8888888888888888,
              "#fdca26"
             ],
             [
              1,
              "#f0f921"
             ]
            ],
            "type": "surface"
           }
          ],
          "table": [
           {
            "cells": {
             "fill": {
              "color": "#EBF0F8"
             },
             "line": {
              "color": "white"
             }
            },
            "header": {
             "fill": {
              "color": "#C8D4E3"
             },
             "line": {
              "color": "white"
             }
            },
            "type": "table"
           }
          ]
         },
         "layout": {
          "annotationdefaults": {
           "arrowcolor": "#2a3f5f",
           "arrowhead": 0,
           "arrowwidth": 1
          },
          "autotypenumbers": "strict",
          "coloraxis": {
           "colorbar": {
            "outlinewidth": 0,
            "ticks": ""
           }
          },
          "colorscale": {
           "diverging": [
            [
             0,
             "#8e0152"
            ],
            [
             0.1,
             "#c51b7d"
            ],
            [
             0.2,
             "#de77ae"
            ],
            [
             0.3,
             "#f1b6da"
            ],
            [
             0.4,
             "#fde0ef"
            ],
            [
             0.5,
             "#f7f7f7"
            ],
            [
             0.6,
             "#e6f5d0"
            ],
            [
             0.7,
             "#b8e186"
            ],
            [
             0.8,
             "#7fbc41"
            ],
            [
             0.9,
             "#4d9221"
            ],
            [
             1,
             "#276419"
            ]
           ],
           "sequential": [
            [
             0,
             "#0d0887"
            ],
            [
             0.1111111111111111,
             "#46039f"
            ],
            [
             0.2222222222222222,
             "#7201a8"
            ],
            [
             0.3333333333333333,
             "#9c179e"
            ],
            [
             0.4444444444444444,
             "#bd3786"
            ],
            [
             0.5555555555555556,
             "#d8576b"
            ],
            [
             0.6666666666666666,
             "#ed7953"
            ],
            [
             0.7777777777777778,
             "#fb9f3a"
            ],
            [
             0.8888888888888888,
             "#fdca26"
            ],
            [
             1,
             "#f0f921"
            ]
           ],
           "sequentialminus": [
            [
             0,
             "#0d0887"
            ],
            [
             0.1111111111111111,
             "#46039f"
            ],
            [
             0.2222222222222222,
             "#7201a8"
            ],
            [
             0.3333333333333333,
             "#9c179e"
            ],
            [
             0.4444444444444444,
             "#bd3786"
            ],
            [
             0.5555555555555556,
             "#d8576b"
            ],
            [
             0.6666666666666666,
             "#ed7953"
            ],
            [
             0.7777777777777778,
             "#fb9f3a"
            ],
            [
             0.8888888888888888,
             "#fdca26"
            ],
            [
             1,
             "#f0f921"
            ]
           ]
          },
          "colorway": [
           "#636efa",
           "#EF553B",
           "#00cc96",
           "#ab63fa",
           "#FFA15A",
           "#19d3f3",
           "#FF6692",
           "#B6E880",
           "#FF97FF",
           "#FECB52"
          ],
          "font": {
           "color": "#2a3f5f"
          },
          "geo": {
           "bgcolor": "white",
           "lakecolor": "white",
           "landcolor": "#E5ECF6",
           "showlakes": true,
           "showland": true,
           "subunitcolor": "white"
          },
          "hoverlabel": {
           "align": "left"
          },
          "hovermode": "closest",
          "mapbox": {
           "style": "light"
          },
          "paper_bgcolor": "white",
          "plot_bgcolor": "#E5ECF6",
          "polar": {
           "angularaxis": {
            "gridcolor": "white",
            "linecolor": "white",
            "ticks": ""
           },
           "bgcolor": "#E5ECF6",
           "radialaxis": {
            "gridcolor": "white",
            "linecolor": "white",
            "ticks": ""
           }
          },
          "scene": {
           "xaxis": {
            "backgroundcolor": "#E5ECF6",
            "gridcolor": "white",
            "gridwidth": 2,
            "linecolor": "white",
            "showbackground": true,
            "ticks": "",
            "zerolinecolor": "white"
           },
           "yaxis": {
            "backgroundcolor": "#E5ECF6",
            "gridcolor": "white",
            "gridwidth": 2,
            "linecolor": "white",
            "showbackground": true,
            "ticks": "",
            "zerolinecolor": "white"
           },
           "zaxis": {
            "backgroundcolor": "#E5ECF6",
            "gridcolor": "white",
            "gridwidth": 2,
            "linecolor": "white",
            "showbackground": true,
            "ticks": "",
            "zerolinecolor": "white"
           }
          },
          "shapedefaults": {
           "line": {
            "color": "#2a3f5f"
           }
          },
          "ternary": {
           "aaxis": {
            "gridcolor": "white",
            "linecolor": "white",
            "ticks": ""
           },
           "baxis": {
            "gridcolor": "white",
            "linecolor": "white",
            "ticks": ""
           },
           "bgcolor": "#E5ECF6",
           "caxis": {
            "gridcolor": "white",
            "linecolor": "white",
            "ticks": ""
           }
          },
          "title": {
           "x": 0.05
          },
          "xaxis": {
           "automargin": true,
           "gridcolor": "white",
           "linecolor": "white",
           "ticks": "",
           "title": {
            "standoff": 15
           },
           "zerolinecolor": "white",
           "zerolinewidth": 2
          },
          "yaxis": {
           "automargin": true,
           "gridcolor": "white",
           "linecolor": "white",
           "ticks": "",
           "title": {
            "standoff": 15
           },
           "zerolinecolor": "white",
           "zerolinewidth": 2
          }
         }
        },
        "title": {
         "font": {
          "color": "black",
          "family": "GT America Bold",
          "size": 20
         },
         "text": "Police officers make up 6.81% of all City of Boston employees<br><sup style='color:gray;'>Note: Not all employees from the police department are officers </sup>",
         "x": 0,
         "xref": "paper"
        },
        "width": 730
       }
      }
     },
     "metadata": {},
     "output_type": "display_data"
    }
   ],
   "source": [
    "# Did the same thing above but in plotly\n",
    "\n",
    "import plotly.graph_objects as go\n",
    "\n",
    "all_employees_excl_officers = all_of_other + bpd\n",
    "\n",
    "labels = [\"Police Officers\",\"Other Employees\"]\n",
    "values = [count_officers, all_employees_excl_officers]\n",
    "colors = [\"#EF404E\",\"#CCCCCC\"]\n",
    "\n",
    "fig = go.Figure(data=[go.Pie(labels=labels, values=values, hole=.3, rotation=284)])\n",
    "fig.update_traces(hoverinfo='label+percent', textinfo='value', textfont_size=18, textfont_family=\"GT America\",\n",
    "marker=dict(colors=colors))\n",
    "\n",
    "fig.update_layout(\n",
    "    title = go.layout.Title(\n",
    "        text = \"Police officers make up 6.81% of all City of Boston employees<br><sup style='color:gray;'>Note: Not all employees from the police department are officers </sup>\",\n",
    "        xref = \"paper\",\n",
    "        x = 0,\n",
    "        font_family = \"GT America Bold\",\n",
    "        font_size = 20,\n",
    "        font_color=\"black\"\n",
    "    )\n",
    ")\n",
    "\n",
    "# ADD PERCENTAGES TO THE PIE CHART\n",
    "fig.update_traces(textposition='inside', textinfo='percent+label')\n",
    "\n",
    "# change the fig size to 10x10\n",
    "fig.update_layout(\n",
    "    autosize=False,\n",
    "    width=730,\n",
    "    height=730,\n",
    "    showlegend=False,\n",
    "    margin=dict(\n",
    "        t=120\n",
    "    )\n",
    ")\n",
    "\n",
    "fig.show()"
   ]
  },
  {
   "cell_type": "code",
   "execution_count": 22,
   "metadata": {},
   "outputs": [
    {
     "data": {
      "application/vnd.plotly.v1+json": {
       "config": {
        "plotlyServerURL": "https://plot.ly"
       },
       "data": [
        {
         "hole": 0.3,
         "hoverinfo": "label+percent",
         "labels": [
          "BPD Employees",
          "Other Employees"
         ],
         "marker": {
          "colors": [
           "#EF404E",
           "#CCCCCC"
          ]
         },
         "rotation": -42,
         "textfont": {
          "family": "GT America",
          "size": 20
         },
         "textinfo": "percent+label",
         "textposition": "inside",
         "type": "pie",
         "values": [
          3040,
          19641
         ]
        }
       ],
       "layout": {
        "autosize": false,
        "height": 800,
        "showlegend": false,
        "template": {
         "data": {
          "bar": [
           {
            "error_x": {
             "color": "#2a3f5f"
            },
            "error_y": {
             "color": "#2a3f5f"
            },
            "marker": {
             "line": {
              "color": "#E5ECF6",
              "width": 0.5
             },
             "pattern": {
              "fillmode": "overlay",
              "size": 10,
              "solidity": 0.2
             }
            },
            "type": "bar"
           }
          ],
          "barpolar": [
           {
            "marker": {
             "line": {
              "color": "#E5ECF6",
              "width": 0.5
             },
             "pattern": {
              "fillmode": "overlay",
              "size": 10,
              "solidity": 0.2
             }
            },
            "type": "barpolar"
           }
          ],
          "carpet": [
           {
            "aaxis": {
             "endlinecolor": "#2a3f5f",
             "gridcolor": "white",
             "linecolor": "white",
             "minorgridcolor": "white",
             "startlinecolor": "#2a3f5f"
            },
            "baxis": {
             "endlinecolor": "#2a3f5f",
             "gridcolor": "white",
             "linecolor": "white",
             "minorgridcolor": "white",
             "startlinecolor": "#2a3f5f"
            },
            "type": "carpet"
           }
          ],
          "choropleth": [
           {
            "colorbar": {
             "outlinewidth": 0,
             "ticks": ""
            },
            "type": "choropleth"
           }
          ],
          "contour": [
           {
            "colorbar": {
             "outlinewidth": 0,
             "ticks": ""
            },
            "colorscale": [
             [
              0,
              "#0d0887"
             ],
             [
              0.1111111111111111,
              "#46039f"
             ],
             [
              0.2222222222222222,
              "#7201a8"
             ],
             [
              0.3333333333333333,
              "#9c179e"
             ],
             [
              0.4444444444444444,
              "#bd3786"
             ],
             [
              0.5555555555555556,
              "#d8576b"
             ],
             [
              0.6666666666666666,
              "#ed7953"
             ],
             [
              0.7777777777777778,
              "#fb9f3a"
             ],
             [
              0.8888888888888888,
              "#fdca26"
             ],
             [
              1,
              "#f0f921"
             ]
            ],
            "type": "contour"
           }
          ],
          "contourcarpet": [
           {
            "colorbar": {
             "outlinewidth": 0,
             "ticks": ""
            },
            "type": "contourcarpet"
           }
          ],
          "heatmap": [
           {
            "colorbar": {
             "outlinewidth": 0,
             "ticks": ""
            },
            "colorscale": [
             [
              0,
              "#0d0887"
             ],
             [
              0.1111111111111111,
              "#46039f"
             ],
             [
              0.2222222222222222,
              "#7201a8"
             ],
             [
              0.3333333333333333,
              "#9c179e"
             ],
             [
              0.4444444444444444,
              "#bd3786"
             ],
             [
              0.5555555555555556,
              "#d8576b"
             ],
             [
              0.6666666666666666,
              "#ed7953"
             ],
             [
              0.7777777777777778,
              "#fb9f3a"
             ],
             [
              0.8888888888888888,
              "#fdca26"
             ],
             [
              1,
              "#f0f921"
             ]
            ],
            "type": "heatmap"
           }
          ],
          "heatmapgl": [
           {
            "colorbar": {
             "outlinewidth": 0,
             "ticks": ""
            },
            "colorscale": [
             [
              0,
              "#0d0887"
             ],
             [
              0.1111111111111111,
              "#46039f"
             ],
             [
              0.2222222222222222,
              "#7201a8"
             ],
             [
              0.3333333333333333,
              "#9c179e"
             ],
             [
              0.4444444444444444,
              "#bd3786"
             ],
             [
              0.5555555555555556,
              "#d8576b"
             ],
             [
              0.6666666666666666,
              "#ed7953"
             ],
             [
              0.7777777777777778,
              "#fb9f3a"
             ],
             [
              0.8888888888888888,
              "#fdca26"
             ],
             [
              1,
              "#f0f921"
             ]
            ],
            "type": "heatmapgl"
           }
          ],
          "histogram": [
           {
            "marker": {
             "pattern": {
              "fillmode": "overlay",
              "size": 10,
              "solidity": 0.2
             }
            },
            "type": "histogram"
           }
          ],
          "histogram2d": [
           {
            "colorbar": {
             "outlinewidth": 0,
             "ticks": ""
            },
            "colorscale": [
             [
              0,
              "#0d0887"
             ],
             [
              0.1111111111111111,
              "#46039f"
             ],
             [
              0.2222222222222222,
              "#7201a8"
             ],
             [
              0.3333333333333333,
              "#9c179e"
             ],
             [
              0.4444444444444444,
              "#bd3786"
             ],
             [
              0.5555555555555556,
              "#d8576b"
             ],
             [
              0.6666666666666666,
              "#ed7953"
             ],
             [
              0.7777777777777778,
              "#fb9f3a"
             ],
             [
              0.8888888888888888,
              "#fdca26"
             ],
             [
              1,
              "#f0f921"
             ]
            ],
            "type": "histogram2d"
           }
          ],
          "histogram2dcontour": [
           {
            "colorbar": {
             "outlinewidth": 0,
             "ticks": ""
            },
            "colorscale": [
             [
              0,
              "#0d0887"
             ],
             [
              0.1111111111111111,
              "#46039f"
             ],
             [
              0.2222222222222222,
              "#7201a8"
             ],
             [
              0.3333333333333333,
              "#9c179e"
             ],
             [
              0.4444444444444444,
              "#bd3786"
             ],
             [
              0.5555555555555556,
              "#d8576b"
             ],
             [
              0.6666666666666666,
              "#ed7953"
             ],
             [
              0.7777777777777778,
              "#fb9f3a"
             ],
             [
              0.8888888888888888,
              "#fdca26"
             ],
             [
              1,
              "#f0f921"
             ]
            ],
            "type": "histogram2dcontour"
           }
          ],
          "mesh3d": [
           {
            "colorbar": {
             "outlinewidth": 0,
             "ticks": ""
            },
            "type": "mesh3d"
           }
          ],
          "parcoords": [
           {
            "line": {
             "colorbar": {
              "outlinewidth": 0,
              "ticks": ""
             }
            },
            "type": "parcoords"
           }
          ],
          "pie": [
           {
            "automargin": true,
            "type": "pie"
           }
          ],
          "scatter": [
           {
            "fillpattern": {
             "fillmode": "overlay",
             "size": 10,
             "solidity": 0.2
            },
            "type": "scatter"
           }
          ],
          "scatter3d": [
           {
            "line": {
             "colorbar": {
              "outlinewidth": 0,
              "ticks": ""
             }
            },
            "marker": {
             "colorbar": {
              "outlinewidth": 0,
              "ticks": ""
             }
            },
            "type": "scatter3d"
           }
          ],
          "scattercarpet": [
           {
            "marker": {
             "colorbar": {
              "outlinewidth": 0,
              "ticks": ""
             }
            },
            "type": "scattercarpet"
           }
          ],
          "scattergeo": [
           {
            "marker": {
             "colorbar": {
              "outlinewidth": 0,
              "ticks": ""
             }
            },
            "type": "scattergeo"
           }
          ],
          "scattergl": [
           {
            "marker": {
             "colorbar": {
              "outlinewidth": 0,
              "ticks": ""
             }
            },
            "type": "scattergl"
           }
          ],
          "scattermapbox": [
           {
            "marker": {
             "colorbar": {
              "outlinewidth": 0,
              "ticks": ""
             }
            },
            "type": "scattermapbox"
           }
          ],
          "scatterpolar": [
           {
            "marker": {
             "colorbar": {
              "outlinewidth": 0,
              "ticks": ""
             }
            },
            "type": "scatterpolar"
           }
          ],
          "scatterpolargl": [
           {
            "marker": {
             "colorbar": {
              "outlinewidth": 0,
              "ticks": ""
             }
            },
            "type": "scatterpolargl"
           }
          ],
          "scatterternary": [
           {
            "marker": {
             "colorbar": {
              "outlinewidth": 0,
              "ticks": ""
             }
            },
            "type": "scatterternary"
           }
          ],
          "surface": [
           {
            "colorbar": {
             "outlinewidth": 0,
             "ticks": ""
            },
            "colorscale": [
             [
              0,
              "#0d0887"
             ],
             [
              0.1111111111111111,
              "#46039f"
             ],
             [
              0.2222222222222222,
              "#7201a8"
             ],
             [
              0.3333333333333333,
              "#9c179e"
             ],
             [
              0.4444444444444444,
              "#bd3786"
             ],
             [
              0.5555555555555556,
              "#d8576b"
             ],
             [
              0.6666666666666666,
              "#ed7953"
             ],
             [
              0.7777777777777778,
              "#fb9f3a"
             ],
             [
              0.8888888888888888,
              "#fdca26"
             ],
             [
              1,
              "#f0f921"
             ]
            ],
            "type": "surface"
           }
          ],
          "table": [
           {
            "cells": {
             "fill": {
              "color": "#EBF0F8"
             },
             "line": {
              "color": "white"
             }
            },
            "header": {
             "fill": {
              "color": "#C8D4E3"
             },
             "line": {
              "color": "white"
             }
            },
            "type": "table"
           }
          ]
         },
         "layout": {
          "annotationdefaults": {
           "arrowcolor": "#2a3f5f",
           "arrowhead": 0,
           "arrowwidth": 1
          },
          "autotypenumbers": "strict",
          "coloraxis": {
           "colorbar": {
            "outlinewidth": 0,
            "ticks": ""
           }
          },
          "colorscale": {
           "diverging": [
            [
             0,
             "#8e0152"
            ],
            [
             0.1,
             "#c51b7d"
            ],
            [
             0.2,
             "#de77ae"
            ],
            [
             0.3,
             "#f1b6da"
            ],
            [
             0.4,
             "#fde0ef"
            ],
            [
             0.5,
             "#f7f7f7"
            ],
            [
             0.6,
             "#e6f5d0"
            ],
            [
             0.7,
             "#b8e186"
            ],
            [
             0.8,
             "#7fbc41"
            ],
            [
             0.9,
             "#4d9221"
            ],
            [
             1,
             "#276419"
            ]
           ],
           "sequential": [
            [
             0,
             "#0d0887"
            ],
            [
             0.1111111111111111,
             "#46039f"
            ],
            [
             0.2222222222222222,
             "#7201a8"
            ],
            [
             0.3333333333333333,
             "#9c179e"
            ],
            [
             0.4444444444444444,
             "#bd3786"
            ],
            [
             0.5555555555555556,
             "#d8576b"
            ],
            [
             0.6666666666666666,
             "#ed7953"
            ],
            [
             0.7777777777777778,
             "#fb9f3a"
            ],
            [
             0.8888888888888888,
             "#fdca26"
            ],
            [
             1,
             "#f0f921"
            ]
           ],
           "sequentialminus": [
            [
             0,
             "#0d0887"
            ],
            [
             0.1111111111111111,
             "#46039f"
            ],
            [
             0.2222222222222222,
             "#7201a8"
            ],
            [
             0.3333333333333333,
             "#9c179e"
            ],
            [
             0.4444444444444444,
             "#bd3786"
            ],
            [
             0.5555555555555556,
             "#d8576b"
            ],
            [
             0.6666666666666666,
             "#ed7953"
            ],
            [
             0.7777777777777778,
             "#fb9f3a"
            ],
            [
             0.8888888888888888,
             "#fdca26"
            ],
            [
             1,
             "#f0f921"
            ]
           ]
          },
          "colorway": [
           "#636efa",
           "#EF553B",
           "#00cc96",
           "#ab63fa",
           "#FFA15A",
           "#19d3f3",
           "#FF6692",
           "#B6E880",
           "#FF97FF",
           "#FECB52"
          ],
          "font": {
           "color": "#2a3f5f"
          },
          "geo": {
           "bgcolor": "white",
           "lakecolor": "white",
           "landcolor": "#E5ECF6",
           "showlakes": true,
           "showland": true,
           "subunitcolor": "white"
          },
          "hoverlabel": {
           "align": "left"
          },
          "hovermode": "closest",
          "mapbox": {
           "style": "light"
          },
          "paper_bgcolor": "white",
          "plot_bgcolor": "#E5ECF6",
          "polar": {
           "angularaxis": {
            "gridcolor": "white",
            "linecolor": "white",
            "ticks": ""
           },
           "bgcolor": "#E5ECF6",
           "radialaxis": {
            "gridcolor": "white",
            "linecolor": "white",
            "ticks": ""
           }
          },
          "scene": {
           "xaxis": {
            "backgroundcolor": "#E5ECF6",
            "gridcolor": "white",
            "gridwidth": 2,
            "linecolor": "white",
            "showbackground": true,
            "ticks": "",
            "zerolinecolor": "white"
           },
           "yaxis": {
            "backgroundcolor": "#E5ECF6",
            "gridcolor": "white",
            "gridwidth": 2,
            "linecolor": "white",
            "showbackground": true,
            "ticks": "",
            "zerolinecolor": "white"
           },
           "zaxis": {
            "backgroundcolor": "#E5ECF6",
            "gridcolor": "white",
            "gridwidth": 2,
            "linecolor": "white",
            "showbackground": true,
            "ticks": "",
            "zerolinecolor": "white"
           }
          },
          "shapedefaults": {
           "line": {
            "color": "#2a3f5f"
           }
          },
          "ternary": {
           "aaxis": {
            "gridcolor": "white",
            "linecolor": "white",
            "ticks": ""
           },
           "baxis": {
            "gridcolor": "white",
            "linecolor": "white",
            "ticks": ""
           },
           "bgcolor": "#E5ECF6",
           "caxis": {
            "gridcolor": "white",
            "linecolor": "white",
            "ticks": ""
           }
          },
          "title": {
           "x": 0.05
          },
          "xaxis": {
           "automargin": true,
           "gridcolor": "white",
           "linecolor": "white",
           "ticks": "",
           "title": {
            "standoff": 15
           },
           "zerolinecolor": "white",
           "zerolinewidth": 2
          },
          "yaxis": {
           "automargin": true,
           "gridcolor": "white",
           "linecolor": "white",
           "ticks": "",
           "title": {
            "standoff": 15
           },
           "zerolinecolor": "white",
           "zerolinewidth": 2
          }
         }
        },
        "title": {
         "font": {
          "color": "black",
          "family": "GT America Bold",
          "size": 22
         },
         "text": "Boston Police Department employees made up 13.4% of all <br>City of Boston employees in 2022",
         "x": 0,
         "xref": "paper"
        },
        "width": 800
       }
      }
     },
     "metadata": {},
     "output_type": "display_data"
    }
   ],
   "source": [
    "import plotly.graph_objects as go\n",
    "\n",
    "labels = [\"BPD Employees\",\"Other Employees\"]\n",
    "values = [count_officers  + bpd, all_of_other]\n",
    "colors = [\"#EF404E\",\"#CCCCCC\"]\n",
    "\n",
    "fig = go.Figure(data=[go.Pie(labels=labels, values=values, hole=.3, rotation=318)])\n",
    "fig.update_traces(hoverinfo='label+percent', textinfo='value', textfont_size=20, textfont_family=\"GT America\",\n",
    "marker=dict(colors=colors))\n",
    "\n",
    "# Title\n",
    "fig.update_layout(\n",
    "    title = go.layout.Title(\n",
    "        text = \"Boston Police Department employees made up 13.4% of all <br>City of Boston employees in 2022\",\n",
    "        xref = \"paper\",\n",
    "        x = 0,\n",
    "        font_family = \"GT America Bold\",\n",
    "        font_size = 22,\n",
    "        font_color=\"black\"\n",
    "    )\n",
    ")\n",
    "\n",
    "# ADD PERCENTAGES TO THE PIE CHART\n",
    "fig.update_traces(textposition='inside', textinfo='percent+label')\n",
    "\n",
    "# change the fig size to 10x10\n",
    "fig.update_layout(\n",
    "    autosize=False,\n",
    "    width=800,\n",
    "    height=800,\n",
    "    showlegend=False\n",
    ")\n",
    "\n",
    "fig.show()\n"
   ]
  },
  {
   "cell_type": "code",
   "execution_count": 23,
   "metadata": {},
   "outputs": [
    {
     "data": {
      "application/vnd.plotly.v1+json": {
       "config": {
        "plotlyServerURL": "https://plot.ly"
       },
       "data": [
        {
         "hole": 0.3,
         "hoverinfo": "label+percent",
         "labels": [
          "BPD Officers",
          "Other BPD",
          "Other Departments"
         ],
         "marker": {
          "colors": [
           "#EF404E",
           "691B40",
           "#CCCCCC"
          ]
         },
         "rotation": -65,
         "textfont": {
          "family": "GT America",
          "size": 20
         },
         "textinfo": "percent+label",
         "textposition": "inside",
         "type": "pie",
         "values": [
          1545,
          1495,
          19641
         ]
        }
       ],
       "layout": {
        "autosize": false,
        "height": 800,
        "margin": {
         "b": 80,
         "l": 100,
         "pad": 4,
         "r": 100,
         "t": 120
        },
        "showlegend": false,
        "template": {
         "data": {
          "bar": [
           {
            "error_x": {
             "color": "#2a3f5f"
            },
            "error_y": {
             "color": "#2a3f5f"
            },
            "marker": {
             "line": {
              "color": "#E5ECF6",
              "width": 0.5
             },
             "pattern": {
              "fillmode": "overlay",
              "size": 10,
              "solidity": 0.2
             }
            },
            "type": "bar"
           }
          ],
          "barpolar": [
           {
            "marker": {
             "line": {
              "color": "#E5ECF6",
              "width": 0.5
             },
             "pattern": {
              "fillmode": "overlay",
              "size": 10,
              "solidity": 0.2
             }
            },
            "type": "barpolar"
           }
          ],
          "carpet": [
           {
            "aaxis": {
             "endlinecolor": "#2a3f5f",
             "gridcolor": "white",
             "linecolor": "white",
             "minorgridcolor": "white",
             "startlinecolor": "#2a3f5f"
            },
            "baxis": {
             "endlinecolor": "#2a3f5f",
             "gridcolor": "white",
             "linecolor": "white",
             "minorgridcolor": "white",
             "startlinecolor": "#2a3f5f"
            },
            "type": "carpet"
           }
          ],
          "choropleth": [
           {
            "colorbar": {
             "outlinewidth": 0,
             "ticks": ""
            },
            "type": "choropleth"
           }
          ],
          "contour": [
           {
            "colorbar": {
             "outlinewidth": 0,
             "ticks": ""
            },
            "colorscale": [
             [
              0,
              "#0d0887"
             ],
             [
              0.1111111111111111,
              "#46039f"
             ],
             [
              0.2222222222222222,
              "#7201a8"
             ],
             [
              0.3333333333333333,
              "#9c179e"
             ],
             [
              0.4444444444444444,
              "#bd3786"
             ],
             [
              0.5555555555555556,
              "#d8576b"
             ],
             [
              0.6666666666666666,
              "#ed7953"
             ],
             [
              0.7777777777777778,
              "#fb9f3a"
             ],
             [
              0.8888888888888888,
              "#fdca26"
             ],
             [
              1,
              "#f0f921"
             ]
            ],
            "type": "contour"
           }
          ],
          "contourcarpet": [
           {
            "colorbar": {
             "outlinewidth": 0,
             "ticks": ""
            },
            "type": "contourcarpet"
           }
          ],
          "heatmap": [
           {
            "colorbar": {
             "outlinewidth": 0,
             "ticks": ""
            },
            "colorscale": [
             [
              0,
              "#0d0887"
             ],
             [
              0.1111111111111111,
              "#46039f"
             ],
             [
              0.2222222222222222,
              "#7201a8"
             ],
             [
              0.3333333333333333,
              "#9c179e"
             ],
             [
              0.4444444444444444,
              "#bd3786"
             ],
             [
              0.5555555555555556,
              "#d8576b"
             ],
             [
              0.6666666666666666,
              "#ed7953"
             ],
             [
              0.7777777777777778,
              "#fb9f3a"
             ],
             [
              0.8888888888888888,
              "#fdca26"
             ],
             [
              1,
              "#f0f921"
             ]
            ],
            "type": "heatmap"
           }
          ],
          "heatmapgl": [
           {
            "colorbar": {
             "outlinewidth": 0,
             "ticks": ""
            },
            "colorscale": [
             [
              0,
              "#0d0887"
             ],
             [
              0.1111111111111111,
              "#46039f"
             ],
             [
              0.2222222222222222,
              "#7201a8"
             ],
             [
              0.3333333333333333,
              "#9c179e"
             ],
             [
              0.4444444444444444,
              "#bd3786"
             ],
             [
              0.5555555555555556,
              "#d8576b"
             ],
             [
              0.6666666666666666,
              "#ed7953"
             ],
             [
              0.7777777777777778,
              "#fb9f3a"
             ],
             [
              0.8888888888888888,
              "#fdca26"
             ],
             [
              1,
              "#f0f921"
             ]
            ],
            "type": "heatmapgl"
           }
          ],
          "histogram": [
           {
            "marker": {
             "pattern": {
              "fillmode": "overlay",
              "size": 10,
              "solidity": 0.2
             }
            },
            "type": "histogram"
           }
          ],
          "histogram2d": [
           {
            "colorbar": {
             "outlinewidth": 0,
             "ticks": ""
            },
            "colorscale": [
             [
              0,
              "#0d0887"
             ],
             [
              0.1111111111111111,
              "#46039f"
             ],
             [
              0.2222222222222222,
              "#7201a8"
             ],
             [
              0.3333333333333333,
              "#9c179e"
             ],
             [
              0.4444444444444444,
              "#bd3786"
             ],
             [
              0.5555555555555556,
              "#d8576b"
             ],
             [
              0.6666666666666666,
              "#ed7953"
             ],
             [
              0.7777777777777778,
              "#fb9f3a"
             ],
             [
              0.8888888888888888,
              "#fdca26"
             ],
             [
              1,
              "#f0f921"
             ]
            ],
            "type": "histogram2d"
           }
          ],
          "histogram2dcontour": [
           {
            "colorbar": {
             "outlinewidth": 0,
             "ticks": ""
            },
            "colorscale": [
             [
              0,
              "#0d0887"
             ],
             [
              0.1111111111111111,
              "#46039f"
             ],
             [
              0.2222222222222222,
              "#7201a8"
             ],
             [
              0.3333333333333333,
              "#9c179e"
             ],
             [
              0.4444444444444444,
              "#bd3786"
             ],
             [
              0.5555555555555556,
              "#d8576b"
             ],
             [
              0.6666666666666666,
              "#ed7953"
             ],
             [
              0.7777777777777778,
              "#fb9f3a"
             ],
             [
              0.8888888888888888,
              "#fdca26"
             ],
             [
              1,
              "#f0f921"
             ]
            ],
            "type": "histogram2dcontour"
           }
          ],
          "mesh3d": [
           {
            "colorbar": {
             "outlinewidth": 0,
             "ticks": ""
            },
            "type": "mesh3d"
           }
          ],
          "parcoords": [
           {
            "line": {
             "colorbar": {
              "outlinewidth": 0,
              "ticks": ""
             }
            },
            "type": "parcoords"
           }
          ],
          "pie": [
           {
            "automargin": true,
            "type": "pie"
           }
          ],
          "scatter": [
           {
            "fillpattern": {
             "fillmode": "overlay",
             "size": 10,
             "solidity": 0.2
            },
            "type": "scatter"
           }
          ],
          "scatter3d": [
           {
            "line": {
             "colorbar": {
              "outlinewidth": 0,
              "ticks": ""
             }
            },
            "marker": {
             "colorbar": {
              "outlinewidth": 0,
              "ticks": ""
             }
            },
            "type": "scatter3d"
           }
          ],
          "scattercarpet": [
           {
            "marker": {
             "colorbar": {
              "outlinewidth": 0,
              "ticks": ""
             }
            },
            "type": "scattercarpet"
           }
          ],
          "scattergeo": [
           {
            "marker": {
             "colorbar": {
              "outlinewidth": 0,
              "ticks": ""
             }
            },
            "type": "scattergeo"
           }
          ],
          "scattergl": [
           {
            "marker": {
             "colorbar": {
              "outlinewidth": 0,
              "ticks": ""
             }
            },
            "type": "scattergl"
           }
          ],
          "scattermapbox": [
           {
            "marker": {
             "colorbar": {
              "outlinewidth": 0,
              "ticks": ""
             }
            },
            "type": "scattermapbox"
           }
          ],
          "scatterpolar": [
           {
            "marker": {
             "colorbar": {
              "outlinewidth": 0,
              "ticks": ""
             }
            },
            "type": "scatterpolar"
           }
          ],
          "scatterpolargl": [
           {
            "marker": {
             "colorbar": {
              "outlinewidth": 0,
              "ticks": ""
             }
            },
            "type": "scatterpolargl"
           }
          ],
          "scatterternary": [
           {
            "marker": {
             "colorbar": {
              "outlinewidth": 0,
              "ticks": ""
             }
            },
            "type": "scatterternary"
           }
          ],
          "surface": [
           {
            "colorbar": {
             "outlinewidth": 0,
             "ticks": ""
            },
            "colorscale": [
             [
              0,
              "#0d0887"
             ],
             [
              0.1111111111111111,
              "#46039f"
             ],
             [
              0.2222222222222222,
              "#7201a8"
             ],
             [
              0.3333333333333333,
              "#9c179e"
             ],
             [
              0.4444444444444444,
              "#bd3786"
             ],
             [
              0.5555555555555556,
              "#d8576b"
             ],
             [
              0.6666666666666666,
              "#ed7953"
             ],
             [
              0.7777777777777778,
              "#fb9f3a"
             ],
             [
              0.8888888888888888,
              "#fdca26"
             ],
             [
              1,
              "#f0f921"
             ]
            ],
            "type": "surface"
           }
          ],
          "table": [
           {
            "cells": {
             "fill": {
              "color": "#EBF0F8"
             },
             "line": {
              "color": "white"
             }
            },
            "header": {
             "fill": {
              "color": "#C8D4E3"
             },
             "line": {
              "color": "white"
             }
            },
            "type": "table"
           }
          ]
         },
         "layout": {
          "annotationdefaults": {
           "arrowcolor": "#2a3f5f",
           "arrowhead": 0,
           "arrowwidth": 1
          },
          "autotypenumbers": "strict",
          "coloraxis": {
           "colorbar": {
            "outlinewidth": 0,
            "ticks": ""
           }
          },
          "colorscale": {
           "diverging": [
            [
             0,
             "#8e0152"
            ],
            [
             0.1,
             "#c51b7d"
            ],
            [
             0.2,
             "#de77ae"
            ],
            [
             0.3,
             "#f1b6da"
            ],
            [
             0.4,
             "#fde0ef"
            ],
            [
             0.5,
             "#f7f7f7"
            ],
            [
             0.6,
             "#e6f5d0"
            ],
            [
             0.7,
             "#b8e186"
            ],
            [
             0.8,
             "#7fbc41"
            ],
            [
             0.9,
             "#4d9221"
            ],
            [
             1,
             "#276419"
            ]
           ],
           "sequential": [
            [
             0,
             "#0d0887"
            ],
            [
             0.1111111111111111,
             "#46039f"
            ],
            [
             0.2222222222222222,
             "#7201a8"
            ],
            [
             0.3333333333333333,
             "#9c179e"
            ],
            [
             0.4444444444444444,
             "#bd3786"
            ],
            [
             0.5555555555555556,
             "#d8576b"
            ],
            [
             0.6666666666666666,
             "#ed7953"
            ],
            [
             0.7777777777777778,
             "#fb9f3a"
            ],
            [
             0.8888888888888888,
             "#fdca26"
            ],
            [
             1,
             "#f0f921"
            ]
           ],
           "sequentialminus": [
            [
             0,
             "#0d0887"
            ],
            [
             0.1111111111111111,
             "#46039f"
            ],
            [
             0.2222222222222222,
             "#7201a8"
            ],
            [
             0.3333333333333333,
             "#9c179e"
            ],
            [
             0.4444444444444444,
             "#bd3786"
            ],
            [
             0.5555555555555556,
             "#d8576b"
            ],
            [
             0.6666666666666666,
             "#ed7953"
            ],
            [
             0.7777777777777778,
             "#fb9f3a"
            ],
            [
             0.8888888888888888,
             "#fdca26"
            ],
            [
             1,
             "#f0f921"
            ]
           ]
          },
          "colorway": [
           "#636efa",
           "#EF553B",
           "#00cc96",
           "#ab63fa",
           "#FFA15A",
           "#19d3f3",
           "#FF6692",
           "#B6E880",
           "#FF97FF",
           "#FECB52"
          ],
          "font": {
           "color": "#2a3f5f"
          },
          "geo": {
           "bgcolor": "white",
           "lakecolor": "white",
           "landcolor": "#E5ECF6",
           "showlakes": true,
           "showland": true,
           "subunitcolor": "white"
          },
          "hoverlabel": {
           "align": "left"
          },
          "hovermode": "closest",
          "mapbox": {
           "style": "light"
          },
          "paper_bgcolor": "white",
          "plot_bgcolor": "#E5ECF6",
          "polar": {
           "angularaxis": {
            "gridcolor": "white",
            "linecolor": "white",
            "ticks": ""
           },
           "bgcolor": "#E5ECF6",
           "radialaxis": {
            "gridcolor": "white",
            "linecolor": "white",
            "ticks": ""
           }
          },
          "scene": {
           "xaxis": {
            "backgroundcolor": "#E5ECF6",
            "gridcolor": "white",
            "gridwidth": 2,
            "linecolor": "white",
            "showbackground": true,
            "ticks": "",
            "zerolinecolor": "white"
           },
           "yaxis": {
            "backgroundcolor": "#E5ECF6",
            "gridcolor": "white",
            "gridwidth": 2,
            "linecolor": "white",
            "showbackground": true,
            "ticks": "",
            "zerolinecolor": "white"
           },
           "zaxis": {
            "backgroundcolor": "#E5ECF6",
            "gridcolor": "white",
            "gridwidth": 2,
            "linecolor": "white",
            "showbackground": true,
            "ticks": "",
            "zerolinecolor": "white"
           }
          },
          "shapedefaults": {
           "line": {
            "color": "#2a3f5f"
           }
          },
          "ternary": {
           "aaxis": {
            "gridcolor": "white",
            "linecolor": "white",
            "ticks": ""
           },
           "baxis": {
            "gridcolor": "white",
            "linecolor": "white",
            "ticks": ""
           },
           "bgcolor": "#E5ECF6",
           "caxis": {
            "gridcolor": "white",
            "linecolor": "white",
            "ticks": ""
           }
          },
          "title": {
           "x": 0.05
          },
          "xaxis": {
           "automargin": true,
           "gridcolor": "white",
           "linecolor": "white",
           "ticks": "",
           "title": {
            "standoff": 15
           },
           "zerolinecolor": "white",
           "zerolinewidth": 2
          },
          "yaxis": {
           "automargin": true,
           "gridcolor": "white",
           "linecolor": "white",
           "ticks": "",
           "title": {
            "standoff": 15
           },
           "zerolinecolor": "white",
           "zerolinewidth": 2
          }
         }
        },
        "title": {
         "font": {
          "color": "black",
          "family": "GT America Bold",
          "size": 22
         },
         "text": "Boston Police Department employees made up 13.4% of all <br>City of Boston employees in 2022",
         "x": 0,
         "xref": "paper"
        },
        "width": 800
       }
      }
     },
     "metadata": {},
     "output_type": "display_data"
    }
   ],
   "source": [
    "# Ryan's edited version\n",
    "import plotly.graph_objects as go\n",
    "\n",
    "labels = [\"BPD Officers\", \"Other BPD\", \"Other Departments\"]\n",
    "values = [count_officers, bpd, all_of_other]\n",
    "colors = [\"#EF404E\",\"691B40\", \"#CCCCCC\"]\n",
    "\n",
    "fig = go.Figure(data=[go.Pie(labels=labels, values=values, hole=.3, rotation=295)])\n",
    "fig.update_traces(hoverinfo='label+percent', textinfo='value', textfont_size=20, textfont_family=\"GT America\",\n",
    "marker=dict(colors=colors))\n",
    "\n",
    "# Title\n",
    "fig.update_layout(\n",
    "    title = go.layout.Title(\n",
    "        text = \"Boston Police Department employees made up 13.4% of all <br>City of Boston employees in 2022\",\n",
    "        xref = \"paper\",\n",
    "        x = 0,\n",
    "        font_family = \"GT America Bold\",\n",
    "        font_size = 22,\n",
    "        font_color=\"black\"\n",
    "    )\n",
    ")\n",
    "\n",
    "# ADD PERCENTAGES TO THE PIE CHART\n",
    "fig.update_traces(textposition='inside', textinfo='percent+label')\n",
    "\n",
    "# change the fig size to 10x10\n",
    "fig.update_layout(\n",
    "    autosize=False,\n",
    "    width=800,\n",
    "    height=800,\n",
    "    showlegend=False,\n",
    "    margin=dict(\n",
    "        l=100,\n",
    "        r=100,\n",
    "        b=80,\n",
    "        t=120,\n",
    "        pad=4\n",
    "    )\n",
    ")\n",
    "\n",
    "\n",
    "fig.show()"
   ]
  },
  {
   "cell_type": "code",
   "execution_count": null,
   "metadata": {},
   "outputs": [],
   "source": [
    "\n"
   ]
  }
 ],
 "metadata": {
  "kernelspec": {
   "display_name": "Python 3.10.7 64-bit",
   "language": "python",
   "name": "python3"
  },
  "language_info": {
   "codemirror_mode": {
    "name": "ipython",
    "version": 3
   },
   "file_extension": ".py",
   "mimetype": "text/x-python",
   "name": "python",
   "nbconvert_exporter": "python",
   "pygments_lexer": "ipython3",
   "version": "3.10.7"
  },
  "orig_nbformat": 4,
  "vscode": {
   "interpreter": {
    "hash": "b0fa6594d8f4cbf19f97940f81e996739fb7646882a419484c72d19e05852a7e"
   }
  }
 },
 "nbformat": 4,
 "nbformat_minor": 2
}
